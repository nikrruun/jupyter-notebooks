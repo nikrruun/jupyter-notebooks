{
 "cells": [
  {
   "cell_type": "markdown",
   "id": "1a64ba63",
   "metadata": {},
   "source": [
    "# Loading the `Moral-Stories` dataset\n",
    "***\n",
    "The dataset and code can be found <a href=\"https://github.com/demelin/moral_stories\">here</a>.\\\n",
    "The authors provide 12k unique norms and, for some reason, additional 700k variations of the same norms, just with NaN fields every now and then. Zero additional information, but maybe I am overlooking something here?\n",
    "* Might be for different tasks? But then they only provide a single label which is always 1 for any NaN rows..."
   ]
  },
  {
   "cell_type": "code",
   "execution_count": 14,
   "id": "77c1e414",
   "metadata": {},
   "outputs": [],
   "source": [
    "# Data loaders returning `pandas` objects\n",
    "import pandas as pd\n",
    "import json\n",
    "\n",
    "def get_moral_stories():\n",
    "    data = pd.read_csv(\"data/moral_stories_datasets.tar.xz\", compression=\"xz\",\n",
    "                       sep=\"\\t\", converters={0:json.loads})\n",
    "    data = pd.DataFrame(list(data[\"moral_stories_datasets/\"]))\n",
    "    # filter out the 700k superfluous NaN entries\n",
    "    data = data[data[\"label\"].isna()]\n",
    "    data = data.drop([\"label\"], axis=1)\n",
    "    return data\n",
    "\n",
    "def make_action_classification_dataframe(dataframe):\n",
    "    '''\n",
    "    Returns a dataframe with columns:\n",
    "    `norm`, `action`, `situation`, `intention`, `consequence`,\n",
    "    and `label`.\n",
    "    The following columns differ from the original definition\n",
    "    as returned by `get_moral_stories`:\n",
    "        `action`: Is either the `moral_action` or `immoral_action`\n",
    "        `label`: 1 if `action` is moral, 0 else\n",
    "        `consequence`: The corresponding consequence of an action\n",
    "    '''\n",
    "    cols = [(\"moral_action\", \"moral_consequence\"),\n",
    "           (\"immoral_action\", \"immoral_consequence\")]\n",
    "    immoral_df = dataframe.drop([\"moral_action\", \"moral_consequence\"], axis=1)\n",
    "    moral_df = dataframe.drop([\"immoral_action\", \"immoral_consequence\"], axis=1)\n",
    "    # rename columns\n",
    "    moral_df.rename(columns={\"moral_action\":\"action\",\n",
    "                            \"moral_consequence\":\"consequence\"},\n",
    "                    inplace=True)\n",
    "    immoral_df.rename(columns={\"immoral_action\":\"action\",\n",
    "                            \"immoral_consequence\":\"consequence\"},\n",
    "                    inplace=True)\n",
    "    # add labels\n",
    "    immoral_df[\"labels\"] = 0\n",
    "    moral_df[\"labels\"] = 1\n",
    "    \n",
    "    data = pd.concat([moral_df, immoral_df], ignore_index=True)\n",
    "    return data"
   ]
  },
  {
   "cell_type": "markdown",
   "id": "dc517ac3",
   "metadata": {},
   "source": [
    "# Sample task: Action classification\n",
    "***\n",
    "For starters, let's reproduce a task from the paper:\n",
    "* Given an action, predict whether it is moral or immoral.\n",
    "* For simplicity, we do not use the splits introduced in the paper, but rather random splitting\n",
    "\n",
    "We start by loading the data as a `pandas.DataFrame`:"
   ]
  },
  {
   "cell_type": "code",
   "execution_count": 15,
   "id": "0bfcfee9",
   "metadata": {},
   "outputs": [],
   "source": [
    "dataframe = get_moral_stories()\n",
    "action_dataframe = make_action_classification_dataframe(dataframe)"
   ]
  },
  {
   "cell_type": "markdown",
   "id": "9ef18416",
   "metadata": {},
   "source": [
    "## Task 1: Action only\n",
    "***\n",
    "We'll only give single sentences to the model for now. Let's start by feeding the actions."
   ]
  },
  {
   "cell_type": "code",
   "execution_count": 16,
   "id": "b2c42ebf",
   "metadata": {},
   "outputs": [],
   "source": [
    "def tokenize_and_split(dataset, tokenizer, sentence_col=\"text\"):\n",
    "    '''\n",
    "    Takes a `datasets.Dataset` with train and test splits\n",
    "    and applies the given tokenizer.\n",
    "    Returns tokenized train and test split datasets\n",
    "    '''\n",
    "    def tokenize_function(examples):\n",
    "        return tokenizer(examples[sentence_col], padding=\"max_length\", truncation=True)\n",
    "\n",
    "    tokenized_dataset = dataset.map(tokenize_function, batched=True)\n",
    "    train_dataset = tokenized_dataset[\"train\"]\n",
    "    eval_dataset = tokenized_dataset[\"test\"]\n",
    "    return train_dataset, eval_dataset\n",
    "\n",
    "from datasets import load_metric\n",
    "import numpy as np\n",
    "metric = load_metric(\"accuracy\")\n",
    "\n",
    "def compute_metrics(eval_pred):\n",
    "    logits, labels = eval_pred\n",
    "    predictions = np.argmax(logits, axis=-1)\n",
    "    return metric.compute(predictions=predictions, references=labels)"
   ]
  },
  {
   "cell_type": "code",
   "execution_count": 17,
   "id": "7f6592a1",
   "metadata": {},
   "outputs": [],
   "source": [
    "import datasets\n",
    "test_split = 0.2\n",
    "batch_size = 8\n",
    "\n",
    "\n",
    "action_dataframe[\"task_input\"] = action_dataframe.drop([\"ID\", \"labels\"], axis=1).agg(\". \".join, axis=1)\n",
    "dataset = datasets.Dataset.from_pandas(action_dataframe)\n",
    "dataset = dataset.train_test_split(test_size=test_split)\n"
   ]
  },
  {
   "cell_type": "code",
   "execution_count": 18,
   "id": "e9853e13",
   "metadata": {},
   "outputs": [
    {
     "name": "stderr",
     "output_type": "stream",
     "text": [
      "c:\\users\\nikla\\workspace\\moral-stories-notebooks\\env\\lib\\site-packages\\transformers\\models\\auto\\modeling_auto.py:843: FutureWarning: The class `AutoModelWithLMHead` is deprecated and will be removed in a future version. Please use `AutoModelForCausalLM` for causal language models, `AutoModelForMaskedLM` for masked language models and `AutoModelForSeq2SeqLM` for encoder-decoder models.\n",
      "  warnings.warn(\n"
     ]
    }
   ],
   "source": [
    "from transformers import (\n",
    "    AutoModelForSequenceClassification, DistilBertTokenizerFast,\n",
    "     Trainer, TrainingArguments, AutoModelWithLMHead, AutoTokenizer,\n",
    ")\n",
    "import torch\n",
    "\n",
    "model = \"distilbert-base-uncased\"\n",
    "model = \"gpt2\"\n",
    "tokenizer = AutoTokenizer.from_pretrained(model)\n",
    "model = AutoModelWithLMHead.from_pretrained(model)"
   ]
  },
  {
   "cell_type": "code",
   "execution_count": 21,
   "id": "44d54f87",
   "metadata": {},
   "outputs": [
    {
     "name": "stderr",
     "output_type": "stream",
     "text": [
      "Setting `pad_token_id` to `eos_token_id`:50256 for open-end generation.\n"
     ]
    }
   ],
   "source": [
    "prompt = \"Today the weather is really nice and I am planning on \"\n",
    "inputs = tokenizer.encode(prompt, add_special_tokens=False, return_tensors=\"pt\")\n",
    "\n",
    "prompt_length = len(tokenizer.decode(inputs[0], skip_special_tokens=True, clean_up_tokenization_spaces=True))\n",
    "outputs = model.generate(inputs, max_length=250, do_sample=False, top_p=0.95, top_k=60,\n",
    "                        return_dict_in_generate=True, output_attentions=False,\n",
    "                        output_hidden_states=True, output_scores=True)\n",
    "#generated = prompt + tokenizer.decode(outputs[0])[prompt_length:]"
   ]
  },
  {
   "cell_type": "code",
   "execution_count": 39,
   "id": "e138e16d",
   "metadata": {},
   "outputs": [],
   "source": [
    "p = torch.softmax(outputs.scores[0], dim=1)"
   ]
  },
  {
   "cell_type": "code",
   "execution_count": 41,
   "id": "c7b809bf",
   "metadata": {},
   "outputs": [
    {
     "data": {
      "text/plain": [
       "tensor(0.5038)"
      ]
     },
     "execution_count": 41,
     "metadata": {},
     "output_type": "execute_result"
    }
   ],
   "source": [
    "p.max()"
   ]
  },
  {
   "cell_type": "code",
   "execution_count": null,
   "id": "c4ac8ecc",
   "metadata": {},
   "outputs": [],
   "source": [
    "train_data, test_data = tokenize_and_split(dataset, tokenizer, \"task_input\")"
   ]
  },
  {
   "cell_type": "code",
   "execution_count": null,
   "id": "98463a79",
   "metadata": {},
   "outputs": [],
   "source": [
    "small_train_dataset = train_data.shuffle(seed=42).select(range(1000))\n",
    "small_eval_dataset = test_data.shuffle(seed=42).select(range(1000))"
   ]
  },
  {
   "cell_type": "code",
   "execution_count": null,
   "id": "ee3901aa",
   "metadata": {},
   "outputs": [],
   "source": [
    "small_eval_dataset"
   ]
  },
  {
   "cell_type": "code",
   "execution_count": null,
   "id": "427cbc39",
   "metadata": {
    "scrolled": false
   },
   "outputs": [],
   "source": [
    "import torch\n",
    "small_train_dataset.set_format(\"torch\", columns=[\"input_ids\",\"attention_mask\",\"labels\"])\n",
    "dataloader = torch.utils.data.DataLoader(small_train_dataset, batch_size=2)"
   ]
  },
  {
   "cell_type": "code",
   "execution_count": null,
   "id": "20b10a8d",
   "metadata": {},
   "outputs": [],
   "source": [
    "inputs = next(iter(dataloader))\n",
    "out = model(**inputs)"
   ]
  },
  {
   "cell_type": "code",
   "execution_count": null,
   "id": "674e36cd",
   "metadata": {},
   "outputs": [],
   "source": [
    "a"
   ]
  },
  {
   "cell_type": "code",
   "execution_count": null,
   "id": "cfa85948",
   "metadata": {},
   "outputs": [],
   "source": [
    "training_args = TrainingArguments(\n",
    "    output_dir=\"results/\",\n",
    "    num_train_epochs=3,              # total number of training epochs\n",
    "    per_device_train_batch_size=8,  # batch size per device during training\n",
    "    per_device_eval_batch_size=8,   # batch size for evaluation\n",
    "    warmup_steps=500,                # number of warmup steps for learning rate scheduler\n",
    "    weight_decay=0.01,               # strength of weight decay\n",
    "    logging_dir='./logs',            # directory for storing logs\n",
    "    logging_steps=50,                # how often to log\n",
    "    save_steps=1000,\n",
    "    save_total_limit=1,\n",
    "    evaluation_strategy=\"epoch\",     # when to run evaluation\n",
    ")"
   ]
  },
  {
   "cell_type": "code",
   "execution_count": null,
   "id": "e40443b6",
   "metadata": {},
   "outputs": [],
   "source": [
    "trainer = Trainer(\n",
    "    model=model,                         # the instantiated 🤗 Transformers model to be trained\n",
    "    args=training_args,                  # training arguments, defined above\n",
    "    train_dataset=train_data,   # training dataset\n",
    "    eval_dataset=test_data,     # evaluation dataset\n",
    "    compute_metrics=compute_metrics,     # code to run accuracy metric\n",
    ")\n",
    "trainer.train()"
   ]
  },
  {
   "cell_type": "code",
   "execution_count": null,
   "id": "4251fc3e",
   "metadata": {},
   "outputs": [],
   "source": [
    "test_data."
   ]
  },
  {
   "cell_type": "code",
   "execution_count": null,
   "id": "9b6eba78",
   "metadata": {},
   "outputs": [],
   "source": []
  }
 ],
 "metadata": {
  "kernelspec": {
   "display_name": "Python 3 (ipykernel)",
   "language": "python",
   "name": "python3"
  },
  "language_info": {
   "codemirror_mode": {
    "name": "ipython",
    "version": 3
   },
   "file_extension": ".py",
   "mimetype": "text/x-python",
   "name": "python",
   "nbconvert_exporter": "python",
   "pygments_lexer": "ipython3",
   "version": "3.9.6"
  }
 },
 "nbformat": 4,
 "nbformat_minor": 5
}
