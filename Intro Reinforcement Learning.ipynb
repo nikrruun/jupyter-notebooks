{
 "cells": [
  {
   "cell_type": "markdown",
   "id": "offensive-airport",
   "metadata": {
    "slideshow": {
     "slide_type": "slide"
    }
   },
   "source": [
    "# An introduction to Deep Reinforcement Learning"
   ]
  },
  {
   "cell_type": "markdown",
   "id": "golden-drinking",
   "metadata": {
    "slideshow": {
     "slide_type": "slide"
    }
   },
   "source": [
    "# Agenda\n",
    "***\n",
    "1. What is Deep RL?\n",
    "    * Deep Learning vs Deep Reinforcement Learning\n",
    "2. Types of learning\n",
    "    * Supervised vs unsupervised vs RL\n",
    "    * RL in Humans, why are we so good?\n",
    "3. Reinforcement Learning Framework\n",
    "    * Agent, Action, State, Reward\n",
    "4. Environments & Actions\n",
    "    * Observability, Single VS Multi Agent, Deterministic/Stochastic, Static/Dynamic, Discrete/Continuous\n",
    "5. RL in the real world\n",
    "    * Two open problems:\n",
    "        * Make better simulations\n",
    "        * Make algorithms that generalize better from simulation to real world\n",
    "6. Components of an RL agent\n",
    "    * Policy, the behavior function, probability of taking $a_t$ when in state $s_t$\n",
    "    * Value function, how good is each state/action in terms of expected future reward\n",
    "        * $V_\\pi(s)=E\\left[\\sum_{t=0}^{\\infty}\\gamma^t r_t\\mid s_0 = s\\right]$\n",
    "    * Model, agent's representation of the environment\n",
    "7. Meaning of Life: Maximize Reward\n",
    "    * Future reward, discounted reward\n",
    "8. Robot in a room:\n",
    "    * Example to show the impact of reward structure and environment on the optimal policy\n",
    "    * **TODO: Do we need code here?**\n",
    "        * I am afraid we do!\n",
    "9. Types of RL (several ways to taxonomize exist!)\n",
    "    * Model-based\n",
    "        * learn a model of the world through interaction, then plan ahead using the model\n",
    "    * Value-based (off policy)\n",
    "        * Learn the values for states or states/actions\n",
    "            * Constantly update how good it is to take action $a$ in state $s$\n",
    "            * Act by choosing the best action in state. Exploration is needed!\n",
    "    * Policy-based\n",
    "        * Learning the right behavior function that maps state to action\n",
    "        * Act by sampling policy, exploration already included\n",
    "10. Taxonomy by OpenAI\n",
    "    * Is this needed?"
   ]
  },
  {
   "cell_type": "markdown",
   "id": "protected-bikini",
   "metadata": {
    "slideshow": {
     "slide_type": "slide"
    }
   },
   "source": [
    "# Grid World\n",
    "***\n",
    "Install a library that will help us solve the underlying Markov Decision Processes"
   ]
  },
  {
   "cell_type": "code",
   "execution_count": 1,
   "id": "failing-florence",
   "metadata": {
    "collapsed": true,
    "slideshow": {
     "slide_type": "fragment"
    }
   },
   "outputs": [
    {
     "name": "stdout",
     "output_type": "stream",
     "text": [
      "Collecting pymdptoolbox\n",
      "  Downloading pymdptoolbox-4.0-b3.zip (29 kB)\n",
      "Requirement already satisfied: numpy in c:\\users\\nikla\\workspace\\jupyter-notebooks\\env\\lib\\site-packages (from pymdptoolbox) (1.18.5)\n",
      "Requirement already satisfied: scipy in c:\\users\\nikla\\workspace\\jupyter-notebooks\\env\\lib\\site-packages (from pymdptoolbox) (1.4.1)\n",
      "Building wheels for collected packages: pymdptoolbox\n",
      "  Building wheel for pymdptoolbox (setup.py): started\n",
      "  Building wheel for pymdptoolbox (setup.py): finished with status 'done'\n",
      "  Created wheel for pymdptoolbox: filename=pymdptoolbox-4.0b3-py3-none-any.whl size=25658 sha256=6efd5e475e23f6cb97e4eed636afc19291877c1f54f5772bc936d461d070d901\n",
      "  Stored in directory: c:\\users\\nikla\\appdata\\local\\pip\\cache\\wheels\\85\\c2\\e4\\29e0b5aab8da79e0f54cf086f8549d47c824e5242ae687e93a\n",
      "Successfully built pymdptoolbox\n",
      "Note: you may need to restart the kernel to use updated packages.Installing collected packages: pymdptoolbox\n"
     ]
    },
    {
     "name": "stderr",
     "output_type": "stream",
     "text": [
      "WARNING: You are using pip version 21.0.1; however, version 21.1 is available.\n",
      "You should consider upgrading via the 'c:\\users\\nikla\\workspace\\jupyter-notebooks\\env\\scripts\\python.exe -m pip install --upgrade pip' command.\n"
     ]
    },
    {
     "name": "stdout",
     "output_type": "stream",
     "text": [
      "\n",
      "Successfully installed pymdptoolbox-4.0b3\n"
     ]
    }
   ],
   "source": [
    "%pip install pymdptoolbox"
   ]
  },
  {
   "cell_type": "code",
   "execution_count": 1,
   "id": "placed-example",
   "metadata": {
    "slideshow": {
     "slide_type": "subslide"
    }
   },
   "outputs": [],
   "source": [
    "import numpy as np\n",
    "import matplotlib.pyplot as plt\n",
    "from mdptoolbox import mdp"
   ]
  },
  {
   "cell_type": "code",
   "execution_count": 2,
   "id": "unusual-position",
   "metadata": {},
   "outputs": [],
   "source": [
    "class Gridworld():\n",
    "    def __init__(self, actions, w=4, h=3, rho=1.0, step_reward=0.0, cell_rewards={},\n",
    "               terminal_states=[]):\n",
    "        self.actions = actions\n",
    "        self.w, self.h = w, h\n",
    "        self.rho = rho\n",
    "        self.step_reward = step_reward\n",
    "        self.cell_rewards = cell_rewards\n",
    "        self.terminal_states = {tuple(x) for x in terminal_states}\n",
    "\n",
    "        self.grid = np.zeros((h,w))\n",
    "        self.states = np.array([[i,j] for i in range(h) for j in range(w)])\n",
    "        self.num_states = w*h\n",
    "        self.num_actions = len(actions)\n",
    "        self.p = np.zeros((self.num_actions, self.num_states, self.num_states), \"float32\")\n",
    "        self.r = np.zeros((self.num_actions, self.num_states, self.num_states), \"float32\")\n",
    "        self._fill_p()\n",
    "        self._fill_r()\n",
    "\n",
    "    def _fill_p(self):\n",
    "        # computing transition matrix:\n",
    "        for a in range(self.num_actions):\n",
    "            for i in range(self.num_states):\n",
    "                # simulate performing action a_ in state i\n",
    "                # action a is performed with prob. rho,\n",
    "                # with prob. 1-rho, any other action is chosen,\n",
    "                # which results in prob. (1-rho)/(num_moves-1) for\n",
    "                # a specific action a_ != a\n",
    "                for a_ in range(self.num_actions):\n",
    "                    rh, rw = self.make_move(self.actions[a_], self.states[i])\n",
    "                    j_ = rh*self.w + rw\n",
    "                    prob = self.rho if a == a_ else (1-self.rho)/(self.num_actions-1)\n",
    "                    self.p[a, i, j_] += prob\n",
    "\n",
    "        # make sure we can't ever leave terminal states\n",
    "        for (i,j) in self.terminal_states:\n",
    "            # transition probability from state (i,j) to any other state \n",
    "            # must be zero, but one for (i,j)\n",
    "            index = i*self.w+j\n",
    "            self.p[:,index,:] = 0\n",
    "            self.p[:, index, index] = 1\n",
    "\n",
    "    def _fill_r(self):\n",
    "        # transitions always give step_reward\n",
    "        self.r.fill(self.step_reward)\n",
    "\n",
    "        # ending on a rewarded cell gives the corresponding reward\n",
    "        for (i,j), reward in self.cell_rewards.items():\n",
    "            self.r[:,:, i*self.w+j] += reward\n",
    "\n",
    "        # terminal cells do not give ANY reward after having reached them\n",
    "        for (i,j) in self.terminal_states:\n",
    "            k = i*self.w+j\n",
    "            self.r[:, k, :] = 0\n",
    "\n",
    "    def make_move(self, move, state):\n",
    "        return np.clip(np.array(move)+np.array(state), 0, (self.h-1, self.w-1))\n",
    "\n",
    "    def _plot_policy(self, policy):\n",
    "        a_l = 0.6 # arrow length\n",
    "        for (i,j), a in list(zip(self.states, policy)):\n",
    "            if (i,j) in self.terminal_states: continue\n",
    "           \n",
    "            dh, dw = self.actions[a]\n",
    "            if dh == -1:\n",
    "                y_off = 1 - (1-a_l)/2.\n",
    "                x_off = 0.5\n",
    "            elif dh == 0:\n",
    "                y_off = 0.5\n",
    "                if dw == -1:\n",
    "                    x_off = 1 - (1-a_l)/2.0\n",
    "                elif dw == 1:\n",
    "                    x_off = (1-a_l)/2.0\n",
    "                else: raise ValueError(\"Invalid action to plot!\")\n",
    "            elif dh == 1:\n",
    "                y_off = (1-a_l)/2.0\n",
    "                x_off = 0.5\n",
    "            else: raise ValueError(\"Invalid action to plot\")\n",
    "            plt.arrow(j+x_off, i+y_off, dw*a_l, dh*a_l, width=0.1, \n",
    "                      head_width=0.4, head_length=0.6*0.35, fc=\"k\", ec=\"k\",\n",
    "                      length_includes_head=True, linewidth=0, overhang=0.3)\n",
    "        return\n",
    "\n",
    "    def _plot_terminal_states(self):\n",
    "        for (i,j) in self.terminal_states:\n",
    "            c = plt.Circle((j+0.5,i+0.5), radius=0.3, fill=False, ec=\"black\",\n",
    "                          lw=3)\n",
    "            plt.gca().add_patch(c)\n",
    "\n",
    "    def _plot_rewards(self):\n",
    "        for (i,j), r in self.cell_rewards.items():\n",
    "            plt.text(j+0.05,i+0.95, f\"{r:.1f}\")\n",
    "\n",
    "    def plot(self, policy=None, start=None, height=None, width=None):\n",
    "        if height is None and width is None:\n",
    "            height = self.h\n",
    "            width = self.w\n",
    "        if height is None:\n",
    "            height = self.h*(width/self.w)\n",
    "        if width is None:\n",
    "            width = self.w*(height/self.h)\n",
    "        fig, ax = plt.subplots(figsize=(width, height))\n",
    "        if policy is not None:\n",
    "            self._plot_policy(policy)\n",
    "        self._plot_terminal_states()\n",
    "        self._plot_rewards()\n",
    "        plt.xlim(0, self.w)\n",
    "        plt.ylim(0, self.h)\n",
    "        plt.tick_params(axis='both', which='both', bottom=False, top=False, \n",
    "                        labelbottom=False, right=False, left=False, labelleft=False)\n",
    "        plt.xticks(range(self.w))\n",
    "        plt.yticks(range(self.h))\n",
    "        ax.invert_yaxis()\n",
    "        plt.grid()\n",
    "        plt.title(\"Grid world\")\n",
    "        plt.show()"
   ]
  },
  {
   "cell_type": "code",
   "execution_count": 3,
   "id": "hairy-blast",
   "metadata": {},
   "outputs": [
    {
     "name": "stdout",
     "output_type": "stream",
     "text": [
      "1\n",
      "2\n",
      "3\n"
     ]
    }
   ],
   "source": [
    "a = {1,2,3}\n",
    "for x in a:\n",
    "    print(x)"
   ]
  },
  {
   "cell_type": "code",
   "execution_count": 4,
   "id": "global-portal",
   "metadata": {},
   "outputs": [],
   "source": [
    "w=8; h=3; rho=1; step_reward=0.0;\n",
    "\n",
    "actions = np.array([\n",
    "    [-1,0], # UP\n",
    "    [1,0], # DOWN \n",
    "    [0,-1], # Left\n",
    "    [0,1], # Right\n",
    "])\n",
    "cell_rewards={\n",
    "    (0,3): 1,\n",
    "    (1,3): -100,\n",
    "}\n",
    "terminal_states=[\n",
    "    #[0,3],\n",
    "    [1,3],\n",
    "]\n",
    "\n",
    "gw  = Gridworld(w=w, h=h, rho=rho, step_reward=step_reward,\n",
    "                cell_rewards=cell_rewards, actions=actions,\n",
    "                terminal_states=terminal_states)"
   ]
  },
  {
   "cell_type": "code",
   "execution_count": 5,
   "id": "asian-assumption",
   "metadata": {},
   "outputs": [
    {
     "name": "stdout",
     "output_type": "stream",
     "text": [
      "  Iteration\t\tNumber of different actions\n",
      "    1\t\t  7\n",
      "    2\t\t  8\n",
      "    3\t\t  3\n",
      "    4\t\t  0\n",
      "Iterating stopped, unchanging policy found.\n",
      "(3, 3, 3, 0, 2, 2, 2, 2, 3, 3, 0, 0, 0, 0, 2, 2, 3, 3, 0, 2, 0, 0, 2, 2)\n"
     ]
    },
    {
     "data": {
      "image/png": "[encoded data removed]",
      "text/plain": [
       "<Figure size 1344x504 with 1 Axes>"
      ]
     },
     "metadata": {},
     "output_type": "display_data"
    },
    {
     "data": {
      "text/plain": [
       "(998.0009999999985,\n",
       " 998.9999999999985,\n",
       " 999.9999999999985,\n",
       " 999.9999999999985,\n",
       " 999.9999999999985,\n",
       " 998.9999999999985,\n",
       " 998.0009999999985,\n",
       " 997.0029989999986,\n",
       " 997.0029989999986,\n",
       " 998.0009999999986,\n",
       " 998.9999999999986,\n",
       " 0.0,\n",
       " 998.9999999999985,\n",
       " 998.0009999999987,\n",
       " 997.0029989999987,\n",
       " 996.0059960009987,\n",
       " 996.0059960009987,\n",
       " 997.0029989999987,\n",
       " 998.0009999999987,\n",
       " 997.0029989999988,\n",
       " 998.0009999999986,\n",
       " 997.0029989999988,\n",
       " 996.0059960009988,\n",
       " 995.0099900049978)"
      ]
     },
     "execution_count": 5,
     "metadata": {},
     "output_type": "execute_result"
    }
   ],
   "source": [
    "#vi = mdp.ValueIteration(gw.p, gw.r, 0.9, max_iter=1e5)\n",
    "vi = mdp.PolicyIteration(gw.p, gw.r, 0.999)\n",
    "vi.setVerbose()\n",
    "vi.run()\n",
    "print(vi.policy)\n",
    "gw.plot(policy=vi.policy, height=7)\n",
    "vi.V"
   ]
  },
  {
   "cell_type": "code",
   "execution_count": 120,
   "id": "becoming-dakota",
   "metadata": {
    "scrolled": true
   },
   "outputs": [
    {
     "data": {
      "text/plain": [
       "'1.00'"
      ]
     },
     "execution_count": 120,
     "metadata": {},
     "output_type": "execute_result"
    }
   ],
   "source": [
    "f\"{1.00:.2f}\""
   ]
  },
  {
   "cell_type": "code",
   "execution_count": 109,
   "id": "surgical-candy",
   "metadata": {},
   "outputs": [
    {
     "data": {
      "image/png": "[encoded data removed]",
      "text/plain": [
       "<Figure size 720x720 with 1 Axes>"
      ]
     },
     "metadata": {
      "needs_background": "light"
     },
     "output_type": "display_data"
    }
   ],
   "source": [
    "plt.figure(figsize=(10,10))\n",
    "plt.xlim(0,5)\n",
    "plt.ylim(0,5)\n",
    "plt.grid()\n",
    "plt.arrow(0.2, 0.5, 0.6,0, width=0.1, \n",
    "                      head_width=0.4, head_length=0.6*0.35, fc=\"k\", ec=\"k\",\n",
    "                      length_includes_head=True, linewidth=0, overhang=0.3)\n",
    "plt.show()"
   ]
  },
  {
   "cell_type": "code",
   "execution_count": null,
   "id": "marked-receptor",
   "metadata": {},
   "outputs": [],
   "source": []
  }
 ],
 "metadata": {
  "celltoolbar": "Slideshow",
  "kernelspec": {
   "display_name": "Python 3",
   "language": "python",
   "name": "python3"
  },
  "language_info": {
   "codemirror_mode": {
    "name": "ipython",
    "version": 3
   },
   "file_extension": ".py",
   "mimetype": "text/x-python",
   "name": "python",
   "nbconvert_exporter": "python",
   "pygments_lexer": "ipython3",
   "version": "3.8.3"
  },
  "rise": {
   "auto_select": "none",
   "enable_chalkboard": true,
   "overlay": "<div class='myheader'><img src='img/ai_camp.png' class='ifis_small'></div><div class='ifis_large'><img src='img/ifis_large.png'></div>",
   "scroll": true,
   "start_slideshow_at": "selected"
  }
 },
 "nbformat": 4,
 "nbformat_minor": 5
}
