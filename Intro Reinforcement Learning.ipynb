{
 "cells": [
  {
   "cell_type": "markdown",
   "id": "federal-acoustic",
   "metadata": {
    "slideshow": {
     "slide_type": "skip"
    }
   },
   "source": [
    "# Setup START\n",
    "***\n",
    "Skipped in slideshow mode, run manually before!\n",
    "\n",
    "Ideally, the code would be placed with their corresponding content slides.\\\n",
    "Unfortunately, RISE slideshow mode will not execute SKIP slides and there is no other way to hide them."
   ]
  },
  {
   "cell_type": "code",
   "execution_count": 15,
   "id": "simplified-pitch",
   "metadata": {
    "slideshow": {
     "slide_type": "skip"
    }
   },
   "outputs": [
    {
     "name": "stdout",
     "output_type": "stream",
     "text": [
      "Requirement already satisfied: pip in c:\\users\\nikla\\workspace\\jupyter-notebooks\\env\\lib\\site-packages (21.1.1)\n",
      "Note: you may need to restart the kernel to use updated packages.\n",
      "Requirement already satisfied: cmake in c:\\users\\nikla\\workspace\\jupyter-notebooks\\env\\lib\\site-packages (3.18.4.post1)\n",
      "Note: you may need to restart the kernel to use updated packages.\n",
      "Requirement already satisfied: atari_py in c:\\users\\nikla\\workspace\\jupyter-notebooks\\env\\lib\\site-packages (0.2.6)\n",
      "Requirement already satisfied: six in c:\\users\\nikla\\workspace\\jupyter-notebooks\\env\\lib\\site-packages (from atari_py) (1.15.0)\n",
      "Requirement already satisfied: numpy in c:\\users\\nikla\\workspace\\jupyter-notebooks\\env\\lib\\site-packages (from atari_py) (1.18.5)\n",
      "Note: you may need to restart the kernel to use updated packages.\n",
      "Requirement already satisfied: gym[box2d]==0.17.3 in c:\\users\\nikla\\workspace\\jupyter-notebooks\\env\\lib\\site-packages (0.17.3)\n",
      "Requirement already satisfied: scipy in c:\\users\\nikla\\workspace\\jupyter-notebooks\\env\\lib\\site-packages (from gym[box2d]==0.17.3) (1.4.1)\n",
      "Requirement already satisfied: numpy>=1.10.4 in c:\\users\\nikla\\workspace\\jupyter-notebooks\\env\\lib\\site-packages (from gym[box2d]==0.17.3) (1.18.5)\n",
      "Requirement already satisfied: pyglet<=1.5.0,>=1.4.0 in c:\\users\\nikla\\workspace\\jupyter-notebooks\\env\\lib\\site-packages (from gym[box2d]==0.17.3) (1.5.0)\n",
      "Requirement already satisfied: cloudpickle<1.7.0,>=1.2.0 in c:\\users\\nikla\\workspace\\jupyter-notebooks\\env\\lib\\site-packages (from gym[box2d]==0.17.3) (1.3.0)\n",
      "Requirement already satisfied: box2d-py~=2.3.5 in c:\\users\\nikla\\workspace\\jupyter-notebooks\\env\\lib\\site-packages (from gym[box2d]==0.17.3) (2.3.8)\n",
      "Requirement already satisfied: future in c:\\users\\nikla\\workspace\\jupyter-notebooks\\env\\lib\\site-packages (from pyglet<=1.5.0,>=1.4.0->gym[box2d]==0.17.3) (0.18.2)\n",
      "Note: you may need to restart the kernel to use updated packages.\n",
      "Requirement already satisfied: pyvirtualdisplay in c:\\users\\nikla\\workspace\\jupyter-notebooks\\env\\lib\\site-packages (2.1)\n",
      "Requirement already satisfied: EasyProcess in c:\\users\\nikla\\workspace\\jupyter-notebooks\\env\\lib\\site-packages (from pyvirtualdisplay) (0.3)\n",
      "Note: you may need to restart the kernel to use updated packages.\n",
      "Requirement already satisfied: tqdm in c:\\users\\nikla\\workspace\\jupyter-notebooks\\env\\lib\\site-packages (4.60.0)\n",
      "Note: you may need to restart the kernel to use updated packages.\n",
      "Requirement already satisfied: pymdptoolbox in c:\\users\\nikla\\workspace\\jupyter-notebooks\\env\\lib\\site-packages (4.0b3)\n",
      "Requirement already satisfied: numpy in c:\\users\\nikla\\workspace\\jupyter-notebooks\\env\\lib\\site-packages (from pymdptoolbox) (1.18.5)\n",
      "Requirement already satisfied: scipy in c:\\users\\nikla\\workspace\\jupyter-notebooks\\env\\lib\\site-packages (from pymdptoolbox) (1.4.1)\n",
      "Note: you may need to restart the kernel to use updated packages.\n"
     ]
    }
   ],
   "source": [
    "%pip install --upgrade pip\n",
    "# OpenAI Gym related:\n",
    "%pip install cmake\n",
    "%pip install atari_py \n",
    "'''OpenAI devs actually messed up an indentation\n",
    "    in the video recorder class in 0.18.x.\n",
    "    If you want to see videos, wait for a patch or\n",
    "    use 0.17.x.\n",
    "'''\n",
    "%pip install gym[box2d]==0.17.3\n",
    "%pip install pyvirtualdisplay\n",
    "%pip install tqdm\n",
    "\n",
    "# Gridworld related:\n",
    "%pip install pymdptoolbox"
   ]
  },
  {
   "cell_type": "code",
   "execution_count": 9,
   "id": "verified-infrared",
   "metadata": {
    "slideshow": {
     "slide_type": "skip"
    }
   },
   "outputs": [],
   "source": [
    "try:\n",
    "    import google.colab\n",
    "    IN_COLAB = True\n",
    "except:\n",
    "    IN_COLAB = False\n",
    "\n",
    "if IN_COLAB:\n",
    "    !apt-get install -y xvfb python-opengl > /dev/null 2>&1"
   ]
  },
  {
   "cell_type": "markdown",
   "id": "based-audio",
   "metadata": {
    "slideshow": {
     "slide_type": "skip"
    }
   },
   "source": [
    "### Setup: OpenAI Gym"
   ]
  },
  {
   "cell_type": "code",
   "execution_count": 10,
   "id": "later-negative",
   "metadata": {
    "slideshow": {
     "slide_type": "skip"
    }
   },
   "outputs": [],
   "source": [
    "from IPython import display\n",
    "import numpy as np\n",
    "import base64\n",
    "import io\n",
    "import gym\n",
    "from gym.wrappers import Monitor\n",
    "\n",
    "if IN_COLAB:\n",
    "    from pyvirtualdisplay import Display\n",
    "    d = Display()\n",
    "    d.start()\n",
    "\n",
    "'''\n",
    "Below is a solution to record and display videos for\n",
    "OpenAI Gym environments.\n",
    "Why the hassle?\n",
    "    It works both in Jupyter Notebook and Google Colab!\n",
    "(The author would like to note how painful it has been\n",
    "developing this)\n",
    "'''    \n",
    "\n",
    "def display_video_from_monitor(monitor):\n",
    "    '''\n",
    "    Converts all videos in a monitor to HTML videos\n",
    "    '''\n",
    "    if len(monitor.videos) == 0:\n",
    "        print(\"No videos to render!\")\n",
    "        return\n",
    "    for f in monitor.videos:\n",
    "        video = io.open(f[0], 'r+b').read()\n",
    "        encoded = base64.b64encode(video)\n",
    "\n",
    "        display.display(display.HTML(data=\"\"\"\n",
    "            <video alt=\"test\" controls>\n",
    "            <source src=\"data:video/mp4;base64,{0}\" type=\"video/mp4\" />\n",
    "            </video>\n",
    "            \"\"\".format(encoded.decode('ascii'))))\n",
    "    return\n",
    "\n",
    "def make_video(env, model, max_steps=None):\n",
    "    mon = Monitor(env, \"/data/videos/\", force=True)\n",
    "    state = mon.reset()\n",
    "    max_steps = max_steps if max_steps is not None else np.inf\n",
    "    for i in range(max_steps):\n",
    "        action = model(state)\n",
    "        state, r, d, _ = mon.step(action)\n",
    "        if d: break\n",
    "    else:\n",
    "        mon.stats_recorder.save_complete()\n",
    "        mon.stats_recorder.done = True\n",
    "    mon.reset()\n",
    "    display_video_from_monitor(mon)\n",
    "    return mon"
   ]
  },
  {
   "cell_type": "markdown",
   "id": "constant-latvia",
   "metadata": {
    "slideshow": {
     "slide_type": "skip"
    }
   },
   "source": [
    "### Setup: Grid World"
   ]
  },
  {
   "cell_type": "code",
   "execution_count": 11,
   "id": "unusual-position",
   "metadata": {
    "slideshow": {
     "slide_type": "skip"
    }
   },
   "outputs": [],
   "source": [
    "import numpy as np\n",
    "import matplotlib.pyplot as plt\n",
    "from matplotlib import patches\n",
    "from mdptoolbox import mdp\n",
    "\n",
    "class Gridworld():\n",
    "    def __init__(self, actions, w=4, h=3, rho=1.0, step_reward=0.0, cell_rewards={},\n",
    "               terminal_states=[], blocked_cells=[]):\n",
    "        self.actions = actions\n",
    "        self.w, self.h = w, h\n",
    "        self.rho = rho\n",
    "        self.step_reward = step_reward\n",
    "        self.cell_rewards = cell_rewards\n",
    "        self.terminal_states = {tuple(x) for x in terminal_states}\n",
    "        self.blocked_cells = {tuple(x) for x in blocked_cells}\n",
    "\n",
    "        self.grid = np.zeros((h,w))\n",
    "        self.states = np.array([[i,j] for i in range(h) for j in range(w)])\n",
    "        self.num_states = w*h\n",
    "        self.num_actions = len(actions)\n",
    "        self.p = np.zeros((self.num_actions, self.num_states, self.num_states), \"float32\")\n",
    "        self.r = np.zeros((self.num_actions, self.num_states, self.num_states), \"float32\")\n",
    "        self._fill_p()\n",
    "        self._fill_r()\n",
    "\n",
    "    def _fill_p(self):\n",
    "        # computing transition matrix:\n",
    "        for a in range(self.num_actions):\n",
    "            for i in range(self.num_states):\n",
    "                # simulate performing action a_ in state i\n",
    "                # action a is performed with prob. rho,\n",
    "                # with prob. 1-rho, any other action is chosen,\n",
    "                # which results in prob. (1-rho)/(num_moves-1) for\n",
    "                # a specific action a_ != a\n",
    "                for a_ in range(self.num_actions):\n",
    "                    rh, rw = self.simulate_move(self.actions[a_], self.states[i])\n",
    "                    j_ = rh*self.w + rw\n",
    "                    prob = self.rho if a == a_ else (1-self.rho)/(self.num_actions-1)\n",
    "                    self.p[a, i, j_] += prob\n",
    "                # due to numerical inaccuracies, we need to ensure that each row\n",
    "                # adds up to exactly 1, not 0.999995, because the solvers\n",
    "                # really dont seem to like that\n",
    "                row_sum = self.p[a,i].sum()\n",
    "                if row_sum != 1:\n",
    "                    if not np.allclose(row_sum,1, rtol=1e-5, atol=1e-5):\n",
    "                        raise ValueError(f\"Probability error at action{a}, state {i}\"\n",
    "                                         f\" with prob. {row_sum}\")\n",
    "                    self.p[a,i] /= row_sum\n",
    "        return\n",
    "        # make sure we can't ever leave terminal states\n",
    "        for (i,j) in self.terminal_states:\n",
    "            # transition probability from state (i,j) to any other state \n",
    "            # must be zero, but one for (i,j)\n",
    "            index = i*self.w+j\n",
    "            self.p[:,index,:] = 0\n",
    "            self.p[:, index, index] = 1\n",
    "\n",
    "    def _fill_r(self):\n",
    "        # transitions always give step_reward\n",
    "        self.r.fill(self.step_reward)\n",
    "\n",
    "        # ending on a rewarded cell gives the corresponding reward\n",
    "        for (i,j), reward in self.cell_rewards.items():\n",
    "            self.r[:,:, i*self.w+j] += reward\n",
    "\n",
    "        # terminal cells do not give ANY reward after having reached them\n",
    "        for (i,j) in self.terminal_states:\n",
    "            k = i*self.w+j\n",
    "            self.r[:, k, :] = 0\n",
    "\n",
    "    def simulate_move(self, move, state):\n",
    "        if self._is_blocked(state): return state\n",
    "        if self._is_terminal(state): \n",
    "            return state\n",
    "        nm = np.clip(np.array(move)+np.array(state), 0, (self.h-1, self.w-1))\n",
    "        if self._is_blocked(nm):\n",
    "            return state\n",
    "        return nm\n",
    "\n",
    "    def _is_blocked(self, cy, cx=None):\n",
    "        # cx: position along grid width\n",
    "        if cx is None:\n",
    "            cy, cx = cy\n",
    "        return (cy, cx) in self.blocked_cells\n",
    "\n",
    "    def _is_terminal(self, cy, cx=None):\n",
    "        if cx is None:\n",
    "            cy, cx = cy\n",
    "        return (cy, cx) in self.terminal_states\n",
    "    \n",
    "    def _plot_policy(self, policy):\n",
    "        a_l = 0.6 # arrow length\n",
    "        for (i,j), a in list(zip(self.states, policy)):\n",
    "            if self._is_terminal(i,j) or self._is_blocked(i,j): continue\n",
    "           \n",
    "            dh, dw = self.actions[a]\n",
    "            if dh == -1:\n",
    "                y_off = 1 - (1-a_l)/2.\n",
    "                x_off = 0.5\n",
    "            elif dh == 0:\n",
    "                y_off = 0.5\n",
    "                if dw == -1:\n",
    "                    x_off = 1 - (1-a_l)/2.0\n",
    "                elif dw == 1:\n",
    "                    x_off = (1-a_l)/2.0\n",
    "                else: raise ValueError(\"Invalid action to plot!\")\n",
    "            elif dh == 1:\n",
    "                y_off = (1-a_l)/2.0\n",
    "                x_off = 0.5\n",
    "            else: raise ValueError(\"Invalid action to plot\")\n",
    "            plt.arrow(j+x_off, i+y_off, dw*a_l, dh*a_l, width=0.1, \n",
    "                      head_width=0.4, head_length=0.6*0.35, fc=\"k\", ec=\"k\",\n",
    "                      length_includes_head=True, linewidth=0, overhang=0.3, \n",
    "                      zorder=10)\n",
    "        return\n",
    "\n",
    "    def _plot_terminal_states(self):\n",
    "        for (i,j) in self.terminal_states:\n",
    "            c = plt.Circle((j+0.5,i+0.5), radius=0.3, fill=False, ec=\"black\",\n",
    "                          lw=3, zorder=6)\n",
    "            plt.gca().add_patch(c)\n",
    "\n",
    "    def _plot_blocked_cells(self):\n",
    "        for (i,j) in self.blocked_cells:\n",
    "            rect = patches.Rectangle((j,i),1,1, zorder=1, color=(1,219/255,147/255))\n",
    "            plt.gca().add_patch(rect)        \n",
    "            \n",
    "    def _plot_rewards(self, resize_factor):\n",
    "        \n",
    "        neg_cm = plt.get_cmap(\"Reds\")\n",
    "        pos_cm = plt.get_cmap(\"Greens\")\n",
    "        rmax = max(abs(x) for x in self.cell_rewards.values())\n",
    "        rmin = -rmax\n",
    "        for (i,j), r in self.cell_rewards.items():\n",
    "            plt.text(j+0.05,i+0.95, f\"{r:.1f}\", zorder=10, weight=\"bold\",\n",
    "                    size=8*resize_factor)\n",
    "            # to get the right color, we normalize to 0,255\n",
    "            r_norm = 1.0 * (r-rmin)/(rmax-rmin)\n",
    "            cm = pos_cm\n",
    "            if r < 0:\n",
    "                r_norm = 1.0 - r_norm\n",
    "                cm = neg_cm\n",
    "            col = cm(r_norm)\n",
    "            print(r, r_norm, col)\n",
    "            rect = patches.Rectangle((j,i),1,1, zorder=1, color=col)\n",
    "            plt.gca().add_patch(rect)   \n",
    "            \n",
    "    def plot(self, policy=None, start=None, height=None, width=None):\n",
    "        if height is None and width is None:\n",
    "            height = self.h\n",
    "            width = self.w\n",
    "        if height is None:\n",
    "            height = self.h*(width/self.w)\n",
    "        if width is None:\n",
    "            width = self.w*(height/self.h)\n",
    "        rf = height/self.h\n",
    "        fig, ax = plt.subplots(figsize=(width, height))\n",
    "        if policy is not None:\n",
    "            self._plot_policy(policy)\n",
    "        self._plot_terminal_states()\n",
    "        self._plot_blocked_cells()\n",
    "        self._plot_rewards(rf)\n",
    "        ax.grid(zorder=10, lw=1)\n",
    "        \n",
    "\n",
    "        plt.xlim(0, self.w)\n",
    "        plt.ylim(0, self.h)\n",
    "        plt.tick_params(axis='both', which='both', bottom=False, top=False, \n",
    "                        labelbottom=False, right=False, left=False, labelleft=False)\n",
    "        plt.xticks(range(self.w))\n",
    "        plt.yticks(range(self.h))\n",
    "        ax.invert_yaxis()\n",
    "        plt.title(\"Grid world\")\n",
    "        plt.show()"
   ]
  },
  {
   "cell_type": "markdown",
   "id": "leading-proceeding",
   "metadata": {
    "slideshow": {
     "slide_type": "skip"
    }
   },
   "source": [
    "# Setup END\n",
    "***\n",
    "(Click this cell, and do \"Run all above\")"
   ]
  },
  {
   "cell_type": "markdown",
   "id": "offensive-airport",
   "metadata": {
    "slideshow": {
     "slide_type": "slide"
    }
   },
   "source": [
    "# An introduction to Reinforcement Learning\n",
    "***"
   ]
  },
  {
   "cell_type": "code",
   "execution_count": 12,
   "id": "organizational-lawrence",
   "metadata": {
    "slideshow": {
     "slide_type": "fragment"
    }
   },
   "outputs": [
    {
     "name": "stdout",
     "output_type": "stream",
     "text": [
      "Setup was run :)\n"
     ]
    }
   ],
   "source": [
    "try:\n",
    "    IN_COLAB\n",
    "    print(\"Setup was run :)\")\n",
    "except:\n",
    "    print(\"Don't forget to run the setup!\")"
   ]
  },
  {
   "cell_type": "markdown",
   "id": "golden-drinking",
   "metadata": {
    "slideshow": {
     "slide_type": "slide"
    }
   },
   "source": [
    "# Agenda\n",
    "***\n",
    "1. What is Deep RL?\n",
    "    * Deep Learning vs Deep Reinforcement Learning\n",
    "2. Types of learning\n",
    "    * Supervised vs unsupervised vs RL\n",
    "    * RL in Humans, why are we so good?\n",
    "3. Reinforcement Learning Framework\n",
    "    * Agent, Action, State, Reward\n",
    "4. Environments & Actions\n",
    "    * Observability, Single VS Multi Agent, Deterministic/Stochastic, Static/Dynamic, Discrete/Continuous\n",
    "5. RL in the real world\n",
    "    * Two open problems:\n",
    "        * Make better simulations\n",
    "        * Make algorithms that generalize better from simulation to real world\n",
    "6. Components of an RL agent\n",
    "    * Policy, the behavior function, probability of taking $a_t$ when in state $s_t$\n",
    "    * Value function, how good is each state/action in terms of expected future reward\n",
    "        * $V_\\pi(s)=E\\left[\\sum_{t=0}^{\\infty}\\gamma^t r_t\\mid s_0 = s\\right]$\n",
    "    * Model, agent's representation of the environment\n",
    "7. Meaning of Life: Maximize Reward\n",
    "    * Future reward, discounted reward\n",
    "        * Sparse reward problem\n",
    "        * Credit assignment problem\n",
    "8. Robot in a room/Gridworld:\n",
    "    * Example to show the impact of reward structure and environment on the optimal policy\n",
    "    * WE HAVE CODE NOW, WOOOOO\n",
    "9. Types of RL (several ways to taxonomize exist!)\n",
    "    * Model-based\n",
    "        * learn a model of the world through interaction, then plan ahead using the model\n",
    "    * Value-based (off policy)\n",
    "        * Learn the values for states or states/actions\n",
    "            * Constantly update how good it is to take action $a$ in state $s$\n",
    "            * Act by choosing the best action in state. Exploration is needed!\n",
    "    * Policy-based\n",
    "        * Learning the right behavior function that maps state to action\n",
    "        * Act by sampling policy, exploration already included\n",
    "10. Taxonomy by OpenAI\n",
    "    * Is this needed?\n",
    "    \n",
    "TODO:\n",
    "DQN oder A2C\n",
    "+ Daran gebundene Challenge"
   ]
  },
  {
   "cell_type": "markdown",
   "id": "protected-bikini",
   "metadata": {
    "slideshow": {
     "slide_type": "slide"
    }
   },
   "source": [
    "# Grid World\n",
    "***"
   ]
  },
  {
   "cell_type": "code",
   "execution_count": null,
   "id": "cardiovascular-oriental",
   "metadata": {},
   "outputs": [],
   "source": []
  },
  {
   "cell_type": "code",
   "execution_count": 13,
   "id": "global-portal",
   "metadata": {},
   "outputs": [
    {
     "name": "stdout",
     "output_type": "stream",
     "text": [
      "1 0.505 (0.4454901960784314, 0.7640138408304499, 0.4581314878892734, 1.0)\n",
      "-100 1.0 (0.403921568627451, 0.0, 0.05098039215686274, 1.0)\n",
      "-4 0.52 (0.9761937716262975, 0.3838831218762015, 0.2698961937716263, 1.0)\n"
     ]
    },
    {
     "data": {
      "image/png": "[encoded data removed]",
      "text/plain": [
       "<Figure size 1008x504 with 1 Axes>"
      ]
     },
     "metadata": {},
     "output_type": "display_data"
    }
   ],
   "source": [
    "w=8; h=4; rho=0.7; step_reward=0.04;\n",
    "\n",
    "actions = np.array([\n",
    "    [-1,0], # UP\n",
    "    [1,0], # DOWN \n",
    "    [0,-1], # Left\n",
    "    [0,1], # Right\n",
    "])\n",
    "cell_rewards={\n",
    "    (0,3): 1,\n",
    "    (1,3): -100,\n",
    "    #(1,6): 1,\n",
    "    (2,0): -4,\n",
    "}\n",
    "terminal_states=[\n",
    "    [0,3],\n",
    "    [1,3],\n",
    "]\n",
    "blocked=[\n",
    "    [0,5],\n",
    "    [1,5],\n",
    "    [2,5],\n",
    "    [0,6],\n",
    "    [1,6],\n",
    "    [2,6],\n",
    "    [0,7],\n",
    "    [1,7],\n",
    "    [2,7],\n",
    "]\n",
    "\n",
    "gw  = Gridworld(w=w, h=h, rho=rho, step_reward=step_reward,\n",
    "                cell_rewards=cell_rewards, actions=actions,\n",
    "                terminal_states=terminal_states, blocked_cells=blocked)\n",
    "gw.plot(height=7)"
   ]
  },
  {
   "cell_type": "code",
   "execution_count": 17,
   "id": "asian-assumption",
   "metadata": {
    "scrolled": false,
    "slideshow": {
     "slide_type": "slide"
    }
   },
   "outputs": [
    {
     "name": "stdout",
     "output_type": "stream",
     "text": [
      "  Iteration\t\tNumber of different actions\n",
      "    1\t\t  12\n",
      "    2\t\t  6\n",
      "    3\t\t  7\n",
      "    4\t\t  5\n",
      "    5\t\t  3\n",
      "    6\t\t  1\n",
      "    7\t\t  0\n",
      "Iterating stopped, unchanging policy found.\n",
      "(1, 1, 2, 0, 1, 0, 0, 0, 3, 1, 1, 0, 1, 0, 0, 0, 1, 1, 1, 1, 1, 0, 0, 0, 3, 3, 3, 3, 3, 3, 3, 0)\n",
      "1 0.505 (0.4454901960784314, 0.7640138408304499, 0.4581314878892734, 1.0)\n",
      "-100 1.0 (0.403921568627451, 0.0, 0.05098039215686274, 1.0)\n",
      "-4 0.52 (0.9761937716262975, 0.3838831218762015, 0.2698961937716263, 1.0)\n"
     ]
    },
    {
     "data": {
      "image/png": "[encoded data removed]",
      "text/plain": [
       "<Figure size 1008x504 with 1 Axes>"
      ]
     },
     "metadata": {},
     "output_type": "display_data"
    },
    {
     "data": {
      "text/plain": [
       "(31.116759255885647,\n",
       " 30.808753403933032,\n",
       " 26.08306570040627,\n",
       " 1.4758520067390301e-12,\n",
       " 14.53289844929299,\n",
       " 39.99999910593029,\n",
       " 39.99999910593029,\n",
       " 39.99999910593029,\n",
       " 31.14805737857597,\n",
       " 31.426707664649914,\n",
       " 17.946010834113928,\n",
       " 1.639438441625813e-13,\n",
       " 16.429608902933595,\n",
       " 39.99999910593029,\n",
       " 39.99999910593029,\n",
       " 39.99999910593029,\n",
       " 33.14420193634888,\n",
       " 33.468348442260506,\n",
       " 31.689955324683943,\n",
       " 21.26212471825277,\n",
       " 33.31396368831372,\n",
       " 39.99999910593029,\n",
       " 39.99999910593029,\n",
       " 39.99999910593029,\n",
       " 33.94525591968283,\n",
       " 34.62303487733042,\n",
       " 34.87712695792741,\n",
       " 35.361410732201314,\n",
       " 37.438145099583835,\n",
       " 38.32032718263086,\n",
       " 38.44395167309527,\n",
       " 38.459387574247486)"
      ]
     },
     "execution_count": 17,
     "metadata": {},
     "output_type": "execute_result"
    }
   ],
   "source": [
    "#vi = mdp.ValueIteration(gw.p, gw.r, 0.9, max_iter=1e5)\n",
    "vi = mdp.PolicyIteration(gw.p, gw.r, 0.999)\n",
    "vi.setVerbose()\n",
    "vi.run()\n",
    "print(vi.policy)\n",
    "gw.plot(policy=vi.policy, height=7)\n",
    "vi.V"
   ]
  },
  {
   "cell_type": "markdown",
   "id": "sunset-circulation",
   "metadata": {
    "slideshow": {
     "slide_type": "slide"
    }
   },
   "source": [
    "# OpenAI Gym\n",
    "***"
   ]
  },
  {
   "cell_type": "code",
   "execution_count": 14,
   "id": "apparent-grenada",
   "metadata": {
    "scrolled": true
   },
   "outputs": [
    {
     "name": "stderr",
     "output_type": "stream",
     "text": [
      "c:\\users\\nikla\\workspace\\jupyter-notebooks\\env\\lib\\site-packages\\gym\\logger.py:30: UserWarning: \u001b[33mWARN: Box bound precision lowered by casting to float32\u001b[0m\n",
      "  warnings.warn(colorize('%s: %s'%('WARN', msg % args), 'yellow'))\n"
     ]
    },
    {
     "data": {
      "text/html": [
       "\n",
       "            <video alt=\"test\" controls>\n",
       "            <source src=\"data:video/mp4;base64,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\" type=\"video/mp4\" />\n",
       "            </video>\n",
       "            "
      ],
      "text/plain": [
       "<IPython.core.display.HTML object>"
      ]
     },
     "metadata": {},
     "output_type": "display_data"
    }
   ],
   "source": [
    "env = gym.make(\"BipedalWalker-v3\")\n",
    "model = lambda state: env.action_space.sample()\n",
    "mon = make_video(env, model, max_steps=100)\n",
    "mon.close()"
   ]
  },
  {
   "cell_type": "code",
   "execution_count": null,
   "id": "correct-cholesterol",
   "metadata": {},
   "outputs": [],
   "source": []
  }
 ],
 "metadata": {
  "celltoolbar": "Slideshow",
  "kernelspec": {
   "display_name": "Python 3",
   "language": "python",
   "name": "python3"
  },
  "language_info": {
   "codemirror_mode": {
    "name": "ipython",
    "version": 3
   },
   "file_extension": ".py",
   "mimetype": "text/x-python",
   "name": "python",
   "nbconvert_exporter": "python",
   "pygments_lexer": "ipython3",
   "version": "3.8.3"
  },
  "rise": {
   "auto_select": "none",
   "enable_chalkboard": true,
   "overlay": "<div class='myheader'><img src='img/ai_camp.png' class='ifis_small'></div><div class='ifis_large'><img src='img/ifis_large.png'></div>",
   "scroll": true,
   "start_slideshow_at": "selected"
  }
 },
 "nbformat": 4,
 "nbformat_minor": 5
}
