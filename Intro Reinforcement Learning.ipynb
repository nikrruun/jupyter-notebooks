{
 "cells": [
  {
   "cell_type": "markdown",
   "id": "offensive-airport",
   "metadata": {
    "slideshow": {
     "slide_type": "slide"
    }
   },
   "source": [
    "# An introduction to Deep Reinforcement Learning"
   ]
  },
  {
   "cell_type": "markdown",
   "id": "golden-drinking",
   "metadata": {
    "slideshow": {
     "slide_type": "slide"
    }
   },
   "source": [
    "# Agenda\n",
    "***\n",
    "1. What is Deep RL?\n",
    "    * Deep Learning vs Deep Reinforcement Learning\n",
    "2. Types of learning\n",
    "    * Supervised vs unsupervised vs RL\n",
    "    * RL in Humans, why are we so good?\n",
    "3. Reinforcement Learning Framework\n",
    "    * Agent, Action, State, Reward\n",
    "4. Environments & Actions\n",
    "    * Observability, Single VS Multi Agent, Deterministic/Stochastic, Static/Dynamic, Discrete/Continuous\n",
    "5. RL in the real world\n",
    "    * Two open problems:\n",
    "        * Make better simulations\n",
    "        * Make algorithms that generalize better from simulation to real world\n",
    "6. Components of an RL agent\n",
    "    * Policy, the behavior function, probability of taking $a_t$ when in state $s_t$\n",
    "    * Value function, how good is each state/action in terms of expected future reward\n",
    "        * $V_\\pi(s)=E\\left[\\sum_{t=0}^{\\infty}\\gamma^t r_t\\mid s_0 = s\\right]$\n",
    "    * Model, agent's representation of the environment\n",
    "7. Meaning of Life: Maximize Reward\n",
    "    * Future reward, discounted reward\n",
    "8. Robot in a room/Gridworld:\n",
    "    * Example to show the impact of reward structure and environment on the optimal policy\n",
    "    * **TODO: Do we need code here?**\n",
    "        * I am afraid we do!\n",
    "9. Types of RL (several ways to taxonomize exist!)\n",
    "    * Model-based\n",
    "        * learn a model of the world through interaction, then plan ahead using the model\n",
    "    * Value-based (off policy)\n",
    "        * Learn the values for states or states/actions\n",
    "            * Constantly update how good it is to take action $a$ in state $s$\n",
    "            * Act by choosing the best action in state. Exploration is needed!\n",
    "    * Policy-based\n",
    "        * Learning the right behavior function that maps state to action\n",
    "        * Act by sampling policy, exploration already included\n",
    "10. Taxonomy by OpenAI\n",
    "    * Is this needed?"
   ]
  },
  {
   "cell_type": "markdown",
   "id": "protected-bikini",
   "metadata": {
    "slideshow": {
     "slide_type": "slide"
    }
   },
   "source": [
    "# Grid World\n",
    "***\n",
    "Install a library that will help us solve the underlying Markov Decision Processes"
   ]
  },
  {
   "cell_type": "code",
   "execution_count": 5,
   "id": "failing-florence",
   "metadata": {
    "slideshow": {
     "slide_type": "fragment"
    }
   },
   "outputs": [
    {
     "name": "stdout",
     "output_type": "stream",
     "text": [
      "Requirement already satisfied: pymdptoolbox in c:\\users\\nikla\\workspace\\jupyter-notebooks\\env\\lib\\site-packages (4.0b3)\n",
      "Requirement already satisfied: numpy in c:\\users\\nikla\\workspace\\jupyter-notebooks\\env\\lib\\site-packages (from pymdptoolbox) (1.18.5)\n",
      "Requirement already satisfied: scipy in c:\\users\\nikla\\workspace\\jupyter-notebooks\\env\\lib\\site-packages (from pymdptoolbox) (1.4.1)Note: you may need to restart the kernel to use updated packages.\n",
      "\n"
     ]
    },
    {
     "name": "stderr",
     "output_type": "stream",
     "text": [
      "WARNING: You are using pip version 21.0.1; however, version 21.1 is available.\n",
      "You should consider upgrading via the 'c:\\users\\nikla\\workspace\\jupyter-notebooks\\env\\scripts\\python.exe -m pip install --upgrade pip' command.\n"
     ]
    }
   ],
   "source": [
    "%pip install pymdptoolbox"
   ]
  },
  {
   "cell_type": "code",
   "execution_count": 1,
   "id": "placed-example",
   "metadata": {
    "slideshow": {
     "slide_type": "subslide"
    }
   },
   "outputs": [],
   "source": [
    "import numpy as np\n",
    "import matplotlib.pyplot as plt\n",
    "from matplotlib import patches\n",
    "from mdptoolbox import mdp"
   ]
  },
  {
   "cell_type": "code",
   "execution_count": 195,
   "id": "unusual-position",
   "metadata": {},
   "outputs": [],
   "source": [
    "class Gridworld():\n",
    "    def __init__(self, actions, w=4, h=3, rho=1.0, step_reward=0.0, cell_rewards={},\n",
    "               terminal_states=[], blocked_cells=[]):\n",
    "        self.actions = actions\n",
    "        self.w, self.h = w, h\n",
    "        self.rho = rho\n",
    "        self.step_reward = step_reward\n",
    "        self.cell_rewards = cell_rewards\n",
    "        self.terminal_states = {tuple(x) for x in terminal_states}\n",
    "        self.blocked_cells = {tuple(x) for x in blocked_cells}\n",
    "\n",
    "        self.grid = np.zeros((h,w))\n",
    "        self.states = np.array([[i,j] for i in range(h) for j in range(w)])\n",
    "        self.num_states = w*h\n",
    "        self.num_actions = len(actions)\n",
    "        self.p = np.zeros((self.num_actions, self.num_states, self.num_states), \"float32\")\n",
    "        self.r = np.zeros((self.num_actions, self.num_states, self.num_states), \"float32\")\n",
    "        self._fill_p()\n",
    "        self._fill_r()\n",
    "\n",
    "    def _fill_p(self):\n",
    "        # computing transition matrix:\n",
    "        for a in range(self.num_actions):\n",
    "            for i in range(self.num_states):\n",
    "                # simulate performing action a_ in state i\n",
    "                # action a is performed with prob. rho,\n",
    "                # with prob. 1-rho, any other action is chosen,\n",
    "                # which results in prob. (1-rho)/(num_moves-1) for\n",
    "                # a specific action a_ != a\n",
    "                for a_ in range(self.num_actions):\n",
    "                    rh, rw = self.simulate_move(self.actions[a_], self.states[i])\n",
    "                    j_ = rh*self.w + rw\n",
    "                    prob = self.rho if a == a_ else (1-self.rho)/(self.num_actions-1)\n",
    "                    self.p[a, i, j_] += prob\n",
    "                # due to numerical inaccuracies, we need to ensure that each row\n",
    "                # adds up to exactly 1, not 0.999995, because the solvers\n",
    "                # really dont seem to like that\n",
    "                row_sum = self.p[a,i].sum()\n",
    "                if row_sum != 1:\n",
    "                    if not np.allclose(row_sum,1, rtol=1e-5, atol=1e-5):\n",
    "                        raise ValueError(f\"Probability error at action{a}, state {i}\"\n",
    "                                         f\" with prob. {row_sum}\")\n",
    "                    self.p[a,i] /= row_sum\n",
    "        return\n",
    "        # make sure we can't ever leave terminal states\n",
    "        for (i,j) in self.terminal_states:\n",
    "            # transition probability from state (i,j) to any other state \n",
    "            # must be zero, but one for (i,j)\n",
    "            index = i*self.w+j\n",
    "            self.p[:,index,:] = 0\n",
    "            self.p[:, index, index] = 1\n",
    "\n",
    "    def _fill_r(self):\n",
    "        # transitions always give step_reward\n",
    "        self.r.fill(self.step_reward)\n",
    "\n",
    "        # ending on a rewarded cell gives the corresponding reward\n",
    "        for (i,j), reward in self.cell_rewards.items():\n",
    "            self.r[:,:, i*self.w+j] += reward\n",
    "\n",
    "        # terminal cells do not give ANY reward after having reached them\n",
    "        for (i,j) in self.terminal_states:\n",
    "            k = i*self.w+j\n",
    "            self.r[:, k, :] = 0\n",
    "\n",
    "    def simulate_move(self, move, state):\n",
    "        if self._is_blocked(state): return state\n",
    "        if self._is_terminal(state): \n",
    "            return state\n",
    "        nm = np.clip(np.array(move)+np.array(state), 0, (self.h-1, self.w-1))\n",
    "        if self._is_blocked(nm):\n",
    "            return state\n",
    "        return nm\n",
    "\n",
    "    def _is_blocked(self, cy, cx=None):\n",
    "        # cx: position along grid width\n",
    "        if cx is None:\n",
    "            cy, cx = cy\n",
    "        return (cy, cx) in self.blocked_cells\n",
    "\n",
    "    def _is_terminal(self, cy, cx=None):\n",
    "        if cx is None:\n",
    "            cy, cx = cy\n",
    "        return (cy, cx) in self.terminal_states\n",
    "    \n",
    "    def _plot_policy(self, policy):\n",
    "        a_l = 0.6 # arrow length\n",
    "        for (i,j), a in list(zip(self.states, policy)):\n",
    "            if self._is_terminal(i,j) or self._is_blocked(i,j): continue\n",
    "           \n",
    "            dh, dw = self.actions[a]\n",
    "            if dh == -1:\n",
    "                y_off = 1 - (1-a_l)/2.\n",
    "                x_off = 0.5\n",
    "            elif dh == 0:\n",
    "                y_off = 0.5\n",
    "                if dw == -1:\n",
    "                    x_off = 1 - (1-a_l)/2.0\n",
    "                elif dw == 1:\n",
    "                    x_off = (1-a_l)/2.0\n",
    "                else: raise ValueError(\"Invalid action to plot!\")\n",
    "            elif dh == 1:\n",
    "                y_off = (1-a_l)/2.0\n",
    "                x_off = 0.5\n",
    "            else: raise ValueError(\"Invalid action to plot\")\n",
    "            plt.arrow(j+x_off, i+y_off, dw*a_l, dh*a_l, width=0.1, \n",
    "                      head_width=0.4, head_length=0.6*0.35, fc=\"k\", ec=\"k\",\n",
    "                      length_includes_head=True, linewidth=0, overhang=0.3, \n",
    "                      zorder=10)\n",
    "        return\n",
    "\n",
    "    def _plot_terminal_states(self):\n",
    "        for (i,j) in self.terminal_states:\n",
    "            c = plt.Circle((j+0.5,i+0.5), radius=0.3, fill=False, ec=\"black\",\n",
    "                          lw=3, zorder=6)\n",
    "            plt.gca().add_patch(c)\n",
    "\n",
    "    def _plot_blocked_cells(self):\n",
    "        for (i,j) in self.blocked_cells:\n",
    "            rect = patches.Rectangle((j,i),1,1, zorder=1, color=(1,219/255,147/255))\n",
    "            plt.gca().add_patch(rect)        \n",
    "            \n",
    "    def _plot_rewards(self, resize_factor):\n",
    "        \n",
    "        neg_cm = plt.get_cmap(\"Reds\")\n",
    "        pos_cm = plt.get_cmap(\"Greens\")\n",
    "        rmax = max(abs(x) for x in self.cell_rewards.values())\n",
    "        rmin = -rmax\n",
    "        print(\"RMIN,MAX\", rmin, rmax)\n",
    "        for (i,j), r in self.cell_rewards.items():\n",
    "            plt.text(j+0.05,i+0.95, f\"{r:.1f}\", zorder=10, weight=\"bold\",\n",
    "                    size=8*resize_factor)\n",
    "            # to get the right color, we normalize to 0,255\n",
    "            r_norm = 1.0 * (r-rmin)/(rmax-rmin)\n",
    "            cm = pos_cm\n",
    "            if r < 0:\n",
    "                r_norm = 1.0 - r_norm\n",
    "                cm = neg_cm\n",
    "            col = cm(r_norm)\n",
    "            print(r, r_norm, col)\n",
    "            rect = patches.Rectangle((j,i),1,1, zorder=1, color=col)\n",
    "            plt.gca().add_patch(rect)   \n",
    "            \n",
    "    def plot(self, policy=None, start=None, height=None, width=None):\n",
    "        if height is None and width is None:\n",
    "            height = self.h\n",
    "            width = self.w\n",
    "        if height is None:\n",
    "            height = self.h*(width/self.w)\n",
    "        if width is None:\n",
    "            width = self.w*(height/self.h)\n",
    "        rf = height/self.h\n",
    "        fig, ax = plt.subplots(figsize=(width, height))\n",
    "        if policy is not None:\n",
    "            self._plot_policy(policy)\n",
    "        self._plot_terminal_states()\n",
    "        self._plot_blocked_cells()\n",
    "        self._plot_rewards(rf)\n",
    "        ax.grid(zorder=10, lw=1)\n",
    "        \n",
    "\n",
    "        plt.xlim(0, self.w)\n",
    "        plt.ylim(0, self.h)\n",
    "        plt.tick_params(axis='both', which='both', bottom=False, top=False, \n",
    "                        labelbottom=False, right=False, left=False, labelleft=False)\n",
    "        plt.xticks(range(self.w))\n",
    "        plt.yticks(range(self.h))\n",
    "        ax.invert_yaxis()\n",
    "        plt.title(\"Grid world\")\n",
    "        plt.show()"
   ]
  },
  {
   "cell_type": "code",
   "execution_count": null,
   "id": "cardiovascular-oriental",
   "metadata": {},
   "outputs": [],
   "source": []
  },
  {
   "cell_type": "code",
   "execution_count": 197,
   "id": "global-portal",
   "metadata": {},
   "outputs": [
    {
     "name": "stdout",
     "output_type": "stream",
     "text": [
      "RMIN,MAX -100 100\n",
      "1 0.505 (0.4454901960784314, 0.7640138408304499, 0.4581314878892734, 1.0)\n",
      "-100 1.0 (0.403921568627451, 0.0, 0.05098039215686274, 1.0)\n",
      "-4 0.52 (0.9761937716262975, 0.3838831218762015, 0.2698961937716263, 1.0)\n"
     ]
    },
    {
     "data": {
      "image/png": "[encoded data removed]",
      "text/plain": [
       "<Figure size 576x288 with 1 Axes>"
      ]
     },
     "metadata": {},
     "output_type": "display_data"
    }
   ],
   "source": [
    "w=8; h=4; rho=0.9; step_reward=-0.04;\n",
    "\n",
    "actions = np.array([\n",
    "    [-1,0], # UP\n",
    "    [1,0], # DOWN \n",
    "    [0,-1], # Left\n",
    "    [0,1], # Right\n",
    "])\n",
    "cell_rewards={\n",
    "    (0,3): 1,\n",
    "    (1,3): -100,\n",
    "    #(1,6): 1,\n",
    "    (2,0): -4,\n",
    "}\n",
    "terminal_states=[\n",
    "    [0,3],\n",
    "    [1,3],\n",
    "]\n",
    "blocked=[\n",
    "    [0,5],\n",
    "    [1,5],\n",
    "    [2,5],\n",
    "    [0,6],\n",
    "    [1,6],\n",
    "    [2,6],\n",
    "    [0,7],\n",
    "    [1,7],\n",
    "    [2,7],\n",
    "]\n",
    "\n",
    "gw  = Gridworld(w=w, h=h, rho=rho, step_reward=step_reward,\n",
    "                cell_rewards=cell_rewards, actions=actions,\n",
    "                terminal_states=terminal_states, blocked_cells=blocked)\n",
    "gw.plot()"
   ]
  },
  {
   "cell_type": "code",
   "execution_count": 198,
   "id": "asian-assumption",
   "metadata": {
    "scrolled": false
   },
   "outputs": [
    {
     "name": "stdout",
     "output_type": "stream",
     "text": [
      "  Iteration\t\tNumber of different actions\n",
      "    1\t\t  12\n",
      "    2\t\t  4\n",
      "    3\t\t  0\n",
      "Iterating stopped, unchanging policy found.\n",
      "(3, 3, 3, 0, 2, 0, 0, 0, 0, 0, 0, 0, 0, 0, 0, 0, 0, 0, 2, 2, 1, 0, 0, 0, 3, 0, 2, 2, 2, 2, 2, 2)\n",
      "RMIN,MAX -100 100\n",
      "1 0.505 (0.4454901960784314, 0.7640138408304499, 0.4581314878892734, 1.0)\n",
      "-100 1.0 (0.403921568627451, 0.0, 0.05098039215686274, 1.0)\n",
      "-4 0.52 (0.9761937716262975, 0.3838831218762015, 0.2698961937716263, 1.0)\n"
     ]
    },
    {
     "data": {
      "image/png": "[encoded data removed]",
      "text/plain": [
       "<Figure size 1008x504 with 1 Axes>"
      ]
     },
     "metadata": {},
     "output_type": "display_data"
    },
    {
     "data": {
      "text/plain": [
       "(0.720095589649923,\n",
       " 0.7727132104520876,\n",
       " 0.8264676052481464,\n",
       " 8.64371190996793e-16,\n",
       " 0.8239661584451947,\n",
       " -39.99999910593029,\n",
       " -39.99999910593029,\n",
       " -39.99999910593029,\n",
       " 0.5222459448639085,\n",
       " 0.5983684290997129,\n",
       " -2.606158224213031,\n",
       " -2.922767491088503e-14,\n",
       " -2.7300282440966126,\n",
       " -39.99999910593029,\n",
       " -39.99999910593029,\n",
       " -39.99999910593029,\n",
       " 0.3250712684250275,\n",
       " 0.390879307367402,\n",
       " 0.12530197535795284,\n",
       " -3.2636723612100216,\n",
       " -0.19857535628154988,\n",
       " -39.99999910593029,\n",
       " -39.99999910593029,\n",
       " -39.99999910593029,\n",
       " 0.150513909893223,\n",
       " 0.33700161176474674,\n",
       " 0.2801131147820174,\n",
       " 0.1085480295104331,\n",
       " 0.05297235497861965,\n",
       " 0.006768874523222113,\n",
       " -0.03932061468158522,\n",
       " -0.08371643478972006)"
      ]
     },
     "execution_count": 198,
     "metadata": {},
     "output_type": "execute_result"
    }
   ],
   "source": [
    "#vi = mdp.ValueIteration(gw.p, gw.r, 0.9, max_iter=1e5)\n",
    "vi = mdp.PolicyIteration(gw.p, gw.r, 0.999)\n",
    "vi.setVerbose()\n",
    "vi.run()\n",
    "print(vi.policy)\n",
    "gw.plot(policy=vi.policy, height=7)\n",
    "vi.V"
   ]
  },
  {
   "cell_type": "code",
   "execution_count": 43,
   "id": "becoming-dakota",
   "metadata": {
    "scrolled": true
   },
   "outputs": [
    {
     "data": {
      "text/plain": [
       "<matplotlib.image.AxesImage at 0x1c5a6665fd0>"
      ]
     },
     "execution_count": 43,
     "metadata": {},
     "output_type": "execute_result"
    },
    {
     "data": {
      "image/png": "[encoded data removed]",
      "text/plain": [
       "<Figure size 432x288 with 1 Axes>"
      ]
     },
     "metadata": {
      "needs_background": "light"
     },
     "output_type": "display_data"
    }
   ],
   "source": [
    "plt.imshow(np.tile(np.linspace(0,255,255),(60,1)), cmap=\"RdYlGn\")"
   ]
  },
  {
   "cell_type": "code",
   "execution_count": null,
   "id": "boxed-charge",
   "metadata": {},
   "outputs": [],
   "source": []
  }
 ],
 "metadata": {
  "celltoolbar": "Slideshow",
  "kernelspec": {
   "display_name": "Python 3",
   "language": "python",
   "name": "python3"
  },
  "language_info": {
   "codemirror_mode": {
    "name": "ipython",
    "version": 3
   },
   "file_extension": ".py",
   "mimetype": "text/x-python",
   "name": "python",
   "nbconvert_exporter": "python",
   "pygments_lexer": "ipython3",
   "version": "3.8.3"
  },
  "rise": {
   "auto_select": "none",
   "enable_chalkboard": true,
   "overlay": "<div class='myheader'><img src='img/ai_camp.png' class='ifis_small'></div><div class='ifis_large'><img src='img/ifis_large.png'></div>",
   "scroll": true,
   "start_slideshow_at": "selected"
  }
 },
 "nbformat": 4,
 "nbformat_minor": 5
}
