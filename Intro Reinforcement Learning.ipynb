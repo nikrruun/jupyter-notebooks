{
 "cells": [
  {
   "cell_type": "markdown",
   "id": "initial-champion",
   "metadata": {
    "slideshow": {
     "slide_type": "skip"
    }
   },
   "source": [
    "# Setup START\n",
    "***\n",
    "Skipped in slideshow mode, run manually before!\n",
    "\n",
    "Ideally, the code would be placed with their corresponding content slides.\\\n",
    "Unfortunately, RISE slideshow mode will not execute SKIP slides and there is no other way to hide them."
   ]
  },
  {
   "cell_type": "code",
   "execution_count": 1,
   "id": "simplified-pitch",
   "metadata": {
    "slideshow": {
     "slide_type": "skip"
    }
   },
   "outputs": [
    {
     "name": "stdout",
     "output_type": "stream",
     "text": [
      "Requirement already satisfied: pip in c:\\users\\nikla\\workspace\\jupyter-notebooks\\env\\lib\\site-packages (21.1.1)\n",
      "Note: you may need to restart the kernel to use updated packages.\n",
      "Requirement already satisfied: cmake in c:\\users\\nikla\\workspace\\jupyter-notebooks\\env\\lib\\site-packages (3.18.4.post1)\n",
      "Note: you may need to restart the kernel to use updated packages.\n",
      "Requirement already satisfied: atari_py in c:\\users\\nikla\\workspace\\jupyter-notebooks\\env\\lib\\site-packages (0.2.6)\n",
      "Requirement already satisfied: numpy in c:\\users\\nikla\\workspace\\jupyter-notebooks\\env\\lib\\site-packages (from atari_py) (1.18.5)\n",
      "Requirement already satisfied: six in c:\\users\\nikla\\workspace\\jupyter-notebooks\\env\\lib\\site-packages (from atari_py) (1.15.0)\n",
      "Note: you may need to restart the kernel to use updated packages.\n",
      "Requirement already satisfied: gym[box2d]==0.17.3 in c:\\users\\nikla\\workspace\\jupyter-notebooks\\env\\lib\\site-packages (0.17.3)\n",
      "Requirement already satisfied: scipy in c:\\users\\nikla\\workspace\\jupyter-notebooks\\env\\lib\\site-packages (from gym[box2d]==0.17.3) (1.4.1)\n",
      "Requirement already satisfied: pyglet<=1.5.0,>=1.4.0 in c:\\users\\nikla\\workspace\\jupyter-notebooks\\env\\lib\\site-packages (from gym[box2d]==0.17.3) (1.5.0)\n",
      "Requirement already satisfied: numpy>=1.10.4 in c:\\users\\nikla\\workspace\\jupyter-notebooks\\env\\lib\\site-packages (from gym[box2d]==0.17.3) (1.18.5)\n",
      "Requirement already satisfied: cloudpickle<1.7.0,>=1.2.0 in c:\\users\\nikla\\workspace\\jupyter-notebooks\\env\\lib\\site-packages (from gym[box2d]==0.17.3) (1.3.0)\n",
      "Requirement already satisfied: box2d-py~=2.3.5 in c:\\users\\nikla\\workspace\\jupyter-notebooks\\env\\lib\\site-packages (from gym[box2d]==0.17.3) (2.3.8)\n",
      "Requirement already satisfied: future in c:\\users\\nikla\\workspace\\jupyter-notebooks\\env\\lib\\site-packages (from pyglet<=1.5.0,>=1.4.0->gym[box2d]==0.17.3) (0.18.2)\n",
      "Note: you may need to restart the kernel to use updated packages.\n",
      "Requirement already satisfied: pyvirtualdisplay in c:\\users\\nikla\\workspace\\jupyter-notebooks\\env\\lib\\site-packages (2.1)\n",
      "Requirement already satisfied: EasyProcess in c:\\users\\nikla\\workspace\\jupyter-notebooks\\env\\lib\\site-packages (from pyvirtualdisplay) (0.3)\n",
      "Note: you may need to restart the kernel to use updated packages.\n",
      "Requirement already satisfied: tqdm in c:\\users\\nikla\\workspace\\jupyter-notebooks\\env\\lib\\site-packages (4.60.0)\n",
      "Note: you may need to restart the kernel to use updated packages.\n",
      "Requirement already satisfied: pymdptoolbox in c:\\users\\nikla\\workspace\\jupyter-notebooks\\env\\lib\\site-packages (4.0b3)\n",
      "Requirement already satisfied: numpy in c:\\users\\nikla\\workspace\\jupyter-notebooks\\env\\lib\\site-packages (from pymdptoolbox) (1.18.5)\n",
      "Requirement already satisfied: scipy in c:\\users\\nikla\\workspace\\jupyter-notebooks\\env\\lib\\site-packages (from pymdptoolbox) (1.4.1)\n",
      "Note: you may need to restart the kernel to use updated packages.\n"
     ]
    }
   ],
   "source": [
    "%pip install --upgrade pip\n",
    "# OpenAI Gym related:\n",
    "%pip install cmake\n",
    "%pip install atari_py \n",
    "'''OpenAI devs actually messed up an indentation\n",
    "    in the video recorder class in 0.18.x.\n",
    "    If you want to see videos, wait for a patch or\n",
    "    use 0.17.x.\n",
    "'''\n",
    "%pip install gym[box2d]==0.17.3\n",
    "%pip install pyvirtualdisplay\n",
    "%pip install tqdm\n",
    "\n",
    "# Gridworld related:\n",
    "%pip install pymdptoolbox"
   ]
  },
  {
   "cell_type": "code",
   "execution_count": 2,
   "id": "musical-bubble",
   "metadata": {
    "slideshow": {
     "slide_type": "skip"
    }
   },
   "outputs": [],
   "source": [
    "try:\n",
    "    import google.colab\n",
    "    IN_COLAB = True\n",
    "except:\n",
    "    IN_COLAB = False\n",
    "\n",
    "if IN_COLAB:\n",
    "    !apt-get install -y xvfb python-opengl > /dev/null 2>&1"
   ]
  },
  {
   "cell_type": "markdown",
   "id": "together-structure",
   "metadata": {
    "slideshow": {
     "slide_type": "skip"
    }
   },
   "source": [
    "### Setup: OpenAI Gym"
   ]
  },
  {
   "cell_type": "code",
   "execution_count": 3,
   "id": "later-negative",
   "metadata": {
    "slideshow": {
     "slide_type": "skip"
    }
   },
   "outputs": [],
   "source": [
    "from IPython import display\n",
    "import numpy as np\n",
    "import base64\n",
    "import io\n",
    "import gym\n",
    "from tqdm import tqdm\n",
    "from gym.wrappers import Monitor\n",
    "\n",
    "if IN_COLAB:\n",
    "    from pyvirtualdisplay import Display\n",
    "    d = Display()\n",
    "    d.start()\n",
    "\n",
    "'''\n",
    "Below is a solution to record and display videos for\n",
    "OpenAI Gym environments.\n",
    "Why the hassle?\n",
    "    It works both in Jupyter Notebook and Google Colab!\n",
    "(The author would like to note how painful it has been\n",
    "developing this)\n",
    "'''    \n",
    "\n",
    "def display_video_from_monitor(monitor):\n",
    "    '''\n",
    "    Converts all videos in a monitor to HTML videos\n",
    "    '''\n",
    "    if len(monitor.videos) == 0:\n",
    "        print(\"No videos to render!\")\n",
    "        return\n",
    "    for f in monitor.videos:\n",
    "        video = io.open(f[0], 'r+b').read()\n",
    "        encoded = base64.b64encode(video)\n",
    "\n",
    "        display.display(display.HTML(data=\"\"\"\n",
    "            <video alt=\"test\" controls>\n",
    "            <source src=\"data:video/mp4;base64,{0}\" type=\"video/mp4\" />\n",
    "            </video>\n",
    "            \"\"\".format(encoded.decode('ascii'))))\n",
    "    return\n",
    "\n",
    "def make_video(env, model, max_steps=None):\n",
    "    mon = Monitor(env, \"/data/videos/\", force=True)\n",
    "    state = mon.reset()\n",
    "    i = 0\n",
    "    while True:\n",
    "        action = model(state)\n",
    "        state, r, d, _ = mon.step(action)\n",
    "        if d: break\n",
    "        i+=1\n",
    "        if max_steps is not None and i>=max_steps: break\n",
    "    if mon.stats_recorder.done == False:    \n",
    "        mon.stats_recorder.save_complete()\n",
    "        mon.stats_recorder.done = True\n",
    "    mon.reset()\n",
    "    display_video_from_monitor(mon)\n",
    "    return mon"
   ]
  },
  {
   "cell_type": "markdown",
   "id": "wound-paste",
   "metadata": {
    "slideshow": {
     "slide_type": "skip"
    }
   },
   "source": [
    "### Setup: Grid World"
   ]
  },
  {
   "cell_type": "code",
   "execution_count": 70,
   "id": "unusual-position",
   "metadata": {
    "slideshow": {
     "slide_type": "skip"
    }
   },
   "outputs": [],
   "source": [
    "import numpy as np\n",
    "import matplotlib.pyplot as plt\n",
    "from matplotlib import patches\n",
    "from mdptoolbox import mdp\n",
    "\n",
    "class Gridworld():\n",
    "    def __init__(self, actions, w=4, h=3, rho=1.0, step_reward=0.0, cell_rewards={},\n",
    "               terminal_states=[], blocked_cells=[]):\n",
    "        self.actions = actions\n",
    "        self.w, self.h = w, h\n",
    "        self.rho = rho\n",
    "        self.step_reward = step_reward\n",
    "        self.cell_rewards = cell_rewards\n",
    "        self.terminal_states = {tuple(x) for x in terminal_states}\n",
    "        self.blocked_cells = {tuple(x) for x in blocked_cells}\n",
    "\n",
    "        self.grid = np.zeros((h,w))\n",
    "        self.states = np.array([[i,j] for i in range(h) for j in range(w)])\n",
    "        self.num_states = w*h\n",
    "        self.num_actions = len(actions)\n",
    "        self.p = np.zeros((self.num_actions, self.num_states, self.num_states), \"float32\")\n",
    "        self.r = np.zeros((self.num_actions, self.num_states, self.num_states), \"float32\")\n",
    "        self._fill_p()\n",
    "        self._fill_r()\n",
    "\n",
    "    def _fill_p(self):\n",
    "        # computing transition matrix:\n",
    "        for a in range(self.num_actions):\n",
    "            for i in range(self.num_states):\n",
    "                # simulate performing action a_ in state i\n",
    "                # action a is performed with prob. rho,\n",
    "                # with prob. 1-rho, any other action is chosen,\n",
    "                # which results in prob. (1-rho)/(num_moves-1) for\n",
    "                # a specific action a_ != a\n",
    "                for a_ in range(self.num_actions):\n",
    "                    rh, rw = self.simulate_move(self.actions[a_], self.states[i])\n",
    "                    j_ = rh*self.w + rw\n",
    "                    prob = self.rho if a == a_ else (1-self.rho)/(self.num_actions-1)\n",
    "                    self.p[a, i, j_] += prob\n",
    "                # due to numerical inaccuracies, we need to ensure that each row\n",
    "                # adds up to exactly 1, not 0.999995, because the solvers\n",
    "                # really dont seem to like that\n",
    "                row_sum = self.p[a,i].sum()\n",
    "                if row_sum != 1:\n",
    "                    if not np.allclose(row_sum,1, rtol=1e-5, atol=1e-5):\n",
    "                        raise ValueError(f\"Probability error at action{a}, state {i}\"\n",
    "                                         f\" with prob. {row_sum}\")\n",
    "                    self.p[a,i] /= row_sum\n",
    "        return\n",
    "        # make sure we can't ever leave terminal states\n",
    "        for (i,j) in self.terminal_states:\n",
    "            # transition probability from state (i,j) to any other state \n",
    "            # must be zero, but one for (i,j)\n",
    "            index = i*self.w+j\n",
    "            self.p[:,index,:] = 0\n",
    "            self.p[:, index, index] = 1\n",
    "\n",
    "    def _fill_r(self):\n",
    "        # transitions always give step_reward\n",
    "        self.r.fill(self.step_reward)\n",
    "        \n",
    "        # ending on a rewarded cell gives the corresponding reward\n",
    "        for (i,j), reward in self.cell_rewards.items():\n",
    "            self.r[:,:, i*self.w+j] += reward\n",
    "\n",
    "        # terminal cells do not give ANY reward after having reached them\n",
    "        for (i,j) in self.terminal_states:\n",
    "            k = i*self.w+j\n",
    "            self.r[:, k, :] = 0\n",
    "\n",
    "        # should staying on cells still give the associated rewards?\n",
    "        for i in range(self.num_actions):\n",
    "            np.fill_diagonal(self.r[i],0)\n",
    "\n",
    "    def simulate_move(self, move, state):\n",
    "        if self._is_blocked(state): return state\n",
    "        if self._is_terminal(state): \n",
    "            return state\n",
    "        nm = np.clip(np.array(move)+np.array(state), 0, (self.h-1, self.w-1))\n",
    "        if self._is_blocked(nm):\n",
    "            return state\n",
    "        return nm\n",
    "\n",
    "    def solve(self, discount=0.99, verbose=False):\n",
    "        '''\n",
    "        Solves the underlying MDP using Policy Iteration\n",
    "        Returns an object with the optimal policy. See\n",
    "        `mdp.PolicyIteration` doc for details.\n",
    "        '''\n",
    "        vi = mdp.PolicyIteration(self.p, self.r, discount)\n",
    "        if verbose:\n",
    "            vi.setVerbose()\n",
    "        vi.run()\n",
    "        return vi\n",
    "    \n",
    "    def _is_blocked(self, cy, cx=None):\n",
    "        # cx: position along grid width\n",
    "        if cx is None:\n",
    "            cy, cx = cy\n",
    "        return (cy, cx) in self.blocked_cells\n",
    "\n",
    "    def _is_terminal(self, cy, cx=None):\n",
    "        if cx is None:\n",
    "            cy, cx = cy\n",
    "        return (cy, cx) in self.terminal_states\n",
    "    \n",
    "    def _plot_policy(self, policy):\n",
    "        a_l = 0.6 # arrow length\n",
    "        for (i,j), a in list(zip(self.states, policy)):\n",
    "            if self._is_terminal(i,j) or self._is_blocked(i,j): continue\n",
    "           \n",
    "            dh, dw = self.actions[a]\n",
    "            if dh == -1:\n",
    "                y_off = 1 - (1-a_l)/2.\n",
    "                x_off = 0.5\n",
    "            elif dh == 0:\n",
    "                y_off = 0.5\n",
    "                if dw == -1:\n",
    "                    x_off = 1 - (1-a_l)/2.0\n",
    "                elif dw == 1:\n",
    "                    x_off = (1-a_l)/2.0\n",
    "                else: raise ValueError(\"Invalid action to plot!\")\n",
    "            elif dh == 1:\n",
    "                y_off = (1-a_l)/2.0\n",
    "                x_off = 0.5\n",
    "            else: raise ValueError(\"Invalid action to plot\")\n",
    "            plt.arrow(j+x_off, i+y_off, dw*a_l, dh*a_l, width=0.1, \n",
    "                      head_width=0.4, head_length=0.6*0.35, fc=\"k\", ec=\"k\",\n",
    "                      length_includes_head=True, linewidth=0, overhang=0.3, \n",
    "                      zorder=10)\n",
    "        return\n",
    "\n",
    "    def _plot_terminal_states(self):\n",
    "        for (i,j) in self.terminal_states:\n",
    "            c = plt.Circle((j+0.5,i+0.5), radius=0.3, fill=False, ec=\"black\",\n",
    "                          lw=3, zorder=6)\n",
    "            plt.gca().add_patch(c)\n",
    "\n",
    "    def _plot_blocked_cells(self):\n",
    "        for (i,j) in self.blocked_cells:\n",
    "            rect = patches.Rectangle((j,i),1,1, zorder=1, color=(1,219/255,147/255))\n",
    "            plt.gca().add_patch(rect)        \n",
    "            \n",
    "    def _plot_rewards(self, resize_factor):\n",
    "        if len(self.cell_rewards) == 0: return\n",
    "\n",
    "        neg_cm = plt.get_cmap(\"Reds\")\n",
    "        pos_cm = plt.get_cmap(\"Greens\")\n",
    "        rmax = max(abs(x) for x in self.cell_rewards.values())\n",
    "        rmin = -rmax\n",
    "        for (i,j), r in self.cell_rewards.items():\n",
    "            plt.text(j+0.05,i+0.95, f\"{r:.1f}\", zorder=10, weight=\"bold\",\n",
    "                    size=8*resize_factor)\n",
    "            # to get the right color, we normalize to 0,255\n",
    "            r_norm = 1.0 * (r-rmin)/(rmax-rmin)\n",
    "            cm = pos_cm\n",
    "            if r < 0:\n",
    "                r_norm = 1.0 - r_norm\n",
    "                cm = neg_cm\n",
    "            col = cm(r_norm)\n",
    "            rect = patches.Rectangle((j,i),1,1, zorder=1, color=col)\n",
    "            plt.gca().add_patch(rect)   \n",
    "            \n",
    "    def plot(self, policy=None, height=None, width=None):\n",
    "        if height is None and width is None:\n",
    "            height = self.h\n",
    "            width = self.w\n",
    "        if height is None:\n",
    "            height = self.h*(width/self.w)\n",
    "        if width is None:\n",
    "            width = self.w*(height/self.h)\n",
    "        rf = height/self.h\n",
    "        fig, ax = plt.subplots(figsize=(width, height))\n",
    "        if policy is not None:\n",
    "            self._plot_policy(policy)\n",
    "        self._plot_terminal_states()\n",
    "        self._plot_blocked_cells()\n",
    "        self._plot_rewards(rf)\n",
    "        ax.grid(zorder=10, lw=1)\n",
    "        \n",
    "\n",
    "        plt.xlim(0, self.w)\n",
    "        plt.ylim(0, self.h)\n",
    "        plt.tick_params(axis='both', which='both', bottom=False, top=False, \n",
    "                        labelbottom=False, right=False, left=False, labelleft=False)\n",
    "        plt.xticks(range(self.w))\n",
    "        plt.yticks(range(self.h))\n",
    "        ax.invert_yaxis()\n",
    "        plt.title(\"Grid world\")\n",
    "        plt.show()"
   ]
  },
  {
   "cell_type": "markdown",
   "id": "average-diary",
   "metadata": {
    "slideshow": {
     "slide_type": "skip"
    }
   },
   "source": [
    "# Setup END\n",
    "***\n",
    "(Click this cell, and do \"Run all above\")"
   ]
  },
  {
   "cell_type": "markdown",
   "id": "offensive-airport",
   "metadata": {
    "slideshow": {
     "slide_type": "slide"
    }
   },
   "source": [
    "# An introduction to Reinforcement Learning\n",
    "***\n",
    "Based on:\n",
    "* **MIT 6.S091**: Introduction to Deep Reinforcement Learning, by Lex Fridman\n",
    "* **UC Berkeley CS 287**: Advanced Robotics, by Pieter Abbeel"
   ]
  },
  {
   "cell_type": "code",
   "execution_count": 5,
   "id": "textile-black",
   "metadata": {
    "slideshow": {
     "slide_type": "fragment"
    }
   },
   "outputs": [
    {
     "name": "stdout",
     "output_type": "stream",
     "text": [
      "Setup was run :)\n"
     ]
    }
   ],
   "source": [
    "try:\n",
    "    IN_COLAB\n",
    "    print(\"Setup was run :)\")\n",
    "except:\n",
    "    print(\"Don't forget to run the setup!\")"
   ]
  },
  {
   "cell_type": "markdown",
   "id": "golden-drinking",
   "metadata": {
    "slideshow": {
     "slide_type": "slide"
    }
   },
   "source": [
    "# Agenda\n",
    "***\n",
    "1. What is Deep RL?\n",
    "    * Deep Learning vs Deep Reinforcement Learning\n",
    "2. Types of learning\n",
    "    * Supervised vs unsupervised vs RL\n",
    "    * RL in Humans, why are we so good?\n",
    "3. Reinforcement Learning Framework\n",
    "    * Agent, Action, State, Reward\n",
    "4. Environments & Actions\n",
    "    * Observability, Single VS Multi Agent, Deterministic/Stochastic, Static/Dynamic, Discrete/Continuous\n",
    "5. RL in the real world\n",
    "    * Two open problems:\n",
    "        * Make better simulations\n",
    "        * Make algorithms that generalize better from simulation to real world\n",
    "6. Components of an RL agent\n",
    "    * Policy, the behavior function, probability of taking $a_t$ when in state $s_t$\n",
    "    * Value function, how good is each state/action in terms of expected future reward\n",
    "        * $V_\\pi(s)=E\\left[\\sum_{t=0}^{\\infty}\\gamma^t r_t\\mid s_0 = s\\right]$\n",
    "    * Model, agent's representation of the environment\n",
    "7. Meaning of Life: Maximize Reward\n",
    "    * Future reward, discounted reward\n",
    "        * Sparse reward problem\n",
    "        * Credit assignment problem\n",
    "8. Robot in a room/Gridworld:\n",
    "    * Example to show the impact of reward structure and environment on the optimal policy\n",
    "    * WE HAVE CODE NOW, WOOOOO\n",
    "9. Types of RL (several ways to taxonomize exist!)\n",
    "    * Model-based\n",
    "        * learn a model of the world through interaction, then plan ahead using the model\n",
    "    * Value-based (off policy)\n",
    "        * Learn the values for states or states/actions\n",
    "            * Constantly update how good it is to take action $a$ in state $s$\n",
    "            * Act by choosing the best action in state. Exploration is needed!\n",
    "    * Policy-based\n",
    "        * Learning the right behavior function that maps state to action\n",
    "        * Act by sampling policy, exploration already included\n",
    "10. Taxonomy by OpenAI\n",
    "    * Is this needed?\n",
    "    \n",
    "TODO:\n",
    "DQN oder A2C\n",
    "+ Daran gebundene Challenge"
   ]
  },
  {
   "cell_type": "markdown",
   "id": "hidden-ownership",
   "metadata": {
    "slideshow": {
     "slide_type": "slide"
    }
   },
   "source": [
    "# What is Deep Reinforcement Learning?\n",
    "***\n",
    "Last lecture we heard about **Deep Learning**:\n",
    "* Learn from examples, supervised\n",
    "* Find patterns, representations\n",
    "\n",
    "**Reinforcement Learning** is about:\n",
    "* Solving sequential decision making problems\n",
    "    * Comprehend the world and *act* based on that\n",
    "* How? Through trial and error in a world that provides rewards\n",
    "\n",
    "**Deep RL** is RL + Neural networks"
   ]
  },
  {
   "cell_type": "markdown",
   "id": "informational-proportion",
   "metadata": {
    "slideshow": {
     "slide_type": "slide"
    }
   },
   "source": [
    "# Types of learning\n",
    "***\n",
    "* Supervised, Semi-supervised\n",
    "* Unsupervised\n",
    "* Reinforcement learning\n",
    "\n",
    "In each case of machine learning, the loss function **supervises** the learning\n",
    "* Someone has to say what's good and what's bad!\n",
    "\n",
    "It's more about the amount of human effort involved in training.\n",
    "* Supervised learning: Teach by example\n",
    "    * Learning patterns from data\n",
    "* Reinforcement learning: Teach by experience\n",
    "    * Learning from a world by exploration"
   ]
  },
  {
   "cell_type": "markdown",
   "id": "african-picnic",
   "metadata": {
    "slideshow": {
     "slide_type": "slide"
    }
   },
   "source": [
    "# Reinforcement learning in humans\n",
    "***\n",
    "Humans appear to learn from very few examples of trial and error.\n",
    "* How, is still an open question\n",
    "\n",
    "There are several possible answers to why humans might learn so fast\n",
    "* Data & Hardware: 230 million years of trial and error\n",
    "* Imitation learning: Observation of other humans\n",
    "* Algorithms: Better than backpropagation and gradient descent"
   ]
  },
  {
   "cell_type": "markdown",
   "id": "disabled-tunisia",
   "metadata": {
    "slideshow": {
     "slide_type": "slide"
    }
   },
   "source": [
    "# Reinforcement learning framework\n",
    "***\n",
    "<img src=\"https://upload.wikimedia.org/wikipedia/commons/thumb/d/da/Markov_diagram_v2.svg/640px-Markov_diagram_v2.svg.png\" style=\"float: right;\">\n",
    "\n",
    "At each step, the **agent**:\n",
    "* Executes an **action**\n",
    "* Observes a new **state**\n",
    "* Receives a **reward**"
   ]
  },
  {
   "cell_type": "markdown",
   "id": "straight-mistress",
   "metadata": {
    "slideshow": {
     "slide_type": "slide"
    }
   },
   "source": [
    "# Environments and actions\n",
    "***\n",
    "* Fully Observable (Chess) vs Partially Observable (Poker)\n",
    "* Single Agent (Atari) vs Multi Agent (Deep Traffic)\n",
    "* Deterministic (CartPole) vs Stochastic (Deep Traffic)\n",
    "* Static (Chess) vs Dynamic (Deep Traffic)\n",
    "* Discrete (Chess) vs Continuous (CartPole)"
   ]
  },
  {
   "cell_type": "markdown",
   "id": "micro-combine",
   "metadata": {
    "slideshow": {
     "slide_type": "slide"
    }
   },
   "source": [
    "# The challenge for real world RL applications\n",
    "***\n",
    "The world an agent might learn from is a model designed by us\n",
    "* Agents live in a (partial) simulation of our world\n",
    "\n",
    "To apply RL agents to the real world, they need to *transfer* their experience\n",
    "* Two options:\n",
    "    * Improve the simulations\n",
    "    * Improve algorithms to better generalize from simulation to real world"
   ]
  },
  {
   "cell_type": "markdown",
   "id": "cardiovascular-mexico",
   "metadata": {
    "slideshow": {
     "slide_type": "slide"
    }
   },
   "source": [
    "# Components of an RL agent\n",
    "***\n",
    "**Policy $\\pi$**, an agent's behavior function:\\\n",
    "$\\pi(s,a)=P\\left(a_t=a\\mid s_t=s\\right)$\n",
    "\n",
    "**Value function $Q$**: How good is each state and/or action\\\n",
    "$\\displaystyle Q^\\pi(s,a)=E\\left[R\\mid s,a,\\pi\\right]$\n",
    "\n",
    "**Reward $R_a(s,s')$**:\\\n",
    "The immediate reward after transition from $s$ to $s'$ with action $a$\n",
    "\n",
    "**Model**: The agent's representation of the environment\n",
    "<br>\n",
    "<br>\n",
    "<center>$s_0,a_0,r_1,s_1,a_1,r_2,\\dots,s_{n-1},a_{n-1},r_n$</center>\n"
   ]
  },
  {
   "cell_type": "markdown",
   "id": "afraid-recognition",
   "metadata": {
    "slideshow": {
     "slide_type": "slide"
    }
   },
   "source": [
    "# Meaning of life: Maximize Reward\n",
    "***\n",
    "The purpose of an RL agent is to maximize the future reward\\\n",
    "$R_t=r_t+r_{t+1}+\\cdots+r_n$\n",
    "\n",
    "Rewards are discounted by factor $\\gamma$:\\\n",
    "$R_t=r_t+\\gamma r_{t+1}+\\gamma^2 r_{t+2}+\\cdots+\\gamma^{n-t}r_n$\n",
    "\n",
    "Why discounted?\n",
    "* A math trick to prove certain convergence properties\n",
    "* Also accounts for increasing uncertainty of far out rewards\n",
    "\n",
    "A good strategy would be to always choose the action that gives the highest future reward"
   ]
  },
  {
   "cell_type": "markdown",
   "id": "protected-bikini",
   "metadata": {
    "slideshow": {
     "slide_type": "slide"
    }
   },
   "source": [
    "# Grid World or *Robot in a room*\n",
    "***\n",
    "Imagine a robot in a room. It may move and find:\n",
    "* Positive and negative rewards, as shown by value and color\n",
    "* Terminal states, indicated by a circle\n",
    "* Walls/Blocks, appearing yellow(ish)"
   ]
  },
  {
   "cell_type": "code",
   "execution_count": 71,
   "id": "cardiovascular-oriental",
   "metadata": {
    "scrolled": false,
    "slideshow": {
     "slide_type": "fragment"
    }
   },
   "outputs": [
    {
     "data": {
      "image/png": "[encoded data removed]",
      "text/plain": [
       "<Figure size 576x432 with 1 Axes>"
      ]
     },
     "metadata": {},
     "output_type": "display_data"
    }
   ],
   "source": [
    "rewards = {(0,3):1,(1,3):-1}\n",
    "terminal_states = rewards.keys()\n",
    "blocks = [(1,1)]\n",
    "grid_world = Gridworld([],w=4,h=3, cell_rewards=rewards, \n",
    "                       terminal_states=terminal_states,\n",
    "                       blocked_cells=blocks)\n",
    "grid_world.plot(width=8)"
   ]
  },
  {
   "cell_type": "markdown",
   "id": "processed-worthy",
   "metadata": {
    "slideshow": {
     "slide_type": "slide"
    }
   },
   "source": [
    "# Deterministic movement\n",
    "***\n",
    "We'll allow our robot to move UP, DOWN, LEFT and RIGHT, but each move costs\n",
    "* Denoted by `step_reward=-0.04`"
   ]
  },
  {
   "cell_type": "code",
   "execution_count": 72,
   "id": "molecular-front",
   "metadata": {
    "scrolled": false,
    "slideshow": {
     "slide_type": "fragment"
    }
   },
   "outputs": [
    {
     "data": {
      "image/png": "[encoded data removed]",
      "text/plain": [
       "<Figure size 576x432 with 1 Axes>"
      ]
     },
     "metadata": {},
     "output_type": "display_data"
    }
   ],
   "source": [
    "actions = np.array([\n",
    "    [-1,0], # UP\n",
    "    [1,0], # DOWN \n",
    "    [0,-1], # Left\n",
    "    [0,1], # Right\n",
    "])\n",
    "\n",
    "rewards = {(0,3):1,\n",
    "           (1,3):-1}\n",
    "terminal_states = list(rewards.keys())\n",
    "blocks = [(1,1)]\n",
    "\n",
    "grid_world = Gridworld(actions,w=4,h=3, step_reward=-0.04,\n",
    "                       cell_rewards=rewards, \n",
    "                       terminal_states=terminal_states,\n",
    "                       blocked_cells=blocks)\n",
    "\n",
    "grid_world.plot(width=8)"
   ]
  },
  {
   "cell_type": "markdown",
   "id": "environmental-fantasy",
   "metadata": {
    "slideshow": {
     "slide_type": "slide"
    }
   },
   "source": [
    "# Markov decision process (MDP)\n",
    "***\n",
    "What would be the optimal move on each cell to achieve the highest possible reward?\n",
    "* The theory behind Markov decision processes allows us to solve this!\n",
    "    * This is where the discount factor $\\gamma$ is needed"
   ]
  },
  {
   "cell_type": "code",
   "execution_count": 73,
   "id": "gross-labor",
   "metadata": {
    "scrolled": false,
    "slideshow": {
     "slide_type": "fragment"
    }
   },
   "outputs": [
    {
     "data": {
      "image/png": "[encoded data removed]",
      "text/plain": [
       "<Figure size 576x432 with 1 Axes>"
      ]
     },
     "metadata": {},
     "output_type": "display_data"
    }
   ],
   "source": [
    "result = grid_world.solve(discount=0.99)\n",
    "grid_world.plot(policy=result.policy, width=8)"
   ]
  },
  {
   "cell_type": "markdown",
   "id": "complete-sociology",
   "metadata": {
    "slideshow": {
     "slide_type": "fragment"
    }
   },
   "source": [
    "**Policy**: Shortest path to $+1$ reward"
   ]
  },
  {
   "cell_type": "markdown",
   "id": "approved-market",
   "metadata": {
    "slideshow": {
     "slide_type": "slide"
    }
   },
   "source": [
    "# Optimal policy for positive `step_reward`\n",
    "***\n",
    "Everything else being equal, how would a positive `step_reward` influence the agent's optimal behavior?"
   ]
  },
  {
   "cell_type": "code",
   "execution_count": 74,
   "id": "rough-import",
   "metadata": {
    "slideshow": {
     "slide_type": "fragment"
    }
   },
   "outputs": [
    {
     "data": {
      "image/png": "[encoded data removed]",
      "text/plain": [
       "<Figure size 576x432 with 1 Axes>"
      ]
     },
     "metadata": {},
     "output_type": "display_data"
    }
   ],
   "source": [
    "grid_world = Gridworld(actions,w=4,h=3, step_reward=0.04,\n",
    "                       cell_rewards=rewards, \n",
    "                       terminal_states=terminal_states,\n",
    "                       blocked_cells=blocks)\n",
    "result = grid_world.solve(discount=0.99)\n",
    "grid_world.plot(policy=result.policy, width=8)"
   ]
  },
  {
   "cell_type": "markdown",
   "id": "emerging-louis",
   "metadata": {
    "slideshow": {
     "slide_type": "fragment"
    }
   },
   "source": [
    "**Policy**: Never terminate!"
   ]
  },
  {
   "cell_type": "markdown",
   "id": "backed-scroll",
   "metadata": {
    "slideshow": {
     "slide_type": "slide"
    }
   },
   "source": [
    "# Adding uncertainty\n",
    "***\n",
    "So far, each action chosen by the agent resulted in exactly the anticipated outcome\n",
    "* It's a *deterministic* world our robot lives in\n",
    "\n",
    "However, some systems are stochastic by nature, or too complex to model deterministically\n",
    "* How would uncertainty impact the optimal policy in our grid world?\n",
    "* We let $\\rho\\in (0,1]$ denote the probability of executing the intended action $a$\n",
    "    * But with prob. $1-\\rho$ any other action is executed"
   ]
  },
  {
   "cell_type": "markdown",
   "id": "breeding-plenty",
   "metadata": {
    "slideshow": {
     "slide_type": "subslide"
    }
   },
   "source": [
    "Here is the deterministic result ($\\rho=1$):"
   ]
  },
  {
   "cell_type": "code",
   "execution_count": 78,
   "id": "economic-polyester",
   "metadata": {
    "slideshow": {
     "slide_type": "fragment"
    }
   },
   "outputs": [
    {
     "data": {
      "image/png": "[encoded data removed]",
      "text/plain": [
       "<Figure size 480x360 with 1 Axes>"
      ]
     },
     "metadata": {},
     "output_type": "display_data"
    }
   ],
   "source": [
    "grid_world = Gridworld(actions,w=4,h=3, step_reward=0.04,\n",
    "                       cell_rewards=rewards, \n",
    "                       terminal_states=terminal_states,\n",
    "                       blocked_cells=blocks)\n",
    "result = grid_world.solve(discount=0.99)\n",
    "grid_world.plot(policy=result.policy, height=5)"
   ]
  },
  {
   "cell_type": "markdown",
   "id": "random-conference",
   "metadata": {
    "slideshow": {
     "slide_type": "fragment"
    }
   },
   "source": [
    "What happens for $\\rho=0.7$ ?"
   ]
  },
  {
   "cell_type": "code",
   "execution_count": 92,
   "id": "realistic-sigma",
   "metadata": {
    "slideshow": {
     "slide_type": "fragment"
    }
   },
   "outputs": [
    {
     "data": {
      "image/png": "[encoded data removed]",
      "text/plain": [
       "<Figure size 480x360 with 1 Axes>"
      ]
     },
     "metadata": {},
     "output_type": "display_data"
    }
   ],
   "source": [
    "grid_world = Gridworld(actions,w=4,h=3, step_reward=0.04,\n",
    "                       rho=0.7, cell_rewards=rewards, \n",
    "                       terminal_states=terminal_states,\n",
    "                       blocked_cells=blocks)\n",
    "result = grid_world.solve(discount=0.99)\n",
    "grid_world.plot(policy=result.policy, height=5)"
   ]
  },
  {
   "cell_type": "markdown",
   "id": "macro-switch",
   "metadata": {
    "slideshow": {
     "slide_type": "slide"
    }
   },
   "source": [
    "# Lessons learned from Grid World\n",
    "***\n",
    "1. Environment model has big impact on optimal policy\n",
    "2. Reward structure has big impact on optimal policy"
   ]
  },
  {
   "cell_type": "code",
   "execution_count": 100,
   "id": "hired-tradition",
   "metadata": {
    "slideshow": {
     "slide_type": "fragment"
    }
   },
   "outputs": [
    {
     "data": {
      "text/html": [
       "\n",
       "<iframe width=\"800\" height=\"510\" src=\"https://www.youtube.com/embed/tlOIHko8ySg\" title=\"YouTube video player\" frameborder=\"0\" allow=\"accelerometer; autoplay; clipboard-write; encrypted-media; gyroscope; picture-in-picture\" allowfullscreen></iframe>\n"
      ],
      "text/plain": [
       "<IPython.core.display.HTML object>"
      ]
     },
     "execution_count": 100,
     "metadata": {},
     "output_type": "execute_result"
    }
   ],
   "source": [
    "import IPython\n",
    "IPython.display.HTML('''\n",
    "<iframe width=\"800\" height=\"510\" src=\"https://www.youtube.com/embed/tlOIHko8ySg\" title=\"YouTube video player\" frameborder=\"0\" allow=\"accelerometer; autoplay; clipboard-write; encrypted-media; gyroscope; picture-in-picture\" allowfullscreen></iframe>\n",
    "''')"
   ]
  },
  {
   "cell_type": "markdown",
   "id": "catholic-zealand",
   "metadata": {
    "slideshow": {
     "slide_type": "slide"
    }
   },
   "source": [
    "# Placeholder\n",
    "***"
   ]
  },
  {
   "cell_type": "code",
   "execution_count": 53,
   "id": "global-portal",
   "metadata": {},
   "outputs": [
    {
     "data": {
      "image/png": "[encoded data removed]",
      "text/plain": [
       "<Figure size 1008x504 with 1 Axes>"
      ]
     },
     "metadata": {},
     "output_type": "display_data"
    }
   ],
   "source": [
    "w=80; h=40; rho=1.0; step_reward=-0.04;\n",
    "\n",
    "actions = np.array([\n",
    "    [-1,0], # UP\n",
    "    #[1,0], # DOWN \n",
    "    [0,-1], # Left\n",
    "    [0,1], # Right\n",
    "])\n",
    "cell_rewards={\n",
    "    (0,3): 1,\n",
    "    (1,3): -100,\n",
    "    #(1,6): 1,\n",
    "    (2,0): -4,\n",
    "}\n",
    "terminal_states=[\n",
    "    [0,3],\n",
    "    [1,3],\n",
    "]\n",
    "blocked=[\n",
    "    [0,5],\n",
    "    [1,5],\n",
    "    [2,5],\n",
    "    [0,6],\n",
    "    [1,6],\n",
    "    [2,6],\n",
    "    [0,7],\n",
    "    [1,7],\n",
    "    [2,7],\n",
    "]\n",
    "\n",
    "gw  = Gridworld(w=w, h=h, rho=rho, step_reward=step_reward,\n",
    "                cell_rewards=cell_rewards, actions=actions,\n",
    "                terminal_states=terminal_states, blocked_cells=blocked)\n",
    "gw.plot(height=7)"
   ]
  },
  {
   "cell_type": "code",
   "execution_count": 55,
   "id": "asian-assumption",
   "metadata": {
    "scrolled": true,
    "slideshow": {
     "slide_type": "slide"
    }
   },
   "outputs": [
    {
     "name": "stdout",
     "output_type": "stream",
     "text": [
      "  Iteration\t\tNumber of different actions\n",
      "    1\t\t  161\n",
      "    2\t\t  190\n",
      "    3\t\t  80\n",
      "    4\t\t  71\n",
      "    5\t\t  64\n",
      "    6\t\t  98\n",
      "    7\t\t  107\n",
      "    8\t\t  113\n",
      "    9\t\t  128\n",
      "    10\t\t  142\n",
      "    11\t\t  143\n",
      "    12\t\t  176\n",
      "    13\t\t  190\n",
      "    14\t\t  204\n",
      "    15\t\t  226\n",
      "    16\t\t  224\n",
      "    17\t\t  248\n",
      "    18\t\t  263\n",
      "    19\t\t  248\n",
      "    20\t\t  263\n"
     ]
    },
    {
     "ename": "KeyboardInterrupt",
     "evalue": "",
     "output_type": "error",
     "traceback": [
      "\u001b[1;31m---------------------------------------------------------------------------\u001b[0m",
      "\u001b[1;31mKeyboardInterrupt\u001b[0m                         Traceback (most recent call last)",
      "\u001b[1;32m<ipython-input-55-95737ef96ec6>\u001b[0m in \u001b[0;36m<module>\u001b[1;34m\u001b[0m\n\u001b[0;32m      2\u001b[0m \u001b[0mvi\u001b[0m \u001b[1;33m=\u001b[0m \u001b[0mmdp\u001b[0m\u001b[1;33m.\u001b[0m\u001b[0mPolicyIteration\u001b[0m\u001b[1;33m(\u001b[0m\u001b[0mgw\u001b[0m\u001b[1;33m.\u001b[0m\u001b[0mp\u001b[0m\u001b[1;33m,\u001b[0m \u001b[0mgw\u001b[0m\u001b[1;33m.\u001b[0m\u001b[0mr\u001b[0m\u001b[1;33m,\u001b[0m \u001b[1;36m0.99\u001b[0m\u001b[1;33m,\u001b[0m \u001b[0mmax_iter\u001b[0m\u001b[1;33m=\u001b[0m\u001b[1;36m50\u001b[0m\u001b[1;33m,\u001b[0m \u001b[0meval_type\u001b[0m\u001b[1;33m=\u001b[0m\u001b[1;36m0\u001b[0m\u001b[1;33m)\u001b[0m\u001b[1;33m\u001b[0m\u001b[1;33m\u001b[0m\u001b[0m\n\u001b[0;32m      3\u001b[0m \u001b[0mvi\u001b[0m\u001b[1;33m.\u001b[0m\u001b[0msetVerbose\u001b[0m\u001b[1;33m(\u001b[0m\u001b[1;33m)\u001b[0m\u001b[1;33m\u001b[0m\u001b[1;33m\u001b[0m\u001b[0m\n\u001b[1;32m----> 4\u001b[1;33m \u001b[0mvi\u001b[0m\u001b[1;33m.\u001b[0m\u001b[0mrun\u001b[0m\u001b[1;33m(\u001b[0m\u001b[1;33m)\u001b[0m\u001b[1;33m\u001b[0m\u001b[1;33m\u001b[0m\u001b[0m\n\u001b[0m\u001b[0;32m      5\u001b[0m \u001b[1;31m#print(vi.policy)\u001b[0m\u001b[1;33m\u001b[0m\u001b[1;33m\u001b[0m\u001b[1;33m\u001b[0m\u001b[0m\n\u001b[0;32m      6\u001b[0m \u001b[0mgw\u001b[0m\u001b[1;33m.\u001b[0m\u001b[0mplot\u001b[0m\u001b[1;33m(\u001b[0m\u001b[0mpolicy\u001b[0m\u001b[1;33m=\u001b[0m\u001b[0mvi\u001b[0m\u001b[1;33m.\u001b[0m\u001b[0mpolicy\u001b[0m\u001b[1;33m,\u001b[0m \u001b[0mheight\u001b[0m\u001b[1;33m=\u001b[0m\u001b[1;36m10\u001b[0m\u001b[1;33m)\u001b[0m\u001b[1;33m\u001b[0m\u001b[1;33m\u001b[0m\u001b[0m\n",
      "\u001b[1;32mc:\\users\\nikla\\workspace\\jupyter-notebooks\\env\\lib\\site-packages\\mdptoolbox\\mdp.py\u001b[0m in \u001b[0;36mrun\u001b[1;34m(self)\u001b[0m\n\u001b[0;32m    752\u001b[0m             \u001b[1;31m# attribute\u001b[0m\u001b[1;33m\u001b[0m\u001b[1;33m\u001b[0m\u001b[1;33m\u001b[0m\u001b[0m\n\u001b[0;32m    753\u001b[0m             \u001b[1;32mif\u001b[0m \u001b[0mself\u001b[0m\u001b[1;33m.\u001b[0m\u001b[0meval_type\u001b[0m \u001b[1;33m==\u001b[0m \u001b[1;34m\"matrix\"\u001b[0m\u001b[1;33m:\u001b[0m\u001b[1;33m\u001b[0m\u001b[1;33m\u001b[0m\u001b[0m\n\u001b[1;32m--> 754\u001b[1;33m                 \u001b[0mself\u001b[0m\u001b[1;33m.\u001b[0m\u001b[0m_evalPolicyMatrix\u001b[0m\u001b[1;33m(\u001b[0m\u001b[1;33m)\u001b[0m\u001b[1;33m\u001b[0m\u001b[1;33m\u001b[0m\u001b[0m\n\u001b[0m\u001b[0;32m    755\u001b[0m             \u001b[1;32melif\u001b[0m \u001b[0mself\u001b[0m\u001b[1;33m.\u001b[0m\u001b[0meval_type\u001b[0m \u001b[1;33m==\u001b[0m \u001b[1;34m\"iterative\"\u001b[0m\u001b[1;33m:\u001b[0m\u001b[1;33m\u001b[0m\u001b[1;33m\u001b[0m\u001b[0m\n\u001b[0;32m    756\u001b[0m                 \u001b[0mself\u001b[0m\u001b[1;33m.\u001b[0m\u001b[0m_evalPolicyIterative\u001b[0m\u001b[1;33m(\u001b[0m\u001b[1;33m)\u001b[0m\u001b[1;33m\u001b[0m\u001b[1;33m\u001b[0m\u001b[0m\n",
      "\u001b[1;32mc:\\users\\nikla\\workspace\\jupyter-notebooks\\env\\lib\\site-packages\\mdptoolbox\\mdp.py\u001b[0m in \u001b[0;36m_evalPolicyMatrix\u001b[1;34m(self)\u001b[0m\n\u001b[0;32m    735\u001b[0m         \u001b[0mPpolicy\u001b[0m\u001b[1;33m,\u001b[0m \u001b[0mRpolicy\u001b[0m \u001b[1;33m=\u001b[0m \u001b[0mself\u001b[0m\u001b[1;33m.\u001b[0m\u001b[0m_computePpolicyPRpolicy\u001b[0m\u001b[1;33m(\u001b[0m\u001b[1;33m)\u001b[0m\u001b[1;33m\u001b[0m\u001b[1;33m\u001b[0m\u001b[0m\n\u001b[0;32m    736\u001b[0m         \u001b[1;31m# V = PR + gPV  => (I-gP)V = PR  => V = inv(I-gP)* PR\u001b[0m\u001b[1;33m\u001b[0m\u001b[1;33m\u001b[0m\u001b[1;33m\u001b[0m\u001b[0m\n\u001b[1;32m--> 737\u001b[1;33m         self.V = _np.linalg.solve(\n\u001b[0m\u001b[0;32m    738\u001b[0m             (_sp.eye(self.S, self.S) - self.discount * Ppolicy), Rpolicy)\n\u001b[0;32m    739\u001b[0m \u001b[1;33m\u001b[0m\u001b[0m\n",
      "\u001b[1;32m<__array_function__ internals>\u001b[0m in \u001b[0;36msolve\u001b[1;34m(*args, **kwargs)\u001b[0m\n",
      "\u001b[1;32mc:\\users\\nikla\\workspace\\jupyter-notebooks\\env\\lib\\site-packages\\numpy\\linalg\\linalg.py\u001b[0m in \u001b[0;36msolve\u001b[1;34m(a, b)\u001b[0m\n\u001b[0;32m    397\u001b[0m     \u001b[0msignature\u001b[0m \u001b[1;33m=\u001b[0m \u001b[1;34m'DD->D'\u001b[0m \u001b[1;32mif\u001b[0m \u001b[0misComplexType\u001b[0m\u001b[1;33m(\u001b[0m\u001b[0mt\u001b[0m\u001b[1;33m)\u001b[0m \u001b[1;32melse\u001b[0m \u001b[1;34m'dd->d'\u001b[0m\u001b[1;33m\u001b[0m\u001b[1;33m\u001b[0m\u001b[0m\n\u001b[0;32m    398\u001b[0m     \u001b[0mextobj\u001b[0m \u001b[1;33m=\u001b[0m \u001b[0mget_linalg_error_extobj\u001b[0m\u001b[1;33m(\u001b[0m\u001b[0m_raise_linalgerror_singular\u001b[0m\u001b[1;33m)\u001b[0m\u001b[1;33m\u001b[0m\u001b[1;33m\u001b[0m\u001b[0m\n\u001b[1;32m--> 399\u001b[1;33m     \u001b[0mr\u001b[0m \u001b[1;33m=\u001b[0m \u001b[0mgufunc\u001b[0m\u001b[1;33m(\u001b[0m\u001b[0ma\u001b[0m\u001b[1;33m,\u001b[0m \u001b[0mb\u001b[0m\u001b[1;33m,\u001b[0m \u001b[0msignature\u001b[0m\u001b[1;33m=\u001b[0m\u001b[0msignature\u001b[0m\u001b[1;33m,\u001b[0m \u001b[0mextobj\u001b[0m\u001b[1;33m=\u001b[0m\u001b[0mextobj\u001b[0m\u001b[1;33m)\u001b[0m\u001b[1;33m\u001b[0m\u001b[1;33m\u001b[0m\u001b[0m\n\u001b[0m\u001b[0;32m    400\u001b[0m \u001b[1;33m\u001b[0m\u001b[0m\n\u001b[0;32m    401\u001b[0m     \u001b[1;32mreturn\u001b[0m \u001b[0mwrap\u001b[0m\u001b[1;33m(\u001b[0m\u001b[0mr\u001b[0m\u001b[1;33m.\u001b[0m\u001b[0mastype\u001b[0m\u001b[1;33m(\u001b[0m\u001b[0mresult_t\u001b[0m\u001b[1;33m,\u001b[0m \u001b[0mcopy\u001b[0m\u001b[1;33m=\u001b[0m\u001b[1;32mFalse\u001b[0m\u001b[1;33m)\u001b[0m\u001b[1;33m)\u001b[0m\u001b[1;33m\u001b[0m\u001b[1;33m\u001b[0m\u001b[0m\n",
      "\u001b[1;31mKeyboardInterrupt\u001b[0m: "
     ]
    }
   ],
   "source": [
    "#vi = mdp.ValueIteration(gw.p, gw.r, 0.9, max_iter=1e5)\n",
    "vi = mdp.PolicyIteration(gw.p, gw.r, 0.99, max_iter=50, eval_type=0)\n",
    "vi.setVerbose()\n",
    "vi.run()\n",
    "#print(vi.policy)\n",
    "gw.plot(policy=vi.policy, height=10)\n",
    "#vi.V"
   ]
  },
  {
   "cell_type": "markdown",
   "id": "incomplete-dayton",
   "metadata": {
    "slideshow": {
     "slide_type": "slide"
    }
   },
   "source": [
    "# OpenAI Gym\n",
    "***"
   ]
  },
  {
   "cell_type": "code",
   "execution_count": null,
   "id": "innocent-collaboration",
   "metadata": {},
   "outputs": [],
   "source": [
    "import numpy as np\n",
    "from tensorflow.keras.layers import (\n",
    "    Dense, Input, Dropout    \n",
    ")\n",
    "import tensorflow as tf\n",
    "from tensorflow.keras.models import Model\n",
    "from tensorflow.keras.losses import Huber\n",
    "from tensorflow import keras\n",
    "\n",
    "import gym\n",
    "\n",
    "\n",
    "def episode(env, model, max_steps=None):\n",
    "    states = []\n",
    "    action_probs = []\n",
    "    est_rewards = []\n",
    "    rewards = []\n",
    "\n",
    "    state = env.reset()\n",
    "    i = 0\n",
    "    while i < (j := max_steps if max_steps is not None else np.inf):\n",
    "        state = tf.convert_to_tensor(state)\n",
    "        state = tf.expand_dims(state, 0)\n",
    "        states.append(state)\n",
    "\n",
    "        a_p, e_w = model(state)\n",
    "        action = np.random.choice(env.action_space.n, p=np.squeeze(a_p))\n",
    "        state, reward, done, info = env.step(action)\n",
    "\n",
    "        action_probs.append(a_p[0, action])\n",
    "        est_rewards.append(e_w[0,0])\n",
    "        rewards.append(reward)\n",
    "\n",
    "        i += 1\n",
    "        if done:\n",
    "            break\n",
    "    env.close()\n",
    "    return states, rewards, action_probs, est_rewards\n",
    "\n",
    "def sample_action(model, state):\n",
    "    # state is a cpu np array\n",
    "    state = tf.convert_to_tensor(state)\n",
    "    state = tf.expand_dims(state, 0)\n",
    "    a_p, e_w = model(state)\n",
    "    action = np.random.choice(env.action_space.n, p=np.squeeze(a_p))\n",
    "    return action   "
   ]
  },
  {
   "cell_type": "code",
   "execution_count": null,
   "id": "spanish-nothing",
   "metadata": {},
   "outputs": [],
   "source": [
    "env = gym.make('LunarLander-v2')\n",
    "env.action_space"
   ]
  },
  {
   "cell_type": "code",
   "execution_count": null,
   "id": "exposed-hungarian",
   "metadata": {},
   "outputs": [],
   "source": [
    "env = gym.make('LunarLander-v2').unwrapped\n",
    "#env = gym.make('MountainCar-v0').unwrapped\n",
    "\n",
    "critic_loss_func = keras.losses.Huber()\n",
    "\n",
    "input_layer = Input(env.observation_space.shape)\n",
    "l = Dense(128, \"relu\")(input_layer)\n",
    "l = Dense(64, \"relu\")(l)\n",
    "actor = Dense(env.action_space.n, \"softmax\", name=\"actor\")(l)\n",
    "critic = Dense(1, name=\"critic\")(l)\n",
    "model = Model(input_layer, [actor, critic])\n",
    "\n",
    "model.summary()\n",
    "opt = keras.optimizers.Adam(lr=0.01)"
   ]
  },
  {
   "cell_type": "code",
   "execution_count": null,
   "id": "enclosed-hunter",
   "metadata": {
    "scrolled": true
   },
   "outputs": [],
   "source": [
    "epochs = 10000\n",
    "gamma = 0.95\n",
    "train_max_steps = 300\n",
    "validation_every = 50\n",
    "validation_episodes = 5\n",
    "validation_max_steps = 200\n",
    "\n",
    "reward_history = []\n",
    "\n",
    "for epoch in range(epochs):\n",
    "\n",
    "    with tf.GradientTape() as tape:\n",
    "        states, rewards, action_probs, est_rewards = episode(env, model, train_max_steps)\n",
    "        reward_history.append(sum(rewards))\n",
    "\n",
    "        returns = []\n",
    "        discounted_sum = 0\n",
    "        for r in rewards[::-1]:\n",
    "            discounted_sum = r + gamma * discounted_sum\n",
    "            returns.insert(0, discounted_sum)\n",
    "        returns = np.array(returns)\n",
    "        returns = (returns - returns.mean()) / returns.std()\n",
    "\n",
    "        critic_labels = tf.convert_to_tensor(returns, \"float32\")\n",
    "\n",
    "        # critic_loss = critic_loss_func(est_rewards, critic_labels)\n",
    "        cl = []\n",
    "        for f,g in zip(est_rewards, critic_labels):\n",
    "            cl.append(critic_loss_func(tf.expand_dims(f,0), tf.expand_dims(g,0)))\n",
    "        critic_loss = sum(cl)\n",
    "\n",
    "        al = -tf.math.log(action_probs) * (critic_labels - est_rewards)\n",
    "        actor_loss = sum(al)\n",
    "        loss = actor_loss + critic_loss\n",
    "\n",
    "        gradients = tape.gradient(loss, model.trainable_weights)\n",
    "        opt.apply_gradients(zip(gradients, model.trainable_weights))\n",
    "\n",
    "    if epoch % validation_every == 0:\n",
    "        val_rewards = []\n",
    "        for val_e in range(validation_episodes):\n",
    "            states, rewards, action_probs, est_rewards = episode(env, model, validation_max_steps)\n",
    "            val_rewards.append(sum(rewards))\n",
    "        val_rewards = np.array(val_rewards)\n",
    "        print(f\"Epoch {epoch}/{epochs}\",epoch, np.mean(reward_history),  val_rewards.min(), val_rewards.max(), val_rewards.mean())\n",
    "        reward_history.clear()\n",
    "        make_video(env, lambda state: sample_action(model, state), max_steps=1000)\n",
    "        pass"
   ]
  },
  {
   "cell_type": "code",
   "execution_count": null,
   "id": "vocational-thickness",
   "metadata": {
    "scrolled": true
   },
   "outputs": [],
   "source": [
    "make_video(env, lambda state: sample_action(model, state))\n"
   ]
  },
  {
   "cell_type": "code",
   "execution_count": null,
   "id": "according-apparel",
   "metadata": {},
   "outputs": [],
   "source": [
    "def make_video(env, model, max_steps=None):\n",
    "    mon = Monitor(env, \"/data/videos/\", force=True)\n",
    "    state = mon.reset()\n",
    "    i = 0\n",
    "    while True:\n",
    "        action = model(state)\n",
    "        state, r, d, _ = mon.step(action)\n",
    "        if d: break\n",
    "        i+=1\n",
    "        if max_steps is not None and i>=max_steps: break\n",
    "    if mon.stats_recorder.done == False:\n",
    "        mon.stats_recorder.save_complete()\n",
    "        mon.stats_recorder.done = True\n",
    "    mon.reset()\n",
    "    display_video_from_monitor(mon)\n",
    "    return mon"
   ]
  },
  {
   "cell_type": "code",
   "execution_count": null,
   "id": "identical-disposal",
   "metadata": {},
   "outputs": [],
   "source": [
    "make_video(env, lambda state: sample_action(model, state), max_steps=1000)"
   ]
  },
  {
   "cell_type": "code",
   "execution_count": null,
   "id": "lucky-vinyl",
   "metadata": {},
   "outputs": [],
   "source": [
    "env.close()"
   ]
  },
  {
   "cell_type": "code",
   "execution_count": null,
   "id": "detected-monroe",
   "metadata": {},
   "outputs": [],
   "source": [
    "mon = Monitor(env)\n",
    "mon.reset()"
   ]
  },
  {
   "cell_type": "code",
   "execution_count": null,
   "id": "egyptian-beijing",
   "metadata": {},
   "outputs": [],
   "source": []
  }
 ],
 "metadata": {
  "celltoolbar": "Slideshow",
  "kernelspec": {
   "display_name": "Python 3",
   "language": "python",
   "name": "python3"
  },
  "language_info": {
   "codemirror_mode": {
    "name": "ipython",
    "version": 3
   },
   "file_extension": ".py",
   "mimetype": "text/x-python",
   "name": "python",
   "nbconvert_exporter": "python",
   "pygments_lexer": "ipython3",
   "version": "3.8.3"
  },
  "rise": {
   "auto_select": "none",
   "enable_chalkboard": true,
   "overlay": "<div class='myheader'><img src='img/ai_camp.png' class='ifis_small'></div><div class='ifis_large'><img src='img/ifis_large.png'></div>",
   "scroll": true,
   "start_slideshow_at": "selected"
  }
 },
 "nbformat": 4,
 "nbformat_minor": 5
}
