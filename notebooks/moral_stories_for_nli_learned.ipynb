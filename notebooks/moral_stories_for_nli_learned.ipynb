{
 "cells": [
  {
   "cell_type": "markdown",
   "id": "e2063a2e",
   "metadata": {},
   "source": [
    "# Preparing Moral Stories for NLI with Learn2Split\n",
    "***"
   ]
  },
  {
   "cell_type": "code",
   "execution_count": null,
   "id": "ca95f7a5",
   "metadata": {},
   "outputs": [],
   "source": [
    "from ailignment.datasets.moral_stories import get_moral_stories, make_action_classification_dataframe\n",
    "from ailignment.datasets import get_accuracy_metric, join_sentences, tokenize_and_split\n",
    "import pandas as pd\n",
    "import datasets\n",
    "import transformers\n",
    "import numpy as np\n",
    "from ailignment import sequence_classification\n",
    "\n",
    "pd.set_option('display.max_colwidth', 400)\n",
    "\n",
    "#transformers.logging.set_verbosity_warning()\n",
    "\n",
    "from collections import Counter\n",
    "\n",
    "import spacy\n",
    "from spacy import displacy\n",
    "from tqdm import tqdm\n",
    "import pandas as pd"
   ]
  },
  {
   "cell_type": "code",
   "execution_count": null,
   "id": "a03b4079",
   "metadata": {},
   "outputs": [],
   "source": [
    "dataframe = get_moral_stories()"
   ]
  },
  {
   "cell_type": "code",
   "execution_count": null,
   "id": "5e854396",
   "metadata": {},
   "outputs": [],
   "source": [
    "from transformers import AutoModelForSeq2SeqLM, AutoTokenizer\n",
    "\n",
    "name = \"../data/models/learn_to_split\"\n",
    "tokenizer = AutoTokenizer.from_pretrained(name)\n",
    "model = AutoModelForSeq2SeqLM.from_pretrained(name).cuda()"
   ]
  },
  {
   "cell_type": "code",
   "execution_count": null,
   "id": "268e254a",
   "metadata": {},
   "outputs": [],
   "source": [
    "from datasets import Dataset\n",
    "\n",
    "def parse_split(x):\n",
    "    if \".\" in x:\n",
    "        value, action = x.split(\".\",1)\n",
    "    else:\n",
    "        value, action = x.split(\" \", 1)\n",
    "    action = action.strip()\n",
    "    return {\"action\": action, \"value\":value}\n",
    "\n",
    "def split(x):\n",
    "    inputs = tokenizer(x[\"norm\"], padding=\"max_length\", truncation=True, return_tensors=\"pt\")\n",
    "    inputs = {k:v.cuda() for k,v in inputs.items()}\n",
    "    out = model.generate(**inputs, do_sample=True, min_length=1, max_length=100, top_p=0.95, top_k=50, \n",
    "                         num_beams=1, temperature=1.0)\n",
    "    x[\"l2s_output\"] = tokenizer.batch_decode(out, skip_special_tokens=True)\n",
    "    pairs = pd.DataFrame.from_records([parse_split(y) for y in x[\"l2s_output\"]])\n",
    "    \n",
    "    x[\"norm_action\"] = pairs[\"action\"].to_list()\n",
    "    x[\"norm_value\"] = pairs[\"value\"].to_list()\n",
    "\n",
    "    return x"
   ]
  },
  {
   "cell_type": "code",
   "execution_count": null,
   "id": "a2cb6ce4",
   "metadata": {},
   "outputs": [],
   "source": [
    "# convert to huggingface dataset to make use of their batch processing\n",
    "# (I really just wanted the progress bar...)\n",
    "data = Dataset.from_pandas(dataframe)\n",
    "dataframe = data.map(split, batch_size=32, batched=True).to_pandas()"
   ]
  },
  {
   "cell_type": "code",
   "execution_count": null,
   "id": "6137678a",
   "metadata": {},
   "outputs": [],
   "source": [
    "# save the dataframe for later use\n",
    "dataframe.to_pickle(\"../data/moral_stories_proto_l2s.dat\")"
   ]
  },
  {
   "cell_type": "code",
   "execution_count": null,
   "id": "892df122",
   "metadata": {},
   "outputs": [],
   "source": []
  }
 ],
 "metadata": {
  "kernelspec": {
   "display_name": "Python 3 (ipykernel)",
   "language": "python",
   "name": "python3"
  },
  "language_info": {
   "codemirror_mode": {
    "name": "ipython",
    "version": 3
   },
   "file_extension": ".py",
   "mimetype": "text/x-python",
   "name": "python",
   "nbconvert_exporter": "python",
   "pygments_lexer": "ipython3",
   "version": "3.9.6"
  }
 },
 "nbformat": 4,
 "nbformat_minor": 5
}
