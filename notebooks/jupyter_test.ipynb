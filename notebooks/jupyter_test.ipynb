{
 "cells": [
  {
   "cell_type": "code",
   "execution_count": 90,
   "metadata": {
    "scrolled": false,
    "slideshow": {
     "slide_type": "slide"
    }
   },
   "outputs": [
    {
     "data": {
      "text/html": [
       "<div>\n",
       "<style scoped>\n",
       "    .dataframe tbody tr th:only-of-type {\n",
       "        vertical-align: middle;\n",
       "    }\n",
       "\n",
       "    .dataframe tbody tr th {\n",
       "        vertical-align: top;\n",
       "    }\n",
       "\n",
       "    .dataframe thead th {\n",
       "        text-align: right;\n",
       "    }\n",
       "</style>\n",
       "<table border=\"1\" class=\"dataframe\">\n",
       "  <thead>\n",
       "    <tr style=\"text-align: right;\">\n",
       "      <th></th>\n",
       "      <th>Runs</th>\n",
       "      <th>Final cash</th>\n",
       "      <th>strategy</th>\n",
       "    </tr>\n",
       "  </thead>\n",
       "  <tbody>\n",
       "    <tr>\n",
       "      <th>2</th>\n",
       "      <td>216.0</td>\n",
       "      <td>202.500000</td>\n",
       "      <td>[2, 4, 18]</td>\n",
       "    </tr>\n",
       "    <tr>\n",
       "      <th>0</th>\n",
       "      <td>217.0</td>\n",
       "      <td>198.500000</td>\n",
       "      <td>[4, 2, 18]</td>\n",
       "    </tr>\n",
       "    <tr>\n",
       "      <th>1</th>\n",
       "      <td>224.0</td>\n",
       "      <td>143.166672</td>\n",
       "      <td>[4, 18, 2]</td>\n",
       "    </tr>\n",
       "    <tr>\n",
       "      <th>3</th>\n",
       "      <td>232.0</td>\n",
       "      <td>82.833336</td>\n",
       "      <td>[2, 18, 4]</td>\n",
       "    </tr>\n",
       "    <tr>\n",
       "      <th>5</th>\n",
       "      <td>243.0</td>\n",
       "      <td>3.166667</td>\n",
       "      <td>[18, 2, 4]</td>\n",
       "    </tr>\n",
       "    <tr>\n",
       "      <th>4</th>\n",
       "      <td>243.0</td>\n",
       "      <td>2.833333</td>\n",
       "      <td>[18, 4, 2]</td>\n",
       "    </tr>\n",
       "  </tbody>\n",
       "</table>\n",
       "</div>"
      ],
      "text/plain": [
       "    Runs  Final cash    strategy\n",
       "2  216.0  202.500000  [2, 4, 18]\n",
       "0  217.0  198.500000  [4, 2, 18]\n",
       "1  224.0  143.166672  [4, 18, 2]\n",
       "3  232.0   82.833336  [2, 18, 4]\n",
       "5  243.0    3.166667  [18, 2, 4]\n",
       "4  243.0    2.833333  [18, 4, 2]"
      ]
     },
     "execution_count": 90,
     "metadata": {},
     "output_type": "execute_result"
    }
   ],
   "source": [
    "import numpy as np\n",
    "import matplotlib.pyplot as plt\n",
    "import pandas as pd\n",
    "from itertools import permutations\n",
    "\n",
    "options = np.array([4,2, 18])\n",
    "costs = np.array([118, 60, 756])\n",
    "strategies = np.array(list(permutations(np.arange(len(options)))))\n",
    "avg = (15+6)/6.0\n",
    "\n",
    "def run_strategy(options, costs, strategy, avg=3.5, starting_cash = 0.0, verbose=False):\n",
    "    s = starting_cash\n",
    "    total_steps = 0\n",
    "    for i in strategy:\n",
    "        # how many times would we have to throw the dice to be able to buy the next option?\n",
    "        next_cost = costs[i] - s\n",
    "        t = np.ceil(next_cost/avg)\n",
    "        total_steps += t\n",
    "        if verbose:\n",
    "            print(f\"{total_steps}: Ran {t} steps with avg {avg:.2f}\")\n",
    "        # how much cash would be left afterwards?\n",
    "        s = t*avg - next_cost\n",
    "        if verbose:\n",
    "            print(f\"{total_steps} We have {s} left after buying\")\n",
    "        # update avg\n",
    "        avg += options[i]/6.0\n",
    "        if verbose:\n",
    "            print(f\"{total_steps} avg now at {avg:.2f}\")\n",
    "    return total_steps, s\n",
    "\n",
    "def batch_eval(options, costs, strategies, avg=3.5):\n",
    "    # run all strategies and record the results\n",
    "    r = np.zeros((len(strategies),3),\"float32\")\n",
    "    for i, strat in enumerate(strategies):\n",
    "        r[i,:2] = run_strategy(options, costs, strat, avg)\n",
    "\n",
    "    # compute how much money you would have if all\n",
    "    # strategies were run for the longest time of\n",
    "    # all:\n",
    "    final_avg = avg + options.sum()/6.0\n",
    "    r[:,2] = (r[:,0].max()-r[:,0])*final_avg + r[:,1]\n",
    "    data = pd.DataFrame(r,columns=[\"Runs\",\"e\",\"Final cash\"])\n",
    "    data = data.drop(\"e\", axis=1)\n",
    "    data[\"strategy\"] = [[options[x] for x in s] for s in strategies]\n",
    "    data = data.sort_values(\"Final cash\", ascending=False)\n",
    "    return data\n",
    "\n",
    "r = batch_eval(options, costs, strategies)\n",
    "r"
   ]
  },
  {
   "cell_type": "code",
   "execution_count": 49,
   "metadata": {},
   "outputs": [
    {
     "name": "stdout",
     "output_type": "stream",
     "text": [
      "44.0: Ran 44.0 steps with avg 3.50\n",
      "44.0 We have 1.0 left after buying\n",
      "44.0 avg now at 4.33\n",
      "53.0: Ran 9.0 steps with avg 4.33\n",
      "53.0 We have 3.0 left after buying\n",
      "53.0 avg now at 4.50\n",
      "61.0: Ran 8.0 steps with avg 4.50\n",
      "61.0 We have 2.0 left after buying\n",
      "61.0 avg now at 4.67\n",
      "69.0: Ran 8.0 steps with avg 4.67\n",
      "69.0 We have 0.3333333333333357 left after buying\n",
      "69.0 avg now at 4.83\n"
     ]
    },
    {
     "data": {
      "text/plain": [
       "(69.0, 0.3333333333333357)"
      ]
     },
     "execution_count": 49,
     "metadata": {},
     "output_type": "execute_result"
    }
   ],
   "source": [
    "run_strategy(options, costs, [3,0,1,2], verbose=True)"
   ]
  },
  {
   "cell_type": "code",
   "execution_count": 50,
   "metadata": {},
   "outputs": [
    {
     "name": "stdout",
     "output_type": "stream",
     "text": [
      "44.0: Ran 44.0 steps with avg 3.50\n",
      "44.0 We have 1.0 left after buying\n",
      "44.0 avg now at 4.33\n",
      "53.0: Ran 9.0 steps with avg 4.33\n",
      "53.0 We have 1.0 left after buying\n",
      "53.0 avg now at 4.50\n",
      "61.0: Ran 8.0 steps with avg 4.50\n",
      "61.0 We have 0.0 left after buying\n",
      "61.0 avg now at 4.67\n",
      "69.0: Ran 8.0 steps with avg 4.67\n",
      "69.0 We have 0.3333333333333357 left after buying\n",
      "69.0 avg now at 4.83\n"
     ]
    },
    {
     "data": {
      "text/plain": [
       "(69.0, 0.3333333333333357)"
      ]
     },
     "execution_count": 50,
     "metadata": {},
     "output_type": "execute_result"
    }
   ],
   "source": [
    "run_strategy(options, costs, [3,2,0,1], verbose=True)"
   ]
  },
  {
   "cell_type": "code",
   "execution_count": null,
   "metadata": {},
   "outputs": [],
   "source": []
  }
 ],
 "metadata": {
  "celltoolbar": "Slideshow",
  "kernelspec": {
   "display_name": "Python 3 (ipykernel)",
   "language": "python",
   "name": "python3"
  },
  "language_info": {
   "codemirror_mode": {
    "name": "ipython",
    "version": 3
   },
   "file_extension": ".py",
   "mimetype": "text/x-python",
   "name": "python",
   "nbconvert_exporter": "python",
   "pygments_lexer": "ipython3",
   "version": "3.9.7"
  }
 },
 "nbformat": 4,
 "nbformat_minor": 4
}
