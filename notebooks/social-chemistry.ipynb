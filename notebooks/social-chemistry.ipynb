{
 "cells": [
  {
   "cell_type": "markdown",
   "id": "278cc8d4",
   "metadata": {},
   "source": [
    "# Learning to split\n",
    "***\n",
    "Is it possible to teach a model to split a rule-of-thumb into action and judgement?\\\n",
    "Task:\n",
    "* Load and parse the Social-Chem-101 dataset consisting of ~300k rules of thumb, which were manually split into action and judgment\n",
    "* Train a seq2seq model on generating the sentence judgement + action from a given rot\n",
    "* Use the model to split the complete moral stories dataset, probably in another notebook though!"
   ]
  },
  {
   "cell_type": "code",
   "execution_count": 1,
   "id": "02fd8f44",
   "metadata": {},
   "outputs": [],
   "source": [
    "import pandas as pd\n",
    "import numpy as np\n",
    "import string\n",
    "\n",
    "pd.set_option('display.max_colwidth', 400)\n",
    "\n",
    "from ailignment.datasets import get_social_chem101"
   ]
  },
  {
   "cell_type": "code",
   "execution_count": 2,
   "id": "0d3abc9d",
   "metadata": {},
   "outputs": [
    {
     "data": {
      "text/html": [
       "<div>\n",
       "<style scoped>\n",
       "    .dataframe tbody tr th:only-of-type {\n",
       "        vertical-align: middle;\n",
       "    }\n",
       "\n",
       "    .dataframe tbody tr th {\n",
       "        vertical-align: top;\n",
       "    }\n",
       "\n",
       "    .dataframe thead th {\n",
       "        text-align: right;\n",
       "    }\n",
       "</style>\n",
       "<table border=\"1\" class=\"dataframe\">\n",
       "  <thead>\n",
       "    <tr style=\"text-align: right;\">\n",
       "      <th></th>\n",
       "      <th>rot-judgment</th>\n",
       "      <th>rot</th>\n",
       "      <th>action</th>\n",
       "    </tr>\n",
       "  </thead>\n",
       "  <tbody>\n",
       "    <tr>\n",
       "      <th>0</th>\n",
       "      <td>it's bad.</td>\n",
       "      <td>It's bad to do something that causes other people to lose trust in you.</td>\n",
       "      <td>doing something that causes other people to lose trust in you.</td>\n",
       "    </tr>\n",
       "    <tr>\n",
       "      <th>1</th>\n",
       "      <td>expected.</td>\n",
       "      <td>People are expected to participate in the big events in their friends' lives if asked.</td>\n",
       "      <td>people participating in the big events in their friends' lives if asked.</td>\n",
       "    </tr>\n",
       "    <tr>\n",
       "      <th>2</th>\n",
       "      <td>Partners should.</td>\n",
       "      <td>Partners should listen to each other's issues.</td>\n",
       "      <td>Listening to each other's issues.</td>\n",
       "    </tr>\n",
       "    <tr>\n",
       "      <th>3</th>\n",
       "      <td>it's okay.</td>\n",
       "      <td>It is okay to need space from family.</td>\n",
       "      <td>needing space from family.</td>\n",
       "    </tr>\n",
       "    <tr>\n",
       "      <th>4</th>\n",
       "      <td>it's good.</td>\n",
       "      <td>It's good to keep things clean.</td>\n",
       "      <td>keeping things clean.</td>\n",
       "    </tr>\n",
       "    <tr>\n",
       "      <th>...</th>\n",
       "      <td>...</td>\n",
       "      <td>...</td>\n",
       "      <td>...</td>\n",
       "    </tr>\n",
       "    <tr>\n",
       "      <th>355897</th>\n",
       "      <td>Is economical.</td>\n",
       "      <td>Making dinner is economical as opposed to eating out.</td>\n",
       "      <td>Making dinner instead of eating out.</td>\n",
       "    </tr>\n",
       "    <tr>\n",
       "      <th>355902</th>\n",
       "      <td>it's economical.</td>\n",
       "      <td>Making dinner is economical as opposed to eating out.</td>\n",
       "      <td>Making dinner instead of eating out</td>\n",
       "    </tr>\n",
       "    <tr>\n",
       "      <th>355918</th>\n",
       "      <td>is economical.</td>\n",
       "      <td>Making dinner is economical as opposed to eating out.</td>\n",
       "      <td>Making dinner as opposed to eating out.</td>\n",
       "    </tr>\n",
       "    <tr>\n",
       "      <th>355919</th>\n",
       "      <td>it is.</td>\n",
       "      <td>Making dinner is economical as opposed to eating out.</td>\n",
       "      <td>Making dinner is economical as opposed to eating out.</td>\n",
       "    </tr>\n",
       "    <tr>\n",
       "      <th>355921</th>\n",
       "      <td>expected.</td>\n",
       "      <td>Making dinner is economical as opposed to eating out.</td>\n",
       "      <td>making dinner is economical as opposed to eating out.</td>\n",
       "    </tr>\n",
       "  </tbody>\n",
       "</table>\n",
       "<p>232093 rows × 3 columns</p>\n",
       "</div>"
      ],
      "text/plain": [
       "            rot-judgment  \\\n",
       "0              it's bad.   \n",
       "1              expected.   \n",
       "2       Partners should.   \n",
       "3             it's okay.   \n",
       "4             it's good.   \n",
       "...                  ...   \n",
       "355897    Is economical.   \n",
       "355902  it's economical.   \n",
       "355918    is economical.   \n",
       "355919            it is.   \n",
       "355921         expected.   \n",
       "\n",
       "                                                                                           rot  \\\n",
       "0                      It's bad to do something that causes other people to lose trust in you.   \n",
       "1       People are expected to participate in the big events in their friends' lives if asked.   \n",
       "2                                               Partners should listen to each other's issues.   \n",
       "3                                                        It is okay to need space from family.   \n",
       "4                                                              It's good to keep things clean.   \n",
       "...                                                                                        ...   \n",
       "355897                                   Making dinner is economical as opposed to eating out.   \n",
       "355902                                   Making dinner is economical as opposed to eating out.   \n",
       "355918                                   Making dinner is economical as opposed to eating out.   \n",
       "355919                                   Making dinner is economical as opposed to eating out.   \n",
       "355921                                   Making dinner is economical as opposed to eating out.   \n",
       "\n",
       "                                                                          action  \n",
       "0                 doing something that causes other people to lose trust in you.  \n",
       "1       people participating in the big events in their friends' lives if asked.  \n",
       "2                                              Listening to each other's issues.  \n",
       "3                                                     needing space from family.  \n",
       "4                                                          keeping things clean.  \n",
       "...                                                                          ...  \n",
       "355897                                      Making dinner instead of eating out.  \n",
       "355902                                       Making dinner instead of eating out  \n",
       "355918                                   Making dinner as opposed to eating out.  \n",
       "355919                     Making dinner is economical as opposed to eating out.  \n",
       "355921                     making dinner is economical as opposed to eating out.  \n",
       "\n",
       "[232093 rows x 3 columns]"
      ]
     },
     "execution_count": 2,
     "metadata": {},
     "output_type": "execute_result"
    }
   ],
   "source": [
    "data = get_social_chem101()\n",
    "# do some data cleaning\n",
    "data.dropna(inplace=True)\n",
    "\n",
    "# add punctuation to each rot-judgment\n",
    "data[\"rot-judgment\"] = data[\"rot-judgment\"].apply(lambda x: x if x[-1] in \".!\" else x+\".\")\n",
    "\n",
    "data[\"targets\"] = data[\"rot-judgment\"] + \" \" + data[\"action\"]\n",
    "\n",
    "data[[\"rot-judgment\", \"rot\", \"action\"]]"
   ]
  },
  {
   "cell_type": "code",
   "execution_count": 3,
   "id": "63fc39f8",
   "metadata": {},
   "outputs": [],
   "source": [
    "# load the NLI model and its tokenizer\n",
    "from transformers import AutoTokenizer, AutoModelForSeq2SeqLM\n",
    "\n",
    "name = \"t5-small\"\n",
    "tokenizer = AutoTokenizer.from_pretrained(name)\n",
    "model = AutoModelForSeq2SeqLM.from_pretrained(name)"
   ]
  },
  {
   "cell_type": "code",
   "execution_count": 4,
   "id": "4c0c9c9f",
   "metadata": {},
   "outputs": [
    {
     "data": {
      "application/vnd.jupyter.widget-view+json": {
       "model_id": "2ef0952771e84a248a6e561122354b40",
       "version_major": 2,
       "version_minor": 0
      },
      "text/plain": [
       "  0%|          | 0/209 [00:00<?, ?ba/s]"
      ]
     },
     "metadata": {},
     "output_type": "display_data"
    },
    {
     "data": {
      "application/vnd.jupyter.widget-view+json": {
       "model_id": "4ec3c3ae4f504c5c9e6cf7473f556d6b",
       "version_major": 2,
       "version_minor": 0
      },
      "text/plain": [
       "  0%|          | 0/209 [00:00<?, ?ba/s]"
      ]
     },
     "metadata": {},
     "output_type": "display_data"
    },
    {
     "data": {
      "application/vnd.jupyter.widget-view+json": {
       "model_id": "1838f62c1b174a8a8fe8541a3b13acf6",
       "version_major": 2,
       "version_minor": 0
      },
      "text/plain": [
       "  0%|          | 0/24 [00:00<?, ?ba/s]"
      ]
     },
     "metadata": {},
     "output_type": "display_data"
    },
    {
     "data": {
      "application/vnd.jupyter.widget-view+json": {
       "model_id": "28833236a00a42aaa7d7067fb923c5ab",
       "version_major": 2,
       "version_minor": 0
      },
      "text/plain": [
       "  0%|          | 0/24 [00:00<?, ?ba/s]"
      ]
     },
     "metadata": {},
     "output_type": "display_data"
    }
   ],
   "source": [
    "# fix up huggingface dataset\n",
    "from datasets import Dataset\n",
    "from sklearn.model_selection import train_test_split\n",
    "\n",
    "def tok_inp(x):\n",
    "    return tokenizer(x[\"rot\"], padding=\"max_length\", truncation=True)\n",
    "\n",
    "def tok_out(x):\n",
    "    with tokenizer.as_target_tokenizer():\n",
    "        y = tokenizer(x[\"targets\"], padding=\"max_length\", truncation=True)\n",
    "    return y\n",
    "\n",
    "def preprocess(dataframe):\n",
    "    dataset = Dataset.from_pandas(dataframe)\n",
    "    dataset =  dataset.map(tok_inp, batched=True)\n",
    "    labels = dataset.map(tok_out, batched=True)\n",
    "    dataset = dataset.add_column(\"labels\", labels[\"input_ids\"])\n",
    "    return dataset\n",
    "\n",
    "train, test = train_test_split(data, test_size=0.1)\n",
    "\n",
    "train_data = preprocess(train)\n",
    "eval_data = preprocess(test)\n",
    "\n"
   ]
  },
  {
   "cell_type": "code",
   "execution_count": 6,
   "id": "9698b447",
   "metadata": {},
   "outputs": [],
   "source": [
    "from transformers import Seq2SeqTrainer, Seq2SeqTrainingArguments, DataCollatorForSeq2Seq\n",
    "\n",
    "import torch\n",
    "\n",
    "data_collator = DataCollatorForSeq2Seq(tokenizer, model)\n",
    "\n",
    "training_args = Seq2SeqTrainingArguments(\n",
    "    output_dir=\"results/\",\n",
    "    num_train_epochs=10,\n",
    "    per_device_train_batch_size=4,\n",
    "    per_device_eval_batch_size=4,\n",
    "    warmup_steps=500,\n",
    "    weight_decay=0.01,\n",
    "    logging_dir='./logs',\n",
    "    logging_steps=50,\n",
    "    evaluation_strategy=\"epoch\",\n",
    "    save_steps=10000,\n",
    ")"
   ]
  },
  {
   "cell_type": "code",
   "execution_count": null,
   "id": "5cde2084",
   "metadata": {
    "scrolled": true
   },
   "outputs": [
    {
     "name": "stderr",
     "output_type": "stream",
     "text": [
      "The following columns in the training set  don't have a corresponding argument in `T5ForConditionalGeneration.forward` and have been ignored: rot-id, rot-char-targeting, action, action-legal, rot-worker-id, rot-moral-foundations, action-agency, m, action-moral-judgment, breakdown-worker-id, __index_level_0__, rot, action-char-involved, action-hypothetical, rot-bad, n-characters, rot-agree, targets, rot-categorization, situation, rot-judgment, action-agree, action-pressure, area, split, situation-short-id, characters.\n",
      "***** Running training *****\n",
      "  Num examples = 208883\n",
      "  Num Epochs = 10\n",
      "  Instantaneous batch size per device = 4\n",
      "  Total train batch size (w. parallel, distributed & accumulation) = 4\n",
      "  Gradient Accumulation steps = 1\n",
      "  Total optimization steps = 522210\n"
     ]
    },
    {
     "data": {
      "text/html": [
       "\n",
       "    <div>\n",
       "      \n",
       "      <progress value='1465' max='522210' style='width:300px; height:20px; vertical-align: middle;'></progress>\n",
       "      [  1465/522210 08:09 < 48:24:18, 2.99 it/s, Epoch 0.03/10]\n",
       "    </div>\n",
       "    <table border=\"1\" class=\"dataframe\">\n",
       "  <thead>\n",
       "    <tr style=\"text-align: left;\">\n",
       "      <th>Epoch</th>\n",
       "      <th>Training Loss</th>\n",
       "      <th>Validation Loss</th>\n",
       "    </tr>\n",
       "  </thead>\n",
       "  <tbody>\n",
       "  </tbody>\n",
       "</table><p>"
      ],
      "text/plain": [
       "<IPython.core.display.HTML object>"
      ]
     },
     "metadata": {},
     "output_type": "display_data"
    }
   ],
   "source": [
    "trainer = Seq2SeqTrainer(\n",
    "    model=model,\n",
    "    args=training_args,\n",
    "    train_dataset=train_data,\n",
    "    eval_dataset=eval_data,\n",
    "    data_collator=data_collator,\n",
    "    tokenizer=tokenizer,\n",
    ")\n",
    "trainer.train()"
   ]
  },
  {
   "cell_type": "code",
   "execution_count": 3,
   "id": "f448f652",
   "metadata": {},
   "outputs": [
    {
     "data": {
      "text/plain": [
       "('../data/models/learn_to_split\\\\tokenizer_config.json',\n",
       " '../data/models/learn_to_split\\\\special_tokens_map.json',\n",
       " '../data/models/learn_to_split\\\\tokenizer.json')"
      ]
     },
     "execution_count": 3,
     "metadata": {},
     "output_type": "execute_result"
    }
   ],
   "source": [
    "path = \"../data/models/learn_to_split\"\n",
    "model.save_pretrained(path)\n",
    "tokenizer.save_pretrained(path)"
   ]
  },
  {
   "cell_type": "code",
   "execution_count": 41,
   "id": "fe8156df",
   "metadata": {},
   "outputs": [
    {
     "name": "stdout",
     "output_type": "stream",
     "text": [
      "[148, 225, 59, 5, 4781, 53, 39, 19665, 5, 1]\n",
      "You should not. hurting your siblings.</s>\n"
     ]
    }
   ],
   "source": [
    "tokens = tokenizer(\"You should not. hurting your siblings.\", add_special_tokens=True)[\"input_ids\"]\n",
    "print(tokens)\n",
    "print(tokenizer.decode(tokens))"
   ]
  },
  {
   "cell_type": "code",
   "execution_count": 19,
   "id": "1b1f0ac0",
   "metadata": {},
   "outputs": [
    {
     "data": {
      "text/html": [
       "<div>\n",
       "<style scoped>\n",
       "    .dataframe tbody tr th:only-of-type {\n",
       "        vertical-align: middle;\n",
       "    }\n",
       "\n",
       "    .dataframe tbody tr th {\n",
       "        vertical-align: top;\n",
       "    }\n",
       "\n",
       "    .dataframe thead th {\n",
       "        text-align: right;\n",
       "    }\n",
       "</style>\n",
       "<table border=\"1\" class=\"dataframe\">\n",
       "  <thead>\n",
       "    <tr style=\"text-align: right;\">\n",
       "      <th></th>\n",
       "      <th>rot</th>\n",
       "      <th>split</th>\n",
       "      <th>action</th>\n",
       "    </tr>\n",
       "  </thead>\n",
       "  <tbody>\n",
       "    <tr>\n",
       "      <th>291372</th>\n",
       "      <td>It is appropriate to contact child services if you know of a child being mentally, physically, or sexually abused.</td>\n",
       "      <td>It is appropriate. contacting child services if you know of a child being mentally, physically, or sexually abused.</td>\n",
       "      <td>contacting child services if you know of a child being mentally, physically, or sexually abused.</td>\n",
       "    </tr>\n",
       "    <tr>\n",
       "      <th>291975</th>\n",
       "      <td>It's expected that family members should stick together.</td>\n",
       "      <td>It's expected. family members sticking together.</td>\n",
       "      <td>sticking together with family members.</td>\n",
       "    </tr>\n",
       "    <tr>\n",
       "      <th>270432</th>\n",
       "      <td>If you think you're sick, you should see a doctor.</td>\n",
       "      <td>should. seeing a doctor when you think you're sick</td>\n",
       "      <td>seeing a doctor when you think you're sick.</td>\n",
       "    </tr>\n",
       "    <tr>\n",
       "      <th>216267</th>\n",
       "      <td>It's better to get a job after high school and not head straight to college.</td>\n",
       "      <td>It's better. getting a job after high school and not head straight to college.</td>\n",
       "      <td>getting a job after high school and not heading straight to college.</td>\n",
       "    </tr>\n",
       "    <tr>\n",
       "      <th>287788</th>\n",
       "      <td>It's okay to be annoyed when it takes the repair shop a long time to get you taken care of.</td>\n",
       "      <td>It's okay. being annoyed when it takes the repair shop a long time to get you taken care of.</td>\n",
       "      <td>being annoyed when it takes the repair shop a long time to get you taken care of.</td>\n",
       "    </tr>\n",
       "  </tbody>\n",
       "</table>\n",
       "</div>"
      ],
      "text/plain": [
       "                                                                                                                       rot  \\\n",
       "291372  It is appropriate to contact child services if you know of a child being mentally, physically, or sexually abused.   \n",
       "291975                                                            It's expected that family members should stick together.   \n",
       "270432                                                                  If you think you're sick, you should see a doctor.   \n",
       "216267                                        It's better to get a job after high school and not head straight to college.   \n",
       "287788                         It's okay to be annoyed when it takes the repair shop a long time to get you taken care of.   \n",
       "\n",
       "                                                                                                                      split  \\\n",
       "291372  It is appropriate. contacting child services if you know of a child being mentally, physically, or sexually abused.   \n",
       "291975                                                                     It's expected. family members sticking together.   \n",
       "270432                                                                   should. seeing a doctor when you think you're sick   \n",
       "216267                                       It's better. getting a job after high school and not head straight to college.   \n",
       "287788                         It's okay. being annoyed when it takes the repair shop a long time to get you taken care of.   \n",
       "\n",
       "                                                                                                  action  \n",
       "291372  contacting child services if you know of a child being mentally, physically, or sexually abused.  \n",
       "291975                                                            sticking together with family members.  \n",
       "270432                                                       seeing a doctor when you think you're sick.  \n",
       "216267                              getting a job after high school and not heading straight to college.  \n",
       "287788                 being annoyed when it takes the repair shop a long time to get you taken care of.  "
      ]
     },
     "execution_count": 19,
     "metadata": {},
     "output_type": "execute_result"
    }
   ],
   "source": [
    "hard_samples = [291372, 291975, 270432, 216267, 287788 ]\n",
    "sample = data.sample(10).copy()\n",
    "sample = data.loc[hard_samples]\n",
    "x = tokenizer(sample[\"rot\"].to_list(), padding=\"max_length\", return_tensors=\"pt\")\n",
    "x = {k:v.cuda() for k,v in x.items()}\n",
    "y = model.generate(**x, do_sample=True, min_length=1, max_length=100, top_p=0.95, top_k=50, num_beams=10, temperature=1.0)\n",
    "sample[\"split\"] = tokenizer.batch_decode(y, skip_special_tokens=True)\n",
    "sample[[\"rot\",\"split\", \"action\"]]"
   ]
  },
  {
   "cell_type": "code",
   "execution_count": 10,
   "id": "b4926957",
   "metadata": {},
   "outputs": [],
   "source": [
    "model = AutoModelForSeq2SeqLM.from_pretrained(\"../data/models/learn_to_split/\").cuda()"
   ]
  },
  {
   "cell_type": "code",
   "execution_count": null,
   "id": "3efd6dfc",
   "metadata": {},
   "outputs": [],
   "source": []
  }
 ],
 "metadata": {
  "kernelspec": {
   "display_name": "Python 3 (ipykernel)",
   "language": "python",
   "name": "python3"
  },
  "language_info": {
   "codemirror_mode": {
    "name": "ipython",
    "version": 3
   },
   "file_extension": ".py",
   "mimetype": "text/x-python",
   "name": "python",
   "nbconvert_exporter": "python",
   "pygments_lexer": "ipython3",
   "version": "3.9.6"
  }
 },
 "nbformat": 4,
 "nbformat_minor": 5
}
