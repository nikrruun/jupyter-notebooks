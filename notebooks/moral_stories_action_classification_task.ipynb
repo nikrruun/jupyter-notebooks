{
 "cells": [
  {
   "cell_type": "markdown",
   "id": "cc32c338",
   "metadata": {},
   "source": [
    "# Action classification for `Moral-Stories` dataset\n",
    "***\n",
    "This notebook is simply for training a model to predict whether an action $A$ is moral or immoral given a norm $N$.\n",
    "\n",
    "Results:\n",
    "* `roberta-large`: $0.916$\n",
    "* `ynie/roberta-large-snli_mnli_fever_anli_R1_R2_R3-nli` $0.926$"
   ]
  },
  {
   "cell_type": "code",
   "execution_count": 2,
   "id": "4bac0a6b",
   "metadata": {},
   "outputs": [],
   "source": [
    "import pandas as pd\n",
    "import numpy as np\n",
    "\n",
    "pd.set_option('display.max_colwidth', 400)"
   ]
  },
  {
   "cell_type": "code",
   "execution_count": 3,
   "id": "32d671e2",
   "metadata": {},
   "outputs": [],
   "source": [
    "dataframe = pd.read_pickle(\"../data/moral_stories_proto_l2s.dat\")"
   ]
  },
  {
   "cell_type": "code",
   "execution_count": 3,
   "id": "cf112496",
   "metadata": {
    "scrolled": true
   },
   "outputs": [],
   "source": [
    "from sklearn.model_selection import train_test_split\n",
    "from ailignment.datasets.moral_stories import make_action_classification_dataframe\n",
    "\n",
    "data = make_action_classification_dataframe(dataframe)\n",
    "data.drop(\"__index_level_0__\",axis=1, inplace=True)\n",
    "train, test = train_test_split(data, test_size=0.1)"
   ]
  },
  {
   "cell_type": "code",
   "execution_count": 4,
   "id": "69f26f84",
   "metadata": {},
   "outputs": [
    {
     "name": "stderr",
     "output_type": "stream",
     "text": [
      "Some weights of the model checkpoint at ynie/roberta-large-snli_mnli_fever_anli_R1_R2_R3-nli were not used when initializing RobertaForSequenceClassification: ['roberta.pooler.dense.bias', 'roberta.pooler.dense.weight']\n",
      "- This IS expected if you are initializing RobertaForSequenceClassification from the checkpoint of a model trained on another task or with another architecture (e.g. initializing a BertForSequenceClassification model from a BertForPreTraining model).\n",
      "- This IS NOT expected if you are initializing RobertaForSequenceClassification from the checkpoint of a model that you expect to be exactly identical (initializing a BertForSequenceClassification model from a BertForSequenceClassification model).\n"
     ]
    }
   ],
   "source": [
    "from transformers import AutoTokenizer, AutoModelForSequenceClassification, AutoConfig\n",
    "\n",
    "name = \"roberta-large\"\n",
    "name = \"ynie/roberta-large-snli_mnli_fever_anli_R1_R2_R3-nli\"\n",
    "tokenizer = AutoTokenizer.from_pretrained(name)\n",
    "model = AutoModelForSequenceClassification.from_pretrained(name)"
   ]
  },
  {
   "cell_type": "code",
   "execution_count": 5,
   "id": "a151a337",
   "metadata": {},
   "outputs": [
    {
     "data": {
      "application/vnd.jupyter.widget-view+json": {
       "model_id": "15c1cf9fa2284eefbc34fe1ed39753fc",
       "version_major": 2,
       "version_minor": 0
      },
      "text/plain": [
       "  0%|          | 0/22 [00:00<?, ?ba/s]"
      ]
     },
     "metadata": {},
     "output_type": "display_data"
    },
    {
     "data": {
      "application/vnd.jupyter.widget-view+json": {
       "model_id": "bd3a3fcca7974dd49a06e967572cd99b",
       "version_major": 2,
       "version_minor": 0
      },
      "text/plain": [
       "  0%|          | 0/3 [00:00<?, ?ba/s]"
      ]
     },
     "metadata": {},
     "output_type": "display_data"
    }
   ],
   "source": [
    "# split into val data\n",
    "# convert the dataframe to a huggingface dataset and tokenize the sentences\n",
    "from datasets import Dataset\n",
    "\n",
    "def tok(samples):\n",
    "    return tokenizer(samples[\"action\"], samples[\"norm\"], padding=\"max_length\", \n",
    "                     truncation=True, return_token_type_ids=True)\n",
    "\n",
    "train_data = Dataset.from_pandas(train)\n",
    "train_data = train_data.map(tok, batched=True)\n",
    "val_data = Dataset.from_pandas(test)\n",
    "val_data = val_data.map(tok, batched=True)"
   ]
  },
  {
   "cell_type": "code",
   "execution_count": 6,
   "id": "978aafc3",
   "metadata": {},
   "outputs": [],
   "source": [
    "# run evaluation\n",
    "from transformers import Trainer, TrainingArguments\n",
    "import torch\n",
    "from ailignment.datasets.util import get_accuracy_metric\n",
    "\n",
    "training_args = TrainingArguments(\n",
    "    output_dir=\"/data/kiehne/results/action_classification/\",\n",
    "    num_train_epochs=5,\n",
    "    per_device_train_batch_size=1,\n",
    "    per_device_eval_batch_size=1,\n",
    "    gradient_accumulation_steps=4,\n",
    "    warmup_steps=500,\n",
    "    weight_decay=0.01,\n",
    "    logging_dir='logs/',\n",
    "    log_level=\"info\",\n",
    "    logging_steps=500,\n",
    "    evaluation_strategy=\"epoch\",\n",
    "    save_steps=30000000,\n",
    "    save_strategy=\"epoch\",\n",
    "    learning_rate=1e-5\n",
    "    \n",
    ")\n",
    "acc_metric = get_accuracy_metric()"
   ]
  },
  {
   "cell_type": "code",
   "execution_count": 7,
   "id": "87c7316b",
   "metadata": {},
   "outputs": [
    {
     "name": "stderr",
     "output_type": "stream",
     "text": [
      "The following columns in the training set  don't have a corresponding argument in `RobertaForSequenceClassification.forward` and have been ignored: norm, consequence, __index_level_0__, situation, norm_action, action, intention, norm_sentiment, l2s_output, norm_value, norm_storyfied, ID, actor_name.\n",
      "***** Running training *****\n",
      "  Num examples = 21592\n",
      "  Num Epochs = 5\n",
      "  Instantaneous batch size per device = 1\n",
      "  Total train batch size (w. parallel, distributed & accumulation) = 8\n",
      "  Gradient Accumulation steps = 4\n",
      "  Total optimization steps = 13495\n",
      "/home/kiehne/workspace/jupyter-notebooks/env/lib/python3.9/site-packages/torch/nn/parallel/_functions.py:68: UserWarning: Was asked to gather along dimension 0, but all input tensors were scalars; will instead unsqueeze and return a vector.\n",
      "  warnings.warn('Was asked to gather along dimension 0, but all '\n"
     ]
    },
    {
     "data": {
      "text/html": [
       "\n",
       "    <div>\n",
       "      \n",
       "      <progress value='13495' max='13495' style='width:300px; height:20px; vertical-align: middle;'></progress>\n",
       "      [13495/13495 8:33:24, Epoch 5/5]\n",
       "    </div>\n",
       "    <table border=\"1\" class=\"dataframe\">\n",
       "  <thead>\n",
       "    <tr style=\"text-align: left;\">\n",
       "      <th>Epoch</th>\n",
       "      <th>Training Loss</th>\n",
       "      <th>Validation Loss</th>\n",
       "      <th>Accuracy</th>\n",
       "    </tr>\n",
       "  </thead>\n",
       "  <tbody>\n",
       "    <tr>\n",
       "      <td>1</td>\n",
       "      <td>0.363400</td>\n",
       "      <td>0.270084</td>\n",
       "      <td>0.915417</td>\n",
       "    </tr>\n",
       "    <tr>\n",
       "      <td>2</td>\n",
       "      <td>0.268200</td>\n",
       "      <td>0.471422</td>\n",
       "      <td>0.909583</td>\n",
       "    </tr>\n",
       "    <tr>\n",
       "      <td>3</td>\n",
       "      <td>0.146200</td>\n",
       "      <td>0.386422</td>\n",
       "      <td>0.923750</td>\n",
       "    </tr>\n",
       "    <tr>\n",
       "      <td>4</td>\n",
       "      <td>0.080000</td>\n",
       "      <td>0.538192</td>\n",
       "      <td>0.923333</td>\n",
       "    </tr>\n",
       "    <tr>\n",
       "      <td>5</td>\n",
       "      <td>0.036200</td>\n",
       "      <td>0.586744</td>\n",
       "      <td>0.926250</td>\n",
       "    </tr>\n",
       "  </tbody>\n",
       "</table><p>"
      ],
      "text/plain": [
       "<IPython.core.display.HTML object>"
      ]
     },
     "metadata": {},
     "output_type": "display_data"
    },
    {
     "name": "stderr",
     "output_type": "stream",
     "text": [
      "The following columns in the evaluation set  don't have a corresponding argument in `RobertaForSequenceClassification.forward` and have been ignored: norm, consequence, __index_level_0__, situation, norm_action, action, intention, norm_sentiment, l2s_output, norm_value, norm_storyfied, ID, actor_name.\n",
      "***** Running Evaluation *****\n",
      "  Num examples = 2400\n",
      "  Batch size = 2\n",
      "Saving model checkpoint to /data/kiehne/results/action_classification_transfer/checkpoint-2699\n",
      "Configuration saved in /data/kiehne/results/action_classification_transfer/checkpoint-2699/config.json\n",
      "Model weights saved in /data/kiehne/results/action_classification_transfer/checkpoint-2699/pytorch_model.bin\n",
      "/home/kiehne/workspace/jupyter-notebooks/env/lib/python3.9/site-packages/torch/nn/parallel/_functions.py:68: UserWarning: Was asked to gather along dimension 0, but all input tensors were scalars; will instead unsqueeze and return a vector.\n",
      "  warnings.warn('Was asked to gather along dimension 0, but all '\n",
      "The following columns in the evaluation set  don't have a corresponding argument in `RobertaForSequenceClassification.forward` and have been ignored: norm, consequence, __index_level_0__, situation, norm_action, action, intention, norm_sentiment, l2s_output, norm_value, norm_storyfied, ID, actor_name.\n",
      "***** Running Evaluation *****\n",
      "  Num examples = 2400\n",
      "  Batch size = 2\n",
      "Saving model checkpoint to /data/kiehne/results/action_classification_transfer/checkpoint-5398\n",
      "Configuration saved in /data/kiehne/results/action_classification_transfer/checkpoint-5398/config.json\n",
      "Model weights saved in /data/kiehne/results/action_classification_transfer/checkpoint-5398/pytorch_model.bin\n",
      "/home/kiehne/workspace/jupyter-notebooks/env/lib/python3.9/site-packages/torch/nn/parallel/_functions.py:68: UserWarning: Was asked to gather along dimension 0, but all input tensors were scalars; will instead unsqueeze and return a vector.\n",
      "  warnings.warn('Was asked to gather along dimension 0, but all '\n",
      "The following columns in the evaluation set  don't have a corresponding argument in `RobertaForSequenceClassification.forward` and have been ignored: norm, consequence, __index_level_0__, situation, norm_action, action, intention, norm_sentiment, l2s_output, norm_value, norm_storyfied, ID, actor_name.\n",
      "***** Running Evaluation *****\n",
      "  Num examples = 2400\n",
      "  Batch size = 2\n",
      "Saving model checkpoint to /data/kiehne/results/action_classification_transfer/checkpoint-8097\n",
      "Configuration saved in /data/kiehne/results/action_classification_transfer/checkpoint-8097/config.json\n",
      "Model weights saved in /data/kiehne/results/action_classification_transfer/checkpoint-8097/pytorch_model.bin\n",
      "/home/kiehne/workspace/jupyter-notebooks/env/lib/python3.9/site-packages/torch/nn/parallel/_functions.py:68: UserWarning: Was asked to gather along dimension 0, but all input tensors were scalars; will instead unsqueeze and return a vector.\n",
      "  warnings.warn('Was asked to gather along dimension 0, but all '\n",
      "The following columns in the evaluation set  don't have a corresponding argument in `RobertaForSequenceClassification.forward` and have been ignored: norm, consequence, __index_level_0__, situation, norm_action, action, intention, norm_sentiment, l2s_output, norm_value, norm_storyfied, ID, actor_name.\n",
      "***** Running Evaluation *****\n",
      "  Num examples = 2400\n",
      "  Batch size = 2\n",
      "Saving model checkpoint to /data/kiehne/results/action_classification_transfer/checkpoint-10796\n",
      "Configuration saved in /data/kiehne/results/action_classification_transfer/checkpoint-10796/config.json\n",
      "Model weights saved in /data/kiehne/results/action_classification_transfer/checkpoint-10796/pytorch_model.bin\n",
      "/home/kiehne/workspace/jupyter-notebooks/env/lib/python3.9/site-packages/torch/nn/parallel/_functions.py:68: UserWarning: Was asked to gather along dimension 0, but all input tensors were scalars; will instead unsqueeze and return a vector.\n",
      "  warnings.warn('Was asked to gather along dimension 0, but all '\n",
      "The following columns in the evaluation set  don't have a corresponding argument in `RobertaForSequenceClassification.forward` and have been ignored: norm, consequence, __index_level_0__, situation, norm_action, action, intention, norm_sentiment, l2s_output, norm_value, norm_storyfied, ID, actor_name.\n",
      "***** Running Evaluation *****\n",
      "  Num examples = 2400\n",
      "  Batch size = 2\n",
      "Saving model checkpoint to /data/kiehne/results/action_classification_transfer/checkpoint-13495\n",
      "Configuration saved in /data/kiehne/results/action_classification_transfer/checkpoint-13495/config.json\n",
      "Model weights saved in /data/kiehne/results/action_classification_transfer/checkpoint-13495/pytorch_model.bin\n",
      "\n",
      "\n",
      "Training completed. Do not forget to share your model on huggingface.co/models =)\n",
      "\n",
      "\n"
     ]
    }
   ],
   "source": [
    "trainer = Trainer(\n",
    "    model=model,\n",
    "    args=training_args,\n",
    "    train_dataset=train_data,\n",
    "    eval_dataset=val_data,\n",
    "    compute_metrics=acc_metric,\n",
    ")\n",
    "logs = trainer.train()"
   ]
  },
  {
   "cell_type": "code",
   "execution_count": null,
   "id": "dca22f19",
   "metadata": {},
   "outputs": [],
   "source": []
  }
 ],
 "metadata": {
  "kernelspec": {
   "display_name": "Python 3 (ipykernel)",
   "language": "python",
   "name": "python3"
  },
  "language_info": {
   "codemirror_mode": {
    "name": "ipython",
    "version": 3
   },
   "file_extension": ".py",
   "mimetype": "text/x-python",
   "name": "python",
   "nbconvert_exporter": "python",
   "pygments_lexer": "ipython3",
   "version": "3.9.7"
  }
 },
 "nbformat": 4,
 "nbformat_minor": 5
}
