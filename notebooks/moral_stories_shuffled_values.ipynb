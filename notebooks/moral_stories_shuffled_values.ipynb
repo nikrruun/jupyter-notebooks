{
 "cells": [
  {
   "cell_type": "markdown",
   "id": "3e069b4c",
   "metadata": {},
   "source": [
    "# Shuffling norm judgments\n",
    "***\n",
    "Does the value of a norm have impact on the classification accuracy? We test this hypothesis by applying the `Learn2Split` model and shuffling of the value judgments. In the end, we train the action classification task and compare.\n",
    "\n",
    "Shuffle strategies:\n",
    "* Truly randomn\n",
    "    * Will cause most errornous sentences of the strategies\n",
    "* Mirroring polarity: Choose the closest opposite value.\n",
    "* Single polarity: All values are the same\n",
    "    * This effectively reduces the task to NLI! Here we HAVE to be better!\n",
    "    \n",
    "    \n",
    "### Approach\n",
    "***\n",
    "The `L2S` model not only splits a norm, but also conjugates the action:\n",
    "* `It's wrong to become addicted to gambling.` becomes\n",
    "    * `It's wrong`\n",
    "    * `becoming addicted to gambling`\n",
    "\n",
    "Since the splitting is not reversible as is, there are two possible options to consider:\n",
    "1. Re-run the original model on concatenated `L2S` output. If the accuracy does not drop, then we can simply do our comparison experiments on `L2S` concat'ed. \n",
    "2. Train a `L2S` reverse model (*sigh*)\n",
    "\n",
    "##### ...and then:\n",
    "Train the action classification tasks"
   ]
  },
  {
   "cell_type": "code",
   "execution_count": 3,
   "id": "70e74d94",
   "metadata": {},
   "outputs": [],
   "source": [
    "import pandas as pd\n",
    "import numpy as np\n",
    "from tqdm import tqdm\n",
    "\n",
    "from sklearn.model_selection import train_test_split\n",
    "from datasets import Dataset\n",
    "\n",
    "from transformers import Trainer, TrainingArguments\n",
    "from transformers import AutoTokenizer, AutoModelForSequenceClassification, AutoConfig\n",
    "import transformers\n",
    "\n",
    "import torch\n",
    "\n",
    "from ailignment.datasets.util import get_accuracy_metric\n",
    "from ailignment.datasets.moral_stories import make_action_classification_dataframe, get_random_value_dataset\n",
    "import ailignment.datasets.moral_stories_clustered as msc\n",
    "from ailignment.training import sequence_classification\n",
    "\n",
    "pd.set_option('display.max_colwidth', 400)\n",
    "dataframe = pd.read_pickle(\"../data/moral_stories_proto_l2s.dat\")\n",
    "\n",
    "# a function to convert train and test dataframes to huggingface datasets\n",
    "def convert_hf_dataset(tokenizer, train, test, padding=\"max_length\"):\n",
    "    def tok(samples):\n",
    "        return tokenizer(samples[\"action\"], samples[\"norm\"], padding=padding, \n",
    "                         truncation=True, return_token_type_ids=True)\n",
    "\n",
    "    train_data = Dataset.from_pandas(train)\n",
    "    train_data = train_data.map(tok, batched=True)\n",
    "    val_data = Dataset.from_pandas(test)\n",
    "    val_data = val_data.map(tok, batched=True)\n",
    "    return train_data, val_data"
   ]
  },
  {
   "cell_type": "markdown",
   "id": "6a0b69df",
   "metadata": {},
   "source": [
    "### Action classification on `L2S` concatenated\n",
    "***\n",
    "Question: If we concatenate the norm judgment with the conjugated norm action, does the accuracy change?\n",
    "\n",
    "The task was run for 5 epochs on the `roberta-large` model:\n",
    "* Epoch 5: 0.913 accuracy\n",
    "\n",
    "Although not a thorough analysis in any capacity, we argue that the performance is not significantly reduced by the simplistic concatenation approach. The upcoming experiments on the shuffled datasets can be carried out without greater worries!"
   ]
  },
  {
   "cell_type": "code",
   "execution_count": 2,
   "id": "a2e7d0e5",
   "metadata": {},
   "outputs": [],
   "source": [
    "data = dataframe.copy()\n",
    "data[\"norm\"] = data[\"norm_value\"] + \" \" + data[\"norm_action\"]\n",
    "train, test = make_action_classification_dataframe(data, test_size=0.1)"
   ]
  },
  {
   "cell_type": "code",
   "execution_count": 3,
   "id": "bd16cd10",
   "metadata": {},
   "outputs": [
    {
     "name": "stderr",
     "output_type": "stream",
     "text": [
      "Some weights of the model checkpoint at bert-large-uncased were not used when initializing BertForSequenceClassification: ['cls.predictions.transform.LayerNorm.weight', 'cls.predictions.transform.dense.weight', 'cls.seq_relationship.bias', 'cls.seq_relationship.weight', 'cls.predictions.bias', 'cls.predictions.transform.dense.bias', 'cls.predictions.decoder.weight', 'cls.predictions.transform.LayerNorm.bias']\n",
      "- This IS expected if you are initializing BertForSequenceClassification from the checkpoint of a model trained on another task or with another architecture (e.g. initializing a BertForSequenceClassification model from a BertForPreTraining model).\n",
      "- This IS NOT expected if you are initializing BertForSequenceClassification from the checkpoint of a model that you expect to be exactly identical (initializing a BertForSequenceClassification model from a BertForSequenceClassification model).\n",
      "Some weights of BertForSequenceClassification were not initialized from the model checkpoint at bert-large-uncased and are newly initialized: ['classifier.weight', 'classifier.bias']\n",
      "You should probably TRAIN this model on a down-stream task to be able to use it for predictions and inference.\n"
     ]
    },
    {
     "data": {
      "application/vnd.jupyter.widget-view+json": {
       "model_id": "eff2664eb14a4d1ea8f12be479034397",
       "version_major": 2,
       "version_minor": 0
      },
      "text/plain": [
       "  0%|          | 0/22 [00:00<?, ?ba/s]"
      ]
     },
     "metadata": {},
     "output_type": "display_data"
    },
    {
     "data": {
      "application/vnd.jupyter.widget-view+json": {
       "model_id": "7928211955f84b929d80e8e4eb1cea01",
       "version_major": 2,
       "version_minor": 0
      },
      "text/plain": [
       "  0%|          | 0/3 [00:00<?, ?ba/s]"
      ]
     },
     "metadata": {},
     "output_type": "display_data"
    }
   ],
   "source": [
    "name = \"bert-large-uncased\"\n",
    "#name = \"ynie/roberta-large-snli_mnli_fever_anli_R1_R2_R3-nli\"\n",
    "tokenizer = AutoTokenizer.from_pretrained(name)\n",
    "model = AutoModelForSequenceClassification.from_pretrained(name)\n",
    "\n",
    "train_data, val_data = convert_hf_dataset(tokenizer, train, test)"
   ]
  },
  {
   "cell_type": "code",
   "execution_count": 4,
   "id": "0d731ec1",
   "metadata": {},
   "outputs": [],
   "source": [
    "training_args = TrainingArguments(\n",
    "    output_dir=\"/data/kiehne/results/shuffled_values/random/bert-large-uncased/0.50/\",\n",
    "    num_train_epochs=5,\n",
    "    per_device_train_batch_size=1,\n",
    "    per_device_eval_batch_size=1,\n",
    "    gradient_accumulation_steps=4,\n",
    "    warmup_steps=500,\n",
    "    weight_decay=0.01,\n",
    "    logging_dir='logs/',\n",
    "    log_level=\"info\",\n",
    "    logging_steps=500,\n",
    "    evaluation_strategy=\"epoch\",\n",
    "    save_steps=30000000,\n",
    "    save_strategy=\"epoch\",\n",
    "    learning_rate=1e-6\n",
    ")\n",
    "acc_metric = get_accuracy_metric()"
   ]
  },
  {
   "cell_type": "code",
   "execution_count": 5,
   "id": "f50a80d4",
   "metadata": {
    "scrolled": true
   },
   "outputs": [
    {
     "name": "stderr",
     "output_type": "stream",
     "text": [
      "The following columns in the training set  don't have a corresponding argument in `BertForSequenceClassification.forward` and have been ignored: intention, l2s_output, norm_action, ID, norm, norm_storyfied, situation, __index_level_0__, consequence, norm_value, norm_sentiment, action, actor_name.\n",
      "***** Running training *****\n",
      "  Num examples = 21592\n",
      "  Num Epochs = 5\n",
      "  Instantaneous batch size per device = 1\n",
      "  Total train batch size (w. parallel, distributed & accumulation) = 8\n",
      "  Gradient Accumulation steps = 4\n",
      "  Total optimization steps = 13495\n",
      "/home/kiehne/workspace/jupyter-notebooks/env/lib/python3.9/site-packages/torch/nn/parallel/_functions.py:68: UserWarning: Was asked to gather along dimension 0, but all input tensors were scalars; will instead unsqueeze and return a vector.\n",
      "  warnings.warn('Was asked to gather along dimension 0, but all '\n"
     ]
    },
    {
     "data": {
      "text/html": [
       "\n",
       "    <div>\n",
       "      \n",
       "      <progress value='2' max='13495' style='width:300px; height:20px; vertical-align: middle;'></progress>\n",
       "      [    2/13495 : < :, Epoch 0.00/5]\n",
       "    </div>\n",
       "    <table border=\"1\" class=\"dataframe\">\n",
       "  <thead>\n",
       "    <tr style=\"text-align: left;\">\n",
       "      <th>Epoch</th>\n",
       "      <th>Training Loss</th>\n",
       "      <th>Validation Loss</th>\n",
       "    </tr>\n",
       "  </thead>\n",
       "  <tbody>\n",
       "  </tbody>\n",
       "</table><p>"
      ],
      "text/plain": [
       "<IPython.core.display.HTML object>"
      ]
     },
     "metadata": {},
     "output_type": "display_data"
    },
    {
     "ename": "RuntimeError",
     "evalue": "Caught RuntimeError in replica 0 on device 0.\nOriginal Traceback (most recent call last):\n  File \"/home/kiehne/workspace/jupyter-notebooks/env/lib/python3.9/site-packages/torch/nn/parallel/parallel_apply.py\", line 61, in _worker\n    output = module(*input, **kwargs)\n  File \"/home/kiehne/workspace/jupyter-notebooks/env/lib/python3.9/site-packages/torch/nn/modules/module.py\", line 1102, in _call_impl\n    return forward_call(*input, **kwargs)\n  File \"/home/kiehne/workspace/jupyter-notebooks/env/lib/python3.9/site-packages/transformers/models/bert/modeling_bert.py\", line 1524, in forward\n    outputs = self.bert(\n  File \"/home/kiehne/workspace/jupyter-notebooks/env/lib/python3.9/site-packages/torch/nn/modules/module.py\", line 1102, in _call_impl\n    return forward_call(*input, **kwargs)\n  File \"/home/kiehne/workspace/jupyter-notebooks/env/lib/python3.9/site-packages/transformers/models/bert/modeling_bert.py\", line 990, in forward\n    encoder_outputs = self.encoder(\n  File \"/home/kiehne/workspace/jupyter-notebooks/env/lib/python3.9/site-packages/torch/nn/modules/module.py\", line 1102, in _call_impl\n    return forward_call(*input, **kwargs)\n  File \"/home/kiehne/workspace/jupyter-notebooks/env/lib/python3.9/site-packages/transformers/models/bert/modeling_bert.py\", line 582, in forward\n    layer_outputs = layer_module(\n  File \"/home/kiehne/workspace/jupyter-notebooks/env/lib/python3.9/site-packages/torch/nn/modules/module.py\", line 1102, in _call_impl\n    return forward_call(*input, **kwargs)\n  File \"/home/kiehne/workspace/jupyter-notebooks/env/lib/python3.9/site-packages/transformers/models/bert/modeling_bert.py\", line 470, in forward\n    self_attention_outputs = self.attention(\n  File \"/home/kiehne/workspace/jupyter-notebooks/env/lib/python3.9/site-packages/torch/nn/modules/module.py\", line 1102, in _call_impl\n    return forward_call(*input, **kwargs)\n  File \"/home/kiehne/workspace/jupyter-notebooks/env/lib/python3.9/site-packages/transformers/models/bert/modeling_bert.py\", line 401, in forward\n    self_outputs = self.self(\n  File \"/home/kiehne/workspace/jupyter-notebooks/env/lib/python3.9/site-packages/torch/nn/modules/module.py\", line 1102, in _call_impl\n    return forward_call(*input, **kwargs)\n  File \"/home/kiehne/workspace/jupyter-notebooks/env/lib/python3.9/site-packages/transformers/models/bert/modeling_bert.py\", line 333, in forward\n    attention_probs = self.dropout(attention_probs)\n  File \"/home/kiehne/workspace/jupyter-notebooks/env/lib/python3.9/site-packages/torch/nn/modules/module.py\", line 1102, in _call_impl\n    return forward_call(*input, **kwargs)\n  File \"/home/kiehne/workspace/jupyter-notebooks/env/lib/python3.9/site-packages/torch/nn/modules/dropout.py\", line 58, in forward\n    return F.dropout(input, self.p, self.training, self.inplace)\n  File \"/home/kiehne/workspace/jupyter-notebooks/env/lib/python3.9/site-packages/torch/nn/functional.py\", line 1169, in dropout\n    return _VF.dropout_(input, p, training) if inplace else _VF.dropout(input, p, training)\nRuntimeError: CUDA out of memory. Tried to allocate 16.00 MiB (GPU 0; 10.76 GiB total capacity; 5.54 GiB already allocated; 9.31 MiB free; 5.60 GiB reserved in total by PyTorch) If reserved memory is >> allocated memory try setting max_split_size_mb to avoid fragmentation.  See documentation for Memory Management and PYTORCH_CUDA_ALLOC_CONF\n",
     "output_type": "error",
     "traceback": [
      "\u001b[0;31m---------------------------------------------------------------------------\u001b[0m",
      "\u001b[0;31mRuntimeError\u001b[0m                              Traceback (most recent call last)",
      "\u001b[0;32m/tmp/ipykernel_29720/3415396853.py\u001b[0m in \u001b[0;36m<module>\u001b[0;34m\u001b[0m\n\u001b[1;32m      6\u001b[0m     \u001b[0mcompute_metrics\u001b[0m\u001b[0;34m=\u001b[0m\u001b[0macc_metric\u001b[0m\u001b[0;34m,\u001b[0m\u001b[0;34m\u001b[0m\u001b[0;34m\u001b[0m\u001b[0m\n\u001b[1;32m      7\u001b[0m )\n\u001b[0;32m----> 8\u001b[0;31m \u001b[0mlogs\u001b[0m \u001b[0;34m=\u001b[0m \u001b[0mtrainer\u001b[0m\u001b[0;34m.\u001b[0m\u001b[0mtrain\u001b[0m\u001b[0;34m(\u001b[0m\u001b[0;34m)\u001b[0m\u001b[0;34m\u001b[0m\u001b[0;34m\u001b[0m\u001b[0m\n\u001b[0m",
      "\u001b[0;32m~/workspace/jupyter-notebooks/env/lib/python3.9/site-packages/transformers/trainer.py\u001b[0m in \u001b[0;36mtrain\u001b[0;34m(self, resume_from_checkpoint, trial, ignore_keys_for_eval, **kwargs)\u001b[0m\n\u001b[1;32m   1282\u001b[0m                         \u001b[0mtr_loss\u001b[0m \u001b[0;34m+=\u001b[0m \u001b[0mself\u001b[0m\u001b[0;34m.\u001b[0m\u001b[0mtraining_step\u001b[0m\u001b[0;34m(\u001b[0m\u001b[0mmodel\u001b[0m\u001b[0;34m,\u001b[0m \u001b[0minputs\u001b[0m\u001b[0;34m)\u001b[0m\u001b[0;34m\u001b[0m\u001b[0;34m\u001b[0m\u001b[0m\n\u001b[1;32m   1283\u001b[0m                 \u001b[0;32melse\u001b[0m\u001b[0;34m:\u001b[0m\u001b[0;34m\u001b[0m\u001b[0;34m\u001b[0m\u001b[0m\n\u001b[0;32m-> 1284\u001b[0;31m                     \u001b[0mtr_loss\u001b[0m \u001b[0;34m+=\u001b[0m \u001b[0mself\u001b[0m\u001b[0;34m.\u001b[0m\u001b[0mtraining_step\u001b[0m\u001b[0;34m(\u001b[0m\u001b[0mmodel\u001b[0m\u001b[0;34m,\u001b[0m \u001b[0minputs\u001b[0m\u001b[0;34m)\u001b[0m\u001b[0;34m\u001b[0m\u001b[0;34m\u001b[0m\u001b[0m\n\u001b[0m\u001b[1;32m   1285\u001b[0m                 \u001b[0mself\u001b[0m\u001b[0;34m.\u001b[0m\u001b[0mcurrent_flos\u001b[0m \u001b[0;34m+=\u001b[0m \u001b[0mfloat\u001b[0m\u001b[0;34m(\u001b[0m\u001b[0mself\u001b[0m\u001b[0;34m.\u001b[0m\u001b[0mfloating_point_ops\u001b[0m\u001b[0;34m(\u001b[0m\u001b[0minputs\u001b[0m\u001b[0;34m)\u001b[0m\u001b[0;34m)\u001b[0m\u001b[0;34m\u001b[0m\u001b[0;34m\u001b[0m\u001b[0m\n\u001b[1;32m   1286\u001b[0m \u001b[0;34m\u001b[0m\u001b[0m\n",
      "\u001b[0;32m~/workspace/jupyter-notebooks/env/lib/python3.9/site-packages/transformers/trainer.py\u001b[0m in \u001b[0;36mtraining_step\u001b[0;34m(self, model, inputs)\u001b[0m\n\u001b[1;32m   1787\u001b[0m                 \u001b[0mloss\u001b[0m \u001b[0;34m=\u001b[0m \u001b[0mself\u001b[0m\u001b[0;34m.\u001b[0m\u001b[0mcompute_loss\u001b[0m\u001b[0;34m(\u001b[0m\u001b[0mmodel\u001b[0m\u001b[0;34m,\u001b[0m \u001b[0minputs\u001b[0m\u001b[0;34m)\u001b[0m\u001b[0;34m\u001b[0m\u001b[0;34m\u001b[0m\u001b[0m\n\u001b[1;32m   1788\u001b[0m         \u001b[0;32melse\u001b[0m\u001b[0;34m:\u001b[0m\u001b[0;34m\u001b[0m\u001b[0;34m\u001b[0m\u001b[0m\n\u001b[0;32m-> 1789\u001b[0;31m             \u001b[0mloss\u001b[0m \u001b[0;34m=\u001b[0m \u001b[0mself\u001b[0m\u001b[0;34m.\u001b[0m\u001b[0mcompute_loss\u001b[0m\u001b[0;34m(\u001b[0m\u001b[0mmodel\u001b[0m\u001b[0;34m,\u001b[0m \u001b[0minputs\u001b[0m\u001b[0;34m)\u001b[0m\u001b[0;34m\u001b[0m\u001b[0;34m\u001b[0m\u001b[0m\n\u001b[0m\u001b[1;32m   1790\u001b[0m \u001b[0;34m\u001b[0m\u001b[0m\n\u001b[1;32m   1791\u001b[0m         \u001b[0;32mif\u001b[0m \u001b[0mself\u001b[0m\u001b[0;34m.\u001b[0m\u001b[0margs\u001b[0m\u001b[0;34m.\u001b[0m\u001b[0mn_gpu\u001b[0m \u001b[0;34m>\u001b[0m \u001b[0;36m1\u001b[0m\u001b[0;34m:\u001b[0m\u001b[0;34m\u001b[0m\u001b[0;34m\u001b[0m\u001b[0m\n",
      "\u001b[0;32m~/workspace/jupyter-notebooks/env/lib/python3.9/site-packages/transformers/trainer.py\u001b[0m in \u001b[0;36mcompute_loss\u001b[0;34m(self, model, inputs, return_outputs)\u001b[0m\n\u001b[1;32m   1819\u001b[0m         \u001b[0;32melse\u001b[0m\u001b[0;34m:\u001b[0m\u001b[0;34m\u001b[0m\u001b[0;34m\u001b[0m\u001b[0m\n\u001b[1;32m   1820\u001b[0m             \u001b[0mlabels\u001b[0m \u001b[0;34m=\u001b[0m \u001b[0;32mNone\u001b[0m\u001b[0;34m\u001b[0m\u001b[0;34m\u001b[0m\u001b[0m\n\u001b[0;32m-> 1821\u001b[0;31m         \u001b[0moutputs\u001b[0m \u001b[0;34m=\u001b[0m \u001b[0mmodel\u001b[0m\u001b[0;34m(\u001b[0m\u001b[0;34m**\u001b[0m\u001b[0minputs\u001b[0m\u001b[0;34m)\u001b[0m\u001b[0;34m\u001b[0m\u001b[0;34m\u001b[0m\u001b[0m\n\u001b[0m\u001b[1;32m   1822\u001b[0m         \u001b[0;31m# Save past state if it exists\u001b[0m\u001b[0;34m\u001b[0m\u001b[0;34m\u001b[0m\u001b[0m\n\u001b[1;32m   1823\u001b[0m         \u001b[0;31m# TODO: this needs to be fixed and made cleaner later.\u001b[0m\u001b[0;34m\u001b[0m\u001b[0;34m\u001b[0m\u001b[0m\n",
      "\u001b[0;32m~/workspace/jupyter-notebooks/env/lib/python3.9/site-packages/torch/nn/modules/module.py\u001b[0m in \u001b[0;36m_call_impl\u001b[0;34m(self, *input, **kwargs)\u001b[0m\n\u001b[1;32m   1100\u001b[0m         if not (self._backward_hooks or self._forward_hooks or self._forward_pre_hooks or _global_backward_hooks\n\u001b[1;32m   1101\u001b[0m                 or _global_forward_hooks or _global_forward_pre_hooks):\n\u001b[0;32m-> 1102\u001b[0;31m             \u001b[0;32mreturn\u001b[0m \u001b[0mforward_call\u001b[0m\u001b[0;34m(\u001b[0m\u001b[0;34m*\u001b[0m\u001b[0minput\u001b[0m\u001b[0;34m,\u001b[0m \u001b[0;34m**\u001b[0m\u001b[0mkwargs\u001b[0m\u001b[0;34m)\u001b[0m\u001b[0;34m\u001b[0m\u001b[0;34m\u001b[0m\u001b[0m\n\u001b[0m\u001b[1;32m   1103\u001b[0m         \u001b[0;31m# Do not call functions when jit is used\u001b[0m\u001b[0;34m\u001b[0m\u001b[0;34m\u001b[0m\u001b[0m\n\u001b[1;32m   1104\u001b[0m         \u001b[0mfull_backward_hooks\u001b[0m\u001b[0;34m,\u001b[0m \u001b[0mnon_full_backward_hooks\u001b[0m \u001b[0;34m=\u001b[0m \u001b[0;34m[\u001b[0m\u001b[0;34m]\u001b[0m\u001b[0;34m,\u001b[0m \u001b[0;34m[\u001b[0m\u001b[0;34m]\u001b[0m\u001b[0;34m\u001b[0m\u001b[0;34m\u001b[0m\u001b[0m\n",
      "\u001b[0;32m~/workspace/jupyter-notebooks/env/lib/python3.9/site-packages/torch/nn/parallel/data_parallel.py\u001b[0m in \u001b[0;36mforward\u001b[0;34m(self, *inputs, **kwargs)\u001b[0m\n\u001b[1;32m    166\u001b[0m                 \u001b[0;32mreturn\u001b[0m \u001b[0mself\u001b[0m\u001b[0;34m.\u001b[0m\u001b[0mmodule\u001b[0m\u001b[0;34m(\u001b[0m\u001b[0;34m*\u001b[0m\u001b[0minputs\u001b[0m\u001b[0;34m[\u001b[0m\u001b[0;36m0\u001b[0m\u001b[0;34m]\u001b[0m\u001b[0;34m,\u001b[0m \u001b[0;34m**\u001b[0m\u001b[0mkwargs\u001b[0m\u001b[0;34m[\u001b[0m\u001b[0;36m0\u001b[0m\u001b[0;34m]\u001b[0m\u001b[0;34m)\u001b[0m\u001b[0;34m\u001b[0m\u001b[0;34m\u001b[0m\u001b[0m\n\u001b[1;32m    167\u001b[0m             \u001b[0mreplicas\u001b[0m \u001b[0;34m=\u001b[0m \u001b[0mself\u001b[0m\u001b[0;34m.\u001b[0m\u001b[0mreplicate\u001b[0m\u001b[0;34m(\u001b[0m\u001b[0mself\u001b[0m\u001b[0;34m.\u001b[0m\u001b[0mmodule\u001b[0m\u001b[0;34m,\u001b[0m \u001b[0mself\u001b[0m\u001b[0;34m.\u001b[0m\u001b[0mdevice_ids\u001b[0m\u001b[0;34m[\u001b[0m\u001b[0;34m:\u001b[0m\u001b[0mlen\u001b[0m\u001b[0;34m(\u001b[0m\u001b[0minputs\u001b[0m\u001b[0;34m)\u001b[0m\u001b[0;34m]\u001b[0m\u001b[0;34m)\u001b[0m\u001b[0;34m\u001b[0m\u001b[0;34m\u001b[0m\u001b[0m\n\u001b[0;32m--> 168\u001b[0;31m             \u001b[0moutputs\u001b[0m \u001b[0;34m=\u001b[0m \u001b[0mself\u001b[0m\u001b[0;34m.\u001b[0m\u001b[0mparallel_apply\u001b[0m\u001b[0;34m(\u001b[0m\u001b[0mreplicas\u001b[0m\u001b[0;34m,\u001b[0m \u001b[0minputs\u001b[0m\u001b[0;34m,\u001b[0m \u001b[0mkwargs\u001b[0m\u001b[0;34m)\u001b[0m\u001b[0;34m\u001b[0m\u001b[0;34m\u001b[0m\u001b[0m\n\u001b[0m\u001b[1;32m    169\u001b[0m             \u001b[0;32mreturn\u001b[0m \u001b[0mself\u001b[0m\u001b[0;34m.\u001b[0m\u001b[0mgather\u001b[0m\u001b[0;34m(\u001b[0m\u001b[0moutputs\u001b[0m\u001b[0;34m,\u001b[0m \u001b[0mself\u001b[0m\u001b[0;34m.\u001b[0m\u001b[0moutput_device\u001b[0m\u001b[0;34m)\u001b[0m\u001b[0;34m\u001b[0m\u001b[0;34m\u001b[0m\u001b[0m\n\u001b[1;32m    170\u001b[0m \u001b[0;34m\u001b[0m\u001b[0m\n",
      "\u001b[0;32m~/workspace/jupyter-notebooks/env/lib/python3.9/site-packages/torch/nn/parallel/data_parallel.py\u001b[0m in \u001b[0;36mparallel_apply\u001b[0;34m(self, replicas, inputs, kwargs)\u001b[0m\n\u001b[1;32m    176\u001b[0m \u001b[0;34m\u001b[0m\u001b[0m\n\u001b[1;32m    177\u001b[0m     \u001b[0;32mdef\u001b[0m \u001b[0mparallel_apply\u001b[0m\u001b[0;34m(\u001b[0m\u001b[0mself\u001b[0m\u001b[0;34m,\u001b[0m \u001b[0mreplicas\u001b[0m\u001b[0;34m,\u001b[0m \u001b[0minputs\u001b[0m\u001b[0;34m,\u001b[0m \u001b[0mkwargs\u001b[0m\u001b[0;34m)\u001b[0m\u001b[0;34m:\u001b[0m\u001b[0;34m\u001b[0m\u001b[0;34m\u001b[0m\u001b[0m\n\u001b[0;32m--> 178\u001b[0;31m         \u001b[0;32mreturn\u001b[0m \u001b[0mparallel_apply\u001b[0m\u001b[0;34m(\u001b[0m\u001b[0mreplicas\u001b[0m\u001b[0;34m,\u001b[0m \u001b[0minputs\u001b[0m\u001b[0;34m,\u001b[0m \u001b[0mkwargs\u001b[0m\u001b[0;34m,\u001b[0m \u001b[0mself\u001b[0m\u001b[0;34m.\u001b[0m\u001b[0mdevice_ids\u001b[0m\u001b[0;34m[\u001b[0m\u001b[0;34m:\u001b[0m\u001b[0mlen\u001b[0m\u001b[0;34m(\u001b[0m\u001b[0mreplicas\u001b[0m\u001b[0;34m)\u001b[0m\u001b[0;34m]\u001b[0m\u001b[0;34m)\u001b[0m\u001b[0;34m\u001b[0m\u001b[0;34m\u001b[0m\u001b[0m\n\u001b[0m\u001b[1;32m    179\u001b[0m \u001b[0;34m\u001b[0m\u001b[0m\n\u001b[1;32m    180\u001b[0m     \u001b[0;32mdef\u001b[0m \u001b[0mgather\u001b[0m\u001b[0;34m(\u001b[0m\u001b[0mself\u001b[0m\u001b[0;34m,\u001b[0m \u001b[0moutputs\u001b[0m\u001b[0;34m,\u001b[0m \u001b[0moutput_device\u001b[0m\u001b[0;34m)\u001b[0m\u001b[0;34m:\u001b[0m\u001b[0;34m\u001b[0m\u001b[0;34m\u001b[0m\u001b[0m\n",
      "\u001b[0;32m~/workspace/jupyter-notebooks/env/lib/python3.9/site-packages/torch/nn/parallel/parallel_apply.py\u001b[0m in \u001b[0;36mparallel_apply\u001b[0;34m(modules, inputs, kwargs_tup, devices)\u001b[0m\n\u001b[1;32m     84\u001b[0m         \u001b[0moutput\u001b[0m \u001b[0;34m=\u001b[0m \u001b[0mresults\u001b[0m\u001b[0;34m[\u001b[0m\u001b[0mi\u001b[0m\u001b[0;34m]\u001b[0m\u001b[0;34m\u001b[0m\u001b[0;34m\u001b[0m\u001b[0m\n\u001b[1;32m     85\u001b[0m         \u001b[0;32mif\u001b[0m \u001b[0misinstance\u001b[0m\u001b[0;34m(\u001b[0m\u001b[0moutput\u001b[0m\u001b[0;34m,\u001b[0m \u001b[0mExceptionWrapper\u001b[0m\u001b[0;34m)\u001b[0m\u001b[0;34m:\u001b[0m\u001b[0;34m\u001b[0m\u001b[0;34m\u001b[0m\u001b[0m\n\u001b[0;32m---> 86\u001b[0;31m             \u001b[0moutput\u001b[0m\u001b[0;34m.\u001b[0m\u001b[0mreraise\u001b[0m\u001b[0;34m(\u001b[0m\u001b[0;34m)\u001b[0m\u001b[0;34m\u001b[0m\u001b[0;34m\u001b[0m\u001b[0m\n\u001b[0m\u001b[1;32m     87\u001b[0m         \u001b[0moutputs\u001b[0m\u001b[0;34m.\u001b[0m\u001b[0mappend\u001b[0m\u001b[0;34m(\u001b[0m\u001b[0moutput\u001b[0m\u001b[0;34m)\u001b[0m\u001b[0;34m\u001b[0m\u001b[0;34m\u001b[0m\u001b[0m\n\u001b[1;32m     88\u001b[0m     \u001b[0;32mreturn\u001b[0m \u001b[0moutputs\u001b[0m\u001b[0;34m\u001b[0m\u001b[0;34m\u001b[0m\u001b[0m\n",
      "\u001b[0;32m~/workspace/jupyter-notebooks/env/lib/python3.9/site-packages/torch/_utils.py\u001b[0m in \u001b[0;36mreraise\u001b[0;34m(self)\u001b[0m\n\u001b[1;32m    432\u001b[0m             \u001b[0;31m# instantiate since we don't know how to\u001b[0m\u001b[0;34m\u001b[0m\u001b[0;34m\u001b[0m\u001b[0m\n\u001b[1;32m    433\u001b[0m             \u001b[0;32mraise\u001b[0m \u001b[0mRuntimeError\u001b[0m\u001b[0;34m(\u001b[0m\u001b[0mmsg\u001b[0m\u001b[0;34m)\u001b[0m \u001b[0;32mfrom\u001b[0m \u001b[0;32mNone\u001b[0m\u001b[0;34m\u001b[0m\u001b[0;34m\u001b[0m\u001b[0m\n\u001b[0;32m--> 434\u001b[0;31m         \u001b[0;32mraise\u001b[0m \u001b[0mexception\u001b[0m\u001b[0;34m\u001b[0m\u001b[0;34m\u001b[0m\u001b[0m\n\u001b[0m\u001b[1;32m    435\u001b[0m \u001b[0;34m\u001b[0m\u001b[0m\n\u001b[1;32m    436\u001b[0m \u001b[0;34m\u001b[0m\u001b[0m\n",
      "\u001b[0;31mRuntimeError\u001b[0m: Caught RuntimeError in replica 0 on device 0.\nOriginal Traceback (most recent call last):\n  File \"/home/kiehne/workspace/jupyter-notebooks/env/lib/python3.9/site-packages/torch/nn/parallel/parallel_apply.py\", line 61, in _worker\n    output = module(*input, **kwargs)\n  File \"/home/kiehne/workspace/jupyter-notebooks/env/lib/python3.9/site-packages/torch/nn/modules/module.py\", line 1102, in _call_impl\n    return forward_call(*input, **kwargs)\n  File \"/home/kiehne/workspace/jupyter-notebooks/env/lib/python3.9/site-packages/transformers/models/bert/modeling_bert.py\", line 1524, in forward\n    outputs = self.bert(\n  File \"/home/kiehne/workspace/jupyter-notebooks/env/lib/python3.9/site-packages/torch/nn/modules/module.py\", line 1102, in _call_impl\n    return forward_call(*input, **kwargs)\n  File \"/home/kiehne/workspace/jupyter-notebooks/env/lib/python3.9/site-packages/transformers/models/bert/modeling_bert.py\", line 990, in forward\n    encoder_outputs = self.encoder(\n  File \"/home/kiehne/workspace/jupyter-notebooks/env/lib/python3.9/site-packages/torch/nn/modules/module.py\", line 1102, in _call_impl\n    return forward_call(*input, **kwargs)\n  File \"/home/kiehne/workspace/jupyter-notebooks/env/lib/python3.9/site-packages/transformers/models/bert/modeling_bert.py\", line 582, in forward\n    layer_outputs = layer_module(\n  File \"/home/kiehne/workspace/jupyter-notebooks/env/lib/python3.9/site-packages/torch/nn/modules/module.py\", line 1102, in _call_impl\n    return forward_call(*input, **kwargs)\n  File \"/home/kiehne/workspace/jupyter-notebooks/env/lib/python3.9/site-packages/transformers/models/bert/modeling_bert.py\", line 470, in forward\n    self_attention_outputs = self.attention(\n  File \"/home/kiehne/workspace/jupyter-notebooks/env/lib/python3.9/site-packages/torch/nn/modules/module.py\", line 1102, in _call_impl\n    return forward_call(*input, **kwargs)\n  File \"/home/kiehne/workspace/jupyter-notebooks/env/lib/python3.9/site-packages/transformers/models/bert/modeling_bert.py\", line 401, in forward\n    self_outputs = self.self(\n  File \"/home/kiehne/workspace/jupyter-notebooks/env/lib/python3.9/site-packages/torch/nn/modules/module.py\", line 1102, in _call_impl\n    return forward_call(*input, **kwargs)\n  File \"/home/kiehne/workspace/jupyter-notebooks/env/lib/python3.9/site-packages/transformers/models/bert/modeling_bert.py\", line 333, in forward\n    attention_probs = self.dropout(attention_probs)\n  File \"/home/kiehne/workspace/jupyter-notebooks/env/lib/python3.9/site-packages/torch/nn/modules/module.py\", line 1102, in _call_impl\n    return forward_call(*input, **kwargs)\n  File \"/home/kiehne/workspace/jupyter-notebooks/env/lib/python3.9/site-packages/torch/nn/modules/dropout.py\", line 58, in forward\n    return F.dropout(input, self.p, self.training, self.inplace)\n  File \"/home/kiehne/workspace/jupyter-notebooks/env/lib/python3.9/site-packages/torch/nn/functional.py\", line 1169, in dropout\n    return _VF.dropout_(input, p, training) if inplace else _VF.dropout(input, p, training)\nRuntimeError: CUDA out of memory. Tried to allocate 16.00 MiB (GPU 0; 10.76 GiB total capacity; 5.54 GiB already allocated; 9.31 MiB free; 5.60 GiB reserved in total by PyTorch) If reserved memory is >> allocated memory try setting max_split_size_mb to avoid fragmentation.  See documentation for Memory Management and PYTORCH_CUDA_ALLOC_CONF\n"
     ]
    }
   ],
   "source": [
    "trainer = Trainer(\n",
    "    model=model,\n",
    "    args=training_args,\n",
    "    train_dataset=train_data,\n",
    "    eval_dataset=val_data,\n",
    "    compute_metrics=acc_metric,\n",
    ")\n",
    "logs = trainer.train()"
   ]
  },
  {
   "cell_type": "markdown",
   "id": "99934653",
   "metadata": {},
   "source": [
    "# Experiments: Single model training\n",
    "***\n",
    "Pick a dataset, then run the finetuning. Useful for explorative analysis"
   ]
  },
  {
   "cell_type": "code",
   "execution_count": 3,
   "id": "d42171a5",
   "metadata": {},
   "outputs": [],
   "source": [
    "# without clustering\n",
    "data = get_random_value_dataset(dataframe, p=0.5, top_n=20)\n",
    "train, test = make_action_classification_dataframe(data, test_size=0.1)"
   ]
  },
  {
   "cell_type": "code",
   "execution_count": null,
   "id": "63d321b1",
   "metadata": {},
   "outputs": [],
   "source": [
    "# with clustering\n",
    "dataframe = msc.assign_norm_clusters(dataframe)\n",
    "data = msc.get_random_value_dataset(dataframe, 0.5, top_n=20)\n",
    "train, test = msc.make_action_classification_dataframe(data, test_size=0.1)"
   ]
  },
  {
   "cell_type": "code",
   "execution_count": 4,
   "id": "c764211d",
   "metadata": {},
   "outputs": [
    {
     "name": "stderr",
     "output_type": "stream",
     "text": [
      "Some weights of the model checkpoint at bert-large-uncased were not used when initializing BertForSequenceClassification: ['cls.predictions.bias', 'cls.seq_relationship.weight', 'cls.predictions.transform.dense.bias', 'cls.predictions.transform.LayerNorm.weight', 'cls.predictions.transform.dense.weight', 'cls.predictions.transform.LayerNorm.bias', 'cls.predictions.decoder.weight', 'cls.seq_relationship.bias']\n",
      "- This IS expected if you are initializing BertForSequenceClassification from the checkpoint of a model trained on another task or with another architecture (e.g. initializing a BertForSequenceClassification model from a BertForPreTraining model).\n",
      "- This IS NOT expected if you are initializing BertForSequenceClassification from the checkpoint of a model that you expect to be exactly identical (initializing a BertForSequenceClassification model from a BertForSequenceClassification model).\n",
      "Some weights of BertForSequenceClassification were not initialized from the model checkpoint at bert-large-uncased and are newly initialized: ['classifier.weight', 'classifier.bias']\n",
      "You should probably TRAIN this model on a down-stream task to be able to use it for predictions and inference.\n"
     ]
    },
    {
     "data": {
      "application/vnd.jupyter.widget-view+json": {
       "model_id": "9f9410ddd552402aa3bbc1c035c370fb",
       "version_major": 2,
       "version_minor": 0
      },
      "text/plain": [
       "  0%|          | 0/22 [00:00<?, ?ba/s]"
      ]
     },
     "metadata": {},
     "output_type": "display_data"
    },
    {
     "data": {
      "application/vnd.jupyter.widget-view+json": {
       "model_id": "f28e30e7ad6e4e948ecd830299a620f2",
       "version_major": 2,
       "version_minor": 0
      },
      "text/plain": [
       "  0%|          | 0/3 [00:00<?, ?ba/s]"
      ]
     },
     "metadata": {},
     "output_type": "display_data"
    }
   ],
   "source": [
    "name = \"roberta-large\"\n",
    "name = \"bert-base-uncased\"\n",
    "name = \"/data/kiehne/results/shuffled_values/random/bert-base-uncased/0.00/checkpoint-5625/\"\n",
    "#name = \"ynie/roberta-large-snli_mnli_fever_anli_R1_R2_R3-nli\"\n",
    "name = \"bert-large-uncased\"\n",
    "tokenizer = AutoTokenizer.from_pretrained(name)\n",
    "model = AutoModelForSequenceClassification.from_pretrained(name)\n",
    "\n",
    "train_data, val_data = convert_hf_dataset(tokenizer, train, test)"
   ]
  },
  {
   "cell_type": "code",
   "execution_count": 5,
   "id": "c4241597",
   "metadata": {},
   "outputs": [],
   "source": [
    "training_args = TrainingArguments(\n",
    "    output_dir=\"/data/kiehne/results/shuffled_values/random/bert-large-uncased/0.50/\",\n",
    "    num_train_epochs=7,\n",
    "    per_device_train_batch_size=1,\n",
    "    per_device_eval_batch_size=1,\n",
    "    gradient_accumulation_steps=4,\n",
    "    warmup_steps=500,\n",
    "    #weight_decay=0.01,\n",
    "    logging_dir='logs/',\n",
    "    log_level=\"info\",\n",
    "    logging_steps=500,\n",
    "    evaluation_strategy=\"epoch\",\n",
    "    save_steps=30000000,\n",
    "    save_strategy=\"epoch\",\n",
    "    learning_rate=1e-6\n",
    ")\n",
    "acc_metric = get_accuracy_metric()"
   ]
  },
  {
   "cell_type": "code",
   "execution_count": null,
   "id": "5d755951",
   "metadata": {
    "scrolled": true
   },
   "outputs": [
    {
     "name": "stderr",
     "output_type": "stream",
     "text": [
      "The following columns in the training set  don't have a corresponding argument in `BertForSequenceClassification.forward` and have been ignored: situation, intention, l2s_output, norm_storyfied, flipped, action, norm_sentiment, norm_action, __index_level_0__, ID, norm, consequence, actor_name, norm_value.\n",
      "***** Running training *****\n",
      "  Num examples = 21592\n",
      "  Num Epochs = 7\n",
      "  Instantaneous batch size per device = 1\n",
      "  Total train batch size (w. parallel, distributed & accumulation) = 8\n",
      "  Gradient Accumulation steps = 4\n",
      "  Total optimization steps = 18893\n",
      "/home/kiehne/workspace/jupyter-notebooks/env/lib/python3.9/site-packages/torch/nn/parallel/_functions.py:68: UserWarning: Was asked to gather along dimension 0, but all input tensors were scalars; will instead unsqueeze and return a vector.\n",
      "  warnings.warn('Was asked to gather along dimension 0, but all '\n"
     ]
    },
    {
     "data": {
      "text/html": [
       "\n",
       "    <div>\n",
       "      \n",
       "      <progress value='5468' max='18893' style='width:300px; height:20px; vertical-align: middle;'></progress>\n",
       "      [ 5468/18893 2:20:26 < 5:44:55, 0.65 it/s, Epoch 2.03/7]\n",
       "    </div>\n",
       "    <table border=\"1\" class=\"dataframe\">\n",
       "  <thead>\n",
       "    <tr style=\"text-align: left;\">\n",
       "      <th>Epoch</th>\n",
       "      <th>Training Loss</th>\n",
       "      <th>Validation Loss</th>\n",
       "      <th>Accuracy</th>\n",
       "    </tr>\n",
       "  </thead>\n",
       "  <tbody>\n",
       "    <tr>\n",
       "      <td>1</td>\n",
       "      <td>0.706600</td>\n",
       "      <td>0.692114</td>\n",
       "      <td>0.510000</td>\n",
       "    </tr>\n",
       "    <tr>\n",
       "      <td>2</td>\n",
       "      <td>0.694700</td>\n",
       "      <td>0.682954</td>\n",
       "      <td>0.567083</td>\n",
       "    </tr>\n",
       "  </tbody>\n",
       "</table><p>"
      ],
      "text/plain": [
       "<IPython.core.display.HTML object>"
      ]
     },
     "metadata": {},
     "output_type": "display_data"
    },
    {
     "name": "stderr",
     "output_type": "stream",
     "text": [
      "The following columns in the evaluation set  don't have a corresponding argument in `BertForSequenceClassification.forward` and have been ignored: situation, intention, l2s_output, norm_storyfied, flipped, action, norm_sentiment, norm_action, __index_level_0__, ID, norm, consequence, actor_name, norm_value.\n",
      "***** Running Evaluation *****\n",
      "  Num examples = 2400\n",
      "  Batch size = 2\n",
      "Saving model checkpoint to /data/kiehne/results/shuffled_values/random/bert-large-uncased/0.50/checkpoint-2699\n",
      "Configuration saved in /data/kiehne/results/shuffled_values/random/bert-large-uncased/0.50/checkpoint-2699/config.json\n",
      "Model weights saved in /data/kiehne/results/shuffled_values/random/bert-large-uncased/0.50/checkpoint-2699/pytorch_model.bin\n",
      "/home/kiehne/workspace/jupyter-notebooks/env/lib/python3.9/site-packages/torch/nn/parallel/_functions.py:68: UserWarning: Was asked to gather along dimension 0, but all input tensors were scalars; will instead unsqueeze and return a vector.\n",
      "  warnings.warn('Was asked to gather along dimension 0, but all '\n",
      "The following columns in the evaluation set  don't have a corresponding argument in `BertForSequenceClassification.forward` and have been ignored: situation, intention, l2s_output, norm_storyfied, flipped, action, norm_sentiment, norm_action, __index_level_0__, ID, norm, consequence, actor_name, norm_value.\n",
      "***** Running Evaluation *****\n",
      "  Num examples = 2400\n",
      "  Batch size = 2\n",
      "Saving model checkpoint to /data/kiehne/results/shuffled_values/random/bert-large-uncased/0.50/checkpoint-5398\n",
      "Configuration saved in /data/kiehne/results/shuffled_values/random/bert-large-uncased/0.50/checkpoint-5398/config.json\n",
      "Model weights saved in /data/kiehne/results/shuffled_values/random/bert-large-uncased/0.50/checkpoint-5398/pytorch_model.bin\n",
      "/home/kiehne/workspace/jupyter-notebooks/env/lib/python3.9/site-packages/torch/nn/parallel/_functions.py:68: UserWarning: Was asked to gather along dimension 0, but all input tensors were scalars; will instead unsqueeze and return a vector.\n",
      "  warnings.warn('Was asked to gather along dimension 0, but all '\n"
     ]
    }
   ],
   "source": [
    "trainer = Trainer(\n",
    "    model=model,\n",
    "    args=training_args,\n",
    "    train_dataset=train_data,\n",
    "    eval_dataset=val_data,\n",
    "    compute_metrics=acc_metric,\n",
    ")\n",
    "logs = trainer.train()"
   ]
  },
  {
   "cell_type": "markdown",
   "id": "d339f393",
   "metadata": {},
   "source": [
    "# Experiments: Consecutive models\n",
    "***\n",
    "Run several models over different training data or with different hyperparameters."
   ]
  },
  {
   "cell_type": "markdown",
   "id": "8a9ed405",
   "metadata": {},
   "source": [
    "### Random values experiment\n",
    "***\n",
    "Given different values of $p$, how is the accuracy affected? \n",
    "\n",
    "First run:\n",
    "* Single epoch, batch size 8, $p\\in\\{0,0.1,0.2,..,1\\}$"
   ]
  },
  {
   "cell_type": "code",
   "execution_count": 4,
   "id": "b95dc783",
   "metadata": {
    "scrolled": true
   },
   "outputs": [
    {
     "data": {
      "application/vnd.jupyter.widget-view+json": {
       "model_id": "aa371144f7364250b6a4269f73427f32",
       "version_major": 2,
       "version_minor": 0
      },
      "text/plain": [
       "  0%|          | 0/22 [00:00<?, ?ba/s]"
      ]
     },
     "metadata": {},
     "output_type": "display_data"
    },
    {
     "data": {
      "application/vnd.jupyter.widget-view+json": {
       "model_id": "708e8780c41c4ab7957a06cb5aef04a9",
       "version_major": 2,
       "version_minor": 0
      },
      "text/plain": [
       "  0%|          | 0/3 [00:00<?, ?ba/s]"
      ]
     },
     "metadata": {},
     "output_type": "display_data"
    },
    {
     "name": "stderr",
     "output_type": "stream",
     "text": [
      "The following columns in the training set  don't have a corresponding argument in `BertForSequenceClassification.forward` and have been ignored: norm, ID, norm_sentiment, flipped, norm_action, actor_name, norm_storyfied, norm_value, intention, consequence, __index_level_0__, l2s_output, situation, action.\n",
      "***** Running training *****\n",
      "  Num examples = 21592\n",
      "  Num Epochs = 5\n",
      "  Instantaneous batch size per device = 1\n",
      "  Total train batch size (w. parallel, distributed & accumulation) = 8\n",
      "  Gradient Accumulation steps = 4\n",
      "  Total optimization steps = 13495\n",
      "/home/kiehne/workspace/jupyter-notebooks/env/lib/python3.9/site-packages/torch/nn/parallel/_functions.py:68: UserWarning: Was asked to gather along dimension 0, but all input tensors were scalars; will instead unsqueeze and return a vector.\n",
      "  warnings.warn('Was asked to gather along dimension 0, but all '\n"
     ]
    },
    {
     "data": {
      "text/html": [
       "\n",
       "    <div>\n",
       "      \n",
       "      <progress value='13495' max='13495' style='width:300px; height:20px; vertical-align: middle;'></progress>\n",
       "      [13495/13495 5:48:50, Epoch 5/5]\n",
       "    </div>\n",
       "    <table border=\"1\" class=\"dataframe\">\n",
       "  <thead>\n",
       "    <tr style=\"text-align: left;\">\n",
       "      <th>Epoch</th>\n",
       "      <th>Training Loss</th>\n",
       "      <th>Validation Loss</th>\n",
       "      <th>Accuracy</th>\n",
       "    </tr>\n",
       "  </thead>\n",
       "  <tbody>\n",
       "    <tr>\n",
       "      <td>1</td>\n",
       "      <td>0.688500</td>\n",
       "      <td>0.669063</td>\n",
       "      <td>0.582083</td>\n",
       "    </tr>\n",
       "    <tr>\n",
       "      <td>2</td>\n",
       "      <td>0.666900</td>\n",
       "      <td>0.646622</td>\n",
       "      <td>0.628750</td>\n",
       "    </tr>\n",
       "    <tr>\n",
       "      <td>3</td>\n",
       "      <td>0.637400</td>\n",
       "      <td>0.629407</td>\n",
       "      <td>0.642917</td>\n",
       "    </tr>\n",
       "    <tr>\n",
       "      <td>4</td>\n",
       "      <td>0.615500</td>\n",
       "      <td>0.631621</td>\n",
       "      <td>0.655833</td>\n",
       "    </tr>\n",
       "    <tr>\n",
       "      <td>5</td>\n",
       "      <td>0.621500</td>\n",
       "      <td>0.625205</td>\n",
       "      <td>0.659583</td>\n",
       "    </tr>\n",
       "  </tbody>\n",
       "</table><p>"
      ],
      "text/plain": [
       "<IPython.core.display.HTML object>"
      ]
     },
     "metadata": {},
     "output_type": "display_data"
    },
    {
     "name": "stderr",
     "output_type": "stream",
     "text": [
      "The following columns in the evaluation set  don't have a corresponding argument in `BertForSequenceClassification.forward` and have been ignored: norm, ID, norm_sentiment, flipped, norm_action, actor_name, norm_storyfied, norm_value, intention, consequence, __index_level_0__, l2s_output, situation, action.\n",
      "***** Running Evaluation *****\n",
      "  Num examples = 2400\n",
      "  Batch size = 2\n",
      "Saving model checkpoint to /data/kiehne/results/shuffled_values/random_no_pretrain/bert-large-uncased/0.00/checkpoint-2699\n",
      "Configuration saved in /data/kiehne/results/shuffled_values/random_no_pretrain/bert-large-uncased/0.00/checkpoint-2699/config.json\n",
      "Model weights saved in /data/kiehne/results/shuffled_values/random_no_pretrain/bert-large-uncased/0.00/checkpoint-2699/pytorch_model.bin\n",
      "/home/kiehne/workspace/jupyter-notebooks/env/lib/python3.9/site-packages/torch/nn/parallel/_functions.py:68: UserWarning: Was asked to gather along dimension 0, but all input tensors were scalars; will instead unsqueeze and return a vector.\n",
      "  warnings.warn('Was asked to gather along dimension 0, but all '\n",
      "The following columns in the evaluation set  don't have a corresponding argument in `BertForSequenceClassification.forward` and have been ignored: norm, ID, norm_sentiment, flipped, norm_action, actor_name, norm_storyfied, norm_value, intention, consequence, __index_level_0__, l2s_output, situation, action.\n",
      "***** Running Evaluation *****\n",
      "  Num examples = 2400\n",
      "  Batch size = 2\n",
      "Saving model checkpoint to /data/kiehne/results/shuffled_values/random_no_pretrain/bert-large-uncased/0.00/checkpoint-5398\n",
      "Configuration saved in /data/kiehne/results/shuffled_values/random_no_pretrain/bert-large-uncased/0.00/checkpoint-5398/config.json\n",
      "Model weights saved in /data/kiehne/results/shuffled_values/random_no_pretrain/bert-large-uncased/0.00/checkpoint-5398/pytorch_model.bin\n",
      "/home/kiehne/workspace/jupyter-notebooks/env/lib/python3.9/site-packages/torch/nn/parallel/_functions.py:68: UserWarning: Was asked to gather along dimension 0, but all input tensors were scalars; will instead unsqueeze and return a vector.\n",
      "  warnings.warn('Was asked to gather along dimension 0, but all '\n",
      "The following columns in the evaluation set  don't have a corresponding argument in `BertForSequenceClassification.forward` and have been ignored: norm, ID, norm_sentiment, flipped, norm_action, actor_name, norm_storyfied, norm_value, intention, consequence, __index_level_0__, l2s_output, situation, action.\n",
      "***** Running Evaluation *****\n",
      "  Num examples = 2400\n",
      "  Batch size = 2\n",
      "Saving model checkpoint to /data/kiehne/results/shuffled_values/random_no_pretrain/bert-large-uncased/0.00/checkpoint-8097\n",
      "Configuration saved in /data/kiehne/results/shuffled_values/random_no_pretrain/bert-large-uncased/0.00/checkpoint-8097/config.json\n",
      "Model weights saved in /data/kiehne/results/shuffled_values/random_no_pretrain/bert-large-uncased/0.00/checkpoint-8097/pytorch_model.bin\n",
      "/home/kiehne/workspace/jupyter-notebooks/env/lib/python3.9/site-packages/torch/nn/parallel/_functions.py:68: UserWarning: Was asked to gather along dimension 0, but all input tensors were scalars; will instead unsqueeze and return a vector.\n",
      "  warnings.warn('Was asked to gather along dimension 0, but all '\n",
      "The following columns in the evaluation set  don't have a corresponding argument in `BertForSequenceClassification.forward` and have been ignored: norm, ID, norm_sentiment, flipped, norm_action, actor_name, norm_storyfied, norm_value, intention, consequence, __index_level_0__, l2s_output, situation, action.\n",
      "***** Running Evaluation *****\n",
      "  Num examples = 2400\n",
      "  Batch size = 2\n",
      "Saving model checkpoint to /data/kiehne/results/shuffled_values/random_no_pretrain/bert-large-uncased/0.00/checkpoint-10796\n",
      "Configuration saved in /data/kiehne/results/shuffled_values/random_no_pretrain/bert-large-uncased/0.00/checkpoint-10796/config.json\n",
      "Model weights saved in /data/kiehne/results/shuffled_values/random_no_pretrain/bert-large-uncased/0.00/checkpoint-10796/pytorch_model.bin\n",
      "/home/kiehne/workspace/jupyter-notebooks/env/lib/python3.9/site-packages/torch/nn/parallel/_functions.py:68: UserWarning: Was asked to gather along dimension 0, but all input tensors were scalars; will instead unsqueeze and return a vector.\n",
      "  warnings.warn('Was asked to gather along dimension 0, but all '\n",
      "The following columns in the evaluation set  don't have a corresponding argument in `BertForSequenceClassification.forward` and have been ignored: norm, ID, norm_sentiment, flipped, norm_action, actor_name, norm_storyfied, norm_value, intention, consequence, __index_level_0__, l2s_output, situation, action.\n",
      "***** Running Evaluation *****\n",
      "  Num examples = 2400\n",
      "  Batch size = 2\n",
      "Saving model checkpoint to /data/kiehne/results/shuffled_values/random_no_pretrain/bert-large-uncased/0.00/checkpoint-13495\n",
      "Configuration saved in /data/kiehne/results/shuffled_values/random_no_pretrain/bert-large-uncased/0.00/checkpoint-13495/config.json\n",
      "Model weights saved in /data/kiehne/results/shuffled_values/random_no_pretrain/bert-large-uncased/0.00/checkpoint-13495/pytorch_model.bin\n",
      "\n",
      "\n",
      "Training completed. Do not forget to share your model on huggingface.co/models =)\n",
      "\n",
      "\n",
      "PyTorch: setting up devices\n",
      "The default value for the training argument `--report_to` will change in v5 (from all installed integrations to none). In v5, you will need to use `--report_to all` to get the same behavior as now. You should start updating your code and make this info disappear :-).\n",
      "loading configuration file https://huggingface.co/bert-large-uncased/resolve/main/config.json from cache at /home/kiehne/.cache/huggingface/transformers/1cf090f220f9674b67b3434decfe4d40a6532d7849653eac435ff94d31a4904c.1d03e5e4fa2db2532c517b2cd98290d8444b237619bd3d2039850a6d5e86473d\n",
      "Model config BertConfig {\n",
      "  \"architectures\": [\n",
      "    \"BertForMaskedLM\"\n",
      "  ],\n",
      "  \"attention_probs_dropout_prob\": 0.1,\n",
      "  \"classifier_dropout\": null,\n",
      "  \"gradient_checkpointing\": false,\n",
      "  \"hidden_act\": \"gelu\",\n",
      "  \"hidden_dropout_prob\": 0.1,\n",
      "  \"hidden_size\": 1024,\n",
      "  \"initializer_range\": 0.02,\n",
      "  \"intermediate_size\": 4096,\n",
      "  \"layer_norm_eps\": 1e-12,\n",
      "  \"max_position_embeddings\": 512,\n",
      "  \"model_type\": \"bert\",\n",
      "  \"num_attention_heads\": 16,\n",
      "  \"num_hidden_layers\": 24,\n",
      "  \"pad_token_id\": 0,\n",
      "  \"position_embedding_type\": \"absolute\",\n",
      "  \"transformers_version\": \"4.10.3\",\n",
      "  \"type_vocab_size\": 2,\n",
      "  \"use_cache\": true,\n",
      "  \"vocab_size\": 30522\n",
      "}\n",
      "\n"
     ]
    },
    {
     "data": {
      "application/vnd.jupyter.widget-view+json": {
       "model_id": "28d8ad9de2224be0858a350e9c7a955e",
       "version_major": 2,
       "version_minor": 0
      },
      "text/plain": [
       "  0%|          | 0/22 [00:00<?, ?ba/s]"
      ]
     },
     "metadata": {},
     "output_type": "display_data"
    },
    {
     "data": {
      "application/vnd.jupyter.widget-view+json": {
       "model_id": "43bdccbe9b7b44cebe01186d1016cf4f",
       "version_major": 2,
       "version_minor": 0
      },
      "text/plain": [
       "  0%|          | 0/3 [00:00<?, ?ba/s]"
      ]
     },
     "metadata": {},
     "output_type": "display_data"
    },
    {
     "name": "stderr",
     "output_type": "stream",
     "text": [
      "The following columns in the training set  don't have a corresponding argument in `BertForSequenceClassification.forward` and have been ignored: norm, ID, norm_sentiment, flipped, norm_action, actor_name, norm_storyfied, norm_value, intention, consequence, __index_level_0__, l2s_output, situation, action.\n",
      "***** Running training *****\n",
      "  Num examples = 21592\n",
      "  Num Epochs = 5\n",
      "  Instantaneous batch size per device = 1\n",
      "  Total train batch size (w. parallel, distributed & accumulation) = 8\n",
      "  Gradient Accumulation steps = 4\n",
      "  Total optimization steps = 13495\n",
      "/home/kiehne/workspace/jupyter-notebooks/env/lib/python3.9/site-packages/torch/nn/parallel/_functions.py:68: UserWarning: Was asked to gather along dimension 0, but all input tensors were scalars; will instead unsqueeze and return a vector.\n",
      "  warnings.warn('Was asked to gather along dimension 0, but all '\n"
     ]
    },
    {
     "data": {
      "text/html": [
       "\n",
       "    <div>\n",
       "      \n",
       "      <progress value='13495' max='13495' style='width:300px; height:20px; vertical-align: middle;'></progress>\n",
       "      [13495/13495 5:48:57, Epoch 5/5]\n",
       "    </div>\n",
       "    <table border=\"1\" class=\"dataframe\">\n",
       "  <thead>\n",
       "    <tr style=\"text-align: left;\">\n",
       "      <th>Epoch</th>\n",
       "      <th>Training Loss</th>\n",
       "      <th>Validation Loss</th>\n",
       "      <th>Accuracy</th>\n",
       "    </tr>\n",
       "  </thead>\n",
       "  <tbody>\n",
       "    <tr>\n",
       "      <td>1</td>\n",
       "      <td>0.702000</td>\n",
       "      <td>0.692056</td>\n",
       "      <td>0.507500</td>\n",
       "    </tr>\n",
       "    <tr>\n",
       "      <td>2</td>\n",
       "      <td>0.681900</td>\n",
       "      <td>0.666379</td>\n",
       "      <td>0.592083</td>\n",
       "    </tr>\n",
       "    <tr>\n",
       "      <td>3</td>\n",
       "      <td>0.671000</td>\n",
       "      <td>0.686432</td>\n",
       "      <td>0.570417</td>\n",
       "    </tr>\n",
       "    <tr>\n",
       "      <td>4</td>\n",
       "      <td>0.652700</td>\n",
       "      <td>0.659723</td>\n",
       "      <td>0.602917</td>\n",
       "    </tr>\n",
       "    <tr>\n",
       "      <td>5</td>\n",
       "      <td>0.644000</td>\n",
       "      <td>0.661151</td>\n",
       "      <td>0.607083</td>\n",
       "    </tr>\n",
       "  </tbody>\n",
       "</table><p>"
      ],
      "text/plain": [
       "<IPython.core.display.HTML object>"
      ]
     },
     "metadata": {},
     "output_type": "display_data"
    },
    {
     "name": "stderr",
     "output_type": "stream",
     "text": [
      "The following columns in the evaluation set  don't have a corresponding argument in `BertForSequenceClassification.forward` and have been ignored: norm, ID, norm_sentiment, flipped, norm_action, actor_name, norm_storyfied, norm_value, intention, consequence, __index_level_0__, l2s_output, situation, action.\n",
      "***** Running Evaluation *****\n",
      "  Num examples = 2400\n",
      "  Batch size = 2\n",
      "Saving model checkpoint to /data/kiehne/results/shuffled_values/random_no_pretrain/bert-large-uncased/0.10/checkpoint-2699\n",
      "Configuration saved in /data/kiehne/results/shuffled_values/random_no_pretrain/bert-large-uncased/0.10/checkpoint-2699/config.json\n",
      "Model weights saved in /data/kiehne/results/shuffled_values/random_no_pretrain/bert-large-uncased/0.10/checkpoint-2699/pytorch_model.bin\n",
      "/home/kiehne/workspace/jupyter-notebooks/env/lib/python3.9/site-packages/torch/nn/parallel/_functions.py:68: UserWarning: Was asked to gather along dimension 0, but all input tensors were scalars; will instead unsqueeze and return a vector.\n",
      "  warnings.warn('Was asked to gather along dimension 0, but all '\n",
      "The following columns in the evaluation set  don't have a corresponding argument in `BertForSequenceClassification.forward` and have been ignored: norm, ID, norm_sentiment, flipped, norm_action, actor_name, norm_storyfied, norm_value, intention, consequence, __index_level_0__, l2s_output, situation, action.\n",
      "***** Running Evaluation *****\n",
      "  Num examples = 2400\n",
      "  Batch size = 2\n",
      "Saving model checkpoint to /data/kiehne/results/shuffled_values/random_no_pretrain/bert-large-uncased/0.10/checkpoint-5398\n",
      "Configuration saved in /data/kiehne/results/shuffled_values/random_no_pretrain/bert-large-uncased/0.10/checkpoint-5398/config.json\n",
      "Model weights saved in /data/kiehne/results/shuffled_values/random_no_pretrain/bert-large-uncased/0.10/checkpoint-5398/pytorch_model.bin\n",
      "/home/kiehne/workspace/jupyter-notebooks/env/lib/python3.9/site-packages/torch/nn/parallel/_functions.py:68: UserWarning: Was asked to gather along dimension 0, but all input tensors were scalars; will instead unsqueeze and return a vector.\n",
      "  warnings.warn('Was asked to gather along dimension 0, but all '\n",
      "The following columns in the evaluation set  don't have a corresponding argument in `BertForSequenceClassification.forward` and have been ignored: norm, ID, norm_sentiment, flipped, norm_action, actor_name, norm_storyfied, norm_value, intention, consequence, __index_level_0__, l2s_output, situation, action.\n",
      "***** Running Evaluation *****\n",
      "  Num examples = 2400\n",
      "  Batch size = 2\n",
      "Saving model checkpoint to /data/kiehne/results/shuffled_values/random_no_pretrain/bert-large-uncased/0.10/checkpoint-8097\n",
      "Configuration saved in /data/kiehne/results/shuffled_values/random_no_pretrain/bert-large-uncased/0.10/checkpoint-8097/config.json\n",
      "Model weights saved in /data/kiehne/results/shuffled_values/random_no_pretrain/bert-large-uncased/0.10/checkpoint-8097/pytorch_model.bin\n",
      "/home/kiehne/workspace/jupyter-notebooks/env/lib/python3.9/site-packages/torch/nn/parallel/_functions.py:68: UserWarning: Was asked to gather along dimension 0, but all input tensors were scalars; will instead unsqueeze and return a vector.\n",
      "  warnings.warn('Was asked to gather along dimension 0, but all '\n",
      "The following columns in the evaluation set  don't have a corresponding argument in `BertForSequenceClassification.forward` and have been ignored: norm, ID, norm_sentiment, flipped, norm_action, actor_name, norm_storyfied, norm_value, intention, consequence, __index_level_0__, l2s_output, situation, action.\n",
      "***** Running Evaluation *****\n",
      "  Num examples = 2400\n",
      "  Batch size = 2\n",
      "Saving model checkpoint to /data/kiehne/results/shuffled_values/random_no_pretrain/bert-large-uncased/0.10/checkpoint-10796\n",
      "Configuration saved in /data/kiehne/results/shuffled_values/random_no_pretrain/bert-large-uncased/0.10/checkpoint-10796/config.json\n",
      "Model weights saved in /data/kiehne/results/shuffled_values/random_no_pretrain/bert-large-uncased/0.10/checkpoint-10796/pytorch_model.bin\n",
      "/home/kiehne/workspace/jupyter-notebooks/env/lib/python3.9/site-packages/torch/nn/parallel/_functions.py:68: UserWarning: Was asked to gather along dimension 0, but all input tensors were scalars; will instead unsqueeze and return a vector.\n",
      "  warnings.warn('Was asked to gather along dimension 0, but all '\n",
      "The following columns in the evaluation set  don't have a corresponding argument in `BertForSequenceClassification.forward` and have been ignored: norm, ID, norm_sentiment, flipped, norm_action, actor_name, norm_storyfied, norm_value, intention, consequence, __index_level_0__, l2s_output, situation, action.\n",
      "***** Running Evaluation *****\n",
      "  Num examples = 2400\n",
      "  Batch size = 2\n",
      "Saving model checkpoint to /data/kiehne/results/shuffled_values/random_no_pretrain/bert-large-uncased/0.10/checkpoint-13495\n",
      "Configuration saved in /data/kiehne/results/shuffled_values/random_no_pretrain/bert-large-uncased/0.10/checkpoint-13495/config.json\n",
      "Model weights saved in /data/kiehne/results/shuffled_values/random_no_pretrain/bert-large-uncased/0.10/checkpoint-13495/pytorch_model.bin\n",
      "\n",
      "\n",
      "Training completed. Do not forget to share your model on huggingface.co/models =)\n",
      "\n",
      "\n",
      "PyTorch: setting up devices\n",
      "The default value for the training argument `--report_to` will change in v5 (from all installed integrations to none). In v5, you will need to use `--report_to all` to get the same behavior as now. You should start updating your code and make this info disappear :-).\n",
      "loading configuration file https://huggingface.co/bert-large-uncased/resolve/main/config.json from cache at /home/kiehne/.cache/huggingface/transformers/1cf090f220f9674b67b3434decfe4d40a6532d7849653eac435ff94d31a4904c.1d03e5e4fa2db2532c517b2cd98290d8444b237619bd3d2039850a6d5e86473d\n",
      "Model config BertConfig {\n",
      "  \"architectures\": [\n",
      "    \"BertForMaskedLM\"\n",
      "  ],\n",
      "  \"attention_probs_dropout_prob\": 0.1,\n",
      "  \"classifier_dropout\": null,\n",
      "  \"gradient_checkpointing\": false,\n",
      "  \"hidden_act\": \"gelu\",\n",
      "  \"hidden_dropout_prob\": 0.1,\n",
      "  \"hidden_size\": 1024,\n",
      "  \"initializer_range\": 0.02,\n",
      "  \"intermediate_size\": 4096,\n",
      "  \"layer_norm_eps\": 1e-12,\n",
      "  \"max_position_embeddings\": 512,\n",
      "  \"model_type\": \"bert\",\n",
      "  \"num_attention_heads\": 16,\n",
      "  \"num_hidden_layers\": 24,\n",
      "  \"pad_token_id\": 0,\n",
      "  \"position_embedding_type\": \"absolute\",\n",
      "  \"transformers_version\": \"4.10.3\",\n",
      "  \"type_vocab_size\": 2,\n",
      "  \"use_cache\": true,\n",
      "  \"vocab_size\": 30522\n",
      "}\n",
      "\n"
     ]
    },
    {
     "data": {
      "application/vnd.jupyter.widget-view+json": {
       "model_id": "96e3936ecc664a6f92f68c0af4978f66",
       "version_major": 2,
       "version_minor": 0
      },
      "text/plain": [
       "  0%|          | 0/22 [00:00<?, ?ba/s]"
      ]
     },
     "metadata": {},
     "output_type": "display_data"
    },
    {
     "data": {
      "application/vnd.jupyter.widget-view+json": {
       "model_id": "46f6aa0be730422f87dfbd189e89320c",
       "version_major": 2,
       "version_minor": 0
      },
      "text/plain": [
       "  0%|          | 0/3 [00:00<?, ?ba/s]"
      ]
     },
     "metadata": {},
     "output_type": "display_data"
    },
    {
     "name": "stderr",
     "output_type": "stream",
     "text": [
      "The following columns in the training set  don't have a corresponding argument in `BertForSequenceClassification.forward` and have been ignored: norm, ID, norm_sentiment, flipped, norm_action, actor_name, norm_storyfied, norm_value, intention, consequence, __index_level_0__, l2s_output, situation, action.\n",
      "***** Running training *****\n",
      "  Num examples = 21592\n",
      "  Num Epochs = 5\n",
      "  Instantaneous batch size per device = 1\n",
      "  Total train batch size (w. parallel, distributed & accumulation) = 8\n",
      "  Gradient Accumulation steps = 4\n",
      "  Total optimization steps = 13495\n",
      "/home/kiehne/workspace/jupyter-notebooks/env/lib/python3.9/site-packages/torch/nn/parallel/_functions.py:68: UserWarning: Was asked to gather along dimension 0, but all input tensors were scalars; will instead unsqueeze and return a vector.\n",
      "  warnings.warn('Was asked to gather along dimension 0, but all '\n"
     ]
    },
    {
     "data": {
      "text/html": [
       "\n",
       "    <div>\n",
       "      \n",
       "      <progress value='13495' max='13495' style='width:300px; height:20px; vertical-align: middle;'></progress>\n",
       "      [13495/13495 5:49:17, Epoch 5/5]\n",
       "    </div>\n",
       "    <table border=\"1\" class=\"dataframe\">\n",
       "  <thead>\n",
       "    <tr style=\"text-align: left;\">\n",
       "      <th>Epoch</th>\n",
       "      <th>Training Loss</th>\n",
       "      <th>Validation Loss</th>\n",
       "      <th>Accuracy</th>\n",
       "    </tr>\n",
       "  </thead>\n",
       "  <tbody>\n",
       "    <tr>\n",
       "      <td>1</td>\n",
       "      <td>0.705600</td>\n",
       "      <td>0.694622</td>\n",
       "      <td>0.500000</td>\n",
       "    </tr>\n",
       "    <tr>\n",
       "      <td>2</td>\n",
       "      <td>0.698400</td>\n",
       "      <td>0.688698</td>\n",
       "      <td>0.531250</td>\n",
       "    </tr>\n",
       "    <tr>\n",
       "      <td>3</td>\n",
       "      <td>0.682400</td>\n",
       "      <td>0.686607</td>\n",
       "      <td>0.556250</td>\n",
       "    </tr>\n",
       "    <tr>\n",
       "      <td>4</td>\n",
       "      <td>0.677300</td>\n",
       "      <td>0.679257</td>\n",
       "      <td>0.581250</td>\n",
       "    </tr>\n",
       "    <tr>\n",
       "      <td>5</td>\n",
       "      <td>0.681200</td>\n",
       "      <td>0.677327</td>\n",
       "      <td>0.584583</td>\n",
       "    </tr>\n",
       "  </tbody>\n",
       "</table><p>"
      ],
      "text/plain": [
       "<IPython.core.display.HTML object>"
      ]
     },
     "metadata": {},
     "output_type": "display_data"
    },
    {
     "name": "stderr",
     "output_type": "stream",
     "text": [
      "The following columns in the evaluation set  don't have a corresponding argument in `BertForSequenceClassification.forward` and have been ignored: norm, ID, norm_sentiment, flipped, norm_action, actor_name, norm_storyfied, norm_value, intention, consequence, __index_level_0__, l2s_output, situation, action.\n",
      "***** Running Evaluation *****\n",
      "  Num examples = 2400\n",
      "  Batch size = 2\n",
      "Saving model checkpoint to /data/kiehne/results/shuffled_values/random_no_pretrain/bert-large-uncased/0.20/checkpoint-2699\n",
      "Configuration saved in /data/kiehne/results/shuffled_values/random_no_pretrain/bert-large-uncased/0.20/checkpoint-2699/config.json\n",
      "Model weights saved in /data/kiehne/results/shuffled_values/random_no_pretrain/bert-large-uncased/0.20/checkpoint-2699/pytorch_model.bin\n",
      "/home/kiehne/workspace/jupyter-notebooks/env/lib/python3.9/site-packages/torch/nn/parallel/_functions.py:68: UserWarning: Was asked to gather along dimension 0, but all input tensors were scalars; will instead unsqueeze and return a vector.\n",
      "  warnings.warn('Was asked to gather along dimension 0, but all '\n",
      "The following columns in the evaluation set  don't have a corresponding argument in `BertForSequenceClassification.forward` and have been ignored: norm, ID, norm_sentiment, flipped, norm_action, actor_name, norm_storyfied, norm_value, intention, consequence, __index_level_0__, l2s_output, situation, action.\n",
      "***** Running Evaluation *****\n",
      "  Num examples = 2400\n",
      "  Batch size = 2\n",
      "Saving model checkpoint to /data/kiehne/results/shuffled_values/random_no_pretrain/bert-large-uncased/0.20/checkpoint-5398\n",
      "Configuration saved in /data/kiehne/results/shuffled_values/random_no_pretrain/bert-large-uncased/0.20/checkpoint-5398/config.json\n",
      "Model weights saved in /data/kiehne/results/shuffled_values/random_no_pretrain/bert-large-uncased/0.20/checkpoint-5398/pytorch_model.bin\n",
      "/home/kiehne/workspace/jupyter-notebooks/env/lib/python3.9/site-packages/torch/nn/parallel/_functions.py:68: UserWarning: Was asked to gather along dimension 0, but all input tensors were scalars; will instead unsqueeze and return a vector.\n",
      "  warnings.warn('Was asked to gather along dimension 0, but all '\n",
      "The following columns in the evaluation set  don't have a corresponding argument in `BertForSequenceClassification.forward` and have been ignored: norm, ID, norm_sentiment, flipped, norm_action, actor_name, norm_storyfied, norm_value, intention, consequence, __index_level_0__, l2s_output, situation, action.\n",
      "***** Running Evaluation *****\n",
      "  Num examples = 2400\n",
      "  Batch size = 2\n",
      "Saving model checkpoint to /data/kiehne/results/shuffled_values/random_no_pretrain/bert-large-uncased/0.20/checkpoint-8097\n",
      "Configuration saved in /data/kiehne/results/shuffled_values/random_no_pretrain/bert-large-uncased/0.20/checkpoint-8097/config.json\n",
      "Model weights saved in /data/kiehne/results/shuffled_values/random_no_pretrain/bert-large-uncased/0.20/checkpoint-8097/pytorch_model.bin\n",
      "/home/kiehne/workspace/jupyter-notebooks/env/lib/python3.9/site-packages/torch/nn/parallel/_functions.py:68: UserWarning: Was asked to gather along dimension 0, but all input tensors were scalars; will instead unsqueeze and return a vector.\n",
      "  warnings.warn('Was asked to gather along dimension 0, but all '\n",
      "The following columns in the evaluation set  don't have a corresponding argument in `BertForSequenceClassification.forward` and have been ignored: norm, ID, norm_sentiment, flipped, norm_action, actor_name, norm_storyfied, norm_value, intention, consequence, __index_level_0__, l2s_output, situation, action.\n",
      "***** Running Evaluation *****\n",
      "  Num examples = 2400\n",
      "  Batch size = 2\n",
      "Saving model checkpoint to /data/kiehne/results/shuffled_values/random_no_pretrain/bert-large-uncased/0.20/checkpoint-10796\n",
      "Configuration saved in /data/kiehne/results/shuffled_values/random_no_pretrain/bert-large-uncased/0.20/checkpoint-10796/config.json\n",
      "Model weights saved in /data/kiehne/results/shuffled_values/random_no_pretrain/bert-large-uncased/0.20/checkpoint-10796/pytorch_model.bin\n",
      "/home/kiehne/workspace/jupyter-notebooks/env/lib/python3.9/site-packages/torch/nn/parallel/_functions.py:68: UserWarning: Was asked to gather along dimension 0, but all input tensors were scalars; will instead unsqueeze and return a vector.\n",
      "  warnings.warn('Was asked to gather along dimension 0, but all '\n",
      "The following columns in the evaluation set  don't have a corresponding argument in `BertForSequenceClassification.forward` and have been ignored: norm, ID, norm_sentiment, flipped, norm_action, actor_name, norm_storyfied, norm_value, intention, consequence, __index_level_0__, l2s_output, situation, action.\n",
      "***** Running Evaluation *****\n",
      "  Num examples = 2400\n",
      "  Batch size = 2\n",
      "Saving model checkpoint to /data/kiehne/results/shuffled_values/random_no_pretrain/bert-large-uncased/0.20/checkpoint-13495\n",
      "Configuration saved in /data/kiehne/results/shuffled_values/random_no_pretrain/bert-large-uncased/0.20/checkpoint-13495/config.json\n",
      "Model weights saved in /data/kiehne/results/shuffled_values/random_no_pretrain/bert-large-uncased/0.20/checkpoint-13495/pytorch_model.bin\n",
      "\n",
      "\n",
      "Training completed. Do not forget to share your model on huggingface.co/models =)\n",
      "\n",
      "\n",
      "PyTorch: setting up devices\n",
      "The default value for the training argument `--report_to` will change in v5 (from all installed integrations to none). In v5, you will need to use `--report_to all` to get the same behavior as now. You should start updating your code and make this info disappear :-).\n",
      "loading configuration file https://huggingface.co/bert-large-uncased/resolve/main/config.json from cache at /home/kiehne/.cache/huggingface/transformers/1cf090f220f9674b67b3434decfe4d40a6532d7849653eac435ff94d31a4904c.1d03e5e4fa2db2532c517b2cd98290d8444b237619bd3d2039850a6d5e86473d\n",
      "Model config BertConfig {\n",
      "  \"architectures\": [\n",
      "    \"BertForMaskedLM\"\n",
      "  ],\n",
      "  \"attention_probs_dropout_prob\": 0.1,\n",
      "  \"classifier_dropout\": null,\n",
      "  \"gradient_checkpointing\": false,\n",
      "  \"hidden_act\": \"gelu\",\n",
      "  \"hidden_dropout_prob\": 0.1,\n",
      "  \"hidden_size\": 1024,\n",
      "  \"initializer_range\": 0.02,\n",
      "  \"intermediate_size\": 4096,\n",
      "  \"layer_norm_eps\": 1e-12,\n",
      "  \"max_position_embeddings\": 512,\n",
      "  \"model_type\": \"bert\",\n",
      "  \"num_attention_heads\": 16,\n",
      "  \"num_hidden_layers\": 24,\n",
      "  \"pad_token_id\": 0,\n",
      "  \"position_embedding_type\": \"absolute\",\n",
      "  \"transformers_version\": \"4.10.3\",\n",
      "  \"type_vocab_size\": 2,\n",
      "  \"use_cache\": true,\n",
      "  \"vocab_size\": 30522\n",
      "}\n",
      "\n"
     ]
    },
    {
     "data": {
      "application/vnd.jupyter.widget-view+json": {
       "model_id": "e184f804fda0464e96ffe96e84a27f3b",
       "version_major": 2,
       "version_minor": 0
      },
      "text/plain": [
       "  0%|          | 0/22 [00:00<?, ?ba/s]"
      ]
     },
     "metadata": {},
     "output_type": "display_data"
    },
    {
     "data": {
      "application/vnd.jupyter.widget-view+json": {
       "model_id": "dae96abe234d4f10a260581c4386ae41",
       "version_major": 2,
       "version_minor": 0
      },
      "text/plain": [
       "  0%|          | 0/3 [00:00<?, ?ba/s]"
      ]
     },
     "metadata": {},
     "output_type": "display_data"
    },
    {
     "name": "stderr",
     "output_type": "stream",
     "text": [
      "The following columns in the training set  don't have a corresponding argument in `BertForSequenceClassification.forward` and have been ignored: norm, ID, norm_sentiment, flipped, norm_action, actor_name, norm_storyfied, norm_value, intention, consequence, __index_level_0__, l2s_output, situation, action.\n",
      "***** Running training *****\n",
      "  Num examples = 21592\n",
      "  Num Epochs = 5\n",
      "  Instantaneous batch size per device = 1\n",
      "  Total train batch size (w. parallel, distributed & accumulation) = 8\n",
      "  Gradient Accumulation steps = 4\n",
      "  Total optimization steps = 13495\n",
      "/home/kiehne/workspace/jupyter-notebooks/env/lib/python3.9/site-packages/torch/nn/parallel/_functions.py:68: UserWarning: Was asked to gather along dimension 0, but all input tensors were scalars; will instead unsqueeze and return a vector.\n",
      "  warnings.warn('Was asked to gather along dimension 0, but all '\n"
     ]
    },
    {
     "data": {
      "text/html": [
       "\n",
       "    <div>\n",
       "      \n",
       "      <progress value='13495' max='13495' style='width:300px; height:20px; vertical-align: middle;'></progress>\n",
       "      [13495/13495 5:49:57, Epoch 5/5]\n",
       "    </div>\n",
       "    <table border=\"1\" class=\"dataframe\">\n",
       "  <thead>\n",
       "    <tr style=\"text-align: left;\">\n",
       "      <th>Epoch</th>\n",
       "      <th>Training Loss</th>\n",
       "      <th>Validation Loss</th>\n",
       "      <th>Accuracy</th>\n",
       "    </tr>\n",
       "  </thead>\n",
       "  <tbody>\n",
       "    <tr>\n",
       "      <td>1</td>\n",
       "      <td>0.697100</td>\n",
       "      <td>0.696442</td>\n",
       "      <td>0.500000</td>\n",
       "    </tr>\n",
       "    <tr>\n",
       "      <td>2</td>\n",
       "      <td>0.704200</td>\n",
       "      <td>0.692649</td>\n",
       "      <td>0.510833</td>\n",
       "    </tr>\n",
       "    <tr>\n",
       "      <td>3</td>\n",
       "      <td>0.696500</td>\n",
       "      <td>0.691308</td>\n",
       "      <td>0.532083</td>\n",
       "    </tr>\n",
       "    <tr>\n",
       "      <td>4</td>\n",
       "      <td>0.694100</td>\n",
       "      <td>0.694949</td>\n",
       "      <td>0.525833</td>\n",
       "    </tr>\n",
       "    <tr>\n",
       "      <td>5</td>\n",
       "      <td>0.690300</td>\n",
       "      <td>0.688906</td>\n",
       "      <td>0.546250</td>\n",
       "    </tr>\n",
       "  </tbody>\n",
       "</table><p>"
      ],
      "text/plain": [
       "<IPython.core.display.HTML object>"
      ]
     },
     "metadata": {},
     "output_type": "display_data"
    },
    {
     "name": "stderr",
     "output_type": "stream",
     "text": [
      "The following columns in the evaluation set  don't have a corresponding argument in `BertForSequenceClassification.forward` and have been ignored: norm, ID, norm_sentiment, flipped, norm_action, actor_name, norm_storyfied, norm_value, intention, consequence, __index_level_0__, l2s_output, situation, action.\n",
      "***** Running Evaluation *****\n",
      "  Num examples = 2400\n",
      "  Batch size = 2\n",
      "Saving model checkpoint to /data/kiehne/results/shuffled_values/random_no_pretrain/bert-large-uncased/0.30/checkpoint-2699\n",
      "Configuration saved in /data/kiehne/results/shuffled_values/random_no_pretrain/bert-large-uncased/0.30/checkpoint-2699/config.json\n",
      "Model weights saved in /data/kiehne/results/shuffled_values/random_no_pretrain/bert-large-uncased/0.30/checkpoint-2699/pytorch_model.bin\n",
      "/home/kiehne/workspace/jupyter-notebooks/env/lib/python3.9/site-packages/torch/nn/parallel/_functions.py:68: UserWarning: Was asked to gather along dimension 0, but all input tensors were scalars; will instead unsqueeze and return a vector.\n",
      "  warnings.warn('Was asked to gather along dimension 0, but all '\n",
      "The following columns in the evaluation set  don't have a corresponding argument in `BertForSequenceClassification.forward` and have been ignored: norm, ID, norm_sentiment, flipped, norm_action, actor_name, norm_storyfied, norm_value, intention, consequence, __index_level_0__, l2s_output, situation, action.\n",
      "***** Running Evaluation *****\n",
      "  Num examples = 2400\n",
      "  Batch size = 2\n",
      "Saving model checkpoint to /data/kiehne/results/shuffled_values/random_no_pretrain/bert-large-uncased/0.30/checkpoint-5398\n",
      "Configuration saved in /data/kiehne/results/shuffled_values/random_no_pretrain/bert-large-uncased/0.30/checkpoint-5398/config.json\n",
      "Model weights saved in /data/kiehne/results/shuffled_values/random_no_pretrain/bert-large-uncased/0.30/checkpoint-5398/pytorch_model.bin\n",
      "/home/kiehne/workspace/jupyter-notebooks/env/lib/python3.9/site-packages/torch/nn/parallel/_functions.py:68: UserWarning: Was asked to gather along dimension 0, but all input tensors were scalars; will instead unsqueeze and return a vector.\n",
      "  warnings.warn('Was asked to gather along dimension 0, but all '\n",
      "The following columns in the evaluation set  don't have a corresponding argument in `BertForSequenceClassification.forward` and have been ignored: norm, ID, norm_sentiment, flipped, norm_action, actor_name, norm_storyfied, norm_value, intention, consequence, __index_level_0__, l2s_output, situation, action.\n",
      "***** Running Evaluation *****\n",
      "  Num examples = 2400\n",
      "  Batch size = 2\n",
      "Saving model checkpoint to /data/kiehne/results/shuffled_values/random_no_pretrain/bert-large-uncased/0.30/checkpoint-8097\n",
      "Configuration saved in /data/kiehne/results/shuffled_values/random_no_pretrain/bert-large-uncased/0.30/checkpoint-8097/config.json\n",
      "Model weights saved in /data/kiehne/results/shuffled_values/random_no_pretrain/bert-large-uncased/0.30/checkpoint-8097/pytorch_model.bin\n",
      "/home/kiehne/workspace/jupyter-notebooks/env/lib/python3.9/site-packages/torch/nn/parallel/_functions.py:68: UserWarning: Was asked to gather along dimension 0, but all input tensors were scalars; will instead unsqueeze and return a vector.\n",
      "  warnings.warn('Was asked to gather along dimension 0, but all '\n",
      "The following columns in the evaluation set  don't have a corresponding argument in `BertForSequenceClassification.forward` and have been ignored: norm, ID, norm_sentiment, flipped, norm_action, actor_name, norm_storyfied, norm_value, intention, consequence, __index_level_0__, l2s_output, situation, action.\n",
      "***** Running Evaluation *****\n",
      "  Num examples = 2400\n",
      "  Batch size = 2\n",
      "Saving model checkpoint to /data/kiehne/results/shuffled_values/random_no_pretrain/bert-large-uncased/0.30/checkpoint-10796\n",
      "Configuration saved in /data/kiehne/results/shuffled_values/random_no_pretrain/bert-large-uncased/0.30/checkpoint-10796/config.json\n",
      "Model weights saved in /data/kiehne/results/shuffled_values/random_no_pretrain/bert-large-uncased/0.30/checkpoint-10796/pytorch_model.bin\n",
      "/home/kiehne/workspace/jupyter-notebooks/env/lib/python3.9/site-packages/torch/nn/parallel/_functions.py:68: UserWarning: Was asked to gather along dimension 0, but all input tensors were scalars; will instead unsqueeze and return a vector.\n",
      "  warnings.warn('Was asked to gather along dimension 0, but all '\n",
      "The following columns in the evaluation set  don't have a corresponding argument in `BertForSequenceClassification.forward` and have been ignored: norm, ID, norm_sentiment, flipped, norm_action, actor_name, norm_storyfied, norm_value, intention, consequence, __index_level_0__, l2s_output, situation, action.\n",
      "***** Running Evaluation *****\n",
      "  Num examples = 2400\n",
      "  Batch size = 2\n",
      "Saving model checkpoint to /data/kiehne/results/shuffled_values/random_no_pretrain/bert-large-uncased/0.30/checkpoint-13495\n",
      "Configuration saved in /data/kiehne/results/shuffled_values/random_no_pretrain/bert-large-uncased/0.30/checkpoint-13495/config.json\n",
      "Model weights saved in /data/kiehne/results/shuffled_values/random_no_pretrain/bert-large-uncased/0.30/checkpoint-13495/pytorch_model.bin\n",
      "\n",
      "\n",
      "Training completed. Do not forget to share your model on huggingface.co/models =)\n",
      "\n",
      "\n",
      "PyTorch: setting up devices\n",
      "The default value for the training argument `--report_to` will change in v5 (from all installed integrations to none). In v5, you will need to use `--report_to all` to get the same behavior as now. You should start updating your code and make this info disappear :-).\n",
      "loading configuration file https://huggingface.co/bert-large-uncased/resolve/main/config.json from cache at /home/kiehne/.cache/huggingface/transformers/1cf090f220f9674b67b3434decfe4d40a6532d7849653eac435ff94d31a4904c.1d03e5e4fa2db2532c517b2cd98290d8444b237619bd3d2039850a6d5e86473d\n",
      "Model config BertConfig {\n",
      "  \"architectures\": [\n",
      "    \"BertForMaskedLM\"\n",
      "  ],\n",
      "  \"attention_probs_dropout_prob\": 0.1,\n",
      "  \"classifier_dropout\": null,\n",
      "  \"gradient_checkpointing\": false,\n",
      "  \"hidden_act\": \"gelu\",\n",
      "  \"hidden_dropout_prob\": 0.1,\n",
      "  \"hidden_size\": 1024,\n",
      "  \"initializer_range\": 0.02,\n",
      "  \"intermediate_size\": 4096,\n",
      "  \"layer_norm_eps\": 1e-12,\n",
      "  \"max_position_embeddings\": 512,\n",
      "  \"model_type\": \"bert\",\n",
      "  \"num_attention_heads\": 16,\n",
      "  \"num_hidden_layers\": 24,\n",
      "  \"pad_token_id\": 0,\n",
      "  \"position_embedding_type\": \"absolute\",\n",
      "  \"transformers_version\": \"4.10.3\",\n",
      "  \"type_vocab_size\": 2,\n",
      "  \"use_cache\": true,\n",
      "  \"vocab_size\": 30522\n",
      "}\n",
      "\n"
     ]
    },
    {
     "data": {
      "application/vnd.jupyter.widget-view+json": {
       "model_id": "566afcc0f0414242838cfc9ef8ce3487",
       "version_major": 2,
       "version_minor": 0
      },
      "text/plain": [
       "  0%|          | 0/22 [00:00<?, ?ba/s]"
      ]
     },
     "metadata": {},
     "output_type": "display_data"
    },
    {
     "data": {
      "application/vnd.jupyter.widget-view+json": {
       "model_id": "630463ecc1824a9381604f5e876bfd82",
       "version_major": 2,
       "version_minor": 0
      },
      "text/plain": [
       "  0%|          | 0/3 [00:00<?, ?ba/s]"
      ]
     },
     "metadata": {},
     "output_type": "display_data"
    },
    {
     "name": "stderr",
     "output_type": "stream",
     "text": [
      "The following columns in the training set  don't have a corresponding argument in `BertForSequenceClassification.forward` and have been ignored: norm, ID, norm_sentiment, flipped, norm_action, actor_name, norm_storyfied, norm_value, intention, consequence, __index_level_0__, l2s_output, situation, action.\n",
      "***** Running training *****\n",
      "  Num examples = 21592\n",
      "  Num Epochs = 5\n",
      "  Instantaneous batch size per device = 1\n",
      "  Total train batch size (w. parallel, distributed & accumulation) = 8\n",
      "  Gradient Accumulation steps = 4\n",
      "  Total optimization steps = 13495\n",
      "/home/kiehne/workspace/jupyter-notebooks/env/lib/python3.9/site-packages/torch/nn/parallel/_functions.py:68: UserWarning: Was asked to gather along dimension 0, but all input tensors were scalars; will instead unsqueeze and return a vector.\n",
      "  warnings.warn('Was asked to gather along dimension 0, but all '\n"
     ]
    },
    {
     "data": {
      "text/html": [
       "\n",
       "    <div>\n",
       "      \n",
       "      <progress value='13495' max='13495' style='width:300px; height:20px; vertical-align: middle;'></progress>\n",
       "      [13495/13495 5:49:38, Epoch 5/5]\n",
       "    </div>\n",
       "    <table border=\"1\" class=\"dataframe\">\n",
       "  <thead>\n",
       "    <tr style=\"text-align: left;\">\n",
       "      <th>Epoch</th>\n",
       "      <th>Training Loss</th>\n",
       "      <th>Validation Loss</th>\n",
       "      <th>Accuracy</th>\n",
       "    </tr>\n",
       "  </thead>\n",
       "  <tbody>\n",
       "    <tr>\n",
       "      <td>1</td>\n",
       "      <td>0.703000</td>\n",
       "      <td>0.698759</td>\n",
       "      <td>0.500000</td>\n",
       "    </tr>\n",
       "    <tr>\n",
       "      <td>2</td>\n",
       "      <td>0.700500</td>\n",
       "      <td>0.693756</td>\n",
       "      <td>0.500000</td>\n",
       "    </tr>\n",
       "    <tr>\n",
       "      <td>3</td>\n",
       "      <td>0.700100</td>\n",
       "      <td>0.694509</td>\n",
       "      <td>0.500000</td>\n",
       "    </tr>\n",
       "    <tr>\n",
       "      <td>4</td>\n",
       "      <td>0.697800</td>\n",
       "      <td>0.693385</td>\n",
       "      <td>0.500000</td>\n",
       "    </tr>\n",
       "    <tr>\n",
       "      <td>5</td>\n",
       "      <td>0.697200</td>\n",
       "      <td>0.693094</td>\n",
       "      <td>0.500000</td>\n",
       "    </tr>\n",
       "  </tbody>\n",
       "</table><p>"
      ],
      "text/plain": [
       "<IPython.core.display.HTML object>"
      ]
     },
     "metadata": {},
     "output_type": "display_data"
    },
    {
     "name": "stderr",
     "output_type": "stream",
     "text": [
      "The following columns in the evaluation set  don't have a corresponding argument in `BertForSequenceClassification.forward` and have been ignored: norm, ID, norm_sentiment, flipped, norm_action, actor_name, norm_storyfied, norm_value, intention, consequence, __index_level_0__, l2s_output, situation, action.\n",
      "***** Running Evaluation *****\n",
      "  Num examples = 2400\n",
      "  Batch size = 2\n",
      "Saving model checkpoint to /data/kiehne/results/shuffled_values/random_no_pretrain/bert-large-uncased/0.40/checkpoint-2699\n",
      "Configuration saved in /data/kiehne/results/shuffled_values/random_no_pretrain/bert-large-uncased/0.40/checkpoint-2699/config.json\n",
      "Model weights saved in /data/kiehne/results/shuffled_values/random_no_pretrain/bert-large-uncased/0.40/checkpoint-2699/pytorch_model.bin\n",
      "/home/kiehne/workspace/jupyter-notebooks/env/lib/python3.9/site-packages/torch/nn/parallel/_functions.py:68: UserWarning: Was asked to gather along dimension 0, but all input tensors were scalars; will instead unsqueeze and return a vector.\n",
      "  warnings.warn('Was asked to gather along dimension 0, but all '\n",
      "The following columns in the evaluation set  don't have a corresponding argument in `BertForSequenceClassification.forward` and have been ignored: norm, ID, norm_sentiment, flipped, norm_action, actor_name, norm_storyfied, norm_value, intention, consequence, __index_level_0__, l2s_output, situation, action.\n",
      "***** Running Evaluation *****\n",
      "  Num examples = 2400\n",
      "  Batch size = 2\n",
      "Saving model checkpoint to /data/kiehne/results/shuffled_values/random_no_pretrain/bert-large-uncased/0.40/checkpoint-5398\n",
      "Configuration saved in /data/kiehne/results/shuffled_values/random_no_pretrain/bert-large-uncased/0.40/checkpoint-5398/config.json\n",
      "Model weights saved in /data/kiehne/results/shuffled_values/random_no_pretrain/bert-large-uncased/0.40/checkpoint-5398/pytorch_model.bin\n",
      "/home/kiehne/workspace/jupyter-notebooks/env/lib/python3.9/site-packages/torch/nn/parallel/_functions.py:68: UserWarning: Was asked to gather along dimension 0, but all input tensors were scalars; will instead unsqueeze and return a vector.\n",
      "  warnings.warn('Was asked to gather along dimension 0, but all '\n",
      "The following columns in the evaluation set  don't have a corresponding argument in `BertForSequenceClassification.forward` and have been ignored: norm, ID, norm_sentiment, flipped, norm_action, actor_name, norm_storyfied, norm_value, intention, consequence, __index_level_0__, l2s_output, situation, action.\n",
      "***** Running Evaluation *****\n",
      "  Num examples = 2400\n",
      "  Batch size = 2\n",
      "Saving model checkpoint to /data/kiehne/results/shuffled_values/random_no_pretrain/bert-large-uncased/0.40/checkpoint-8097\n",
      "Configuration saved in /data/kiehne/results/shuffled_values/random_no_pretrain/bert-large-uncased/0.40/checkpoint-8097/config.json\n",
      "Model weights saved in /data/kiehne/results/shuffled_values/random_no_pretrain/bert-large-uncased/0.40/checkpoint-8097/pytorch_model.bin\n",
      "/home/kiehne/workspace/jupyter-notebooks/env/lib/python3.9/site-packages/torch/nn/parallel/_functions.py:68: UserWarning: Was asked to gather along dimension 0, but all input tensors were scalars; will instead unsqueeze and return a vector.\n",
      "  warnings.warn('Was asked to gather along dimension 0, but all '\n",
      "The following columns in the evaluation set  don't have a corresponding argument in `BertForSequenceClassification.forward` and have been ignored: norm, ID, norm_sentiment, flipped, norm_action, actor_name, norm_storyfied, norm_value, intention, consequence, __index_level_0__, l2s_output, situation, action.\n",
      "***** Running Evaluation *****\n",
      "  Num examples = 2400\n",
      "  Batch size = 2\n",
      "Saving model checkpoint to /data/kiehne/results/shuffled_values/random_no_pretrain/bert-large-uncased/0.40/checkpoint-10796\n",
      "Configuration saved in /data/kiehne/results/shuffled_values/random_no_pretrain/bert-large-uncased/0.40/checkpoint-10796/config.json\n",
      "Model weights saved in /data/kiehne/results/shuffled_values/random_no_pretrain/bert-large-uncased/0.40/checkpoint-10796/pytorch_model.bin\n",
      "/home/kiehne/workspace/jupyter-notebooks/env/lib/python3.9/site-packages/torch/nn/parallel/_functions.py:68: UserWarning: Was asked to gather along dimension 0, but all input tensors were scalars; will instead unsqueeze and return a vector.\n",
      "  warnings.warn('Was asked to gather along dimension 0, but all '\n",
      "The following columns in the evaluation set  don't have a corresponding argument in `BertForSequenceClassification.forward` and have been ignored: norm, ID, norm_sentiment, flipped, norm_action, actor_name, norm_storyfied, norm_value, intention, consequence, __index_level_0__, l2s_output, situation, action.\n",
      "***** Running Evaluation *****\n",
      "  Num examples = 2400\n",
      "  Batch size = 2\n",
      "Saving model checkpoint to /data/kiehne/results/shuffled_values/random_no_pretrain/bert-large-uncased/0.40/checkpoint-13495\n",
      "Configuration saved in /data/kiehne/results/shuffled_values/random_no_pretrain/bert-large-uncased/0.40/checkpoint-13495/config.json\n",
      "Model weights saved in /data/kiehne/results/shuffled_values/random_no_pretrain/bert-large-uncased/0.40/checkpoint-13495/pytorch_model.bin\n",
      "\n",
      "\n",
      "Training completed. Do not forget to share your model on huggingface.co/models =)\n",
      "\n",
      "\n",
      "PyTorch: setting up devices\n",
      "The default value for the training argument `--report_to` will change in v5 (from all installed integrations to none). In v5, you will need to use `--report_to all` to get the same behavior as now. You should start updating your code and make this info disappear :-).\n",
      "loading configuration file https://huggingface.co/bert-large-uncased/resolve/main/config.json from cache at /home/kiehne/.cache/huggingface/transformers/1cf090f220f9674b67b3434decfe4d40a6532d7849653eac435ff94d31a4904c.1d03e5e4fa2db2532c517b2cd98290d8444b237619bd3d2039850a6d5e86473d\n",
      "Model config BertConfig {\n",
      "  \"architectures\": [\n",
      "    \"BertForMaskedLM\"\n",
      "  ],\n",
      "  \"attention_probs_dropout_prob\": 0.1,\n",
      "  \"classifier_dropout\": null,\n",
      "  \"gradient_checkpointing\": false,\n",
      "  \"hidden_act\": \"gelu\",\n",
      "  \"hidden_dropout_prob\": 0.1,\n",
      "  \"hidden_size\": 1024,\n",
      "  \"initializer_range\": 0.02,\n",
      "  \"intermediate_size\": 4096,\n",
      "  \"layer_norm_eps\": 1e-12,\n",
      "  \"max_position_embeddings\": 512,\n",
      "  \"model_type\": \"bert\",\n",
      "  \"num_attention_heads\": 16,\n",
      "  \"num_hidden_layers\": 24,\n",
      "  \"pad_token_id\": 0,\n",
      "  \"position_embedding_type\": \"absolute\",\n",
      "  \"transformers_version\": \"4.10.3\",\n",
      "  \"type_vocab_size\": 2,\n",
      "  \"use_cache\": true,\n",
      "  \"vocab_size\": 30522\n",
      "}\n",
      "\n"
     ]
    },
    {
     "data": {
      "application/vnd.jupyter.widget-view+json": {
       "model_id": "a2e6b5bd119c4041bc1d825e83de0043",
       "version_major": 2,
       "version_minor": 0
      },
      "text/plain": [
       "  0%|          | 0/22 [00:00<?, ?ba/s]"
      ]
     },
     "metadata": {},
     "output_type": "display_data"
    },
    {
     "data": {
      "application/vnd.jupyter.widget-view+json": {
       "model_id": "6441a991c1e1436890396b9f5c8ce516",
       "version_major": 2,
       "version_minor": 0
      },
      "text/plain": [
       "  0%|          | 0/3 [00:00<?, ?ba/s]"
      ]
     },
     "metadata": {},
     "output_type": "display_data"
    },
    {
     "name": "stderr",
     "output_type": "stream",
     "text": [
      "The following columns in the training set  don't have a corresponding argument in `BertForSequenceClassification.forward` and have been ignored: norm, ID, norm_sentiment, flipped, norm_action, actor_name, norm_storyfied, norm_value, intention, consequence, __index_level_0__, l2s_output, situation, action.\n",
      "***** Running training *****\n",
      "  Num examples = 21592\n",
      "  Num Epochs = 5\n",
      "  Instantaneous batch size per device = 1\n",
      "  Total train batch size (w. parallel, distributed & accumulation) = 8\n",
      "  Gradient Accumulation steps = 4\n",
      "  Total optimization steps = 13495\n",
      "/home/kiehne/workspace/jupyter-notebooks/env/lib/python3.9/site-packages/torch/nn/parallel/_functions.py:68: UserWarning: Was asked to gather along dimension 0, but all input tensors were scalars; will instead unsqueeze and return a vector.\n",
      "  warnings.warn('Was asked to gather along dimension 0, but all '\n"
     ]
    },
    {
     "data": {
      "text/html": [
       "\n",
       "    <div>\n",
       "      \n",
       "      <progress value='13495' max='13495' style='width:300px; height:20px; vertical-align: middle;'></progress>\n",
       "      [13495/13495 5:49:08, Epoch 5/5]\n",
       "    </div>\n",
       "    <table border=\"1\" class=\"dataframe\">\n",
       "  <thead>\n",
       "    <tr style=\"text-align: left;\">\n",
       "      <th>Epoch</th>\n",
       "      <th>Training Loss</th>\n",
       "      <th>Validation Loss</th>\n",
       "      <th>Accuracy</th>\n",
       "    </tr>\n",
       "  </thead>\n",
       "  <tbody>\n",
       "    <tr>\n",
       "      <td>1</td>\n",
       "      <td>0.704500</td>\n",
       "      <td>0.698303</td>\n",
       "      <td>0.500000</td>\n",
       "    </tr>\n",
       "    <tr>\n",
       "      <td>2</td>\n",
       "      <td>0.700600</td>\n",
       "      <td>0.694564</td>\n",
       "      <td>0.500000</td>\n",
       "    </tr>\n",
       "    <tr>\n",
       "      <td>3</td>\n",
       "      <td>0.697200</td>\n",
       "      <td>0.697316</td>\n",
       "      <td>0.500000</td>\n",
       "    </tr>\n",
       "    <tr>\n",
       "      <td>4</td>\n",
       "      <td>0.699800</td>\n",
       "      <td>0.693213</td>\n",
       "      <td>0.500000</td>\n",
       "    </tr>\n",
       "    <tr>\n",
       "      <td>5</td>\n",
       "      <td>0.699000</td>\n",
       "      <td>0.693200</td>\n",
       "      <td>0.500000</td>\n",
       "    </tr>\n",
       "  </tbody>\n",
       "</table><p>"
      ],
      "text/plain": [
       "<IPython.core.display.HTML object>"
      ]
     },
     "metadata": {},
     "output_type": "display_data"
    },
    {
     "name": "stderr",
     "output_type": "stream",
     "text": [
      "The following columns in the evaluation set  don't have a corresponding argument in `BertForSequenceClassification.forward` and have been ignored: norm, ID, norm_sentiment, flipped, norm_action, actor_name, norm_storyfied, norm_value, intention, consequence, __index_level_0__, l2s_output, situation, action.\n",
      "***** Running Evaluation *****\n",
      "  Num examples = 2400\n",
      "  Batch size = 2\n",
      "Saving model checkpoint to /data/kiehne/results/shuffled_values/random_no_pretrain/bert-large-uncased/0.50/checkpoint-2699\n",
      "Configuration saved in /data/kiehne/results/shuffled_values/random_no_pretrain/bert-large-uncased/0.50/checkpoint-2699/config.json\n",
      "Model weights saved in /data/kiehne/results/shuffled_values/random_no_pretrain/bert-large-uncased/0.50/checkpoint-2699/pytorch_model.bin\n",
      "/home/kiehne/workspace/jupyter-notebooks/env/lib/python3.9/site-packages/torch/nn/parallel/_functions.py:68: UserWarning: Was asked to gather along dimension 0, but all input tensors were scalars; will instead unsqueeze and return a vector.\n",
      "  warnings.warn('Was asked to gather along dimension 0, but all '\n",
      "The following columns in the evaluation set  don't have a corresponding argument in `BertForSequenceClassification.forward` and have been ignored: norm, ID, norm_sentiment, flipped, norm_action, actor_name, norm_storyfied, norm_value, intention, consequence, __index_level_0__, l2s_output, situation, action.\n",
      "***** Running Evaluation *****\n",
      "  Num examples = 2400\n",
      "  Batch size = 2\n",
      "Saving model checkpoint to /data/kiehne/results/shuffled_values/random_no_pretrain/bert-large-uncased/0.50/checkpoint-5398\n",
      "Configuration saved in /data/kiehne/results/shuffled_values/random_no_pretrain/bert-large-uncased/0.50/checkpoint-5398/config.json\n",
      "Model weights saved in /data/kiehne/results/shuffled_values/random_no_pretrain/bert-large-uncased/0.50/checkpoint-5398/pytorch_model.bin\n",
      "/home/kiehne/workspace/jupyter-notebooks/env/lib/python3.9/site-packages/torch/nn/parallel/_functions.py:68: UserWarning: Was asked to gather along dimension 0, but all input tensors were scalars; will instead unsqueeze and return a vector.\n",
      "  warnings.warn('Was asked to gather along dimension 0, but all '\n",
      "The following columns in the evaluation set  don't have a corresponding argument in `BertForSequenceClassification.forward` and have been ignored: norm, ID, norm_sentiment, flipped, norm_action, actor_name, norm_storyfied, norm_value, intention, consequence, __index_level_0__, l2s_output, situation, action.\n",
      "***** Running Evaluation *****\n",
      "  Num examples = 2400\n",
      "  Batch size = 2\n",
      "Saving model checkpoint to /data/kiehne/results/shuffled_values/random_no_pretrain/bert-large-uncased/0.50/checkpoint-8097\n",
      "Configuration saved in /data/kiehne/results/shuffled_values/random_no_pretrain/bert-large-uncased/0.50/checkpoint-8097/config.json\n",
      "Model weights saved in /data/kiehne/results/shuffled_values/random_no_pretrain/bert-large-uncased/0.50/checkpoint-8097/pytorch_model.bin\n",
      "/home/kiehne/workspace/jupyter-notebooks/env/lib/python3.9/site-packages/torch/nn/parallel/_functions.py:68: UserWarning: Was asked to gather along dimension 0, but all input tensors were scalars; will instead unsqueeze and return a vector.\n",
      "  warnings.warn('Was asked to gather along dimension 0, but all '\n",
      "The following columns in the evaluation set  don't have a corresponding argument in `BertForSequenceClassification.forward` and have been ignored: norm, ID, norm_sentiment, flipped, norm_action, actor_name, norm_storyfied, norm_value, intention, consequence, __index_level_0__, l2s_output, situation, action.\n",
      "***** Running Evaluation *****\n",
      "  Num examples = 2400\n",
      "  Batch size = 2\n",
      "Saving model checkpoint to /data/kiehne/results/shuffled_values/random_no_pretrain/bert-large-uncased/0.50/checkpoint-10796\n",
      "Configuration saved in /data/kiehne/results/shuffled_values/random_no_pretrain/bert-large-uncased/0.50/checkpoint-10796/config.json\n",
      "Model weights saved in /data/kiehne/results/shuffled_values/random_no_pretrain/bert-large-uncased/0.50/checkpoint-10796/pytorch_model.bin\n",
      "/home/kiehne/workspace/jupyter-notebooks/env/lib/python3.9/site-packages/torch/nn/parallel/_functions.py:68: UserWarning: Was asked to gather along dimension 0, but all input tensors were scalars; will instead unsqueeze and return a vector.\n",
      "  warnings.warn('Was asked to gather along dimension 0, but all '\n",
      "The following columns in the evaluation set  don't have a corresponding argument in `BertForSequenceClassification.forward` and have been ignored: norm, ID, norm_sentiment, flipped, norm_action, actor_name, norm_storyfied, norm_value, intention, consequence, __index_level_0__, l2s_output, situation, action.\n",
      "***** Running Evaluation *****\n",
      "  Num examples = 2400\n",
      "  Batch size = 2\n",
      "Saving model checkpoint to /data/kiehne/results/shuffled_values/random_no_pretrain/bert-large-uncased/0.50/checkpoint-13495\n",
      "Configuration saved in /data/kiehne/results/shuffled_values/random_no_pretrain/bert-large-uncased/0.50/checkpoint-13495/config.json\n",
      "Model weights saved in /data/kiehne/results/shuffled_values/random_no_pretrain/bert-large-uncased/0.50/checkpoint-13495/pytorch_model.bin\n",
      "\n",
      "\n",
      "Training completed. Do not forget to share your model on huggingface.co/models =)\n",
      "\n",
      "\n",
      "PyTorch: setting up devices\n",
      "The default value for the training argument `--report_to` will change in v5 (from all installed integrations to none). In v5, you will need to use `--report_to all` to get the same behavior as now. You should start updating your code and make this info disappear :-).\n",
      "loading configuration file https://huggingface.co/bert-large-uncased/resolve/main/config.json from cache at /home/kiehne/.cache/huggingface/transformers/1cf090f220f9674b67b3434decfe4d40a6532d7849653eac435ff94d31a4904c.1d03e5e4fa2db2532c517b2cd98290d8444b237619bd3d2039850a6d5e86473d\n",
      "Model config BertConfig {\n",
      "  \"architectures\": [\n",
      "    \"BertForMaskedLM\"\n",
      "  ],\n",
      "  \"attention_probs_dropout_prob\": 0.1,\n",
      "  \"classifier_dropout\": null,\n",
      "  \"gradient_checkpointing\": false,\n",
      "  \"hidden_act\": \"gelu\",\n",
      "  \"hidden_dropout_prob\": 0.1,\n",
      "  \"hidden_size\": 1024,\n",
      "  \"initializer_range\": 0.02,\n",
      "  \"intermediate_size\": 4096,\n",
      "  \"layer_norm_eps\": 1e-12,\n",
      "  \"max_position_embeddings\": 512,\n",
      "  \"model_type\": \"bert\",\n",
      "  \"num_attention_heads\": 16,\n",
      "  \"num_hidden_layers\": 24,\n",
      "  \"pad_token_id\": 0,\n",
      "  \"position_embedding_type\": \"absolute\",\n",
      "  \"transformers_version\": \"4.10.3\",\n",
      "  \"type_vocab_size\": 2,\n",
      "  \"use_cache\": true,\n",
      "  \"vocab_size\": 30522\n",
      "}\n",
      "\n"
     ]
    },
    {
     "data": {
      "application/vnd.jupyter.widget-view+json": {
       "model_id": "2b5a5d7b441949e3ae9d2b9bf8906214",
       "version_major": 2,
       "version_minor": 0
      },
      "text/plain": [
       "  0%|          | 0/22 [00:00<?, ?ba/s]"
      ]
     },
     "metadata": {},
     "output_type": "display_data"
    },
    {
     "data": {
      "application/vnd.jupyter.widget-view+json": {
       "model_id": "bcc746be099e44ee8f568173c52c3bc8",
       "version_major": 2,
       "version_minor": 0
      },
      "text/plain": [
       "  0%|          | 0/3 [00:00<?, ?ba/s]"
      ]
     },
     "metadata": {},
     "output_type": "display_data"
    },
    {
     "name": "stderr",
     "output_type": "stream",
     "text": [
      "The following columns in the training set  don't have a corresponding argument in `BertForSequenceClassification.forward` and have been ignored: norm, ID, norm_sentiment, flipped, norm_action, actor_name, norm_storyfied, norm_value, intention, consequence, __index_level_0__, l2s_output, situation, action.\n",
      "***** Running training *****\n",
      "  Num examples = 21592\n",
      "  Num Epochs = 5\n",
      "  Instantaneous batch size per device = 1\n",
      "  Total train batch size (w. parallel, distributed & accumulation) = 8\n",
      "  Gradient Accumulation steps = 4\n",
      "  Total optimization steps = 13495\n",
      "/home/kiehne/workspace/jupyter-notebooks/env/lib/python3.9/site-packages/torch/nn/parallel/_functions.py:68: UserWarning: Was asked to gather along dimension 0, but all input tensors were scalars; will instead unsqueeze and return a vector.\n",
      "  warnings.warn('Was asked to gather along dimension 0, but all '\n"
     ]
    },
    {
     "data": {
      "text/html": [
       "\n",
       "    <div>\n",
       "      \n",
       "      <progress value='13495' max='13495' style='width:300px; height:20px; vertical-align: middle;'></progress>\n",
       "      [13495/13495 5:49:01, Epoch 5/5]\n",
       "    </div>\n",
       "    <table border=\"1\" class=\"dataframe\">\n",
       "  <thead>\n",
       "    <tr style=\"text-align: left;\">\n",
       "      <th>Epoch</th>\n",
       "      <th>Training Loss</th>\n",
       "      <th>Validation Loss</th>\n",
       "      <th>Accuracy</th>\n",
       "    </tr>\n",
       "  </thead>\n",
       "  <tbody>\n",
       "    <tr>\n",
       "      <td>1</td>\n",
       "      <td>0.704100</td>\n",
       "      <td>0.694529</td>\n",
       "      <td>0.500000</td>\n",
       "    </tr>\n",
       "    <tr>\n",
       "      <td>2</td>\n",
       "      <td>0.703000</td>\n",
       "      <td>0.695217</td>\n",
       "      <td>0.500000</td>\n",
       "    </tr>\n",
       "    <tr>\n",
       "      <td>3</td>\n",
       "      <td>0.697100</td>\n",
       "      <td>0.694257</td>\n",
       "      <td>0.500000</td>\n",
       "    </tr>\n",
       "    <tr>\n",
       "      <td>4</td>\n",
       "      <td>0.698600</td>\n",
       "      <td>0.695150</td>\n",
       "      <td>0.500000</td>\n",
       "    </tr>\n",
       "    <tr>\n",
       "      <td>5</td>\n",
       "      <td>0.697000</td>\n",
       "      <td>0.693065</td>\n",
       "      <td>0.500417</td>\n",
       "    </tr>\n",
       "  </tbody>\n",
       "</table><p>"
      ],
      "text/plain": [
       "<IPython.core.display.HTML object>"
      ]
     },
     "metadata": {},
     "output_type": "display_data"
    },
    {
     "name": "stderr",
     "output_type": "stream",
     "text": [
      "The following columns in the evaluation set  don't have a corresponding argument in `BertForSequenceClassification.forward` and have been ignored: norm, ID, norm_sentiment, flipped, norm_action, actor_name, norm_storyfied, norm_value, intention, consequence, __index_level_0__, l2s_output, situation, action.\n",
      "***** Running Evaluation *****\n",
      "  Num examples = 2400\n",
      "  Batch size = 2\n",
      "Saving model checkpoint to /data/kiehne/results/shuffled_values/random_no_pretrain/bert-large-uncased/0.60/checkpoint-2699\n",
      "Configuration saved in /data/kiehne/results/shuffled_values/random_no_pretrain/bert-large-uncased/0.60/checkpoint-2699/config.json\n",
      "Model weights saved in /data/kiehne/results/shuffled_values/random_no_pretrain/bert-large-uncased/0.60/checkpoint-2699/pytorch_model.bin\n",
      "/home/kiehne/workspace/jupyter-notebooks/env/lib/python3.9/site-packages/torch/nn/parallel/_functions.py:68: UserWarning: Was asked to gather along dimension 0, but all input tensors were scalars; will instead unsqueeze and return a vector.\n",
      "  warnings.warn('Was asked to gather along dimension 0, but all '\n",
      "The following columns in the evaluation set  don't have a corresponding argument in `BertForSequenceClassification.forward` and have been ignored: norm, ID, norm_sentiment, flipped, norm_action, actor_name, norm_storyfied, norm_value, intention, consequence, __index_level_0__, l2s_output, situation, action.\n",
      "***** Running Evaluation *****\n",
      "  Num examples = 2400\n",
      "  Batch size = 2\n",
      "Saving model checkpoint to /data/kiehne/results/shuffled_values/random_no_pretrain/bert-large-uncased/0.60/checkpoint-5398\n",
      "Configuration saved in /data/kiehne/results/shuffled_values/random_no_pretrain/bert-large-uncased/0.60/checkpoint-5398/config.json\n",
      "Model weights saved in /data/kiehne/results/shuffled_values/random_no_pretrain/bert-large-uncased/0.60/checkpoint-5398/pytorch_model.bin\n",
      "/home/kiehne/workspace/jupyter-notebooks/env/lib/python3.9/site-packages/torch/nn/parallel/_functions.py:68: UserWarning: Was asked to gather along dimension 0, but all input tensors were scalars; will instead unsqueeze and return a vector.\n",
      "  warnings.warn('Was asked to gather along dimension 0, but all '\n",
      "The following columns in the evaluation set  don't have a corresponding argument in `BertForSequenceClassification.forward` and have been ignored: norm, ID, norm_sentiment, flipped, norm_action, actor_name, norm_storyfied, norm_value, intention, consequence, __index_level_0__, l2s_output, situation, action.\n",
      "***** Running Evaluation *****\n",
      "  Num examples = 2400\n",
      "  Batch size = 2\n",
      "Saving model checkpoint to /data/kiehne/results/shuffled_values/random_no_pretrain/bert-large-uncased/0.60/checkpoint-8097\n",
      "Configuration saved in /data/kiehne/results/shuffled_values/random_no_pretrain/bert-large-uncased/0.60/checkpoint-8097/config.json\n",
      "Model weights saved in /data/kiehne/results/shuffled_values/random_no_pretrain/bert-large-uncased/0.60/checkpoint-8097/pytorch_model.bin\n",
      "/home/kiehne/workspace/jupyter-notebooks/env/lib/python3.9/site-packages/torch/nn/parallel/_functions.py:68: UserWarning: Was asked to gather along dimension 0, but all input tensors were scalars; will instead unsqueeze and return a vector.\n",
      "  warnings.warn('Was asked to gather along dimension 0, but all '\n",
      "The following columns in the evaluation set  don't have a corresponding argument in `BertForSequenceClassification.forward` and have been ignored: norm, ID, norm_sentiment, flipped, norm_action, actor_name, norm_storyfied, norm_value, intention, consequence, __index_level_0__, l2s_output, situation, action.\n",
      "***** Running Evaluation *****\n",
      "  Num examples = 2400\n",
      "  Batch size = 2\n",
      "Saving model checkpoint to /data/kiehne/results/shuffled_values/random_no_pretrain/bert-large-uncased/0.60/checkpoint-10796\n",
      "Configuration saved in /data/kiehne/results/shuffled_values/random_no_pretrain/bert-large-uncased/0.60/checkpoint-10796/config.json\n",
      "Model weights saved in /data/kiehne/results/shuffled_values/random_no_pretrain/bert-large-uncased/0.60/checkpoint-10796/pytorch_model.bin\n",
      "/home/kiehne/workspace/jupyter-notebooks/env/lib/python3.9/site-packages/torch/nn/parallel/_functions.py:68: UserWarning: Was asked to gather along dimension 0, but all input tensors were scalars; will instead unsqueeze and return a vector.\n",
      "  warnings.warn('Was asked to gather along dimension 0, but all '\n",
      "The following columns in the evaluation set  don't have a corresponding argument in `BertForSequenceClassification.forward` and have been ignored: norm, ID, norm_sentiment, flipped, norm_action, actor_name, norm_storyfied, norm_value, intention, consequence, __index_level_0__, l2s_output, situation, action.\n",
      "***** Running Evaluation *****\n",
      "  Num examples = 2400\n",
      "  Batch size = 2\n",
      "Saving model checkpoint to /data/kiehne/results/shuffled_values/random_no_pretrain/bert-large-uncased/0.60/checkpoint-13495\n",
      "Configuration saved in /data/kiehne/results/shuffled_values/random_no_pretrain/bert-large-uncased/0.60/checkpoint-13495/config.json\n",
      "Model weights saved in /data/kiehne/results/shuffled_values/random_no_pretrain/bert-large-uncased/0.60/checkpoint-13495/pytorch_model.bin\n",
      "\n",
      "\n",
      "Training completed. Do not forget to share your model on huggingface.co/models =)\n",
      "\n",
      "\n",
      "PyTorch: setting up devices\n",
      "The default value for the training argument `--report_to` will change in v5 (from all installed integrations to none). In v5, you will need to use `--report_to all` to get the same behavior as now. You should start updating your code and make this info disappear :-).\n",
      "loading configuration file https://huggingface.co/bert-large-uncased/resolve/main/config.json from cache at /home/kiehne/.cache/huggingface/transformers/1cf090f220f9674b67b3434decfe4d40a6532d7849653eac435ff94d31a4904c.1d03e5e4fa2db2532c517b2cd98290d8444b237619bd3d2039850a6d5e86473d\n",
      "Model config BertConfig {\n",
      "  \"architectures\": [\n",
      "    \"BertForMaskedLM\"\n",
      "  ],\n",
      "  \"attention_probs_dropout_prob\": 0.1,\n",
      "  \"classifier_dropout\": null,\n",
      "  \"gradient_checkpointing\": false,\n",
      "  \"hidden_act\": \"gelu\",\n",
      "  \"hidden_dropout_prob\": 0.1,\n",
      "  \"hidden_size\": 1024,\n",
      "  \"initializer_range\": 0.02,\n",
      "  \"intermediate_size\": 4096,\n",
      "  \"layer_norm_eps\": 1e-12,\n",
      "  \"max_position_embeddings\": 512,\n",
      "  \"model_type\": \"bert\",\n",
      "  \"num_attention_heads\": 16,\n",
      "  \"num_hidden_layers\": 24,\n",
      "  \"pad_token_id\": 0,\n",
      "  \"position_embedding_type\": \"absolute\",\n",
      "  \"transformers_version\": \"4.10.3\",\n",
      "  \"type_vocab_size\": 2,\n",
      "  \"use_cache\": true,\n",
      "  \"vocab_size\": 30522\n",
      "}\n",
      "\n"
     ]
    },
    {
     "data": {
      "application/vnd.jupyter.widget-view+json": {
       "model_id": "81e3c8a113394b16a11fcdce27dc6a72",
       "version_major": 2,
       "version_minor": 0
      },
      "text/plain": [
       "  0%|          | 0/22 [00:00<?, ?ba/s]"
      ]
     },
     "metadata": {},
     "output_type": "display_data"
    },
    {
     "data": {
      "application/vnd.jupyter.widget-view+json": {
       "model_id": "8e1252cf343b45c989148780e7ed86ec",
       "version_major": 2,
       "version_minor": 0
      },
      "text/plain": [
       "  0%|          | 0/3 [00:00<?, ?ba/s]"
      ]
     },
     "metadata": {},
     "output_type": "display_data"
    },
    {
     "name": "stderr",
     "output_type": "stream",
     "text": [
      "The following columns in the training set  don't have a corresponding argument in `BertForSequenceClassification.forward` and have been ignored: norm, ID, norm_sentiment, flipped, norm_action, actor_name, norm_storyfied, norm_value, intention, consequence, __index_level_0__, l2s_output, situation, action.\n",
      "***** Running training *****\n",
      "  Num examples = 21592\n",
      "  Num Epochs = 5\n",
      "  Instantaneous batch size per device = 1\n",
      "  Total train batch size (w. parallel, distributed & accumulation) = 8\n",
      "  Gradient Accumulation steps = 4\n",
      "  Total optimization steps = 13495\n",
      "/home/kiehne/workspace/jupyter-notebooks/env/lib/python3.9/site-packages/torch/nn/parallel/_functions.py:68: UserWarning: Was asked to gather along dimension 0, but all input tensors were scalars; will instead unsqueeze and return a vector.\n",
      "  warnings.warn('Was asked to gather along dimension 0, but all '\n"
     ]
    },
    {
     "data": {
      "text/html": [
       "\n",
       "    <div>\n",
       "      \n",
       "      <progress value='13495' max='13495' style='width:300px; height:20px; vertical-align: middle;'></progress>\n",
       "      [13495/13495 5:49:11, Epoch 5/5]\n",
       "    </div>\n",
       "    <table border=\"1\" class=\"dataframe\">\n",
       "  <thead>\n",
       "    <tr style=\"text-align: left;\">\n",
       "      <th>Epoch</th>\n",
       "      <th>Training Loss</th>\n",
       "      <th>Validation Loss</th>\n",
       "      <th>Accuracy</th>\n",
       "    </tr>\n",
       "  </thead>\n",
       "  <tbody>\n",
       "    <tr>\n",
       "      <td>1</td>\n",
       "      <td>0.703400</td>\n",
       "      <td>0.695937</td>\n",
       "      <td>0.500000</td>\n",
       "    </tr>\n",
       "    <tr>\n",
       "      <td>2</td>\n",
       "      <td>0.700900</td>\n",
       "      <td>0.695114</td>\n",
       "      <td>0.500000</td>\n",
       "    </tr>\n",
       "    <tr>\n",
       "      <td>3</td>\n",
       "      <td>0.696600</td>\n",
       "      <td>0.692331</td>\n",
       "      <td>0.520833</td>\n",
       "    </tr>\n",
       "    <tr>\n",
       "      <td>4</td>\n",
       "      <td>0.696800</td>\n",
       "      <td>0.691864</td>\n",
       "      <td>0.528750</td>\n",
       "    </tr>\n",
       "    <tr>\n",
       "      <td>5</td>\n",
       "      <td>0.691700</td>\n",
       "      <td>0.690360</td>\n",
       "      <td>0.522917</td>\n",
       "    </tr>\n",
       "  </tbody>\n",
       "</table><p>"
      ],
      "text/plain": [
       "<IPython.core.display.HTML object>"
      ]
     },
     "metadata": {},
     "output_type": "display_data"
    },
    {
     "name": "stderr",
     "output_type": "stream",
     "text": [
      "The following columns in the evaluation set  don't have a corresponding argument in `BertForSequenceClassification.forward` and have been ignored: norm, ID, norm_sentiment, flipped, norm_action, actor_name, norm_storyfied, norm_value, intention, consequence, __index_level_0__, l2s_output, situation, action.\n",
      "***** Running Evaluation *****\n",
      "  Num examples = 2400\n",
      "  Batch size = 2\n",
      "Saving model checkpoint to /data/kiehne/results/shuffled_values/random_no_pretrain/bert-large-uncased/0.70/checkpoint-2699\n",
      "Configuration saved in /data/kiehne/results/shuffled_values/random_no_pretrain/bert-large-uncased/0.70/checkpoint-2699/config.json\n",
      "Model weights saved in /data/kiehne/results/shuffled_values/random_no_pretrain/bert-large-uncased/0.70/checkpoint-2699/pytorch_model.bin\n",
      "/home/kiehne/workspace/jupyter-notebooks/env/lib/python3.9/site-packages/torch/nn/parallel/_functions.py:68: UserWarning: Was asked to gather along dimension 0, but all input tensors were scalars; will instead unsqueeze and return a vector.\n",
      "  warnings.warn('Was asked to gather along dimension 0, but all '\n",
      "The following columns in the evaluation set  don't have a corresponding argument in `BertForSequenceClassification.forward` and have been ignored: norm, ID, norm_sentiment, flipped, norm_action, actor_name, norm_storyfied, norm_value, intention, consequence, __index_level_0__, l2s_output, situation, action.\n",
      "***** Running Evaluation *****\n",
      "  Num examples = 2400\n",
      "  Batch size = 2\n",
      "Saving model checkpoint to /data/kiehne/results/shuffled_values/random_no_pretrain/bert-large-uncased/0.70/checkpoint-5398\n",
      "Configuration saved in /data/kiehne/results/shuffled_values/random_no_pretrain/bert-large-uncased/0.70/checkpoint-5398/config.json\n",
      "Model weights saved in /data/kiehne/results/shuffled_values/random_no_pretrain/bert-large-uncased/0.70/checkpoint-5398/pytorch_model.bin\n",
      "/home/kiehne/workspace/jupyter-notebooks/env/lib/python3.9/site-packages/torch/nn/parallel/_functions.py:68: UserWarning: Was asked to gather along dimension 0, but all input tensors were scalars; will instead unsqueeze and return a vector.\n",
      "  warnings.warn('Was asked to gather along dimension 0, but all '\n",
      "The following columns in the evaluation set  don't have a corresponding argument in `BertForSequenceClassification.forward` and have been ignored: norm, ID, norm_sentiment, flipped, norm_action, actor_name, norm_storyfied, norm_value, intention, consequence, __index_level_0__, l2s_output, situation, action.\n",
      "***** Running Evaluation *****\n",
      "  Num examples = 2400\n",
      "  Batch size = 2\n",
      "Saving model checkpoint to /data/kiehne/results/shuffled_values/random_no_pretrain/bert-large-uncased/0.70/checkpoint-8097\n",
      "Configuration saved in /data/kiehne/results/shuffled_values/random_no_pretrain/bert-large-uncased/0.70/checkpoint-8097/config.json\n",
      "Model weights saved in /data/kiehne/results/shuffled_values/random_no_pretrain/bert-large-uncased/0.70/checkpoint-8097/pytorch_model.bin\n",
      "/home/kiehne/workspace/jupyter-notebooks/env/lib/python3.9/site-packages/torch/nn/parallel/_functions.py:68: UserWarning: Was asked to gather along dimension 0, but all input tensors were scalars; will instead unsqueeze and return a vector.\n",
      "  warnings.warn('Was asked to gather along dimension 0, but all '\n",
      "The following columns in the evaluation set  don't have a corresponding argument in `BertForSequenceClassification.forward` and have been ignored: norm, ID, norm_sentiment, flipped, norm_action, actor_name, norm_storyfied, norm_value, intention, consequence, __index_level_0__, l2s_output, situation, action.\n",
      "***** Running Evaluation *****\n",
      "  Num examples = 2400\n",
      "  Batch size = 2\n",
      "Saving model checkpoint to /data/kiehne/results/shuffled_values/random_no_pretrain/bert-large-uncased/0.70/checkpoint-10796\n",
      "Configuration saved in /data/kiehne/results/shuffled_values/random_no_pretrain/bert-large-uncased/0.70/checkpoint-10796/config.json\n",
      "Model weights saved in /data/kiehne/results/shuffled_values/random_no_pretrain/bert-large-uncased/0.70/checkpoint-10796/pytorch_model.bin\n",
      "/home/kiehne/workspace/jupyter-notebooks/env/lib/python3.9/site-packages/torch/nn/parallel/_functions.py:68: UserWarning: Was asked to gather along dimension 0, but all input tensors were scalars; will instead unsqueeze and return a vector.\n",
      "  warnings.warn('Was asked to gather along dimension 0, but all '\n",
      "The following columns in the evaluation set  don't have a corresponding argument in `BertForSequenceClassification.forward` and have been ignored: norm, ID, norm_sentiment, flipped, norm_action, actor_name, norm_storyfied, norm_value, intention, consequence, __index_level_0__, l2s_output, situation, action.\n",
      "***** Running Evaluation *****\n",
      "  Num examples = 2400\n",
      "  Batch size = 2\n",
      "Saving model checkpoint to /data/kiehne/results/shuffled_values/random_no_pretrain/bert-large-uncased/0.70/checkpoint-13495\n",
      "Configuration saved in /data/kiehne/results/shuffled_values/random_no_pretrain/bert-large-uncased/0.70/checkpoint-13495/config.json\n",
      "Model weights saved in /data/kiehne/results/shuffled_values/random_no_pretrain/bert-large-uncased/0.70/checkpoint-13495/pytorch_model.bin\n",
      "\n",
      "\n",
      "Training completed. Do not forget to share your model on huggingface.co/models =)\n",
      "\n",
      "\n",
      "PyTorch: setting up devices\n",
      "The default value for the training argument `--report_to` will change in v5 (from all installed integrations to none). In v5, you will need to use `--report_to all` to get the same behavior as now. You should start updating your code and make this info disappear :-).\n",
      "loading configuration file https://huggingface.co/bert-large-uncased/resolve/main/config.json from cache at /home/kiehne/.cache/huggingface/transformers/1cf090f220f9674b67b3434decfe4d40a6532d7849653eac435ff94d31a4904c.1d03e5e4fa2db2532c517b2cd98290d8444b237619bd3d2039850a6d5e86473d\n",
      "Model config BertConfig {\n",
      "  \"architectures\": [\n",
      "    \"BertForMaskedLM\"\n",
      "  ],\n",
      "  \"attention_probs_dropout_prob\": 0.1,\n",
      "  \"classifier_dropout\": null,\n",
      "  \"gradient_checkpointing\": false,\n",
      "  \"hidden_act\": \"gelu\",\n",
      "  \"hidden_dropout_prob\": 0.1,\n",
      "  \"hidden_size\": 1024,\n",
      "  \"initializer_range\": 0.02,\n",
      "  \"intermediate_size\": 4096,\n",
      "  \"layer_norm_eps\": 1e-12,\n",
      "  \"max_position_embeddings\": 512,\n",
      "  \"model_type\": \"bert\",\n",
      "  \"num_attention_heads\": 16,\n",
      "  \"num_hidden_layers\": 24,\n",
      "  \"pad_token_id\": 0,\n",
      "  \"position_embedding_type\": \"absolute\",\n",
      "  \"transformers_version\": \"4.10.3\",\n",
      "  \"type_vocab_size\": 2,\n",
      "  \"use_cache\": true,\n",
      "  \"vocab_size\": 30522\n",
      "}\n",
      "\n"
     ]
    },
    {
     "data": {
      "application/vnd.jupyter.widget-view+json": {
       "model_id": "21f50f39caf1446dab17697a5c43d8ef",
       "version_major": 2,
       "version_minor": 0
      },
      "text/plain": [
       "  0%|          | 0/22 [00:00<?, ?ba/s]"
      ]
     },
     "metadata": {},
     "output_type": "display_data"
    },
    {
     "data": {
      "application/vnd.jupyter.widget-view+json": {
       "model_id": "6d8fe80e7fdb4d50bfb582006f9f5a10",
       "version_major": 2,
       "version_minor": 0
      },
      "text/plain": [
       "  0%|          | 0/3 [00:00<?, ?ba/s]"
      ]
     },
     "metadata": {},
     "output_type": "display_data"
    },
    {
     "name": "stderr",
     "output_type": "stream",
     "text": [
      "The following columns in the training set  don't have a corresponding argument in `BertForSequenceClassification.forward` and have been ignored: norm, ID, norm_sentiment, flipped, norm_action, actor_name, norm_storyfied, norm_value, intention, consequence, __index_level_0__, l2s_output, situation, action.\n",
      "***** Running training *****\n",
      "  Num examples = 21592\n",
      "  Num Epochs = 5\n",
      "  Instantaneous batch size per device = 1\n",
      "  Total train batch size (w. parallel, distributed & accumulation) = 8\n",
      "  Gradient Accumulation steps = 4\n",
      "  Total optimization steps = 13495\n",
      "/home/kiehne/workspace/jupyter-notebooks/env/lib/python3.9/site-packages/torch/nn/parallel/_functions.py:68: UserWarning: Was asked to gather along dimension 0, but all input tensors were scalars; will instead unsqueeze and return a vector.\n",
      "  warnings.warn('Was asked to gather along dimension 0, but all '\n"
     ]
    },
    {
     "data": {
      "text/html": [
       "\n",
       "    <div>\n",
       "      \n",
       "      <progress value='13495' max='13495' style='width:300px; height:20px; vertical-align: middle;'></progress>\n",
       "      [13495/13495 5:50:24, Epoch 5/5]\n",
       "    </div>\n",
       "    <table border=\"1\" class=\"dataframe\">\n",
       "  <thead>\n",
       "    <tr style=\"text-align: left;\">\n",
       "      <th>Epoch</th>\n",
       "      <th>Training Loss</th>\n",
       "      <th>Validation Loss</th>\n",
       "      <th>Accuracy</th>\n",
       "    </tr>\n",
       "  </thead>\n",
       "  <tbody>\n",
       "    <tr>\n",
       "      <td>1</td>\n",
       "      <td>0.698600</td>\n",
       "      <td>0.692000</td>\n",
       "      <td>0.540833</td>\n",
       "    </tr>\n",
       "    <tr>\n",
       "      <td>2</td>\n",
       "      <td>0.697500</td>\n",
       "      <td>0.686575</td>\n",
       "      <td>0.547917</td>\n",
       "    </tr>\n",
       "    <tr>\n",
       "      <td>3</td>\n",
       "      <td>0.684400</td>\n",
       "      <td>0.688150</td>\n",
       "      <td>0.562500</td>\n",
       "    </tr>\n",
       "    <tr>\n",
       "      <td>4</td>\n",
       "      <td>0.680400</td>\n",
       "      <td>0.683564</td>\n",
       "      <td>0.565417</td>\n",
       "    </tr>\n",
       "    <tr>\n",
       "      <td>5</td>\n",
       "      <td>0.673500</td>\n",
       "      <td>0.684133</td>\n",
       "      <td>0.571250</td>\n",
       "    </tr>\n",
       "  </tbody>\n",
       "</table><p>"
      ],
      "text/plain": [
       "<IPython.core.display.HTML object>"
      ]
     },
     "metadata": {},
     "output_type": "display_data"
    },
    {
     "name": "stderr",
     "output_type": "stream",
     "text": [
      "The following columns in the evaluation set  don't have a corresponding argument in `BertForSequenceClassification.forward` and have been ignored: norm, ID, norm_sentiment, flipped, norm_action, actor_name, norm_storyfied, norm_value, intention, consequence, __index_level_0__, l2s_output, situation, action.\n",
      "***** Running Evaluation *****\n",
      "  Num examples = 2400\n",
      "  Batch size = 2\n",
      "Saving model checkpoint to /data/kiehne/results/shuffled_values/random_no_pretrain/bert-large-uncased/0.80/checkpoint-2699\n",
      "Configuration saved in /data/kiehne/results/shuffled_values/random_no_pretrain/bert-large-uncased/0.80/checkpoint-2699/config.json\n",
      "Model weights saved in /data/kiehne/results/shuffled_values/random_no_pretrain/bert-large-uncased/0.80/checkpoint-2699/pytorch_model.bin\n",
      "/home/kiehne/workspace/jupyter-notebooks/env/lib/python3.9/site-packages/torch/nn/parallel/_functions.py:68: UserWarning: Was asked to gather along dimension 0, but all input tensors were scalars; will instead unsqueeze and return a vector.\n",
      "  warnings.warn('Was asked to gather along dimension 0, but all '\n",
      "The following columns in the evaluation set  don't have a corresponding argument in `BertForSequenceClassification.forward` and have been ignored: norm, ID, norm_sentiment, flipped, norm_action, actor_name, norm_storyfied, norm_value, intention, consequence, __index_level_0__, l2s_output, situation, action.\n",
      "***** Running Evaluation *****\n",
      "  Num examples = 2400\n",
      "  Batch size = 2\n",
      "Saving model checkpoint to /data/kiehne/results/shuffled_values/random_no_pretrain/bert-large-uncased/0.80/checkpoint-5398\n",
      "Configuration saved in /data/kiehne/results/shuffled_values/random_no_pretrain/bert-large-uncased/0.80/checkpoint-5398/config.json\n",
      "Model weights saved in /data/kiehne/results/shuffled_values/random_no_pretrain/bert-large-uncased/0.80/checkpoint-5398/pytorch_model.bin\n",
      "/home/kiehne/workspace/jupyter-notebooks/env/lib/python3.9/site-packages/torch/nn/parallel/_functions.py:68: UserWarning: Was asked to gather along dimension 0, but all input tensors were scalars; will instead unsqueeze and return a vector.\n",
      "  warnings.warn('Was asked to gather along dimension 0, but all '\n",
      "The following columns in the evaluation set  don't have a corresponding argument in `BertForSequenceClassification.forward` and have been ignored: norm, ID, norm_sentiment, flipped, norm_action, actor_name, norm_storyfied, norm_value, intention, consequence, __index_level_0__, l2s_output, situation, action.\n",
      "***** Running Evaluation *****\n",
      "  Num examples = 2400\n",
      "  Batch size = 2\n",
      "Saving model checkpoint to /data/kiehne/results/shuffled_values/random_no_pretrain/bert-large-uncased/0.80/checkpoint-8097\n",
      "Configuration saved in /data/kiehne/results/shuffled_values/random_no_pretrain/bert-large-uncased/0.80/checkpoint-8097/config.json\n",
      "Model weights saved in /data/kiehne/results/shuffled_values/random_no_pretrain/bert-large-uncased/0.80/checkpoint-8097/pytorch_model.bin\n",
      "/home/kiehne/workspace/jupyter-notebooks/env/lib/python3.9/site-packages/torch/nn/parallel/_functions.py:68: UserWarning: Was asked to gather along dimension 0, but all input tensors were scalars; will instead unsqueeze and return a vector.\n",
      "  warnings.warn('Was asked to gather along dimension 0, but all '\n",
      "The following columns in the evaluation set  don't have a corresponding argument in `BertForSequenceClassification.forward` and have been ignored: norm, ID, norm_sentiment, flipped, norm_action, actor_name, norm_storyfied, norm_value, intention, consequence, __index_level_0__, l2s_output, situation, action.\n",
      "***** Running Evaluation *****\n",
      "  Num examples = 2400\n",
      "  Batch size = 2\n",
      "Saving model checkpoint to /data/kiehne/results/shuffled_values/random_no_pretrain/bert-large-uncased/0.80/checkpoint-10796\n",
      "Configuration saved in /data/kiehne/results/shuffled_values/random_no_pretrain/bert-large-uncased/0.80/checkpoint-10796/config.json\n",
      "Model weights saved in /data/kiehne/results/shuffled_values/random_no_pretrain/bert-large-uncased/0.80/checkpoint-10796/pytorch_model.bin\n",
      "/home/kiehne/workspace/jupyter-notebooks/env/lib/python3.9/site-packages/torch/nn/parallel/_functions.py:68: UserWarning: Was asked to gather along dimension 0, but all input tensors were scalars; will instead unsqueeze and return a vector.\n",
      "  warnings.warn('Was asked to gather along dimension 0, but all '\n",
      "The following columns in the evaluation set  don't have a corresponding argument in `BertForSequenceClassification.forward` and have been ignored: norm, ID, norm_sentiment, flipped, norm_action, actor_name, norm_storyfied, norm_value, intention, consequence, __index_level_0__, l2s_output, situation, action.\n",
      "***** Running Evaluation *****\n",
      "  Num examples = 2400\n",
      "  Batch size = 2\n",
      "Saving model checkpoint to /data/kiehne/results/shuffled_values/random_no_pretrain/bert-large-uncased/0.80/checkpoint-13495\n",
      "Configuration saved in /data/kiehne/results/shuffled_values/random_no_pretrain/bert-large-uncased/0.80/checkpoint-13495/config.json\n",
      "Model weights saved in /data/kiehne/results/shuffled_values/random_no_pretrain/bert-large-uncased/0.80/checkpoint-13495/pytorch_model.bin\n",
      "\n",
      "\n",
      "Training completed. Do not forget to share your model on huggingface.co/models =)\n",
      "\n",
      "\n",
      "PyTorch: setting up devices\n",
      "The default value for the training argument `--report_to` will change in v5 (from all installed integrations to none). In v5, you will need to use `--report_to all` to get the same behavior as now. You should start updating your code and make this info disappear :-).\n",
      "loading configuration file https://huggingface.co/bert-large-uncased/resolve/main/config.json from cache at /home/kiehne/.cache/huggingface/transformers/1cf090f220f9674b67b3434decfe4d40a6532d7849653eac435ff94d31a4904c.1d03e5e4fa2db2532c517b2cd98290d8444b237619bd3d2039850a6d5e86473d\n",
      "Model config BertConfig {\n",
      "  \"architectures\": [\n",
      "    \"BertForMaskedLM\"\n",
      "  ],\n",
      "  \"attention_probs_dropout_prob\": 0.1,\n",
      "  \"classifier_dropout\": null,\n",
      "  \"gradient_checkpointing\": false,\n",
      "  \"hidden_act\": \"gelu\",\n",
      "  \"hidden_dropout_prob\": 0.1,\n",
      "  \"hidden_size\": 1024,\n",
      "  \"initializer_range\": 0.02,\n",
      "  \"intermediate_size\": 4096,\n",
      "  \"layer_norm_eps\": 1e-12,\n",
      "  \"max_position_embeddings\": 512,\n",
      "  \"model_type\": \"bert\",\n",
      "  \"num_attention_heads\": 16,\n",
      "  \"num_hidden_layers\": 24,\n",
      "  \"pad_token_id\": 0,\n",
      "  \"position_embedding_type\": \"absolute\",\n",
      "  \"transformers_version\": \"4.10.3\",\n",
      "  \"type_vocab_size\": 2,\n",
      "  \"use_cache\": true,\n",
      "  \"vocab_size\": 30522\n",
      "}\n",
      "\n"
     ]
    },
    {
     "data": {
      "application/vnd.jupyter.widget-view+json": {
       "model_id": "08597e69d89141b19221f1763b10f37c",
       "version_major": 2,
       "version_minor": 0
      },
      "text/plain": [
       "  0%|          | 0/22 [00:00<?, ?ba/s]"
      ]
     },
     "metadata": {},
     "output_type": "display_data"
    },
    {
     "data": {
      "application/vnd.jupyter.widget-view+json": {
       "model_id": "3043526395ed40239bcbe8b9717cd4b6",
       "version_major": 2,
       "version_minor": 0
      },
      "text/plain": [
       "  0%|          | 0/3 [00:00<?, ?ba/s]"
      ]
     },
     "metadata": {},
     "output_type": "display_data"
    },
    {
     "name": "stderr",
     "output_type": "stream",
     "text": [
      "The following columns in the training set  don't have a corresponding argument in `BertForSequenceClassification.forward` and have been ignored: norm, ID, norm_sentiment, flipped, norm_action, actor_name, norm_storyfied, norm_value, intention, consequence, __index_level_0__, l2s_output, situation, action.\n",
      "***** Running training *****\n",
      "  Num examples = 21592\n",
      "  Num Epochs = 5\n",
      "  Instantaneous batch size per device = 1\n",
      "  Total train batch size (w. parallel, distributed & accumulation) = 8\n",
      "  Gradient Accumulation steps = 4\n",
      "  Total optimization steps = 13495\n",
      "/home/kiehne/workspace/jupyter-notebooks/env/lib/python3.9/site-packages/torch/nn/parallel/_functions.py:68: UserWarning: Was asked to gather along dimension 0, but all input tensors were scalars; will instead unsqueeze and return a vector.\n",
      "  warnings.warn('Was asked to gather along dimension 0, but all '\n"
     ]
    },
    {
     "data": {
      "text/html": [
       "\n",
       "    <div>\n",
       "      \n",
       "      <progress value='13495' max='13495' style='width:300px; height:20px; vertical-align: middle;'></progress>\n",
       "      [13495/13495 5:49:14, Epoch 5/5]\n",
       "    </div>\n",
       "    <table border=\"1\" class=\"dataframe\">\n",
       "  <thead>\n",
       "    <tr style=\"text-align: left;\">\n",
       "      <th>Epoch</th>\n",
       "      <th>Training Loss</th>\n",
       "      <th>Validation Loss</th>\n",
       "      <th>Accuracy</th>\n",
       "    </tr>\n",
       "  </thead>\n",
       "  <tbody>\n",
       "    <tr>\n",
       "      <td>1</td>\n",
       "      <td>0.699600</td>\n",
       "      <td>0.728070</td>\n",
       "      <td>0.500000</td>\n",
       "    </tr>\n",
       "    <tr>\n",
       "      <td>2</td>\n",
       "      <td>0.686200</td>\n",
       "      <td>0.669119</td>\n",
       "      <td>0.593750</td>\n",
       "    </tr>\n",
       "    <tr>\n",
       "      <td>3</td>\n",
       "      <td>0.661500</td>\n",
       "      <td>0.665300</td>\n",
       "      <td>0.603750</td>\n",
       "    </tr>\n",
       "    <tr>\n",
       "      <td>4</td>\n",
       "      <td>0.658900</td>\n",
       "      <td>0.669084</td>\n",
       "      <td>0.610000</td>\n",
       "    </tr>\n",
       "    <tr>\n",
       "      <td>5</td>\n",
       "      <td>0.648900</td>\n",
       "      <td>0.659022</td>\n",
       "      <td>0.624583</td>\n",
       "    </tr>\n",
       "  </tbody>\n",
       "</table><p>"
      ],
      "text/plain": [
       "<IPython.core.display.HTML object>"
      ]
     },
     "metadata": {},
     "output_type": "display_data"
    },
    {
     "name": "stderr",
     "output_type": "stream",
     "text": [
      "The following columns in the evaluation set  don't have a corresponding argument in `BertForSequenceClassification.forward` and have been ignored: norm, ID, norm_sentiment, flipped, norm_action, actor_name, norm_storyfied, norm_value, intention, consequence, __index_level_0__, l2s_output, situation, action.\n",
      "***** Running Evaluation *****\n",
      "  Num examples = 2400\n",
      "  Batch size = 2\n",
      "Saving model checkpoint to /data/kiehne/results/shuffled_values/random_no_pretrain/bert-large-uncased/0.90/checkpoint-2699\n",
      "Configuration saved in /data/kiehne/results/shuffled_values/random_no_pretrain/bert-large-uncased/0.90/checkpoint-2699/config.json\n",
      "Model weights saved in /data/kiehne/results/shuffled_values/random_no_pretrain/bert-large-uncased/0.90/checkpoint-2699/pytorch_model.bin\n",
      "/home/kiehne/workspace/jupyter-notebooks/env/lib/python3.9/site-packages/torch/nn/parallel/_functions.py:68: UserWarning: Was asked to gather along dimension 0, but all input tensors were scalars; will instead unsqueeze and return a vector.\n",
      "  warnings.warn('Was asked to gather along dimension 0, but all '\n",
      "The following columns in the evaluation set  don't have a corresponding argument in `BertForSequenceClassification.forward` and have been ignored: norm, ID, norm_sentiment, flipped, norm_action, actor_name, norm_storyfied, norm_value, intention, consequence, __index_level_0__, l2s_output, situation, action.\n",
      "***** Running Evaluation *****\n",
      "  Num examples = 2400\n",
      "  Batch size = 2\n",
      "Saving model checkpoint to /data/kiehne/results/shuffled_values/random_no_pretrain/bert-large-uncased/0.90/checkpoint-5398\n",
      "Configuration saved in /data/kiehne/results/shuffled_values/random_no_pretrain/bert-large-uncased/0.90/checkpoint-5398/config.json\n",
      "Model weights saved in /data/kiehne/results/shuffled_values/random_no_pretrain/bert-large-uncased/0.90/checkpoint-5398/pytorch_model.bin\n",
      "/home/kiehne/workspace/jupyter-notebooks/env/lib/python3.9/site-packages/torch/nn/parallel/_functions.py:68: UserWarning: Was asked to gather along dimension 0, but all input tensors were scalars; will instead unsqueeze and return a vector.\n",
      "  warnings.warn('Was asked to gather along dimension 0, but all '\n",
      "The following columns in the evaluation set  don't have a corresponding argument in `BertForSequenceClassification.forward` and have been ignored: norm, ID, norm_sentiment, flipped, norm_action, actor_name, norm_storyfied, norm_value, intention, consequence, __index_level_0__, l2s_output, situation, action.\n",
      "***** Running Evaluation *****\n",
      "  Num examples = 2400\n",
      "  Batch size = 2\n",
      "Saving model checkpoint to /data/kiehne/results/shuffled_values/random_no_pretrain/bert-large-uncased/0.90/checkpoint-8097\n",
      "Configuration saved in /data/kiehne/results/shuffled_values/random_no_pretrain/bert-large-uncased/0.90/checkpoint-8097/config.json\n",
      "Model weights saved in /data/kiehne/results/shuffled_values/random_no_pretrain/bert-large-uncased/0.90/checkpoint-8097/pytorch_model.bin\n",
      "/home/kiehne/workspace/jupyter-notebooks/env/lib/python3.9/site-packages/torch/nn/parallel/_functions.py:68: UserWarning: Was asked to gather along dimension 0, but all input tensors were scalars; will instead unsqueeze and return a vector.\n",
      "  warnings.warn('Was asked to gather along dimension 0, but all '\n",
      "The following columns in the evaluation set  don't have a corresponding argument in `BertForSequenceClassification.forward` and have been ignored: norm, ID, norm_sentiment, flipped, norm_action, actor_name, norm_storyfied, norm_value, intention, consequence, __index_level_0__, l2s_output, situation, action.\n",
      "***** Running Evaluation *****\n",
      "  Num examples = 2400\n",
      "  Batch size = 2\n",
      "Saving model checkpoint to /data/kiehne/results/shuffled_values/random_no_pretrain/bert-large-uncased/0.90/checkpoint-10796\n",
      "Configuration saved in /data/kiehne/results/shuffled_values/random_no_pretrain/bert-large-uncased/0.90/checkpoint-10796/config.json\n",
      "Model weights saved in /data/kiehne/results/shuffled_values/random_no_pretrain/bert-large-uncased/0.90/checkpoint-10796/pytorch_model.bin\n",
      "/home/kiehne/workspace/jupyter-notebooks/env/lib/python3.9/site-packages/torch/nn/parallel/_functions.py:68: UserWarning: Was asked to gather along dimension 0, but all input tensors were scalars; will instead unsqueeze and return a vector.\n",
      "  warnings.warn('Was asked to gather along dimension 0, but all '\n",
      "The following columns in the evaluation set  don't have a corresponding argument in `BertForSequenceClassification.forward` and have been ignored: norm, ID, norm_sentiment, flipped, norm_action, actor_name, norm_storyfied, norm_value, intention, consequence, __index_level_0__, l2s_output, situation, action.\n",
      "***** Running Evaluation *****\n",
      "  Num examples = 2400\n",
      "  Batch size = 2\n",
      "Saving model checkpoint to /data/kiehne/results/shuffled_values/random_no_pretrain/bert-large-uncased/0.90/checkpoint-13495\n",
      "Configuration saved in /data/kiehne/results/shuffled_values/random_no_pretrain/bert-large-uncased/0.90/checkpoint-13495/config.json\n",
      "Model weights saved in /data/kiehne/results/shuffled_values/random_no_pretrain/bert-large-uncased/0.90/checkpoint-13495/pytorch_model.bin\n",
      "\n",
      "\n",
      "Training completed. Do not forget to share your model on huggingface.co/models =)\n",
      "\n",
      "\n",
      "PyTorch: setting up devices\n",
      "The default value for the training argument `--report_to` will change in v5 (from all installed integrations to none). In v5, you will need to use `--report_to all` to get the same behavior as now. You should start updating your code and make this info disappear :-).\n",
      "loading configuration file https://huggingface.co/bert-large-uncased/resolve/main/config.json from cache at /home/kiehne/.cache/huggingface/transformers/1cf090f220f9674b67b3434decfe4d40a6532d7849653eac435ff94d31a4904c.1d03e5e4fa2db2532c517b2cd98290d8444b237619bd3d2039850a6d5e86473d\n",
      "Model config BertConfig {\n",
      "  \"architectures\": [\n",
      "    \"BertForMaskedLM\"\n",
      "  ],\n",
      "  \"attention_probs_dropout_prob\": 0.1,\n",
      "  \"classifier_dropout\": null,\n",
      "  \"gradient_checkpointing\": false,\n",
      "  \"hidden_act\": \"gelu\",\n",
      "  \"hidden_dropout_prob\": 0.1,\n",
      "  \"hidden_size\": 1024,\n",
      "  \"initializer_range\": 0.02,\n",
      "  \"intermediate_size\": 4096,\n",
      "  \"layer_norm_eps\": 1e-12,\n",
      "  \"max_position_embeddings\": 512,\n",
      "  \"model_type\": \"bert\",\n",
      "  \"num_attention_heads\": 16,\n",
      "  \"num_hidden_layers\": 24,\n",
      "  \"pad_token_id\": 0,\n",
      "  \"position_embedding_type\": \"absolute\",\n",
      "  \"transformers_version\": \"4.10.3\",\n",
      "  \"type_vocab_size\": 2,\n",
      "  \"use_cache\": true,\n",
      "  \"vocab_size\": 30522\n",
      "}\n",
      "\n"
     ]
    },
    {
     "data": {
      "application/vnd.jupyter.widget-view+json": {
       "model_id": "3af6034e42fe4a90b3fc002be0800691",
       "version_major": 2,
       "version_minor": 0
      },
      "text/plain": [
       "  0%|          | 0/22 [00:00<?, ?ba/s]"
      ]
     },
     "metadata": {},
     "output_type": "display_data"
    },
    {
     "data": {
      "application/vnd.jupyter.widget-view+json": {
       "model_id": "cdef01ccadf5425d990bf4ab5bd6df42",
       "version_major": 2,
       "version_minor": 0
      },
      "text/plain": [
       "  0%|          | 0/3 [00:00<?, ?ba/s]"
      ]
     },
     "metadata": {},
     "output_type": "display_data"
    },
    {
     "name": "stderr",
     "output_type": "stream",
     "text": [
      "The following columns in the training set  don't have a corresponding argument in `BertForSequenceClassification.forward` and have been ignored: norm, ID, norm_sentiment, flipped, norm_action, actor_name, norm_storyfied, norm_value, intention, consequence, __index_level_0__, l2s_output, situation, action.\n",
      "***** Running training *****\n",
      "  Num examples = 21592\n",
      "  Num Epochs = 5\n",
      "  Instantaneous batch size per device = 1\n",
      "  Total train batch size (w. parallel, distributed & accumulation) = 8\n",
      "  Gradient Accumulation steps = 4\n",
      "  Total optimization steps = 13495\n",
      "/home/kiehne/workspace/jupyter-notebooks/env/lib/python3.9/site-packages/torch/nn/parallel/_functions.py:68: UserWarning: Was asked to gather along dimension 0, but all input tensors were scalars; will instead unsqueeze and return a vector.\n",
      "  warnings.warn('Was asked to gather along dimension 0, but all '\n"
     ]
    },
    {
     "data": {
      "text/html": [
       "\n",
       "    <div>\n",
       "      \n",
       "      <progress value='13495' max='13495' style='width:300px; height:20px; vertical-align: middle;'></progress>\n",
       "      [13495/13495 5:49:31, Epoch 5/5]\n",
       "    </div>\n",
       "    <table border=\"1\" class=\"dataframe\">\n",
       "  <thead>\n",
       "    <tr style=\"text-align: left;\">\n",
       "      <th>Epoch</th>\n",
       "      <th>Training Loss</th>\n",
       "      <th>Validation Loss</th>\n",
       "      <th>Accuracy</th>\n",
       "    </tr>\n",
       "  </thead>\n",
       "  <tbody>\n",
       "    <tr>\n",
       "      <td>1</td>\n",
       "      <td>0.695000</td>\n",
       "      <td>0.688663</td>\n",
       "      <td>0.559583</td>\n",
       "    </tr>\n",
       "    <tr>\n",
       "      <td>2</td>\n",
       "      <td>0.657100</td>\n",
       "      <td>0.636879</td>\n",
       "      <td>0.640833</td>\n",
       "    </tr>\n",
       "    <tr>\n",
       "      <td>3</td>\n",
       "      <td>0.638300</td>\n",
       "      <td>0.653263</td>\n",
       "      <td>0.643750</td>\n",
       "    </tr>\n",
       "    <tr>\n",
       "      <td>4</td>\n",
       "      <td>0.624900</td>\n",
       "      <td>0.623647</td>\n",
       "      <td>0.652917</td>\n",
       "    </tr>\n",
       "    <tr>\n",
       "      <td>5</td>\n",
       "      <td>0.614800</td>\n",
       "      <td>0.625198</td>\n",
       "      <td>0.656667</td>\n",
       "    </tr>\n",
       "  </tbody>\n",
       "</table><p>"
      ],
      "text/plain": [
       "<IPython.core.display.HTML object>"
      ]
     },
     "metadata": {},
     "output_type": "display_data"
    },
    {
     "name": "stderr",
     "output_type": "stream",
     "text": [
      "The following columns in the evaluation set  don't have a corresponding argument in `BertForSequenceClassification.forward` and have been ignored: norm, ID, norm_sentiment, flipped, norm_action, actor_name, norm_storyfied, norm_value, intention, consequence, __index_level_0__, l2s_output, situation, action.\n",
      "***** Running Evaluation *****\n",
      "  Num examples = 2400\n",
      "  Batch size = 2\n",
      "Saving model checkpoint to /data/kiehne/results/shuffled_values/random_no_pretrain/bert-large-uncased/1.00/checkpoint-2699\n",
      "Configuration saved in /data/kiehne/results/shuffled_values/random_no_pretrain/bert-large-uncased/1.00/checkpoint-2699/config.json\n",
      "Model weights saved in /data/kiehne/results/shuffled_values/random_no_pretrain/bert-large-uncased/1.00/checkpoint-2699/pytorch_model.bin\n",
      "/home/kiehne/workspace/jupyter-notebooks/env/lib/python3.9/site-packages/torch/nn/parallel/_functions.py:68: UserWarning: Was asked to gather along dimension 0, but all input tensors were scalars; will instead unsqueeze and return a vector.\n",
      "  warnings.warn('Was asked to gather along dimension 0, but all '\n",
      "The following columns in the evaluation set  don't have a corresponding argument in `BertForSequenceClassification.forward` and have been ignored: norm, ID, norm_sentiment, flipped, norm_action, actor_name, norm_storyfied, norm_value, intention, consequence, __index_level_0__, l2s_output, situation, action.\n",
      "***** Running Evaluation *****\n",
      "  Num examples = 2400\n",
      "  Batch size = 2\n",
      "Saving model checkpoint to /data/kiehne/results/shuffled_values/random_no_pretrain/bert-large-uncased/1.00/checkpoint-5398\n",
      "Configuration saved in /data/kiehne/results/shuffled_values/random_no_pretrain/bert-large-uncased/1.00/checkpoint-5398/config.json\n",
      "Model weights saved in /data/kiehne/results/shuffled_values/random_no_pretrain/bert-large-uncased/1.00/checkpoint-5398/pytorch_model.bin\n",
      "/home/kiehne/workspace/jupyter-notebooks/env/lib/python3.9/site-packages/torch/nn/parallel/_functions.py:68: UserWarning: Was asked to gather along dimension 0, but all input tensors were scalars; will instead unsqueeze and return a vector.\n",
      "  warnings.warn('Was asked to gather along dimension 0, but all '\n",
      "The following columns in the evaluation set  don't have a corresponding argument in `BertForSequenceClassification.forward` and have been ignored: norm, ID, norm_sentiment, flipped, norm_action, actor_name, norm_storyfied, norm_value, intention, consequence, __index_level_0__, l2s_output, situation, action.\n",
      "***** Running Evaluation *****\n",
      "  Num examples = 2400\n",
      "  Batch size = 2\n",
      "Saving model checkpoint to /data/kiehne/results/shuffled_values/random_no_pretrain/bert-large-uncased/1.00/checkpoint-8097\n",
      "Configuration saved in /data/kiehne/results/shuffled_values/random_no_pretrain/bert-large-uncased/1.00/checkpoint-8097/config.json\n",
      "Model weights saved in /data/kiehne/results/shuffled_values/random_no_pretrain/bert-large-uncased/1.00/checkpoint-8097/pytorch_model.bin\n",
      "/home/kiehne/workspace/jupyter-notebooks/env/lib/python3.9/site-packages/torch/nn/parallel/_functions.py:68: UserWarning: Was asked to gather along dimension 0, but all input tensors were scalars; will instead unsqueeze and return a vector.\n",
      "  warnings.warn('Was asked to gather along dimension 0, but all '\n",
      "The following columns in the evaluation set  don't have a corresponding argument in `BertForSequenceClassification.forward` and have been ignored: norm, ID, norm_sentiment, flipped, norm_action, actor_name, norm_storyfied, norm_value, intention, consequence, __index_level_0__, l2s_output, situation, action.\n",
      "***** Running Evaluation *****\n",
      "  Num examples = 2400\n",
      "  Batch size = 2\n",
      "Saving model checkpoint to /data/kiehne/results/shuffled_values/random_no_pretrain/bert-large-uncased/1.00/checkpoint-10796\n",
      "Configuration saved in /data/kiehne/results/shuffled_values/random_no_pretrain/bert-large-uncased/1.00/checkpoint-10796/config.json\n",
      "Model weights saved in /data/kiehne/results/shuffled_values/random_no_pretrain/bert-large-uncased/1.00/checkpoint-10796/pytorch_model.bin\n",
      "/home/kiehne/workspace/jupyter-notebooks/env/lib/python3.9/site-packages/torch/nn/parallel/_functions.py:68: UserWarning: Was asked to gather along dimension 0, but all input tensors were scalars; will instead unsqueeze and return a vector.\n",
      "  warnings.warn('Was asked to gather along dimension 0, but all '\n",
      "The following columns in the evaluation set  don't have a corresponding argument in `BertForSequenceClassification.forward` and have been ignored: norm, ID, norm_sentiment, flipped, norm_action, actor_name, norm_storyfied, norm_value, intention, consequence, __index_level_0__, l2s_output, situation, action.\n",
      "***** Running Evaluation *****\n",
      "  Num examples = 2400\n",
      "  Batch size = 2\n",
      "Saving model checkpoint to /data/kiehne/results/shuffled_values/random_no_pretrain/bert-large-uncased/1.00/checkpoint-13495\n",
      "Configuration saved in /data/kiehne/results/shuffled_values/random_no_pretrain/bert-large-uncased/1.00/checkpoint-13495/config.json\n",
      "Model weights saved in /data/kiehne/results/shuffled_values/random_no_pretrain/bert-large-uncased/1.00/checkpoint-13495/pytorch_model.bin\n",
      "\n",
      "\n",
      "Training completed. Do not forget to share your model on huggingface.co/models =)\n",
      "\n",
      "\n"
     ]
    }
   ],
   "source": [
    "transformers.logging.set_verbosity_warning()\n",
    "\n",
    "ps = np.linspace(0,1,11)\n",
    "test_size = 0.1\n",
    "model = \"roberta-base\"\n",
    "#model = \"roberta-large\"\n",
    "\n",
    "#model = \"bert-base-uncased\"\n",
    "#model = \"/data/kiehne/results/shuffled_values/random/bert-base-uncased/1.00/checkpoint-5625/\"\n",
    "model = \"bert-large-uncased\"\n",
    "\n",
    "#model = \"albert-xxlarge-v2\"\n",
    "#model = \"albert-base-v2\"\n",
    "tokenizer = AutoTokenizer.from_pretrained(model)\n",
    "\n",
    "dataframe = pd.read_pickle(\"../data/moral_stories_proto_l2s.dat\")\n",
    "#dataframe = msc.assign_norm_clusters(dataframe)\n",
    "\n",
    "acc_metric = get_accuracy_metric()\n",
    "results = []\n",
    "\n",
    "for p in ps:\n",
    "    # create dataset\n",
    "    #random_values = msc.get_random_value_dataset(dataframe, p, top_n=20)\n",
    "    #train, test = msc.make_action_classification_dataframe(random_values, test_size=test_size)\n",
    "    data = get_random_value_dataset(dataframe, p=p, top_n=20)\n",
    "    train, test = make_action_classification_dataframe(data, test_size=test_size)\n",
    "    \n",
    "    # create training args\n",
    "    out_dir = f\"/data/kiehne/results/shuffled_values/random_no_pretrain/{model}/{p:0.2f}/\"\n",
    "    #out_dir = f\"/data/kiehne/results/shuffled_values/random_ms_only_pretrain/bert-base-uncased/{p:0.2f}/\"\n",
    "\n",
    "    training_args = TrainingArguments(\n",
    "        output_dir=out_dir,\n",
    "        num_train_epochs=5,\n",
    "        per_device_train_batch_size=1,\n",
    "        per_device_eval_batch_size=1,\n",
    "        gradient_accumulation_steps=4,\n",
    "        warmup_steps=500,\n",
    "        #weight_decay=0.01,\n",
    "        logging_steps=500,\n",
    "        evaluation_strategy=\"epoch\",\n",
    "        save_steps=30000000,\n",
    "        save_strategy=\"epoch\",\n",
    "        learning_rate=1e-6\n",
    "    )\n",
    "    \n",
    "    # create data loading function\n",
    "    data_loader = lambda tokenizer: convert_hf_dataset(tokenizer, train, test)\n",
    "    if \"gpt2\" in model:\n",
    "        data_loader = lambda tokenizer: convert_hf_dataset(tokenizer, train, test, padding=\"do_not_pad\")\n",
    "\n",
    "    \n",
    "    r = sequence_classification(data_loader, model, training_args, tokenizer, \n",
    "                                acc_metric, use_pretrained=False)\n",
    "    results.append(r)\n",
    "    \n",
    "    # save training data for later evaluation\n",
    "    train.to_pickle(out_dir+\"train.dat\")\n",
    "    test.to_pickle(out_dir+\"test.dat\")\n",
    "\n",
    "accuracies = [[y[\"eval_accuracy\"] for y in x if \"eval_accuracy\" in y] for x in results]"
   ]
  },
  {
   "cell_type": "code",
   "execution_count": null,
   "id": "876d289a",
   "metadata": {},
   "outputs": [],
   "source": []
  },
  {
   "cell_type": "code",
   "execution_count": 3,
   "id": "f2a6a965",
   "metadata": {},
   "outputs": [
    {
     "data": {
      "image/png": "[encoded data removed]",
      "text/plain": [
       "<Figure size 432x288 with 1 Axes>"
      ]
     },
     "metadata": {
      "needs_background": "light"
     },
     "output_type": "display_data"
    }
   ],
   "source": [
    "# topn=20\n",
    "import matplotlib.pyplot as plt\n",
    "# this is the random init bert\n",
    "max_acc = [max(a) for a in accuracies]\n",
    "plt.plot(ps, max_acc, \"*\")\n",
    "plt.ylim(0,1)\n",
    "plt.title(f\"Model: bert-base-uncased Anti-MS only pretrain\")\n",
    "plt.xlabel(\"$p$\")\n",
    "plt.ylabel(\"Accuracy\")\n",
    "plt.show()"
   ]
  },
  {
   "cell_type": "code",
   "execution_count": 4,
   "id": "ff26b22c",
   "metadata": {},
   "outputs": [
    {
     "data": {
      "image/png": "[encoded data removed]",
      "text/plain": [
       "<Figure size 432x288 with 1 Axes>"
      ]
     },
     "metadata": {
      "needs_background": "light"
     },
     "output_type": "display_data"
    }
   ],
   "source": [
    "# topn=20\n",
    "import matplotlib.pyplot as plt\n",
    "# this is the random init bert\n",
    "max_acc = [max(a) for a in accuracies]\n",
    "plt.plot(ps, max_acc, \"*\")\n",
    "plt.ylim(0,1)\n",
    "plt.title(f\"Model: bert-base-uncased MS only pretrain\")\n",
    "plt.xlabel(\"$p$\")\n",
    "plt.ylabel(\"Accuracy\")\n",
    "plt.show()"
   ]
  },
  {
   "cell_type": "code",
   "execution_count": 4,
   "id": "d1040a0d",
   "metadata": {},
   "outputs": [
    {
     "data": {
      "image/png": "[encoded data removed]",
      "text/plain": [
       "<Figure size 432x288 with 1 Axes>"
      ]
     },
     "metadata": {
      "needs_background": "light"
     },
     "output_type": "display_data"
    }
   ],
   "source": [
    "# topn=20\n",
    "import matplotlib.pyplot as plt\n",
    "# this is the random init bert\n",
    "max_acc = [max(a) for a in accuracies]\n",
    "plt.plot(ps, max_acc, \"*\")\n",
    "plt.ylim(0,1)\n",
    "plt.title(f\"Model: {model} no-pretrain\")\n",
    "plt.xlabel(\"$p$\")\n",
    "plt.ylabel(\"Accuracy\")\n",
    "plt.show()"
   ]
  },
  {
   "cell_type": "markdown",
   "id": "1f2efb16",
   "metadata": {},
   "source": [
    "# Experiments: Moral Stories only pretraining\n",
    "***\n",
    "If we pretrain an LM on the original Moral Stories dataset, is it able to achieve constant performance?\n",
    "\n",
    "Todo:\n",
    "* Take a pretrained BERT for the original MS task\n",
    "* Finetune it to the other versions of the CMS dataset"
   ]
  },
  {
   "cell_type": "code",
   "execution_count": null,
   "id": "c19fc23a",
   "metadata": {},
   "outputs": [],
   "source": []
  },
  {
   "cell_type": "markdown",
   "id": "0239bf0e",
   "metadata": {},
   "source": [
    "# Post training evaluation\n",
    "***\n",
    "Whenever your local machine loses connection to a running notebook it will not receive the console outputs anymore, even though it might be connected to the kernel.\n",
    "This is a known issue in jupyter, which will not be addressed anytime soon."
   ]
  },
  {
   "cell_type": "code",
   "execution_count": null,
   "id": "6b68d77c",
   "metadata": {},
   "outputs": [],
   "source": [
    "import os\n",
    "from ailignment.training.finetune import clean_up_mem\n",
    "\n",
    "@clean_up_mem\n",
    "def evaluate(path):\n",
    "    '''\n",
    "    Loads the model in `path` and runs test evaluation on it\n",
    "    '''\n",
    "    model = AutoModelForSequenceClassification.from_pretrained(path)\n",
    "    trainer = Trainer(\n",
    "        model=model,\n",
    "        args=training_args,\n",
    "        compute_metrics=acc_metric,\n",
    "    )\n",
    "    logs = trainer.evaluate(val_data)\n",
    "    return logs\n",
    "\n",
    "def evaluate_folder(folder):\n",
    "    '''\n",
    "    Runs `evaluate` on all checkpoints in the given folder.\n",
    "    Returns a dict {\"checkpoint-X\": log_dict, .. }\n",
    "    '''\n",
    "    ckpts = os.listdir(folder)\n",
    "    results = {ckpt:evaluate(os.path.join(folder, ckpt)) for ckpt in ckpts}\n",
    "    return results"
   ]
  },
  {
   "cell_type": "code",
   "execution_count": null,
   "id": "7c88bde4",
   "metadata": {},
   "outputs": [],
   "source": [
    "import os\n",
    "\n",
    "transformers.logging.set_verbosity_warning()\n",
    "\n",
    "ps = np.linspace(0,1,11)\n",
    "test_size = 0.1\n",
    "seed = 3\n",
    "model = \"roberta-base\"\n",
    "model = \"bert-base-uncased\"\n",
    "\n",
    "acc_metric = get_accuracy_metric()\n",
    "results = []\n",
    "\n",
    "dataframe = pd.read_pickle(\"../data/moral_stories_proto_l2s.dat\")\n",
    "\n",
    "\n",
    "paths = [f\"/data/kiehne/results/shuffled_values/random/{model}/{p:.2f}/checkpoint-5625\" for p in ps]\n",
    "for p, path in zip(ps,paths):\n",
    "    random_values = dataframe.apply(simplify_norm_value, axis=1).apply(flip_norm(p), axis=1)\n",
    "    train, test = make_action_classification_dataframe(random_values)\n",
    "\n",
    "    # create training args\n",
    "    training_args = TrainingArguments(\n",
    "        output_dir=f\"/data/kiehne/results/shuffled_values/random/{model}/{p:0.2f}/\",\n",
    "        num_train_epochs=5,\n",
    "        per_device_train_batch_size=8,\n",
    "        per_device_eval_batch_size=8,\n",
    "        gradient_accumulation_steps=1,\n",
    "        warmup_steps=500,\n",
    "        #weight_decay=0.01,\n",
    "        logging_dir='logs/',\n",
    "        log_level=\"info\",\n",
    "        logging_steps=500,\n",
    "        evaluation_strategy=\"epoch\",\n",
    "        save_steps=30000000,\n",
    "        save_strategy=\"epoch\",\n",
    "        learning_rate=1e-5\n",
    "    )\n",
    "    \n",
    "    # create data loading function\n",
    "    def data_func(tokenizer):\n",
    "        def tok(samples):\n",
    "            return tokenizer(samples[\"action\"], samples[\"norm\"], padding=\"max_length\", \n",
    "                             truncation=True, return_token_type_ids=True)\n",
    "\n",
    "        train_data = Dataset.from_pandas(train)\n",
    "        train_data = train_data.map(tok, batched=True)\n",
    "        val_data = Dataset.from_pandas(test)\n",
    "        val_data = val_data.map(tok, batched=True)\n",
    "        return train_data, val_data\n",
    "    print(ps, path)"
   ]
  },
  {
   "cell_type": "code",
   "execution_count": null,
   "id": "5e15a967",
   "metadata": {},
   "outputs": [],
   "source": []
  }
 ],
 "metadata": {
  "kernelspec": {
   "display_name": "Python 3 (ipykernel)",
   "language": "python",
   "name": "python3"
  },
  "language_info": {
   "codemirror_mode": {
    "name": "ipython",
    "version": 3
   },
   "file_extension": ".py",
   "mimetype": "text/x-python",
   "name": "python",
   "nbconvert_exporter": "python",
   "pygments_lexer": "ipython3",
   "version": "3.9.7"
  }
 },
 "nbformat": 4,
 "nbformat_minor": 5
}
