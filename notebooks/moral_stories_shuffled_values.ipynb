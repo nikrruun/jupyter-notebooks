{
 "cells": [
  {
   "cell_type": "markdown",
   "id": "3e069b4c",
   "metadata": {},
   "source": [
    "# Shuffling norm judgments\n",
    "***\n",
    "Does the value of a norm have impact on the classification accuracy? We test this hypothesis by applying the `Learn2Split` model and shuffling of the value judgments. In the end, we train the action classification task and compare.\n",
    "\n",
    "Shuffle strategies:\n",
    "* Truly randomn\n",
    "    * Will cause most errornous sentences of the strategies\n",
    "* Mirroring polarity: Choose the closest opposite value.\n",
    "* Single polarity: All values are the same\n",
    "    * This effectively reduces the task to NLI! Here we HAVE to be better!\n",
    "    \n",
    "    \n",
    "### Approach\n",
    "***\n",
    "The `L2S` model not only splits a norm, but also conjugates the action:\n",
    "* `It's wrong to become addicted to gambling.` becomes\n",
    "    * `It's wrong`\n",
    "    * `becoming addicted to gambling`\n",
    "\n",
    "Since the splitting is not reversible as is, there are two possible options to consider:\n",
    "1. Re-run the original model on concatenated `L2S` output. If the accuracy does not drop, then we can simply do our comparison experiments on `L2S` concat'ed. \n",
    "2. Train a `L2S` reverse model (*sigh*)\n",
    "\n",
    "##### ...and then:\n",
    "Train the action classification tasks"
   ]
  },
  {
   "cell_type": "code",
   "execution_count": 1,
   "id": "70e74d94",
   "metadata": {},
   "outputs": [],
   "source": [
    "import pandas as pd\n",
    "import numpy as np\n",
    "from tqdm import tqdm\n",
    "\n",
    "from sklearn.model_selection import train_test_split\n",
    "from datasets import Dataset\n",
    "\n",
    "from transformers import Trainer, TrainingArguments\n",
    "from transformers import AutoTokenizer, AutoModelForSequenceClassification, AutoConfig\n",
    "import transformers\n",
    "\n",
    "import torch\n",
    "\n",
    "from ailignment.datasets.util import get_accuracy_metric\n",
    "from ailignment.datasets.moral_stories import make_action_classification_dataframe, get_random_value_dataset\n",
    "import ailignment.datasets.moral_stories_clustered as msc\n",
    "from ailignment.training import sequence_classification\n",
    "\n",
    "pd.set_option('display.max_colwidth', 400)\n",
    "dataframe = pd.read_pickle(\"../data/moral_stories_proto_l2s.dat\")\n",
    "\n",
    "# a function to convert train and test dataframes to huggingface datasets\n",
    "def convert_hf_dataset(tokenizer, train, test, padding=\"max_length\"):\n",
    "    def tok(samples):\n",
    "        return tokenizer(samples[\"action\"], samples[\"norm\"], padding=padding, \n",
    "                         truncation=True, return_token_type_ids=True)\n",
    "\n",
    "    train_data = Dataset.from_pandas(train)\n",
    "    train_data = train_data.map(tok, batched=True)\n",
    "    val_data = Dataset.from_pandas(test)\n",
    "    val_data = val_data.map(tok, batched=True)\n",
    "    return train_data, val_data"
   ]
  },
  {
   "cell_type": "markdown",
   "id": "6a0b69df",
   "metadata": {},
   "source": [
    "### Action classification on `L2S` concatenated\n",
    "***\n",
    "Question: If we concatenate the norm judgment with the conjugated norm action, does the accuracy change?\n",
    "\n",
    "The task was run for 5 epochs on the `roberta-large` model:\n",
    "* Epoch 5: 0.913 accuracy\n",
    "\n",
    "Although not a thorough analysis in any capacity, we argue that the performance is not significantly reduced by the simplistic concatenation approach. The upcoming experiments on the shuffled datasets can be carried out without greater worries!"
   ]
  },
  {
   "cell_type": "code",
   "execution_count": null,
   "id": "a2e7d0e5",
   "metadata": {},
   "outputs": [],
   "source": [
    "data = dataframe.copy()\n",
    "data[\"norm\"] = data[\"norm_value\"] + \" \" + data[\"norm_action\"]\n",
    "train, test = make_action_classification_dataframe(data, test_size=0.1)"
   ]
  },
  {
   "cell_type": "code",
   "execution_count": null,
   "id": "bd16cd10",
   "metadata": {},
   "outputs": [],
   "source": [
    "name = \"roberta-large\"\n",
    "#name = \"ynie/roberta-large-snli_mnli_fever_anli_R1_R2_R3-nli\"\n",
    "tokenizer = AutoTokenizer.from_pretrained(name)\n",
    "model = AutoModelForSequenceClassification.from_pretrained(name)\n",
    "\n",
    "train_data, val_data = convert_hf_dataset(tokenizer, train, test)"
   ]
  },
  {
   "cell_type": "code",
   "execution_count": null,
   "id": "0d731ec1",
   "metadata": {},
   "outputs": [],
   "source": [
    "training_args = TrainingArguments(\n",
    "    output_dir=\"/data/kiehne/results/shuffled_values/verification/\",\n",
    "    num_train_epochs=5,\n",
    "    per_device_train_batch_size=1,\n",
    "    per_device_eval_batch_size=1,\n",
    "    gradient_accumulation_steps=4,\n",
    "    warmup_steps=500,\n",
    "    weight_decay=0.01,\n",
    "    logging_dir='logs/',\n",
    "    log_level=\"info\",\n",
    "    logging_steps=500,\n",
    "    evaluation_strategy=\"epoch\",\n",
    "    save_steps=30000000,\n",
    "    save_strategy=\"epoch\",\n",
    "    learning_rate=1e-5\n",
    "    \n",
    ")\n",
    "acc_metric = get_accuracy_metric()"
   ]
  },
  {
   "cell_type": "code",
   "execution_count": null,
   "id": "f50a80d4",
   "metadata": {
    "scrolled": true
   },
   "outputs": [],
   "source": [
    "trainer = Trainer(\n",
    "    model=model,\n",
    "    args=training_args,\n",
    "    train_dataset=train_data,\n",
    "    eval_dataset=val_data,\n",
    "    compute_metrics=acc_metric,\n",
    ")\n",
    "logs = trainer.train()"
   ]
  },
  {
   "cell_type": "markdown",
   "id": "99934653",
   "metadata": {},
   "source": [
    "# Experiments: Single model training\n",
    "***\n",
    "Pick a dataset, then run the finetuning. Useful for explorative analysis"
   ]
  },
  {
   "cell_type": "code",
   "execution_count": null,
   "id": "d42171a5",
   "metadata": {},
   "outputs": [],
   "source": [
    "dataframe = pd.read_pickle(\"../data/moral_stories_random_values.dat\")\n",
    "dataframe = msc.assign_norm_clusters(dataframe)"
   ]
  },
  {
   "cell_type": "code",
   "execution_count": null,
   "id": "63d321b1",
   "metadata": {},
   "outputs": [],
   "source": [
    "data = msc.get_random_value_dataset(dataframe, 0.5, top_n=20)\n",
    "train, test = msc.make_action_classification_dataframe(data, test_size=0.1)"
   ]
  },
  {
   "cell_type": "code",
   "execution_count": null,
   "id": "c764211d",
   "metadata": {},
   "outputs": [],
   "source": [
    "name = \"roberta-large\"\n",
    "name = \"bert-base-uncased\"\n",
    "#name = \"ynie/roberta-large-snli_mnli_fever_anli_R1_R2_R3-nli\"\n",
    "tokenizer = AutoTokenizer.from_pretrained(name)\n",
    "model = AutoModelForSequenceClassification.from_pretrained(name)\n",
    "\n",
    "train_data, val_data = convert_hf_dataset(tokenizer, train, test)"
   ]
  },
  {
   "cell_type": "code",
   "execution_count": null,
   "id": "c4241597",
   "metadata": {},
   "outputs": [],
   "source": [
    "training_args = TrainingArguments(\n",
    "    output_dir=\"/data/kiehne/results/shuffled_values/random/single_runs/\",\n",
    "    num_train_epochs=7,\n",
    "    per_device_train_batch_size=8,\n",
    "    per_device_eval_batch_size=8,\n",
    "    gradient_accumulation_steps=1,\n",
    "    warmup_steps=500,\n",
    "    #weight_decay=0.01,\n",
    "    logging_dir='logs/',\n",
    "    log_level=\"info\",\n",
    "    logging_steps=500,\n",
    "    evaluation_strategy=\"epoch\",\n",
    "    save_steps=30000000,\n",
    "    save_strategy=\"epoch\",\n",
    "    learning_rate=1e-5\n",
    ")\n",
    "acc_metric = get_accuracy_metric()"
   ]
  },
  {
   "cell_type": "code",
   "execution_count": null,
   "id": "5d755951",
   "metadata": {},
   "outputs": [],
   "source": [
    "trainer = Trainer(\n",
    "    model=model,\n",
    "    args=training_args,\n",
    "    train_dataset=train_data,\n",
    "    eval_dataset=val_data,\n",
    "    compute_metrics=acc_metric,\n",
    ")\n",
    "logs = trainer.train()"
   ]
  },
  {
   "cell_type": "markdown",
   "id": "d339f393",
   "metadata": {},
   "source": [
    "# Experiments: Consecutive models\n",
    "***\n",
    "Run several models over different training data or with different hyperparameters."
   ]
  },
  {
   "cell_type": "markdown",
   "id": "8a9ed405",
   "metadata": {},
   "source": [
    "### Random values experiment\n",
    "***\n",
    "Given different values of $p$, how is the accuracy affected? \n",
    "\n",
    "First run:\n",
    "* Single epoch, batch size 8, $p\\in\\{0,0.1,0.2,..,1\\}$"
   ]
  },
  {
   "cell_type": "code",
   "execution_count": null,
   "id": "b95dc783",
   "metadata": {
    "scrolled": true
   },
   "outputs": [
    {
     "data": {
      "application/vnd.jupyter.widget-view+json": {
       "model_id": "a9a4bc0cc6ca47308fa0f518b28496b3",
       "version_major": 2,
       "version_minor": 0
      },
      "text/plain": [
       "Batches:   0%|          | 0/375 [00:00<?, ?it/s]"
      ]
     },
     "metadata": {},
     "output_type": "display_data"
    },
    {
     "data": {
      "application/vnd.jupyter.widget-view+json": {
       "model_id": "84e2a26b3d714440875b70806c8a4e08",
       "version_major": 2,
       "version_minor": 0
      },
      "text/plain": [
       "  0%|          | 0/22 [00:00<?, ?ba/s]"
      ]
     },
     "metadata": {},
     "output_type": "display_data"
    },
    {
     "data": {
      "application/vnd.jupyter.widget-view+json": {
       "model_id": "22b4119caec345cda66e6e2cd8c9ec34",
       "version_major": 2,
       "version_minor": 0
      },
      "text/plain": [
       "  0%|          | 0/3 [00:00<?, ?ba/s]"
      ]
     },
     "metadata": {},
     "output_type": "display_data"
    },
    {
     "name": "stderr",
     "output_type": "stream",
     "text": [
      "The following columns in the training set  don't have a corresponding argument in `BertForSequenceClassification.forward` and have been ignored: ID, flipped, norm_sentiment, norm_value, cluster, norm, __index_level_0__, consequence, actor_name, situation, l2s_output, action, norm_storyfied, intention, norm_action.\n",
      "***** Running training *****\n",
      "  Num examples = 21618\n",
      "  Num Epochs = 5\n",
      "  Instantaneous batch size per device = 8\n",
      "  Total train batch size (w. parallel, distributed & accumulation) = 16\n",
      "  Gradient Accumulation steps = 1\n",
      "  Total optimization steps = 6760\n",
      "/home/kiehne/workspace/jupyter-notebooks/env/lib/python3.9/site-packages/torch/nn/parallel/_functions.py:68: UserWarning: Was asked to gather along dimension 0, but all input tensors were scalars; will instead unsqueeze and return a vector.\n",
      "  warnings.warn('Was asked to gather along dimension 0, but all '\n"
     ]
    },
    {
     "data": {
      "text/html": [
       "\n",
       "    <div>\n",
       "      \n",
       "      <progress value='4086' max='6760' style='width:300px; height:20px; vertical-align: middle;'></progress>\n",
       "      [4086/6760 27:30 < 18:00, 2.47 it/s, Epoch 3.02/5]\n",
       "    </div>\n",
       "    <table border=\"1\" class=\"dataframe\">\n",
       "  <thead>\n",
       "    <tr style=\"text-align: left;\">\n",
       "      <th>Epoch</th>\n",
       "      <th>Training Loss</th>\n",
       "      <th>Validation Loss</th>\n",
       "      <th>Accuracy</th>\n",
       "    </tr>\n",
       "  </thead>\n",
       "  <tbody>\n",
       "    <tr>\n",
       "      <td>1</td>\n",
       "      <td>0.693400</td>\n",
       "      <td>0.615362</td>\n",
       "      <td>0.657961</td>\n",
       "    </tr>\n",
       "    <tr>\n",
       "      <td>2</td>\n",
       "      <td>0.591300</td>\n",
       "      <td>0.624802</td>\n",
       "      <td>0.650379</td>\n",
       "    </tr>\n",
       "    <tr>\n",
       "      <td>3</td>\n",
       "      <td>0.540900</td>\n",
       "      <td>0.566139</td>\n",
       "      <td>0.717776</td>\n",
       "    </tr>\n",
       "  </tbody>\n",
       "</table><p>"
      ],
      "text/plain": [
       "<IPython.core.display.HTML object>"
      ]
     },
     "metadata": {},
     "output_type": "display_data"
    },
    {
     "name": "stderr",
     "output_type": "stream",
     "text": [
      "The following columns in the evaluation set  don't have a corresponding argument in `BertForSequenceClassification.forward` and have been ignored: ID, flipped, norm_sentiment, norm_value, cluster, norm, __index_level_0__, consequence, actor_name, situation, l2s_output, action, norm_storyfied, intention, norm_action.\n",
      "***** Running Evaluation *****\n",
      "  Num examples = 2374\n",
      "  Batch size = 16\n",
      "Saving model checkpoint to /data/kiehne/results/shuffled_values/random_no_pretrain/bert-base-uncased/0.00/checkpoint-1352\n",
      "Configuration saved in /data/kiehne/results/shuffled_values/random_no_pretrain/bert-base-uncased/0.00/checkpoint-1352/config.json\n",
      "Model weights saved in /data/kiehne/results/shuffled_values/random_no_pretrain/bert-base-uncased/0.00/checkpoint-1352/pytorch_model.bin\n",
      "/home/kiehne/workspace/jupyter-notebooks/env/lib/python3.9/site-packages/torch/nn/parallel/_functions.py:68: UserWarning: Was asked to gather along dimension 0, but all input tensors were scalars; will instead unsqueeze and return a vector.\n",
      "  warnings.warn('Was asked to gather along dimension 0, but all '\n",
      "The following columns in the evaluation set  don't have a corresponding argument in `BertForSequenceClassification.forward` and have been ignored: ID, flipped, norm_sentiment, norm_value, cluster, norm, __index_level_0__, consequence, actor_name, situation, l2s_output, action, norm_storyfied, intention, norm_action.\n",
      "***** Running Evaluation *****\n",
      "  Num examples = 2374\n",
      "  Batch size = 16\n",
      "Saving model checkpoint to /data/kiehne/results/shuffled_values/random_no_pretrain/bert-base-uncased/0.00/checkpoint-4056\n",
      "Configuration saved in /data/kiehne/results/shuffled_values/random_no_pretrain/bert-base-uncased/0.00/checkpoint-4056/config.json\n",
      "Model weights saved in /data/kiehne/results/shuffled_values/random_no_pretrain/bert-base-uncased/0.00/checkpoint-4056/pytorch_model.bin\n",
      "/home/kiehne/workspace/jupyter-notebooks/env/lib/python3.9/site-packages/torch/nn/parallel/_functions.py:68: UserWarning: Was asked to gather along dimension 0, but all input tensors were scalars; will instead unsqueeze and return a vector.\n",
      "  warnings.warn('Was asked to gather along dimension 0, but all '\n"
     ]
    }
   ],
   "source": [
    "transformers.logging.set_verbosity_warning()\n",
    "\n",
    "ps = np.linspace(0,1,11)\n",
    "test_size = 0.1\n",
    "model = \"roberta-base\"\n",
    "model = \"roberta-large\"\n",
    "\n",
    "model = \"bert-base-uncased\"\n",
    "#model = \"bert-large-uncased\"\n",
    "\n",
    "#model = \"albert-xxlarge-v2\"\n",
    "#model = \"albert-base-v2\"\n",
    "\n",
    "dataframe = pd.read_pickle(\"../data/moral_stories_proto_l2s.dat\")\n",
    "dataframe = msc.assign_norm_clusters(dataframe)\n",
    "\n",
    "acc_metric = get_accuracy_metric()\n",
    "results = []\n",
    "\n",
    "for p in ps:\n",
    "    # create dataset\n",
    "    random_values = msc.get_random_value_dataset(dataframe, p, top_n=20)\n",
    "    train, test = msc.make_action_classification_dataframe(random_values, test_size=test_size)\n",
    "\n",
    "    # create training args\n",
    "    out_dir = f\"/data/kiehne/results/shuffled_values/random_no_pretrain/{model}/{p:0.2f}/\"\n",
    "    training_args = TrainingArguments(\n",
    "        output_dir=out_dir,\n",
    "        num_train_epochs=5,\n",
    "        per_device_train_batch_size=8,\n",
    "        per_device_eval_batch_size=8,\n",
    "        gradient_accumulation_steps=1,\n",
    "        warmup_steps=500,\n",
    "        #weight_decay=0.01,\n",
    "        logging_steps=500,\n",
    "        evaluation_strategy=\"epoch\",\n",
    "        save_steps=30000000,\n",
    "        save_strategy=\"epoch\",\n",
    "        learning_rate=1e-5\n",
    "    )\n",
    "    \n",
    "    # create data loading function\n",
    "    data_loader = lambda tokenizer: convert_hf_dataset(tokenizer, train, test)\n",
    "    if \"gpt2\" in model:\n",
    "        data_loader = lambda tokenizer: convert_hf_dataset(tokenizer, train, test, padding=\"do_not_pad\")\n",
    "\n",
    "    \n",
    "    r = sequence_classification(data_loader, model, training_args, acc_metric, use_pretrained=False)\n",
    "    results.append(r)\n",
    "    \n",
    "    # save training data for later evaluation\n",
    "    train.to_pickle(out_dir+\"train.dat\")\n",
    "    test.to_pickle(out_dir+\"test.dat\")\n",
    "\n",
    "\n",
    "accuracies = [[y[\"eval_accuracy\"] for y in x if \"eval_accuracy\" in y] for x in results]\n"
   ]
  },
  {
   "cell_type": "code",
   "execution_count": 4,
   "id": "d1040a0d",
   "metadata": {},
   "outputs": [
    {
     "data": {
      "image/png": "[encoded data removed]",
      "text/plain": [
       "<Figure size 432x288 with 1 Axes>"
      ]
     },
     "metadata": {
      "needs_background": "light"
     },
     "output_type": "display_data"
    }
   ],
   "source": [
    "# topn=20\n",
    "import matplotlib.pyplot as plt\n",
    "# this is the random init bert\n",
    "max_acc = [max(a) for a in accuracies]\n",
    "plt.plot(ps, max_acc, \"*\")\n",
    "plt.ylim(0,1)\n",
    "plt.title(f\"Model: {model} no-pretrain\")\n",
    "plt.xlabel(\"$p$\")\n",
    "plt.ylabel(\"Accuracy\")\n",
    "plt.show()"
   ]
  },
  {
   "cell_type": "markdown",
   "id": "0239bf0e",
   "metadata": {},
   "source": [
    "# Post training evaluation\n",
    "***\n",
    "Whenever your local machine loses connection to a running notebook it will not receive the console outputs anymore, even though it might be connected to the kernel.\n",
    "This is a known issue in jupyter, which will not be addressed anytime soon."
   ]
  },
  {
   "cell_type": "code",
   "execution_count": null,
   "id": "6b68d77c",
   "metadata": {},
   "outputs": [],
   "source": [
    "import os\n",
    "from ailignment.training.finetune import clean_up_mem\n",
    "\n",
    "@clean_up_mem\n",
    "def evaluate(path):\n",
    "    '''\n",
    "    Loads the model in `path` and runs test evaluation on it\n",
    "    '''\n",
    "    model = AutoModelForSequenceClassification.from_pretrained(path)\n",
    "    trainer = Trainer(\n",
    "        model=model,\n",
    "        args=training_args,\n",
    "        compute_metrics=acc_metric,\n",
    "    )\n",
    "    logs = trainer.evaluate(val_data)\n",
    "    return logs\n",
    "\n",
    "def evaluate_folder(folder):\n",
    "    '''\n",
    "    Runs `evaluate` on all checkpoints in the given folder.\n",
    "    Returns a dict {\"checkpoint-X\": log_dict, .. }\n",
    "    '''\n",
    "    ckpts = os.listdir(folder)\n",
    "    results = {ckpt:evaluate(os.path.join(folder, ckpt)) for ckpt in ckpts}\n",
    "    return results"
   ]
  },
  {
   "cell_type": "code",
   "execution_count": null,
   "id": "7c88bde4",
   "metadata": {},
   "outputs": [],
   "source": [
    "import os\n",
    "\n",
    "transformers.logging.set_verbosity_warning()\n",
    "\n",
    "ps = np.linspace(0,1,11)\n",
    "test_size = 0.1\n",
    "seed = 3\n",
    "model = \"roberta-base\"\n",
    "model = \"bert-base-uncased\"\n",
    "\n",
    "acc_metric = get_accuracy_metric()\n",
    "results = []\n",
    "\n",
    "dataframe = pd.read_pickle(\"../data/moral_stories_proto_l2s.dat\")\n",
    "\n",
    "\n",
    "paths = [f\"/data/kiehne/results/shuffled_values/random/{model}/{p:.2f}/checkpoint-5625\" for p in ps]\n",
    "for p, path in zip(ps,paths):\n",
    "    random_values = dataframe.apply(simplify_norm_value, axis=1).apply(flip_norm(p), axis=1)\n",
    "    train, test = make_action_classification_dataframe(random_values)\n",
    "\n",
    "    # create training args\n",
    "    training_args = TrainingArguments(\n",
    "        output_dir=f\"/data/kiehne/results/shuffled_values/random/{model}/{p:0.2f}/\",\n",
    "        num_train_epochs=5,\n",
    "        per_device_train_batch_size=8,\n",
    "        per_device_eval_batch_size=8,\n",
    "        gradient_accumulation_steps=1,\n",
    "        warmup_steps=500,\n",
    "        #weight_decay=0.01,\n",
    "        logging_dir='logs/',\n",
    "        log_level=\"info\",\n",
    "        logging_steps=500,\n",
    "        evaluation_strategy=\"epoch\",\n",
    "        save_steps=30000000,\n",
    "        save_strategy=\"epoch\",\n",
    "        learning_rate=1e-5\n",
    "    )\n",
    "    \n",
    "    # create data loading function\n",
    "    def data_func(tokenizer):\n",
    "        def tok(samples):\n",
    "            return tokenizer(samples[\"action\"], samples[\"norm\"], padding=\"max_length\", \n",
    "                             truncation=True, return_token_type_ids=True)\n",
    "\n",
    "        train_data = Dataset.from_pandas(train)\n",
    "        train_data = train_data.map(tok, batched=True)\n",
    "        val_data = Dataset.from_pandas(test)\n",
    "        val_data = val_data.map(tok, batched=True)\n",
    "        return train_data, val_data\n",
    "    print(ps, path)"
   ]
  },
  {
   "cell_type": "code",
   "execution_count": null,
   "id": "5e15a967",
   "metadata": {},
   "outputs": [],
   "source": []
  }
 ],
 "metadata": {
  "kernelspec": {
   "display_name": "Python 3 (ipykernel)",
   "language": "python",
   "name": "python3"
  },
  "language_info": {
   "codemirror_mode": {
    "name": "ipython",
    "version": 3
   },
   "file_extension": ".py",
   "mimetype": "text/x-python",
   "name": "python",
   "nbconvert_exporter": "python",
   "pygments_lexer": "ipython3",
   "version": "3.9.7"
  }
 },
 "nbformat": 4,
 "nbformat_minor": 5
}
