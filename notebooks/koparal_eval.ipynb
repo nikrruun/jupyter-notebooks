{
 "cells": [
  {
   "cell_type": "code",
   "execution_count": 1,
   "id": "7283fd13",
   "metadata": {},
   "outputs": [],
   "source": [
    "import pandas as pd\n",
    "import numpy as np\n",
    "from tqdm import tqdm\n",
    "\n",
    "from sklearn.model_selection import train_test_split\n",
    "from datasets import Dataset\n",
    "\n",
    "from transformers import Trainer, TrainingArguments\n",
    "from transformers import AutoTokenizer, AutoModelForSequenceClassification, AutoConfig\n",
    "import transformers\n",
    "\n",
    "import torch\n",
    "\n",
    "from ailignment.datasets.util import get_accuracy_metric\n",
    "from ailignment.datasets.moral_stories import make_action_classification_dataframe, get_random_value_dataset\n",
    "import ailignment.datasets.moral_stories_clustered as msc\n",
    "from ailignment.training import sequence_classification\n",
    "\n",
    "pd.set_option('display.max_colwidth', 400)\n",
    "dataframe = pd.read_pickle(\"../data/moral_stories_proto_l2s.dat\")"
   ]
  },
  {
   "cell_type": "code",
   "execution_count": 2,
   "id": "c900f271",
   "metadata": {},
   "outputs": [],
   "source": [
    "import json\n",
    "def load_json(path):\n",
    "    with open(path) as f:\n",
    "        d = f.readlines()\n",
    "    d = [json.loads(x) for x in d]\n",
    "    d =  pd.DataFrame.from_records(d)\n",
    "    d[\"label\"] = d[\"label\"].astype(\"int32\")\n",
    "    return d\n",
    "\n",
    "def load_splits(folder=\"action/\"):\n",
    "    train = load_json(folder+\"train.json\")\n",
    "    dev = load_json(folder+\"dev.json\")\n",
    "    test = load_json(folder+\"test.json\")\n",
    "    return train, dev, test\n",
    "\n",
    "def load_action(tokenizer):\n",
    "    def tokenize_action(samples):\n",
    "        return tokenizer(samples[\"action\"], padding=\"max_length\", \n",
    "                         truncation=True, return_token_type_ids=True)\n",
    "    train, dev, test = load_splits(\"action/\")\n",
    "    train = Dataset.from_pandas(train).shuffle().map(tokenize_action, batched=True)\n",
    "    dev = Dataset.from_pandas(dev).map(tokenize_action, batched=True)\n",
    "    test = Dataset.from_pandas(test).map(tokenize_action, batched=True)\n",
    "    return train, dev, test\n",
    "\n",
    "def load_action_norm(tokenizer):\n",
    "    def tokenize(samples):\n",
    "        return tokenizer(samples[\"action\"], samples[\"norm\"], padding=\"max_length\", \n",
    "                         truncation=True, return_token_type_ids=True)\n",
    "    train, dev, test = load_splits(\"action_norm/\")\n",
    "    train = Dataset.from_pandas(train).shuffle().map(tokenize, batched=True)\n",
    "    dev = Dataset.from_pandas(dev).map(tokenize, batched=True)\n",
    "    test = Dataset.from_pandas(test).map(tokenize, batched=True)\n",
    "    return train, dev, test\n",
    "\n",
    "def load_action_context(tokenizer):\n",
    "    def tokenize(samples):\n",
    "        return tokenizer(samples[\"action\"], samples[\"context\"], padding=\"max_length\", \n",
    "                         truncation=True, return_token_type_ids=True)\n",
    "    train, dev, test = load_splits(\"action_context/\")\n",
    "    train = Dataset.from_pandas(train).shuffle().map(tokenize, batched=True)\n",
    "    dev = Dataset.from_pandas(dev).map(tokenize, batched=True)\n",
    "    test = Dataset.from_pandas(test).map(tokenize, batched=True)\n",
    "    return train, dev, test"
   ]
  },
  {
   "cell_type": "code",
   "execution_count": 3,
   "id": "37e16430",
   "metadata": {},
   "outputs": [
    {
     "name": "stderr",
     "output_type": "stream",
     "text": [
      "Some weights of the model checkpoint at bert-base-uncased were not used when initializing BertForSequenceClassification: ['cls.predictions.transform.LayerNorm.bias', 'cls.predictions.decoder.weight', 'cls.predictions.transform.LayerNorm.weight', 'cls.seq_relationship.bias', 'cls.predictions.transform.dense.bias', 'cls.predictions.transform.dense.weight', 'cls.seq_relationship.weight', 'cls.predictions.bias']\n",
      "- This IS expected if you are initializing BertForSequenceClassification from the checkpoint of a model trained on another task or with another architecture (e.g. initializing a BertForSequenceClassification model from a BertForPreTraining model).\n",
      "- This IS NOT expected if you are initializing BertForSequenceClassification from the checkpoint of a model that you expect to be exactly identical (initializing a BertForSequenceClassification model from a BertForSequenceClassification model).\n",
      "Some weights of BertForSequenceClassification were not initialized from the model checkpoint at bert-base-uncased and are newly initialized: ['classifier.weight', 'classifier.bias']\n",
      "You should probably TRAIN this model on a down-stream task to be able to use it for predictions and inference.\n"
     ]
    }
   ],
   "source": [
    "name = \"roberta-large\"\n",
    "name = \"bert-base-uncased\"\n",
    "tokenizer = AutoTokenizer.from_pretrained(name)\n",
    "model = AutoModelForSequenceClassification.from_pretrained(name, num_labels=2)"
   ]
  },
  {
   "cell_type": "code",
   "execution_count": 4,
   "id": "0c1d45e7",
   "metadata": {},
   "outputs": [
    {
     "data": {
      "application/vnd.jupyter.widget-view+json": {
       "model_id": "3d1eba03b7cb44dca24aab7909bffe1b",
       "version_major": 2,
       "version_minor": 0
      },
      "text/plain": [
       "  0%|          | 0/3 [00:00<?, ?ba/s]"
      ]
     },
     "metadata": {},
     "output_type": "display_data"
    },
    {
     "data": {
      "application/vnd.jupyter.widget-view+json": {
       "model_id": "742a3208330341bb81c7c4129df05d9e",
       "version_major": 2,
       "version_minor": 0
      },
      "text/plain": [
       "  0%|          | 0/1 [00:00<?, ?ba/s]"
      ]
     },
     "metadata": {},
     "output_type": "display_data"
    },
    {
     "data": {
      "application/vnd.jupyter.widget-view+json": {
       "model_id": "b94ba130b60b4b02af970912b207ad4e",
       "version_major": 2,
       "version_minor": 0
      },
      "text/plain": [
       "  0%|          | 0/1 [00:00<?, ?ba/s]"
      ]
     },
     "metadata": {},
     "output_type": "display_data"
    }
   ],
   "source": [
    "train, dev, test = load_action_norm(tokenizer)"
   ]
  },
  {
   "cell_type": "code",
   "execution_count": 5,
   "id": "dc71ff6d",
   "metadata": {},
   "outputs": [
    {
     "data": {
      "application/vnd.jupyter.widget-view+json": {
       "model_id": "cfc490e990b344e8bdcee26a2fa8129a",
       "version_major": 2,
       "version_minor": 0
      },
      "text/plain": [
       "  0%|          | 0/3 [00:00<?, ?ba/s]"
      ]
     },
     "metadata": {},
     "output_type": "display_data"
    },
    {
     "data": {
      "application/vnd.jupyter.widget-view+json": {
       "model_id": "4b432edadf144936b9247864b5d26149",
       "version_major": 2,
       "version_minor": 0
      },
      "text/plain": [
       "  0%|          | 0/1 [00:00<?, ?ba/s]"
      ]
     },
     "metadata": {},
     "output_type": "display_data"
    },
    {
     "data": {
      "application/vnd.jupyter.widget-view+json": {
       "model_id": "f0e896d7d2024cfcb5687ceeedb9f6b8",
       "version_major": 2,
       "version_minor": 0
      },
      "text/plain": [
       "  0%|          | 0/1 [00:00<?, ?ba/s]"
      ]
     },
     "metadata": {},
     "output_type": "display_data"
    }
   ],
   "source": [
    "train = train.filter(lambda x: x[\"label\"]!=2)\n",
    "dev = dev.filter(lambda x: x[\"label\"]!=2)\n",
    "test = test.filter(lambda x: x[\"label\"]!=2)"
   ]
  },
  {
   "cell_type": "code",
   "execution_count": 6,
   "id": "3ae7db2d",
   "metadata": {},
   "outputs": [],
   "source": [
    "training_args = TrainingArguments(\n",
    "    output_dir=\"/data/kiehne/results/shuffled_values/random/trash/\",\n",
    "    num_train_epochs=7,\n",
    "    per_device_train_batch_size=8,\n",
    "    per_device_eval_batch_size=8,\n",
    "    gradient_accumulation_steps=1,\n",
    "    warmup_steps=500,\n",
    "    #weight_decay=0.01,\n",
    "    logging_dir='logs/',\n",
    "    log_level=\"info\",\n",
    "    logging_steps=500,\n",
    "    evaluation_strategy=\"epoch\",\n",
    "    save_steps=30000000,\n",
    "    save_strategy=\"epoch\",\n",
    "    learning_rate=1e-5\n",
    ")\n",
    "acc_metric = get_accuracy_metric()"
   ]
  },
  {
   "cell_type": "code",
   "execution_count": 7,
   "id": "4df564c8",
   "metadata": {},
   "outputs": [
    {
     "name": "stderr",
     "output_type": "stream",
     "text": [
      "The following columns in the training set  don't have a corresponding argument in `BertForSequenceClassification.forward` and have been ignored: norm, action.\n",
      "***** Running training *****\n",
      "  Num examples = 1628\n",
      "  Num Epochs = 7\n",
      "  Instantaneous batch size per device = 8\n",
      "  Total train batch size (w. parallel, distributed & accumulation) = 16\n",
      "  Gradient Accumulation steps = 1\n",
      "  Total optimization steps = 714\n",
      "/home/kiehne/workspace/jupyter-notebooks/env/lib/python3.9/site-packages/torch/nn/parallel/_functions.py:68: UserWarning: Was asked to gather along dimension 0, but all input tensors were scalars; will instead unsqueeze and return a vector.\n",
      "  warnings.warn('Was asked to gather along dimension 0, but all '\n"
     ]
    },
    {
     "data": {
      "text/html": [
       "\n",
       "    <div>\n",
       "      \n",
       "      <progress value='714' max='714' style='width:300px; height:20px; vertical-align: middle;'></progress>\n",
       "      [714/714 05:39, Epoch 7/7]\n",
       "    </div>\n",
       "    <table border=\"1\" class=\"dataframe\">\n",
       "  <thead>\n",
       "    <tr style=\"text-align: left;\">\n",
       "      <th>Epoch</th>\n",
       "      <th>Training Loss</th>\n",
       "      <th>Validation Loss</th>\n",
       "      <th>Accuracy</th>\n",
       "    </tr>\n",
       "  </thead>\n",
       "  <tbody>\n",
       "    <tr>\n",
       "      <td>1</td>\n",
       "      <td>No log</td>\n",
       "      <td>0.767691</td>\n",
       "      <td>0.473118</td>\n",
       "    </tr>\n",
       "    <tr>\n",
       "      <td>2</td>\n",
       "      <td>No log</td>\n",
       "      <td>0.711081</td>\n",
       "      <td>0.483871</td>\n",
       "    </tr>\n",
       "    <tr>\n",
       "      <td>3</td>\n",
       "      <td>No log</td>\n",
       "      <td>0.671362</td>\n",
       "      <td>0.607527</td>\n",
       "    </tr>\n",
       "    <tr>\n",
       "      <td>4</td>\n",
       "      <td>No log</td>\n",
       "      <td>0.615831</td>\n",
       "      <td>0.677419</td>\n",
       "    </tr>\n",
       "    <tr>\n",
       "      <td>5</td>\n",
       "      <td>0.632600</td>\n",
       "      <td>0.540160</td>\n",
       "      <td>0.752688</td>\n",
       "    </tr>\n",
       "    <tr>\n",
       "      <td>6</td>\n",
       "      <td>0.632600</td>\n",
       "      <td>0.562581</td>\n",
       "      <td>0.774194</td>\n",
       "    </tr>\n",
       "    <tr>\n",
       "      <td>7</td>\n",
       "      <td>0.632600</td>\n",
       "      <td>0.598864</td>\n",
       "      <td>0.758065</td>\n",
       "    </tr>\n",
       "  </tbody>\n",
       "</table><p>"
      ],
      "text/plain": [
       "<IPython.core.display.HTML object>"
      ]
     },
     "metadata": {},
     "output_type": "display_data"
    },
    {
     "name": "stderr",
     "output_type": "stream",
     "text": [
      "The following columns in the evaluation set  don't have a corresponding argument in `BertForSequenceClassification.forward` and have been ignored: norm, action.\n",
      "***** Running Evaluation *****\n",
      "  Num examples = 186\n",
      "  Batch size = 16\n",
      "Saving model checkpoint to /data/kiehne/results/shuffled_values/random/trash/checkpoint-102\n",
      "Configuration saved in /data/kiehne/results/shuffled_values/random/trash/checkpoint-102/config.json\n",
      "Model weights saved in /data/kiehne/results/shuffled_values/random/trash/checkpoint-102/pytorch_model.bin\n",
      "/home/kiehne/workspace/jupyter-notebooks/env/lib/python3.9/site-packages/torch/nn/parallel/_functions.py:68: UserWarning: Was asked to gather along dimension 0, but all input tensors were scalars; will instead unsqueeze and return a vector.\n",
      "  warnings.warn('Was asked to gather along dimension 0, but all '\n",
      "The following columns in the evaluation set  don't have a corresponding argument in `BertForSequenceClassification.forward` and have been ignored: norm, action.\n",
      "***** Running Evaluation *****\n",
      "  Num examples = 186\n",
      "  Batch size = 16\n",
      "Saving model checkpoint to /data/kiehne/results/shuffled_values/random/trash/checkpoint-204\n",
      "Configuration saved in /data/kiehne/results/shuffled_values/random/trash/checkpoint-204/config.json\n",
      "Model weights saved in /data/kiehne/results/shuffled_values/random/trash/checkpoint-204/pytorch_model.bin\n",
      "/home/kiehne/workspace/jupyter-notebooks/env/lib/python3.9/site-packages/torch/nn/parallel/_functions.py:68: UserWarning: Was asked to gather along dimension 0, but all input tensors were scalars; will instead unsqueeze and return a vector.\n",
      "  warnings.warn('Was asked to gather along dimension 0, but all '\n",
      "The following columns in the evaluation set  don't have a corresponding argument in `BertForSequenceClassification.forward` and have been ignored: norm, action.\n",
      "***** Running Evaluation *****\n",
      "  Num examples = 186\n",
      "  Batch size = 16\n",
      "Saving model checkpoint to /data/kiehne/results/shuffled_values/random/trash/checkpoint-306\n",
      "Configuration saved in /data/kiehne/results/shuffled_values/random/trash/checkpoint-306/config.json\n",
      "Model weights saved in /data/kiehne/results/shuffled_values/random/trash/checkpoint-306/pytorch_model.bin\n",
      "/home/kiehne/workspace/jupyter-notebooks/env/lib/python3.9/site-packages/torch/nn/parallel/_functions.py:68: UserWarning: Was asked to gather along dimension 0, but all input tensors were scalars; will instead unsqueeze and return a vector.\n",
      "  warnings.warn('Was asked to gather along dimension 0, but all '\n",
      "The following columns in the evaluation set  don't have a corresponding argument in `BertForSequenceClassification.forward` and have been ignored: norm, action.\n",
      "***** Running Evaluation *****\n",
      "  Num examples = 186\n",
      "  Batch size = 16\n",
      "Saving model checkpoint to /data/kiehne/results/shuffled_values/random/trash/checkpoint-408\n",
      "Configuration saved in /data/kiehne/results/shuffled_values/random/trash/checkpoint-408/config.json\n",
      "Model weights saved in /data/kiehne/results/shuffled_values/random/trash/checkpoint-408/pytorch_model.bin\n",
      "/home/kiehne/workspace/jupyter-notebooks/env/lib/python3.9/site-packages/torch/nn/parallel/_functions.py:68: UserWarning: Was asked to gather along dimension 0, but all input tensors were scalars; will instead unsqueeze and return a vector.\n",
      "  warnings.warn('Was asked to gather along dimension 0, but all '\n",
      "The following columns in the evaluation set  don't have a corresponding argument in `BertForSequenceClassification.forward` and have been ignored: norm, action.\n",
      "***** Running Evaluation *****\n",
      "  Num examples = 186\n",
      "  Batch size = 16\n",
      "Saving model checkpoint to /data/kiehne/results/shuffled_values/random/trash/checkpoint-510\n",
      "Configuration saved in /data/kiehne/results/shuffled_values/random/trash/checkpoint-510/config.json\n",
      "Model weights saved in /data/kiehne/results/shuffled_values/random/trash/checkpoint-510/pytorch_model.bin\n",
      "/home/kiehne/workspace/jupyter-notebooks/env/lib/python3.9/site-packages/torch/nn/parallel/_functions.py:68: UserWarning: Was asked to gather along dimension 0, but all input tensors were scalars; will instead unsqueeze and return a vector.\n",
      "  warnings.warn('Was asked to gather along dimension 0, but all '\n",
      "The following columns in the evaluation set  don't have a corresponding argument in `BertForSequenceClassification.forward` and have been ignored: norm, action.\n",
      "***** Running Evaluation *****\n",
      "  Num examples = 186\n",
      "  Batch size = 16\n",
      "Saving model checkpoint to /data/kiehne/results/shuffled_values/random/trash/checkpoint-612\n",
      "Configuration saved in /data/kiehne/results/shuffled_values/random/trash/checkpoint-612/config.json\n",
      "Model weights saved in /data/kiehne/results/shuffled_values/random/trash/checkpoint-612/pytorch_model.bin\n",
      "/home/kiehne/workspace/jupyter-notebooks/env/lib/python3.9/site-packages/torch/nn/parallel/_functions.py:68: UserWarning: Was asked to gather along dimension 0, but all input tensors were scalars; will instead unsqueeze and return a vector.\n",
      "  warnings.warn('Was asked to gather along dimension 0, but all '\n",
      "The following columns in the evaluation set  don't have a corresponding argument in `BertForSequenceClassification.forward` and have been ignored: norm, action.\n",
      "***** Running Evaluation *****\n",
      "  Num examples = 186\n",
      "  Batch size = 16\n",
      "Saving model checkpoint to /data/kiehne/results/shuffled_values/random/trash/checkpoint-714\n",
      "Configuration saved in /data/kiehne/results/shuffled_values/random/trash/checkpoint-714/config.json\n",
      "Model weights saved in /data/kiehne/results/shuffled_values/random/trash/checkpoint-714/pytorch_model.bin\n",
      "\n",
      "\n",
      "Training completed. Do not forget to share your model on huggingface.co/models =)\n",
      "\n",
      "\n",
      "The following columns in the evaluation set  don't have a corresponding argument in `BertForSequenceClassification.forward` and have been ignored: norm, action.\n",
      "***** Running Evaluation *****\n",
      "  Num examples = 192\n",
      "  Batch size = 16\n",
      "/home/kiehne/workspace/jupyter-notebooks/env/lib/python3.9/site-packages/torch/nn/parallel/_functions.py:68: UserWarning: Was asked to gather along dimension 0, but all input tensors were scalars; will instead unsqueeze and return a vector.\n",
      "  warnings.warn('Was asked to gather along dimension 0, but all '\n"
     ]
    },
    {
     "data": {
      "text/html": [
       "\n",
       "    <div>\n",
       "      \n",
       "      <progress value='12' max='12' style='width:300px; height:20px; vertical-align: middle;'></progress>\n",
       "      [12/12 00:01]\n",
       "    </div>\n",
       "    "
      ],
      "text/plain": [
       "<IPython.core.display.HTML object>"
      ]
     },
     "metadata": {},
     "output_type": "display_data"
    },
    {
     "data": {
      "text/plain": [
       "{'eval_loss': 0.7107114791870117,\n",
       " 'eval_accuracy': 0.6875,\n",
       " 'eval_runtime': 1.8635,\n",
       " 'eval_samples_per_second': 103.032,\n",
       " 'eval_steps_per_second': 6.44,\n",
       " 'epoch': 7.0}"
      ]
     },
     "execution_count": 7,
     "metadata": {},
     "output_type": "execute_result"
    }
   ],
   "source": [
    "trainer = Trainer(\n",
    "    model=model,\n",
    "    args=training_args,\n",
    "    train_dataset=train,\n",
    "    eval_dataset=dev,\n",
    "    compute_metrics=acc_metric,\n",
    ")\n",
    "logs = trainer.train()\n",
    "trainer.evaluate(test)"
   ]
  },
  {
   "cell_type": "code",
   "execution_count": null,
   "id": "f719a641",
   "metadata": {},
   "outputs": [],
   "source": []
  }
 ],
 "metadata": {
  "kernelspec": {
   "display_name": "Python 3 (ipykernel)",
   "language": "python",
   "name": "python3"
  },
  "language_info": {
   "codemirror_mode": {
    "name": "ipython",
    "version": 3
   },
   "file_extension": ".py",
   "mimetype": "text/x-python",
   "name": "python",
   "nbconvert_exporter": "python",
   "pygments_lexer": "ipython3",
   "version": "3.9.7"
  }
 },
 "nbformat": 4,
 "nbformat_minor": 5
}
