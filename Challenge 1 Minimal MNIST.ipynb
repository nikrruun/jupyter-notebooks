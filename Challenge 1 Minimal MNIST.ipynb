{
 "cells": [
  {
   "cell_type": "markdown",
   "id": "blank-latex",
   "metadata": {
    "slideshow": {
     "slide_type": "subslide"
    }
   },
   "source": [
    "# Challenge 1: Minimal MNIST\n",
    "***\n",
    "The idea is straightforward:\n",
    "* Train the smallest possible neural network using `keras`\n",
    "    * achieving at least $90\\%$ accuracy\n",
    "\n",
    "You will be provided with code:\n",
    "* `get_data()`: Returning `x_train`, `y_train`, `x_test` and `y_test`\n",
    "    * Please only use the `_train` data to train. Anything else will lead to disqualification\n",
    "* `evaluate_model(model)` returning `acc` and `num_weights`\n",
    "    * `acc`: the accuracy, e.g. $0.95$\n",
    "    * `num_weights`: the number of parameters you used in your model"
   ]
  },
  {
   "cell_type": "markdown",
   "id": "spare-attention",
   "metadata": {
    "slideshow": {
     "slide_type": "slide"
    }
   },
   "source": [
    "# Data & Evaluation code\n",
    "***"
   ]
  },
  {
   "cell_type": "code",
   "execution_count": 15,
   "id": "empty-gasoline",
   "metadata": {
    "slideshow": {
     "slide_type": "fragment"
    }
   },
   "outputs": [],
   "source": [
    "from tensorflow import keras\n",
    "\n",
    "def evaluate_model(model, x_test, y_test):\n",
    "    num_weights = model.count_params()\n",
    "    acc_metric = keras.metrics.CategoricalAccuracy()\n",
    "    out = model(x_test)\n",
    "    acc_metric.update_state(y_test, out)\n",
    "    acc = acc_metric.result().numpy()\n",
    "    return {\"Test accuracy\":acc, \"Number of parameters\":num_weights}\n",
    "\n",
    "def get_data():\n",
    "    (x_train, y_train), (x_test, y_test) = keras.datasets.mnist.load_data()\n",
    "    y_train = keras.utils.to_categorical(y_train)\n",
    "    y_test = keras.utils.to_categorical(y_test)\n",
    "\n",
    "    return x_train, y_train, x_test, y_test"
   ]
  },
  {
   "cell_type": "markdown",
   "id": "established-thanks",
   "metadata": {
    "slideshow": {
     "slide_type": "slide"
    }
   },
   "source": [
    "# An example to get you started\n",
    "***\n",
    "First, load the data"
   ]
  },
  {
   "cell_type": "code",
   "execution_count": 16,
   "id": "piano-producer",
   "metadata": {
    "slideshow": {
     "slide_type": "fragment"
    }
   },
   "outputs": [],
   "source": [
    "x_train, y_train, x_test, y_test = get_data()"
   ]
  },
  {
   "cell_type": "markdown",
   "id": "brutal-strap",
   "metadata": {
    "slideshow": {
     "slide_type": "fragment"
    }
   },
   "source": [
    "Next, set up a simple Multi-layer perceptron"
   ]
  },
  {
   "cell_type": "code",
   "execution_count": 22,
   "id": "mighty-opening",
   "metadata": {
    "scrolled": false,
    "slideshow": {
     "slide_type": "fragment"
    }
   },
   "outputs": [
    {
     "name": "stdout",
     "output_type": "stream",
     "text": [
      "Model: \"model_4\"\n",
      "_________________________________________________________________\n",
      "Layer (type)                 Output Shape              Param #   \n",
      "=================================================================\n",
      "input_5 (InputLayer)         [(None, 28, 28)]          0         \n",
      "_________________________________________________________________\n",
      "flatten_4 (Flatten)          (None, 784)               0         \n",
      "_________________________________________________________________\n",
      "dense_16 (Dense)             (None, 256)               200960    \n",
      "_________________________________________________________________\n",
      "dense_17 (Dense)             (None, 256)               65792     \n",
      "_________________________________________________________________\n",
      "dense_18 (Dense)             (None, 256)               65792     \n",
      "_________________________________________________________________\n",
      "dense_19 (Dense)             (None, 10)                2570      \n",
      "=================================================================\n",
      "Total params: 335,114\n",
      "Trainable params: 335,114\n",
      "Non-trainable params: 0\n",
      "_________________________________________________________________\n"
     ]
    }
   ],
   "source": [
    "input_layer = keras.layers.Input((28,28,))\n",
    "l = input_layer\n",
    "l = keras.layers.Flatten()(l)\n",
    "for i in range(3):\n",
    "    l = keras.layers.Dense(256,activation=\"relu\")(l)\n",
    "l = keras.layers.Dense(10,\"softmax\")(l)\n",
    "\n",
    "model = keras.models.Model(input_layer, l)\n",
    "model.compile(\"SGD\", \"MSE\", [\"accuracy\"])\n",
    "model.summary()"
   ]
  },
  {
   "cell_type": "markdown",
   "id": "pleased-rebecca",
   "metadata": {
    "slideshow": {
     "slide_type": "slide"
    }
   },
   "source": [
    "Train the network on the given data"
   ]
  },
  {
   "cell_type": "code",
   "execution_count": 23,
   "id": "qualified-edgar",
   "metadata": {
    "scrolled": false,
    "slideshow": {
     "slide_type": "fragment"
    }
   },
   "outputs": [
    {
     "name": "stdout",
     "output_type": "stream",
     "text": [
      "Epoch 1/10\n",
      "235/235 [==============================] - 1s 3ms/step - loss: 0.1499 - accuracy: 0.2328\n",
      "Epoch 2/10\n",
      "235/235 [==============================] - 1s 3ms/step - loss: 0.1290 - accuracy: 0.3405\n",
      "Epoch 3/10\n",
      "235/235 [==============================] - 1s 3ms/step - loss: 0.1159 - accuracy: 0.4062\n",
      "Epoch 4/10\n",
      "235/235 [==============================] - 1s 3ms/step - loss: 0.1074 - accuracy: 0.4489\n",
      "Epoch 5/10\n",
      "235/235 [==============================] - 1s 3ms/step - loss: 0.0960 - accuracy: 0.5078\n",
      "Epoch 6/10\n",
      "235/235 [==============================] - 1s 3ms/step - loss: 0.0937 - accuracy: 0.5192\n",
      "Epoch 7/10\n",
      "235/235 [==============================] - 1s 3ms/step - loss: 0.0927 - accuracy: 0.5246\n",
      "Epoch 8/10\n",
      "235/235 [==============================] - 1s 3ms/step - loss: 0.0907 - accuracy: 0.5351\n",
      "Epoch 9/10\n",
      "235/235 [==============================] - 1s 3ms/step - loss: 0.0894 - accuracy: 0.5412\n",
      "Epoch 10/10\n",
      "235/235 [==============================] - 1s 3ms/step - loss: 0.0896 - accuracy: 0.5402\n"
     ]
    },
    {
     "data": {
      "text/plain": [
       "<tensorflow.python.keras.callbacks.History at 0x2161c908a60>"
      ]
     },
     "execution_count": 23,
     "metadata": {},
     "output_type": "execute_result"
    }
   ],
   "source": [
    "model.fit(x_train, y_train, epochs=10, batch_size=256, verbose=1)"
   ]
  },
  {
   "cell_type": "markdown",
   "id": "outside-groove",
   "metadata": {
    "slideshow": {
     "slide_type": "slide"
    }
   },
   "source": [
    "Run the final evaluation for our challenge"
   ]
  },
  {
   "cell_type": "code",
   "execution_count": 24,
   "id": "operational-family",
   "metadata": {
    "slideshow": {
     "slide_type": "fragment"
    }
   },
   "outputs": [
    {
     "name": "stdout",
     "output_type": "stream",
     "text": [
      "{'Test accuracy': 0.5388, 'Number of parameters': 335114}\n"
     ]
    }
   ],
   "source": [
    "print(evaluate_model(model, x_test, y_test))"
   ]
  }
 ],
 "metadata": {
  "celltoolbar": "Slideshow",
  "kernelspec": {
   "display_name": "Python 3",
   "language": "python",
   "name": "python3"
  },
  "language_info": {
   "codemirror_mode": {
    "name": "ipython",
    "version": 3
   },
   "file_extension": ".py",
   "mimetype": "text/x-python",
   "name": "python",
   "nbconvert_exporter": "python",
   "pygments_lexer": "ipython3",
   "version": "3.8.3"
  },
  "rise": {
   "auto_select": "none",
   "enable_chalkboard": true,
   "overlay": "<div class='myheader'><img src='img/ai_camp.png' class='ifis_small'></div><div class='ifis_large'><img src='img/ifis_large.png'></div>",
   "scroll": true,
   "start_slideshow_at": "selected"
  }
 },
 "nbformat": 4,
 "nbformat_minor": 5
}
