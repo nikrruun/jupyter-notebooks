{
 "cells": [
  {
   "cell_type": "markdown",
   "id": "solid-marine",
   "metadata": {
    "slideshow": {
     "slide_type": "subslide"
    }
   },
   "source": [
    "# Challenge 1: Minimal MNIST\n",
    "***\n",
    "The idea is straightforward:\n",
    "* Train the smallest possible neural network using `keras`\n",
    "    * achieving at least $90\\%$ accuracy\n",
    "\n",
    "You will be provided with code:\n",
    "* `get_data()`: Returning `x_train`, `y_train`, `x_test` and `y_test`\n",
    "    * Please only use the `_train` data to train. Anything else will lead to disqualification\n",
    "* `evaluate_model(model)` returning `acc` and `num_weights`\n",
    "    * `acc`: the accuracy, e.g. $0.95$\n",
    "    * `num_weights`: the number of parameters you used in your model"
   ]
  },
  {
   "cell_type": "markdown",
   "id": "inclusive-johns",
   "metadata": {
    "slideshow": {
     "slide_type": "slide"
    }
   },
   "source": [
    "# Where to post the results\n",
    "***\n",
    "We don't have a fully automized leaderboard for our challenges (yet)\n",
    "* Please use our Discord server to post your results\n",
    "    * https://discord.gg/77uHPAMt\n",
    "        * Channel: \"results-challenge-1\"\n",
    "\n",
    "We will ask notable solutions to be presented in the next lecture!"
   ]
  },
  {
   "cell_type": "markdown",
   "id": "upper-france",
   "metadata": {
    "slideshow": {
     "slide_type": "slide"
    }
   },
   "source": [
    "# Data & Evaluation code\n",
    "***"
   ]
  },
  {
   "cell_type": "code",
   "execution_count": null,
   "id": "dated-highlight",
   "metadata": {
    "slideshow": {
     "slide_type": "fragment"
    }
   },
   "outputs": [],
   "source": [
    "from tensorflow import keras\n",
    "\n",
    "def evaluate_model(model, x_test, y_test):\n",
    "    num_weights = model.count_params()\n",
    "    acc_metric = keras.metrics.CategoricalAccuracy()\n",
    "    out = model(x_test)\n",
    "    acc_metric.update_state(y_test, out)\n",
    "    acc = acc_metric.result().numpy()\n",
    "    return {\"Test accuracy\":acc, \"Number of parameters\":num_weights}\n",
    "\n",
    "def get_data():\n",
    "    (x_train, y_train), (x_test, y_test) = keras.datasets.mnist.load_data()\n",
    "    y_train = keras.utils.to_categorical(y_train)\n",
    "    y_test = keras.utils.to_categorical(y_test)\n",
    "\n",
    "    return x_train, y_train, x_test, y_test"
   ]
  },
  {
   "cell_type": "markdown",
   "id": "technological-novelty",
   "metadata": {
    "slideshow": {
     "slide_type": "slide"
    }
   },
   "source": [
    "# An example to get you started\n",
    "***\n",
    "First, load the data"
   ]
  },
  {
   "cell_type": "code",
   "execution_count": null,
   "id": "postal-hello",
   "metadata": {
    "slideshow": {
     "slide_type": "fragment"
    }
   },
   "outputs": [],
   "source": [
    "x_train, y_train, x_test, y_test = get_data()"
   ]
  },
  {
   "cell_type": "markdown",
   "id": "latest-prediction",
   "metadata": {
    "slideshow": {
     "slide_type": "fragment"
    }
   },
   "source": [
    "Next, set up a simple Multi-layer perceptron"
   ]
  },
  {
   "cell_type": "code",
   "execution_count": null,
   "id": "outdoor-karen",
   "metadata": {
    "scrolled": false,
    "slideshow": {
     "slide_type": "fragment"
    }
   },
   "outputs": [],
   "source": [
    "input_layer = keras.layers.Input((28,28,))\n",
    "l = input_layer\n",
    "l = keras.layers.Flatten()(l)\n",
    "for i in range(3):\n",
    "    l = keras.layers.Dense(256,activation=\"relu\")(l)\n",
    "l = keras.layers.Dense(10,\"softmax\")(l)\n",
    "\n",
    "model = keras.models.Model(input_layer, l)\n",
    "model.compile(\"SGD\", \"MSE\", [\"accuracy\"])\n",
    "model.summary(50)"
   ]
  },
  {
   "cell_type": "markdown",
   "id": "wrapped-confirmation",
   "metadata": {
    "slideshow": {
     "slide_type": "slide"
    }
   },
   "source": [
    "Train the network on the given data"
   ]
  },
  {
   "cell_type": "code",
   "execution_count": null,
   "id": "increasing-carol",
   "metadata": {
    "scrolled": false,
    "slideshow": {
     "slide_type": "fragment"
    }
   },
   "outputs": [],
   "source": [
    "_ = model.fit(x_train, y_train, epochs=10, batch_size=256, verbose=1)"
   ]
  },
  {
   "cell_type": "markdown",
   "id": "informed-process",
   "metadata": {
    "slideshow": {
     "slide_type": "slide"
    }
   },
   "source": [
    "Run the final evaluation for our challenge"
   ]
  },
  {
   "cell_type": "code",
   "execution_count": null,
   "id": "automotive-bennett",
   "metadata": {
    "scrolled": false,
    "slideshow": {
     "slide_type": "fragment"
    }
   },
   "outputs": [],
   "source": [
    "print(evaluate_model(model, x_test, y_test))"
   ]
  },
  {
   "cell_type": "markdown",
   "id": "arranged-mechanics",
   "metadata": {
    "slideshow": {
     "slide_type": "fragment"
    }
   },
   "source": [
    "### Good luck!\n",
    "You will need it ;)"
   ]
  },
  {
   "cell_type": "markdown",
   "id": "unknown-camel",
   "metadata": {
    "slideshow": {
     "slide_type": "slide"
    }
   },
   "source": [
    "# Hints\n",
    "***\n",
    "To obtain competitive results:\n",
    "* Try out many different layers\n",
    "    * And activation functions\n",
    "* Check the different kinds of optimizers available\n",
    "    * And the losses\n",
    "* Read articles & talk to your colleagues!"
   ]
  }
 ],
 "metadata": {
  "celltoolbar": "Slideshow",
  "kernelspec": {
   "display_name": "Python 3",
   "language": "python",
   "name": "python3"
  },
  "language_info": {
   "codemirror_mode": {
    "name": "ipython",
    "version": 3
   },
   "file_extension": ".py",
   "mimetype": "text/x-python",
   "name": "python",
   "nbconvert_exporter": "python",
   "pygments_lexer": "ipython3",
   "version": "3.8.3"
  },
  "rise": {
   "auto_select": "none",
   "enable_chalkboard": true,
   "overlay": "<div class='myheader'><img src='img/ai_camp.png' class='ifis_small'></div><div class='ifis_large'><img src='img/ifis_large.png'></div>",
   "scroll": true,
   "start_slideshow_at": "selected"
  }
 },
 "nbformat": 4,
 "nbformat_minor": 5
}
