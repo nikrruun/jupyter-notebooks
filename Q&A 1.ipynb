{
 "cells": [
  {
   "cell_type": "code",
   "execution_count": 2,
   "id": "superior-youth",
   "metadata": {},
   "outputs": [],
   "source": [
    "import tensorflow as tf\n",
    "from tensorflow import keras\n",
    "import numpy as np\n",
    "import matplotlib.pyplot as plt"
   ]
  },
  {
   "cell_type": "markdown",
   "id": "valid-company",
   "metadata": {
    "slideshow": {
     "slide_type": "slide"
    }
   },
   "source": [
    "# Intermediate Q&A 1\n",
    "***"
   ]
  },
  {
   "cell_type": "markdown",
   "id": "sealed-kruger",
   "metadata": {
    "slideshow": {
     "slide_type": "fragment"
    }
   },
   "source": [
    "Agenda:\n",
    "* Tips and tricks for the challenge\n",
    "    * Layers, optimizers, losses, hyperparameters\n",
    "    * My solution\n",
    "* Q&A"
   ]
  },
  {
   "cell_type": "markdown",
   "id": "assumed-slide",
   "metadata": {
    "slideshow": {
     "slide_type": "slide"
    }
   },
   "source": [
    "# Useful layers\n",
    "***\n",
    "`Dense` layers are fully-connected\n",
    "* $784$ input pixels for $n$ `Dense` neurons give $784n$ weights!\n",
    "* Each output depends on each input"
   ]
  },
  {
   "cell_type": "markdown",
   "id": "noticed-debut",
   "metadata": {
    "slideshow": {
     "slide_type": "fragment"
    }
   },
   "source": [
    "`Conv2D` layers setup small *kernels* that are applied across the input\n",
    "* Only $k_w*k_h$ weights per neuron!\n",
    "<img src=\"https://anhreynolds.com/img/cnn.png\" style=\"height:300px;\">"
   ]
  },
  {
   "cell_type": "markdown",
   "id": "gothic-infection",
   "metadata": {
    "slideshow": {
     "slide_type": "subslide"
    }
   },
   "source": [
    "# Useful layers 2\n",
    "***\n",
    "`Pooling(w,h)` layers reduce the dimensionality of the input\n",
    "* `AvgPool2D`: Take the average value of each patch\n",
    "* `MaxPool2D`: Take the maximum value each patch\n",
    "* No weights and learning, but helps sorting out unecessary input"
   ]
  },
  {
   "cell_type": "code",
   "execution_count": 10,
   "id": "moved-ministry",
   "metadata": {
    "slideshow": {
     "slide_type": "fragment"
    }
   },
   "outputs": [
    {
     "name": "stdout",
     "output_type": "stream",
     "text": [
      "Model: \"functional_7\"\n",
      "__________________________________________________\n",
      "Layer (type)          Output Shape        Param # \n",
      "==================================================\n",
      "input_7 (InputLayer)  [(None, 28, 28)]    0       \n",
      "__________________________________________________\n",
      "reshape_6 (Reshape)   (None, 28, 28, 1)   0       \n",
      "__________________________________________________\n",
      "conv2d_6 (Conv2D)     (None, 28, 28, 32)  320     \n",
      "__________________________________________________\n",
      "average_pooling2d_6 ( (None, 14, 14, 32)  0       \n",
      "__________________________________________________\n",
      "conv2d_7 (Conv2D)     (None, 14, 14, 32)  9248    \n",
      "__________________________________________________\n",
      "average_pooling2d_7 ( (None, 7, 7, 32)    0       \n",
      "==================================================\n",
      "Total params: 9,568\n",
      "Trainable params: 9,568\n",
      "Non-trainable params: 0\n",
      "__________________________________________________\n"
     ]
    }
   ],
   "source": [
    "input_layer = keras.layers.Input((28,28,))\n",
    "l = keras.layers.Reshape((28,28,1))(input_layer)\n",
    "\n",
    "l = keras.layers.Conv2D(filters=32, kernel_size=(3,3), \n",
    "                        activation=\"relu\", padding=\"same\")(l)\n",
    "l = keras.layers.AvgPool2D((2,2))(l)\n",
    "\n",
    "l = keras.layers.Conv2D(filters=32, kernel_size=(3,3), \n",
    "                        activation=\"relu\", padding=\"same\")(l)\n",
    "l = keras.layers.AvgPool2D((2,2))(l)\n",
    "\n",
    "model = keras.models.Model(input_layer, l)\n",
    "model.summary(50)"
   ]
  },
  {
   "cell_type": "markdown",
   "id": "operational-effectiveness",
   "metadata": {
    "slideshow": {
     "slide_type": "slide"
    }
   },
   "source": [
    "# Useful optimizers\n",
    "***\n",
    "All optimizers in `keras` are based on gradient descent\n",
    "* Idea: A negative gradient indicates decreasing function values\n",
    "* The `learning_rate` determines how far to move into the steepest direction\n",
    "\n",
    "`SGD` is the vanilla gradient descent method\n",
    "* Gets stuck in local optima fast\n",
    "\n",
    "Others, like `Adam`, `Adamax`, `Adadelta` dynamically set learning rate\n",
    "* E.g based on gradient norms, dimensionality\n",
    "* In practice, they almost always outperform `SGD`"
   ]
  },
  {
   "cell_type": "markdown",
   "id": "renewable-center",
   "metadata": {
    "slideshow": {
     "slide_type": "slide"
    }
   },
   "source": [
    "# Which to choose?\n",
    "***\n",
    "The effectivity of an optimizer depends on the network and the training data\n",
    "\n",
    "Use case:\n",
    "* Proof of concept, i.e. \"Wonder if this would learn anything\"\n",
    "    * Start with standard methods, e.g. `SGD`\n",
    "* Scientific research\n",
    "    * Try any *reasonable* methods\n",
    "* Trying to beat Niklas\n",
    "    * Try out everything"
   ]
  },
  {
   "cell_type": "markdown",
   "id": "fancy-slave",
   "metadata": {
    "slideshow": {
     "slide_type": "slide"
    }
   },
   "source": [
    "# Useful losses\n",
    "***\n",
    "Our problem involves classification. In almost all cases the one below works very well\n",
    "* `categorical_crossentropy` is a measure of closeness between discrete distributions\n",
    "    * I.e. set the parameters such that our model approximates the input distribution\n",
    "\n",
    "For classification it might also be interesting to play around with\n",
    "* `MSE`: Usually worse, but has its perks for some optimizers\n",
    " "
   ]
  },
  {
   "cell_type": "markdown",
   "id": "solved-morris",
   "metadata": {
    "slideshow": {
     "slide_type": "subslide"
    }
   },
   "source": [
    "# Hyperparameters\n",
    "***\n",
    "Getting the most out of your model usually involves tuning hyperparameters:\n",
    "* `learning_rate`\n",
    "    * Large steps might skip over more local minima, but may also not converge\n",
    "    * Small steps might converge to local minima and never leave them again\n",
    "        * Decreasing the learning during training can help a lot!\n",
    "* `batch_size`\n",
    "    * Theoretically, `batch_size=1` has the fastest convergence properties\n",
    "        * But per epoch, not per second!\n",
    "    * Start with a `batch_size` that allows for rapid protoype training\n",
    "        * Depends on your hardware\n",
    "    * For promising candidates: Lower it until you see diminishing returns"
   ]
  },
  {
   "cell_type": "markdown",
   "id": "northern-midnight",
   "metadata": {
    "slideshow": {
     "slide_type": "slide"
    }
   },
   "source": [
    "# Try it out\n",
    "***\n",
    "All of the design choices available are interconnected:\n",
    "* Network architecture\n",
    "    * Type of layers\n",
    "    * Activation functions\n",
    "    * Weights per layer\n",
    "* Optimizer\n",
    "    * Learning rate, momentum\n",
    "    * batch size\n",
    "* Losses\n",
    "\n",
    "There are no perfect solutions\n",
    "* It is a lot of trial and error\n",
    "* Very good solutions for scenario A might be far from good for scenario B"
   ]
  },
  {
   "cell_type": "code",
   "execution_count": null,
   "id": "embedded-spring",
   "metadata": {},
   "outputs": [],
   "source": []
  }
 ],
 "metadata": {
  "celltoolbar": "Slideshow",
  "kernelspec": {
   "display_name": "Python 3",
   "language": "python",
   "name": "python3"
  },
  "language_info": {
   "codemirror_mode": {
    "name": "ipython",
    "version": 3
   },
   "file_extension": ".py",
   "mimetype": "text/x-python",
   "name": "python",
   "nbconvert_exporter": "python",
   "pygments_lexer": "ipython3",
   "version": "3.8.3"
  },
  "rise": {
   "auto_select": "none",
   "enable_chalkboard": true,
   "overlay": "<div class='myheader'><img src='img/ai_camp.png' class='ifis_small'></div><div class='ifis_large'><img src='img/ifis_large.png'></div>",
   "scroll": true,
   "start_slideshow_at": "selected"
  }
 },
 "nbformat": 4,
 "nbformat_minor": 5
}
