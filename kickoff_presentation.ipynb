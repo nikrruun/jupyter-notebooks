{
 "cells": [
  {
   "cell_type": "markdown",
   "id": "cleared-friday",
   "metadata": {
    "slideshow": {
     "slide_type": "notes"
    }
   },
   "source": [
    "# TODO\n",
    "* Leitfaden zur Reproduzierung der Slides und Code für\n",
    "    * Just Code\n",
    "        Remote: CPU/GPU: Colab\n",
    "        Remote: CPU only: Blender\n",
    "        Local: Clone Repo and follow instructions\n",
    "    * Code with slides:\n",
    "        Remote: CPU only: Blender\n",
    "        Local CPU/GPU: Clone repo and follow instructions\n",
    "* Better CSS for IFIS style slides\n",
    "    * Have H1 headings on top of screen\n",
    "    * Have Content starting at fixed height\n",
    "    * Add a footer with author name and Institute\n",
    "* Add docker container for repo\n",
    "    * with nvidia docker\n",
    "* We need a  leaderboard solution for our challenges\n",
    "    * check out kaggle. We need custom scoring functions and private challenges\n",
    "* We need a doodle for weekly date finding\n",
    "* Certificate: Participation\n",
    "    * 3/4 small challenges\n",
    "    * participate at big challenge"
   ]
  },
  {
   "cell_type": "markdown",
   "id": "legal-macro",
   "metadata": {
    "slideshow": {
     "slide_type": "slide"
    }
   },
   "source": [
    "\n",
    "# AI Camp 2020 Kickoff"
   ]
  },
  {
   "cell_type": "markdown",
   "id": "expensive-assembly",
   "metadata": {
    "slideshow": {
     "slide_type": "subslide"
    }
   },
   "source": [
    "# Agenda\n",
    "***\n",
    "1. What to expect\n",
    "2. Timeline\n",
    "3. How we code\n",
    "    * Jupyter Notebooks\n",
    "    * Google Colab\n",
    "4. Lecture 1: Python + Keras\n",
    "5. Challenge 1: Minimal MNIST"
   ]
  },
  {
   "cell_type": "markdown",
   "id": "thrown-slide",
   "metadata": {
    "slideshow": {
     "slide_type": "slide"
    }
   },
   "source": [
    "# What to expect\n",
    "***"
   ]
  },
  {
   "cell_type": "markdown",
   "id": "responsible-filter",
   "metadata": {
    "slideshow": {
     "slide_type": "slide"
    }
   },
   "source": [
    "# Timeline\n",
    "***\n",
    "- **KW 16**: (20.04) Kickoff, Intro lecture, Minimal MNIST Competition\n",
    "    - KW 17: Q&A, optional\n",
    "- **KW 18**: Reinforcement Learning, Pole Cart Competition\n",
    "    - KW 19: Q&A, optional\n",
    "- **KW 20**: Guest lecture: Proc. Kacprowski (Data Science for Biomedicine), **TBD COMP**\n",
    "    - KW 21: Q&A, optional\n",
    "- **KW 22**: Comp Recap, NLP Lecture, Sentiment Analysis Competition\n",
    "    - KW 23: Q&A, optional\n",
    "- **KW 24: Presentation & selection of our grand competition**\n",
    "    - KW 25 to 28: Working on our competition\n",
    "- **KW 29: AI Camp wrap up, presenting the results**"
   ]
  },
  {
   "cell_type": "markdown",
   "id": "prospective-buffalo",
   "metadata": {
    "slideshow": {
     "slide_type": "subslide"
    }
   },
   "source": [
    "# Regular date\n",
    "***\n",
    "We need day + time for our meetings.\n",
    "\n",
    "Please check our doodle, if you haven't already!"
   ]
  },
  {
   "cell_type": "markdown",
   "id": "improved-albert",
   "metadata": {
    "slideshow": {
     "slide_type": "slide"
    }
   },
   "source": [
    "# Organizational\n",
    "***\n",
    " - Lectures & Examples in Python\n",
    "     - Frameworks: Tensorflow, Pytorch, sklearn, etc.\n",
    " - Slides & Code in <a href=\"https://jupyter.org/\">Jupyter Notebooks</a>\n",
    " - Everything is located in Niklas' <a href=\"https://github.com/nikrruun/jupyter-notebooks/tree/aicamp2020\">GitHub Repo</a>\n",
    "     - Branch \"aicamp2020\""
   ]
  },
  {
   "cell_type": "markdown",
   "id": "wound-hammer",
   "metadata": {
    "slideshow": {
     "slide_type": "subslide"
    }
   },
   "source": [
    "# Why Jupyter Notebooks?\n",
    "***\n",
    "We want to present math and code for AI models\n",
    "> We have PowerPoint for this!\n",
    "\n",
    "But wouldn't it be nice, if we also could\n",
    "- Actually run the code during presentation\n",
    "- Interact with it and observe changes\n",
    "- Easily share it and ship to remote hardware\n",
    "   \n"
   ]
  },
  {
   "cell_type": "markdown",
   "id": "freelance-sunrise",
   "metadata": {
    "slideshow": {
     "slide_type": "subslide"
    }
   },
   "source": [
    "# You're in a simulation\n",
    "***\n",
    "This presentation is just code + markdown: "
   ]
  },
  {
   "cell_type": "code",
   "execution_count": null,
   "id": "abandoned-oasis",
   "metadata": {
    "scrolled": false,
    "slideshow": {
     "slide_type": "fragment"
    }
   },
   "outputs": [],
   "source": [
    "import time\n",
    "for i in range(33):\n",
    "    print(f\"2^{i} =\", 2**i)\n",
    "    #time.sleep(0.1)"
   ]
  },
  {
   "cell_type": "markdown",
   "id": "defensive-citizen",
   "metadata": {
    "slideshow": {
     "slide_type": "fragment"
    }
   },
   "source": [
    "This is a running python interpreter!"
   ]
  },
  {
   "cell_type": "markdown",
   "id": "therapeutic-possibility",
   "metadata": {
    "slideshow": {
     "slide_type": "slide"
    }
   },
   "source": [
    "# Features \n",
    "***\n",
    "* Inline Latex support: $e^yx_k\\sum_{i=1}{2^{-i}}$\n",
    "* Text narratives via markdown (essentially a readme.md)\n",
    "* Usually, a notebook is a list of sequential code or text cells\n",
    "    - But, with some effort it automatically translates into a slideshow\n",
    "* Run a copy on <a href=\"https://colab.research.google.com\">Google Colab</a> in < 1 minute\n",
    "    "
   ]
  },
  {
   "cell_type": "markdown",
   "id": "incident-detective",
   "metadata": {
    "slideshow": {
     "slide_type": "subslide"
    }
   },
   "source": [
    "# Google Colab walkthrough\n",
    "***\n",
    "1. Open the link <a href=\"https://colab.research.google.com\">Google Colab</a>\n",
    "2. Sign up & in, and open a new notebook\n",
    "3. Go to tab \"GitHub\" and search for user \"nikrruun\". Choose as shown below:\n",
    "<img src=\"img/slides/colab_github_menu.png\">"
   ]
  },
  {
   "cell_type": "markdown",
   "id": "elegant-yemen",
   "metadata": {
    "slideshow": {
     "slide_type": "subslide"
    }
   },
   "source": [
    "# Google Colab (2)\n",
    "***\n",
    "4. Click on \"<i>kickoff_presentation.ipynb</i>\"\n",
    "    - Generally, Google Colab filters out all available notebooks from a given repository\n",
    "5. Use the \"Content\" Navigation (on the left) or scroll down until you see this cell\n",
    "6. Check if you can run this code cell:"
   ]
  },
  {
   "cell_type": "code",
   "execution_count": null,
   "id": "loving-acquisition",
   "metadata": {
    "scrolled": true,
    "slideshow": {
     "slide_type": "fragment"
    }
   },
   "outputs": [],
   "source": [
    "data = [72, 101, 108, 108, 111, 32, 87, 111, 114, 108, 100]\n",
    "print(\"\".join([chr(x) for x in data]))"
   ]
  },
  {
   "cell_type": "markdown",
   "id": "prime-psychology",
   "metadata": {
    "slideshow": {
     "slide_type": "skip"
    }
   },
   "source": [
    "# So, why *python*?\n",
    "***\n",
    "Python is the current standard for ML and Data Science frameworks:\n",
    "* Forced indentation\n",
    "* Interpreted, not compiled\n",
    "* Extremely slow\n",
    "\n",
    "It is possible to expose C/C++/CUDA code to python\n",
    "* Tons of highly optimized frameworks and libraries exist\n",
    "    * numpy, tensorflow, pytorch, pycuda ...\n",
    "* Performance still not perfect, but close\n",
    "* Interpreted code allows for interactive and explorative programming!"
   ]
  },
  {
   "cell_type": "markdown",
   "id": "corresponding-longer",
   "metadata": {
    "slideshow": {
     "slide_type": "slide"
    }
   },
   "source": [
    "# Important libraries\n",
    "***\n",
    "There are a couple of standard tools often used for Data Science in python:\n",
    "* **numpy**: for fast math and array operations on CPU\n",
    "* **sklearn**: framework for machine learning pipelines\n",
    "* **pandas**: data analysis and manipulation framework\n",
    "* **tensorflow, keras**: Deep learning with gpu support\n",
    "* **matplotlib**: Data visualization\n",
    "\n",
    "On your own machine, you will have to manually install them (pip)\n",
    "* Google Colab comes with all of those pre-installed!"
   ]
  },
  {
   "cell_type": "markdown",
   "id": "liked-conditions",
   "metadata": {
    "slideshow": {
     "slide_type": "slide"
    }
   },
   "source": [
    "# Lecture 1: Intro Deep Learning\n",
    "***\n",
    "In the following, we will\n",
    "1. Take a look at the problem we would like to solve\n",
    "2. Learn how to make the computer learn\n",
    "3. Implement a deep neural network to solve (1.) in keras\n",
    "\n",
    "Let's start by importing the libraries we will need today:"
   ]
  },
  {
   "cell_type": "code",
   "execution_count": 1,
   "id": "amateur-begin",
   "metadata": {
    "slideshow": {
     "slide_type": "fragment"
    }
   },
   "outputs": [],
   "source": [
    "import numpy as np\n",
    "from tensorflow import keras\n",
    "import matplotlib.pyplot as plt\n"
   ]
  },
  {
   "cell_type": "markdown",
   "id": "affected-accordance",
   "metadata": {
    "slideshow": {
     "slide_type": "slide"
    }
   },
   "source": [
    "# POV: You are a post office\n",
    "***\n",
    "We want to recognize handwritten digits to speed up our letter sorting machine!\n",
    "* We need an algorithm that takes in an image and gives back an integer\n",
    "    * We want to *classify* each image into its integer category\n",
    "\n",
    "Let's load the MNIST dataset. Keras has some built-in functions for that:"
   ]
  },
  {
   "cell_type": "code",
   "execution_count": 3,
   "id": "forced-cable",
   "metadata": {
    "slideshow": {
     "slide_type": "fragment"
    }
   },
   "outputs": [
    {
     "name": "stdout",
     "output_type": "stream",
     "text": [
      "(60000, 28, 28) (60000,) (10000, 28, 28) (10000,)\n"
     ]
    }
   ],
   "source": [
    "(x_train, y_train), (x_test, y_test) = keras.datasets.mnist.load_data()\n",
    "print(x_train.shape, y_train.shape, x_test.shape, y_test.shape)"
   ]
  },
  {
   "cell_type": "markdown",
   "id": "apart-guyana",
   "metadata": {
    "slideshow": {
     "slide_type": "fragment"
    }
   },
   "source": [
    "* `x_train`: 60k 28x28 images used for training\n",
    "* `y_train`: 60k integer labels\n",
    "* `x_test`: 10k 28x28 images used for testing\n",
    "* `y_test`: 10k integer labels"
   ]
  },
  {
   "cell_type": "markdown",
   "id": "statutory-karaoke",
   "metadata": {
    "slideshow": {
     "slide_type": "slide"
    }
   },
   "source": [
    "What do these images look like? matplotlib shows us how:"
   ]
  },
  {
   "cell_type": "code",
   "execution_count": 4,
   "id": "confident-moisture",
   "metadata": {
    "slideshow": {
     "slide_type": "fragment"
    }
   },
   "outputs": [
    {
     "data": {
      "image/png": "[encoded data removed]",
      "text/plain": [
       "<Figure size 432x288 with 1 Axes>"
      ]
     },
     "metadata": {
      "needs_background": "light"
     },
     "output_type": "display_data"
    },
    {
     "data": {
      "image/png": "[encoded data removed]",
      "text/plain": [
       "<Figure size 432x288 with 1 Axes>"
      ]
     },
     "metadata": {
      "needs_background": "light"
     },
     "output_type": "display_data"
    },
    {
     "data": {
      "image/png": "[encoded data removed]",
      "text/plain": [
       "<Figure size 432x288 with 1 Axes>"
      ]
     },
     "metadata": {
      "needs_background": "light"
     },
     "output_type": "display_data"
    },
    {
     "data": {
      "image/png": "[encoded data removed]",
      "text/plain": [
       "<Figure size 432x288 with 1 Axes>"
      ]
     },
     "metadata": {
      "needs_background": "light"
     },
     "output_type": "display_data"
    },
    {
     "data": {
      "image/png": "[encoded data removed]",
      "text/plain": [
       "<Figure size 432x288 with 1 Axes>"
      ]
     },
     "metadata": {
      "needs_background": "light"
     },
     "output_type": "display_data"
    }
   ],
   "source": [
    "for i in range(5):\n",
    "    img = x_train[i]\n",
    "    plt.imshow(img)\n",
    "    plt.title(f\"x_train[{i}], label {y_train[i]}\")\n",
    "    plt.show()"
   ]
  },
  {
   "cell_type": "markdown",
   "id": "breeding-treasurer",
   "metadata": {
    "slideshow": {
     "slide_type": "slide"
    }
   },
   "source": [
    "# What is a classifier?\n",
    "***\n",
    "What we want is a function $C$, that assigns each image a number between 0 and 9:  \n",
    "$C: \\mathbb{N}_{28\\times28}\\rightarrow \\{0,1,\\dots,9\\}$\n",
    "\n",
    "We could also write the images as 1D arrays, row-by-row, so let's also allow  \n",
    "$C: \\mathbb{N}_{784\\times1}\\rightarrow \\{0,1,\\dots,9\\}$\n",
    "\n",
    "\n",
    "What about the *quality* of $C$ ?\n",
    "* We only want the correct assigments/label!"
   ]
  },
  {
   "cell_type": "markdown",
   "id": "dirty-radiation",
   "metadata": {
    "slideshow": {
     "slide_type": "slide"
    }
   },
   "source": [
    "# What we know is what we know\n",
    "***\n",
    "If we had perfect knowledge of the correct assignments of $C$\n",
    "* there wouldn't be any problems\n",
    "* a simple look-up-table gets it done\n",
    "    * Or does it?\n",
    "For pixels we have $x_{ij}\\in(0,255)$, i.e. 256 possible values.\n",
    "* Therefore, there are $256^n$ different images with $n$ pixels\n",
    "    * $256^{28*28}\\approx 1.1485*10^{1888}$\n",
    "        * We will need over $10^{1876}$ TB to store the lookup table!\n",
    "\n",
    "Usually, the input domains are just too large to materialize\n",
    "* Also, where do the labels come from? Hiwis?"
   ]
  },
  {
   "cell_type": "markdown",
   "id": "green-charter",
   "metadata": {
    "slideshow": {
     "slide_type": "slide"
    }
   },
   "source": [
    "# All models are wrong\n",
    "***\n",
    "Even if we reduced each image to one-millionth of its size\n",
    "* We still need over $10^{1870}$ TB of data\n",
    "    * How does nature do it? (*Visual cortices!*)"
   ]
  },
  {
   "cell_type": "markdown",
   "id": "worst-palestine",
   "metadata": {
    "slideshow": {
     "slide_type": "fragment"
    }
   },
   "source": [
    "Imagine you had to describe to someone what `1` or `0` looked like  \n",
    "Would you say:\n",
    "* \"Here are all possible images, just learn those by heart\"\n",
    "\n",
    "or\n",
    "* \"One is a vertical line and the other is a circle\"\n"
   ]
  },
  {
   "cell_type": "markdown",
   "id": "republican-boston",
   "metadata": {
    "slideshow": {
     "slide_type": "slide"
    }
   },
   "source": [
    "# Concepts for computers\n",
    "***\n",
    "For our case, we want a computer capable of *generalization*:\n",
    "* However, computers don't know about concepts, only about facts\n",
    "\n",
    "We also don't want to have to explain everything\n",
    "* Just once, wouldn't it be nice if the computer figured things out on its own?\n",
    "    * Supervised: By learning from examples\n",
    "    * Unsupervised: Through its own experiences"
   ]
  },
  {
   "cell_type": "markdown",
   "id": "lined-inside",
   "metadata": {
    "slideshow": {
     "slide_type": "slide"
    }
   },
   "source": [
    "* What is the difference between stating all facts or explaining the underlying rules?\n",
    "* A *relation* can be defined by either\n",
    "    * Writing down all pairs, i.e. $R=\\{(a,b)\\mid\\dots\\}$\n",
    "    * Write down the *generating process* (Function)\n",
    "\n",
    "* Example:\n",
    "    * $f=\\{(1,1),(2,4),(3,9),\\dots\\}$\n",
    "    * $f(x)=x^2,x\\in \\mathbb{N}$"
   ]
  },
  {
   "cell_type": "markdown",
   "id": "suited-stroke",
   "metadata": {
    "slideshow": {
     "slide_type": "fragment"
    }
   },
   "source": [
    "If you now feel a vague discomfort thinking about what it means to\n",
    "   * *know*, *understand* or to *explain*,\n",
    "then we are good to go!"
   ]
  },
  {
   "cell_type": "markdown",
   "id": "dimensional-oxide",
   "metadata": {
    "slideshow": {
     "slide_type": "slide"
    }
   },
   "source": [
    "# Finding patterns\n",
    "***\n",
    "Luckily (for you), our immediate problem is less philosophical\n",
    "   * Neither brain nor PC process infinite sets in finite time\n",
    "   * We want the *functional notation*!\n",
    "\n",
    "\n",
    "\n"
   ]
  },
  {
   "cell_type": "markdown",
   "id": "derived-clothing",
   "metadata": {
    "slideshow": {
     "slide_type": "fragment"
    }
   },
   "source": [
    "<span style=\"color:red\">**We only have finite sets!**</span>\n",
    "* There are infinitely many different functions generating a finite dataset $D$\n",
    "    * Which one is correct?"
   ]
  },
  {
   "cell_type": "markdown",
   "id": "tribal-engine",
   "metadata": {
    "slideshow": {
     "slide_type": "slide"
    }
   },
   "source": [
    "# The real world is messy\n",
    "***\n",
    "Data is obtained through observation\n",
    "* E.g. by photography of zipcodes on letters\n",
    "\n",
    "Observation might interfere with the data\n",
    "   * Random noise, warping, distortions, ...\n",
    "    \n",
    "We want the true, *underlying* function of the data\n",
    "* A function perfectly generating $D$ repeats the interferences\n",
    "    * We want $f$ to *generalize* from the faulty data\n"
   ]
  },
  {
   "cell_type": "markdown",
   "id": "liberal-nancy",
   "metadata": {
    "slideshow": {
     "slide_type": "slide"
    }
   },
   "source": [
    "# Regression\n",
    "***\n",
    "Consider the following synthetic dataset:"
   ]
  },
  {
   "cell_type": "code",
   "execution_count": null,
   "id": "unlike-railway",
   "metadata": {
    "slideshow": {
     "slide_type": "fragment"
    }
   },
   "outputs": [],
   "source": [
    "def observe(x):\n",
    "    return x + np.random.rand(*x.shape) * 3\n",
    "\n",
    "n = 30\n",
    "X = np.arange(n)\n",
    "Y = observe(X)\n",
    "plt.plot(X, Y, \"*\")\n",
    "plt.xlabel(\"X\")\n",
    "plt.ylabel(\"Y\")\n",
    "plt.show()"
   ]
  },
  {
   "cell_type": "markdown",
   "id": "right-cycling",
   "metadata": {
    "slideshow": {
     "slide_type": "slide"
    }
   },
   "source": [
    "We are searching for a fitting function\n",
    "* Get as close as possible to the data, but not too close\n",
    "* Gut feeling: The simplest model that just gets it done\n",
    "    * Linear functions, polynomials, ...\n",
    "\n",
    "Let $f_\\theta(x)$ denote our *model*, which we want to fit to our data\n",
    "* Let $\\theta=\\{w_0,w_1,\\dots\\}$ be a set of *parameters* $w_i$ that determine certain characteristics of $f$\n",
    "    * E.g. the coefficients of a polynomial\n",
    "    * We might omit explicitly stating $\\theta$ for brevity if its clear from context\n",
    "* $x\\in X$ are samples from the observed training data $X$"
   ]
  },
  {
   "cell_type": "markdown",
   "id": "bright-rolling",
   "metadata": {
    "slideshow": {
     "slide_type": "subslide"
    }
   },
   "source": [
    "# Objectives\n",
    "***\n",
    "Given $f_\\theta(x)$, a dataset $D=(X,Y)$ with\n",
    "* $X:=$ the training data, e.g. images, obtained through observation\n",
    "* $Y:=$ the corresponding labels\n",
    "\n",
    "and a function $L(f_\\theta,D)$ implementing a notion of how *closely* $f_\\theta$ approximates $D$\n",
    "\n",
    "Then, we can express our fitting problem as a minimization problem\n",
    "\n",
    "$\\hat{\\theta}=\\underset{\\theta}{argmin}\\: L(f_\\theta,D)$\n"
   ]
  },
  {
   "cell_type": "markdown",
   "id": "horizontal-council",
   "metadata": {
    "slideshow": {
     "slide_type": "subslide"
    }
   },
   "source": [
    "# Example: Linear regression\n",
    "***\n",
    "Let $f_\\theta(x)=w_0x+w_1$ be a linear function of $x$ with slope $w_0$ and y-intercept $w_1$\n",
    "\n",
    "Which notion $L$ of error/deviation/well-fitting do we want?\n",
    "* In general: Task-dependent\n",
    "* Here: Anything reasonable works\n",
    "\n",
    "Let's say we want the mean of squared differences to be minimized\\\n",
    "$\\displaystyle L_{MSE}=\\frac{1}{\\lvert D \\rvert}\\sum_{i=0}^{\\lvert D \\rvert} (f(X_i)-Y_i)^2$\n"
   ]
  },
  {
   "cell_type": "markdown",
   "id": "alike-wellington",
   "metadata": {
    "slideshow": {
     "slide_type": "subslide"
    }
   },
   "source": [
    "The idea looks like this:"
   ]
  },
  {
   "cell_type": "code",
   "execution_count": null,
   "id": "wound-silicon",
   "metadata": {
    "slideshow": {
     "slide_type": "fragment"
    }
   },
   "outputs": [],
   "source": [
    "def f_factory(w0, w1):\n",
    "    def f(x):\n",
    "        return w0*x + w1\n",
    "    return f\n",
    "\n",
    "f = f_factory(2,-10)\n",
    "y_pred = f(X)\n",
    "\n",
    "plt.plot(X, y_pred, label=\"f\")\n",
    "plt.plot(X,Y,\"*\", label=\"Data\")\n",
    "plt.legend()\n",
    "plt.show()"
   ]
  },
  {
   "cell_type": "markdown",
   "id": "identical-queue",
   "metadata": {
    "slideshow": {
     "slide_type": "fragment"
    }
   },
   "source": [
    "* `y_pred`: we call this the prediction of our model $f$ on the samples in $X$\n",
    "    * Think: $y\\_pred_i=f_\\theta(X_i)$"
   ]
  },
  {
   "cell_type": "markdown",
   "id": "powerful-favor",
   "metadata": {
    "slideshow": {
     "slide_type": "subslide"
    }
   },
   "source": [
    "Our notion of error should measure how far off $f_\\theta$ is for each sample"
   ]
  },
  {
   "cell_type": "code",
   "execution_count": null,
   "id": "communist-beach",
   "metadata": {
    "slideshow": {
     "slide_type": "fragment"
    }
   },
   "outputs": [],
   "source": [
    "fplot = plt.plot(X, y_pred, label=\"f\")\n",
    "data_plot = plt.plot(X,Y,\"*\", label=\"Data\")\n",
    "for i in range(len(X)):\n",
    "    plt.plot([X[i],X[i]],[Y[i],y_pred[i]],\"--\", \n",
    "             color=\"red\", label=\"Error\")\n",
    "plt.legend([\"f\",\"Data\",\"Error\"])\n",
    "plt.show()"
   ]
  },
  {
   "cell_type": "markdown",
   "id": "resident-sarah",
   "metadata": {
    "slideshow": {
     "slide_type": "subslide"
    }
   },
   "source": [
    "We can implement our error like this:"
   ]
  },
  {
   "cell_type": "code",
   "execution_count": null,
   "id": "behavioral-contents",
   "metadata": {
    "slideshow": {
     "slide_type": "fragment"
    }
   },
   "outputs": [],
   "source": [
    "def LMSE(Y, y_pred):\n",
    "    return ((y_pred-Y)**2).mean()\n",
    "\n",
    "y_pred = f(X)\n",
    "error_f = LMSE(Y, y_pred)\n",
    "print(\"L_MSE=\",error_f)"
   ]
  },
  {
   "cell_type": "markdown",
   "id": "reliable-scoop",
   "metadata": {
    "slideshow": {
     "slide_type": "fragment"
    }
   },
   "source": [
    "Cool, but where is the minimum?"
   ]
  },
  {
   "cell_type": "markdown",
   "id": "latest-rehabilitation",
   "metadata": {
    "slideshow": {
     "slide_type": "slide"
    }
   },
   "source": [
    "# With brute force\n",
    "***\n",
    "Remember, we are looking for those $w_0, w_1$ that minimize $L_{MSE}$.\\\n",
    "How does $L_{MSE}$ look like?\n",
    "* Let's check for several different values for $w_0, w_1$"
   ]
  },
  {
   "cell_type": "code",
   "execution_count": null,
   "id": "charitable-container",
   "metadata": {
    "scrolled": false,
    "slideshow": {
     "slide_type": "subslide"
    }
   },
   "outputs": [],
   "source": [
    "#%matplotlib notebook\n",
    "from mpl_toolkits.mplot3d import Axes3D\n",
    "def get_loss_for_model(w0, w1):\n",
    "    f = f_factory(w0, w1)\n",
    "    y_pred = f(X)\n",
    "    return LMSE(Y,y_pred)\n",
    "\n",
    "n = 50\n",
    "w0_range = np.linspace(-5,5,n)\n",
    "w1_range = np.linspace(-5,5,n)\n",
    "\n",
    "w0_grid, w1_grid = np.meshgrid(w0_range, w1_range)\n",
    "loss_grid = np.zeros((n,n),\"float32\")\n",
    "for i in range(n):\n",
    "    for j in range(n):\n",
    "        loss_grid[i,j]=get_loss_for_model(w0_grid[i,j], w1_grid[i,j])\n",
    "\n",
    "fig = plt.figure(figsize=(10,10))\n",
    "ax = fig.add_subplot(111, projection=\"3d\")\n",
    "ax.plot_surface(w0_grid, w1_grid, loss_grid, cmap=\"coolwarm\")\n",
    "ax.set_xlabel(\"w0\")\n",
    "ax.set_ylabel(\"w1\")\n",
    "ax.set_zlabel(\"LMSE\")\n",
    "plt.title(\"Loss surface linear regression model\")\n",
    "plt.show()"
   ]
  },
  {
   "cell_type": "markdown",
   "id": "variable-advertiser",
   "metadata": {
    "slideshow": {
     "slide_type": "subslide"
    }
   },
   "source": [
    "# Mathematical optimization\n",
    "***\n",
    "A research area solely dedicated to finding optimal parameters\n",
    "* There are tons of different problem classes\n",
    "    * Discrete, linear, non-linear, integer, convex ...\n",
    "        * There are multiple lectures on each of the subfields @TU BS!\n",
    "* There are even more methods to solve or approximate them\n",
    "    * Bisection, simplex, ant colony optimization, gradient descent and many more\n",
    "\n",
    "For didactic reasons: **Gradient descent**\n"
   ]
  },
  {
   "cell_type": "markdown",
   "id": "included-croatia",
   "metadata": {
    "slideshow": {
     "slide_type": "skip"
    }
   },
   "source": [
    "# Reality check\n",
    "***\n",
    "Our example is extremely simplistic\n",
    "* One-dimensional dataset (MNIST has 784)\n",
    "* Only a few samples (MNIST has 60k)\n",
    "* At most two-dimensional model & loss\n",
    "    * State-of-the-art language models have billions of parameters and training samples\n",
    "\n",
    "The restrictions are only for illustration!\n",
    "* Who wants 784 dimensional plots?\n",
    "* The methods are the same"
   ]
  },
  {
   "cell_type": "markdown",
   "id": "little-serial",
   "metadata": {
    "slideshow": {
     "slide_type": "skip"
    }
   },
   "source": [
    "# The curse of dimensionality\n",
    "***\n",
    "Let $\\lvert\\theta\\rvert$ be the number of parameters for a model\n",
    "* Let's say we want to check $n$ points for each parameter\n",
    "    * This leads to $n^{\\lvert\\theta\\rvert}$ different model parametrizations\n",
    "    * We will need to evaluate the loss $n^{\\lvert\\theta\\rvert}$ times!\n",
    "\n",
    "\n",
    "Our grid-based approach has exponential complexity!\n",
    "* In practice, you can't just plot the loss function and spot the optimum\n",
    "    * We won't know how $L$ looks like\n",
    "* A more efficient approach is needed"
   ]
  },
  {
   "cell_type": "markdown",
   "id": "continental-ticket",
   "metadata": {
    "slideshow": {
     "slide_type": "subslide"
    }
   },
   "source": [
    "# Iterative methods\n",
    "***\n",
    "The idea of iterative methods goes as follows:\n",
    "1. Initialize a first set of parameters, called $\\theta_0$\n",
    "    * Could be random or a good guess\n",
    "2. Evaluate the loss achieved with $\\theta_0$, called $L_0 = L(f_{\\theta_0},D)$\n",
    "3. Do\n",
    "    * Parameter update: $\\theta_{k+1}\\leftarrow SEARCH(\\theta_k)$\n",
    "    * Loss update: $L_{k+1} = L(f_{\\theta_k+1},D)$\n",
    "4. Until $L_k\\approx L_{k+1}$ (Or any other convergence or stopping criterion) "
   ]
  },
  {
   "cell_type": "markdown",
   "id": "alien-undergraduate",
   "metadata": {
    "slideshow": {
     "slide_type": "subslide"
    }
   },
   "source": [
    "# Gradient descent\n",
    "***\n",
    "Local search based on derivatives of the loss function w.r.t. to the parameters\n",
    "\n",
    "$\\frac{dL}{d\\theta}$ expresses how changing $\\theta$ affects the value of $L$\n",
    "* If $\\frac{dL}{d\\theta}<0$, then there exists a $h$ with\n",
    "    * $L(f_{\\theta-h},D)<L(f_{\\theta},D)$\\\n",
    "    (Follows from the fundamental theorem of calculus)\n",
    "\n",
    "If the derivative is negative, there is at least one step $h$ that we can take to obtain a smaller $L$!\n",
    "* If it is positive, the same is true for $-\\frac{dL}{d\\theta}$"
   ]
  },
  {
   "cell_type": "markdown",
   "id": "recorded-needle",
   "metadata": {
    "slideshow": {
     "slide_type": "subslide"
    }
   },
   "source": [
    "# Gradient descent: Sketch\n",
    "***\n",
    "The iterative method would look like this:\n",
    "\n",
    "3. At iteration $k$, do\n",
    "    * Compute gradient $\\nabla L(\\theta_k)=\\frac{dL({f_{\\theta}},D)}{d\\theta}(\\theta_k)$\n",
    "        * Now, we know about the slope of $L$ at $\\theta_k$\n",
    "    * Update $\\theta_{k+1}\\leftarrow\\theta_k-h*\\nabla L(\\theta_k)$\n",
    "\n"
   ]
  },
  {
   "cell_type": "markdown",
   "id": "irish-grace",
   "metadata": {
    "slideshow": {
     "slide_type": "slide"
    }
   },
   "source": [
    "# What the $h$?\n",
    "***\n",
    "Finding an exact $h$ is not trivial for arbitrary functions\n",
    "* It's simple for certain functions, e.g. convex losses\n",
    "    * But not for non-convex and non-linear ones\n",
    "\n",
    "* In practice, somewhat crude heuristics are used for $h$\n",
    "    * E.g. just using a *small enough* factor that *will probably not break anything*\n",
    "        * Usually called the **learning rate**\n",
    "\n",
    "Let's make an example in the following slides"
   ]
  },
  {
   "cell_type": "markdown",
   "id": "connected-handle",
   "metadata": {
    "slideshow": {
     "slide_type": "slide"
    }
   },
   "source": [
    "# Gradient descent applied\n",
    "***\n",
    "For a short while, lets fix $w_1=0$, given $f(x)=w_0x + w_1$\n",
    "* This reduces the dimensionality of our minimization problem\n",
    "    * There is now only one parameter to tune (and to plot)"
   ]
  },
  {
   "cell_type": "code",
   "execution_count": null,
   "id": "imported-basketball",
   "metadata": {
    "slideshow": {
     "slide_type": "fragment"
    }
   },
   "outputs": [],
   "source": [
    "%matplotlib inline\n",
    "n = 50\n",
    "w0_range = np.linspace(-5,5,n)\n",
    "w1 = 0\n",
    "\n",
    "losses = np.zeros(n, \"float32\")\n",
    "for i in range(n):\n",
    "    losses[i]=get_loss_for_model(w0_range[i], w1)\n",
    "\n",
    "plt.plot(w0_range, losses, label=\"Loss\")\n",
    "plt.plot(w0_range[1], losses[1], \".\", ms=10, label=\"You are here\")\n",
    "plt.xlabel(\"$w_0$\")\n",
    "plt.ylabel(\"LMSE\")\n",
    "plt.legend()\n",
    "plt.title(f\"Loss surface linear regression model ($w_1={w1}$)\")\n",
    "plt.show()"
   ]
  },
  {
   "cell_type": "markdown",
   "id": "liked-equality",
   "metadata": {
    "slideshow": {
     "slide_type": "subslide"
    }
   },
   "source": [
    "# The loss gradient\n",
    "***\n",
    "The derivative for $L_{MSE}$ is pretty simple:\\\n",
    "$\\displaystyle\\frac{dL_{MSE}}{dw_0}= \\frac{d}{dw_0}\\frac{1}{\\lvert D \\rvert}\\sum_{i=0}^{\\lvert D \\rvert}  (f_{w_0}(X_i)-Y_i)^2$\n",
    "\n",
    "$f$ is the only term depending on $w_0$:\\\n",
    "$\\displaystyle\\frac{dL_{MSE}}{dw_0}= \\frac{1}{\\lvert D \\rvert}\\sum_{i=0}^{\\lvert D \\rvert} 2(f_{w_0}(X_i)-Y_i) \\frac{df}{dw_0}$\n",
    "\n",
    "Remember: $f_{w_0}(x)=w_0*x$, since we fixed $w_1=0$. So $\\frac{df}{dw_0}=x$ and\\\n",
    "$\\displaystyle\\frac{dL_{MSE}}{dw_0}= \\frac{1}{\\lvert D \\rvert}\\sum_{i=0}^{\\lvert D \\rvert} 2X_i(f_{w_0}(X_i)-Y_i)$\n"
   ]
  },
  {
   "cell_type": "markdown",
   "id": "white-bulgaria",
   "metadata": {
    "slideshow": {
     "slide_type": "slide"
    }
   },
   "source": [
    "# The loss gradient visualized\n",
    "***\n",
    "We can directly implement the gradient and plot it:"
   ]
  },
  {
   "cell_type": "code",
   "execution_count": null,
   "id": "labeled-cuisine",
   "metadata": {
    "scrolled": true,
    "slideshow": {
     "slide_type": "fragment"
    }
   },
   "outputs": [],
   "source": [
    "def LMSE_grad_w0(w0, w1, X, Y):\n",
    "    f = f_factory(w0, w1)\n",
    "    return (2*X*(f(X)-Y)).mean()\n",
    "\n",
    "grads_w0 = np.array([LMSE_grad_w0(w0, w1, X, Y) for w0 in w0_range])\n",
    "\n",
    "plt.plot(w0_range, losses, label=\"Loss\")\n",
    "plt.plot(w0_range[3], losses[3], \".\", ms=10, label=\"You are here\")\n",
    "plt.plot(w0_range, grads_w0, label=\"Loss grad $w_0$\")\n",
    "plt.xlabel(\"$w_0$\")\n",
    "plt.ylabel(\"LMSE\")\n",
    "plt.legend()\n",
    "plt.title(f\"Loss surface linear regression model ($w_1={w1}$)\")\n",
    "plt.show()"
   ]
  },
  {
   "cell_type": "code",
   "execution_count": null,
   "id": "heard-finnish",
   "metadata": {
    "scrolled": false,
    "slideshow": {
     "slide_type": "slide"
    }
   },
   "outputs": [],
   "source": [
    "w0 = -5\n",
    "w1 = 0\n",
    "h = 0.001 # aka the learning rate!\n",
    "steps = 10\n",
    "w_h = np.zeros(steps,\"float32\") # history over steps\n",
    "grad_h = np.zeros(steps,\"float32\")\n",
    "loss_h = np.zeros(steps, \"float32\")\n",
    "\n",
    "for i in range(steps):\n",
    "    grad = LMSE_grad_w0(w0, w1, X, Y)\n",
    "    loss = get_loss_for_model(w0, w1) # loss update\n",
    "    w_h[i] = w0; grad_h[i] = grad; loss_h[i] = loss\n",
    "\n",
    "    w0 = w0 - h * grad # parameter update\n",
    "    # w0 = w0 - np.clip(h*grad, -0.1,0.1)\n",
    "\n",
    "plt.figure(figsize=(10,10))\n",
    "plt.plot(w0_range, losses, label=\"Loss\")\n",
    "plt.plot(w_h, loss_h,\"--\", marker=\"*\", label=\"Gradient steps\")\n",
    "plt.legend()\n",
    "plt.xlabel(\"$w_0$\")\n",
    "plt.ylabel(\"$L_{MSE}$\")\n",
    "plt.show()"
   ]
  },
  {
   "cell_type": "markdown",
   "id": "medical-shore",
   "metadata": {
    "slideshow": {
     "slide_type": "subslide"
    }
   },
   "source": [
    "# Visualizing the model\n",
    "***\n",
    "Here is the last model we found:"
   ]
  },
  {
   "cell_type": "code",
   "execution_count": null,
   "id": "soviet-second",
   "metadata": {
    "slideshow": {
     "slide_type": "fragment"
    }
   },
   "outputs": [],
   "source": [
    "plt.figure(figsize=(6,6))\n",
    "f_final = f_factory(w0, w1)\n",
    "y_pred = f_final(X)\n",
    "final_err = LMSE(Y, y_pred)\n",
    "plt.plot(X, y_pred, label=\"Our model\")\n",
    "plt.plot(X,Y,\"*\", label=\"Data\", color=\"orange\")\n",
    "plt.title(f\"Model error: {final_err:.3f}\")\n",
    "plt.legend()\n",
    "plt.show()"
   ]
  },
  {
   "cell_type": "markdown",
   "id": "comic-football",
   "metadata": {
    "slideshow": {
     "slide_type": "slide"
    }
   },
   "source": [
    "# Congratulations!\n",
    "***\n",
    "You just trained a neural network using gradient descent!\n",
    "\n",
    "**See you all next week :)**"
   ]
  },
  {
   "cell_type": "markdown",
   "id": "treated-merchandise",
   "metadata": {
    "slideshow": {
     "slide_type": "fragment"
    }
   },
   "source": [
    "Joke.\n",
    "\n",
    "It is the simplest possible network with trivial training data!\n",
    "* The model is linear and there are even direct solutions to find the optimal $\\theta$\n",
    "\n",
    "We'll get to the real stuff in just a bit"
   ]
  },
  {
   "cell_type": "markdown",
   "id": "excited-cathedral",
   "metadata": {
    "slideshow": {
     "slide_type": "slide"
    }
   },
   "source": [
    "# Higher dimensions\n",
    "***\n",
    "Let's try to add back our second parameter $w_1$ which we fixed to $0$ in the previous examples\n",
    "\n",
    "Remember the method:\n",
    "* Compute gradient $\\nabla L(\\theta_k)=\\frac{dL({f_{\\theta}},D)}{d\\theta}(\\theta_k)$\n",
    "* Update $\\theta_{k+1}\\leftarrow\\theta_k-h*\\nabla L(\\theta_k)$\n",
    "\n",
    "All we need is the partial derivative $\\displaystyle\\frac{dL_{MSE}}{dw_1}$"
   ]
  },
  {
   "cell_type": "markdown",
   "id": "wrapped-tokyo",
   "metadata": {
    "slideshow": {
     "slide_type": "subslide"
    }
   },
   "source": [
    "# The loss gradient for $w_1$\n",
    "***\n",
    "It is even simpler this time:\\\n",
    "$\\displaystyle\\frac{dL_{MSE}}{dw_1}= \\frac{1}{\\lvert D \\rvert}\\sum_{i=0}^{\\lvert D \\rvert} \\frac{df}{dw_1}2(f_{\\theta}(X_i)-Y_i) $\n",
    "\n",
    "Remember: $f_{\\theta}(x)=w_0*x+w_1$. So $\\frac{df}{dw_1}=1$ and\\\n",
    "$\\displaystyle\\frac{dL_{MSE}}{dw_1}= \\frac{1}{\\lvert D \\rvert}\\sum_{i=0}^{\\lvert D \\rvert} 2*(f_{\\theta}(X_i)-Y_i)$\n"
   ]
  },
  {
   "cell_type": "code",
   "execution_count": null,
   "id": "instrumental-senate",
   "metadata": {
    "slideshow": {
     "slide_type": "fragment"
    }
   },
   "outputs": [],
   "source": [
    "def LMSE_grad_w1(w0, w1, X, Y):\n",
    "    f = f_factory(w0, w1)\n",
    "    return (2*(f(X)-Y)).mean()"
   ]
  },
  {
   "cell_type": "code",
   "execution_count": null,
   "id": "yellow-coordinate",
   "metadata": {
    "scrolled": false,
    "slideshow": {
     "slide_type": "slide"
    }
   },
   "outputs": [],
   "source": [
    "# %matplotlib notebook\n",
    "w0 = -5\n",
    "w1 = -4\n",
    "lr = 0.001\n",
    "steps = 10\n",
    "w0_h, w1_h, loss_h, grad_w1_h, grad_w0_h = \\\n",
    "    [np.zeros(steps,\"float32\") for i in range(5)]\n",
    "\n",
    "for i in range(steps):\n",
    "    grad_w0 = LMSE_grad_w0(w0, w1, X, Y)\n",
    "    grad_w1 = LMSE_grad_w1(w0, w1, X, Y)\n",
    "    loss = get_loss_for_model(w0, w1) # loss update\n",
    "    w0_h[i] = w0; w1_h[i] = w1; loss_h[i] = loss\n",
    "    grad_w1_h[i] = grad_w1; grad_w0_h[i] = grad_w0\n",
    "\n",
    "    w0 = w0 - lr * grad_w0\n",
    "    w1 = w1 - lr * grad_w1\n",
    "    \n",
    "fig = plt.figure(figsize=(10,10))\n",
    "ax = fig.add_subplot(111, projection=\"3d\")\n",
    "ax.plot(w0_h, w1_h, loss_h, marker=\"*\", color=\"red\")\n",
    "ax.plot_surface(w0_grid, w1_grid, loss_grid, cmap=\"coolwarm\", \n",
    "                alpha=0.7)\n",
    "ax.set_xlabel(\"w0\")\n",
    "ax.set_ylabel(\"w1\")\n",
    "ax.set_zlabel(\"LMSE\")\n",
    "plt.title(f\"Last error: {loss_h[-1]:.3f}\")\n",
    "plt.show()"
   ]
  },
  {
   "cell_type": "markdown",
   "id": "successful-virus",
   "metadata": {
    "slideshow": {
     "slide_type": "slide"
    }
   },
   "source": [
    "# Why isn't $w_1$ changing that much?\n",
    "***\n",
    "Take a look at the gradient histories$:"
   ]
  },
  {
   "cell_type": "code",
   "execution_count": null,
   "id": "shaped-snapshot",
   "metadata": {
    "scrolled": true,
    "slideshow": {
     "slide_type": "fragment"
    }
   },
   "outputs": [],
   "source": [
    "plt.plot(grad_w0_h, label=\"Gradient for $w_0$\")\n",
    "plt.plot(grad_w1_h, label=\"Gradient for $w_1$\")\n",
    "plt.xlabel(\"Iteration\")\n",
    "plt.legend()\n",
    "plt.show()"
   ]
  },
  {
   "cell_type": "markdown",
   "id": "endangered-doctrine",
   "metadata": {
    "slideshow": {
     "slide_type": "fragment"
    }
   },
   "source": [
    "In our implementation, the changes to the $w_i$ are directly proportional to the gradients\n",
    "* There are several options to fix that\n",
    "    * E.g. have a minimum step size\\\n",
    "Can you come up with a solution?"
   ]
  },
  {
   "cell_type": "markdown",
   "id": "thorough-gateway",
   "metadata": {
    "slideshow": {
     "slide_type": "slide"
    }
   },
   "source": [
    "# Leaving convex world\n",
    "***\n",
    "Our $L_{MSE}$ is a convex function\n",
    "* Each local optimium is also a global optimum\n",
    "\n",
    "What happens if we try to find the minimum of a non-linear function?"
   ]
  },
  {
   "cell_type": "code",
   "execution_count": null,
   "id": "voluntary-transition",
   "metadata": {
    "scrolled": true,
    "slideshow": {
     "slide_type": "fragment"
    }
   },
   "outputs": [],
   "source": [
    "def rastrigin_1d(x):\n",
    "    return 10+x**2 - 10*np.cos(2*np.pi*x)\n",
    "def rastrigin_1d_grad(x):\n",
    "    return 2*(x+10*np.pi*np.sin(2*np.pi*x))\n",
    "\n",
    "w0_range = np.linspace(-10,10,1000)\n",
    "rastr = rastrigin_1d(w0_range)\n",
    "plt.plot(w0_range, rastr)\n",
    "plt.title(\"Rastrigin 1D\")\n",
    "plt.show()"
   ]
  },
  {
   "cell_type": "code",
   "execution_count": null,
   "id": "funded-orange",
   "metadata": {
    "scrolled": false,
    "slideshow": {
     "slide_type": "subslide"
    }
   },
   "outputs": [],
   "source": [
    "w0 = -7.6\n",
    "lr = 0.001 # try 0.0115\n",
    "steps = 100\n",
    "w_h = np.zeros(steps,\"float32\") # history over steps\n",
    "grad_h = np.zeros(steps,\"float32\")\n",
    "loss_h = np.zeros(steps, \"float32\")\n",
    "\n",
    "for i in range(steps):\n",
    "    grad = rastrigin_1d_grad(w0)\n",
    "    loss = rastrigin_1d(w0)\n",
    "    w_h[i] = w0; grad_h[i] = grad; loss_h[i] = loss\n",
    "\n",
    "    w0 = w0 - lr * grad # parameter update\n",
    "    #w0 = w0 - np.clip(h*grad, -0.3,0.3)\n",
    "\n",
    "plt.figure(figsize=(10,10))\n",
    "plt.plot(w0_range, rastr, label=\"Rastrigin 1D\")\n",
    "plt.plot(w_h, loss_h,\"--\", marker=\"*\", label=\"Gradient steps\")\n",
    "plt.legend()\n",
    "plt.xlabel(\"$w_0$\")\n",
    "plt.ylabel(\"y\")\n",
    "plt.show()\n",
    "plt.plot(loss_h)\n",
    "plt.title(\"Loss history\"); \n",
    "plt.xlabel(\"Iteration\")\n",
    "plt.show()"
   ]
  },
  {
   "cell_type": "markdown",
   "id": "finite-happiness",
   "metadata": {
    "slideshow": {
     "slide_type": "subslide"
    }
   },
   "source": [
    "# Summing up\n",
    "***\n",
    "Vanilla gradient descent gets stuck in local optima\n",
    "* Many extensions exist to *mitigate* this\n",
    "    * The **learning rate** controls the step size of the method\n",
    "    * But still, it remains a **heuristic** for non-convex functions\n",
    "\n",
    "On the plus side\n",
    "* It can be applied to any differentiable function\n",
    "    * With arbitrary dimensionality\n",
    "        * We can fit any differentiable model!\n",
    "* It requires few function evaluations\n",
    "    * In our context, that means few runs over the dataset!\n",
    "        * Very important property, since datasets tend to become rather large"
   ]
  },
  {
   "cell_type": "markdown",
   "id": "white-portable",
   "metadata": {
    "slideshow": {
     "slide_type": "slide"
    }
   },
   "source": [
    "# 10 Minute break\n",
    "***\n",
    "...and then finally we'll talk about neural networks"
   ]
  },
  {
   "cell_type": "markdown",
   "id": "fantastic-affect",
   "metadata": {
    "slideshow": {
     "slide_type": "slide"
    }
   },
   "source": [
    "# Towards artificial neural networks\n",
    "***\n",
    "So far, we learned about\n",
    "* Linear regression: Fitting a linear model to a set of data points\n",
    "* Loss functions: A notion of how close a model fits our data\n",
    "* Gradient descent: A method to find (local) optima\n",
    "    * We applied this to find better suited parameters for our linear model\n",
    "\n",
    "These topics weren't chosen randomly, since they prepared you for artificial neural networks:\n",
    "* Linear regression is a very special case of neural network\n",
    "    * A single layer, a single neuron and linear activation function\n",
    "* Loss functions and gradient descent are the standard method to train deep nets\n",
    "    * Backpropagation is just a method to efficiently obtain the gradients we talked about earlier\n"
   ]
  },
  {
   "cell_type": "markdown",
   "id": "brave-egyptian",
   "metadata": {
    "slideshow": {
     "slide_type": "subslide"
    }
   },
   "source": [
    "# Biological neurons\n",
    "***\n",
    "<img src=\"https://upload.wikimedia.org/wikipedia/commons/3/36/Components_of_neuron.jpg\" style=\"width: 50%;\">"
   ]
  },
  {
   "cell_type": "markdown",
   "id": "daily-interpretation",
   "metadata": {
    "slideshow": {
     "slide_type": "subslide"
    }
   },
   "source": [
    "# A simplified biological model\n",
    "***\n",
    "A biological neuron could be broken down to\n",
    "* Dendrites, which receive incoming signals from other neurons\n",
    "    * There is also some sort of *synaptic strength* that weighs the connections\n",
    "* A cell body (soma), where all incoming signals are accumulated\n",
    "    * If some *excitation threshold* is reached, the neuron *fires a signal*\n",
    "* Axons, which pass outgoing signals to the dendrites of other neurons\n"
   ]
  },
  {
   "cell_type": "markdown",
   "id": "systematic-caribbean",
   "metadata": {
    "slideshow": {
     "slide_type": "subslide"
    }
   },
   "source": [
    "# A simplified artificial model\n",
    "***\n",
    "We need to:\n",
    "1. Gather all inputs to a neuron\n",
    "2. Attach a weight associated to each input\n",
    "3. Accumulate all inputs, i.e. sum them up\n",
    "4. Compute the excitation strength\n",
    "5. Set our own output signal"
   ]
  },
  {
   "cell_type": "code",
   "execution_count": null,
   "id": "crucial-qualification",
   "metadata": {
    "slideshow": {
     "slide_type": "skip"
    }
   },
   "outputs": [],
   "source": [
    "x_least, err, rank, s = np.linalg.lstsq(X.reshape(-1,1),Y.reshape(-1,1), rcond=-1)\n",
    "x_least = x_least.squeeze()\n",
    "plt.plot(X*x_least, label=f\"x={x_least:.3f}\")\n",
    "plt.plot(X,Y,\"*\", label=\"Data\")\n",
    "plt.legend()\n",
    "plt.show()"
   ]
  },
  {
   "cell_type": "code",
   "execution_count": null,
   "id": "injured-fortune",
   "metadata": {},
   "outputs": [],
   "source": [
    "plt.plot(X,D,\"-\", label=\"Perfect fit\")\n",
    "plt.plot(X,D,\"*\", label=\"Data\")\n",
    "plt.legend()\n",
    "plt.show()"
   ]
  },
  {
   "cell_type": "markdown",
   "id": "vertical-tuner",
   "metadata": {
    "slideshow": {
     "slide_type": "slide"
    }
   },
   "source": [
    "* Neural networks are a regression method\n",
    "    * Why layers? --> reductionism perspective, abstractions, generalization, etc\n",
    "    * Backprop?, Autodiff, chain rule\n",
    "\n",
    "    $argmin_{\\theta}(C(X) - Y)^2$\n",
    "    "
   ]
  },
  {
   "cell_type": "code",
   "execution_count": null,
   "id": "inner-calibration",
   "metadata": {},
   "outputs": [],
   "source": [
    "import numpy as np\n",
    "from tensorflow.keras.layers import (\n",
    "    Dense, Input, Dropout    \n",
    ")\n",
    "import tensorflow as tf\n",
    "from tensorflow.keras.models import Model\n",
    "from tensorflow.keras.losses import Huber\n",
    "from tensorflow import keras\n",
    "\n",
    "import gym"
   ]
  },
  {
   "cell_type": "code",
   "execution_count": null,
   "id": "complex-player",
   "metadata": {},
   "outputs": [],
   "source": [
    "def episode(env, model, render=False, max_steps=None):\n",
    "    states = []\n",
    "    action_probs = []\n",
    "    est_rewards = []\n",
    "    rewards = []\n",
    "\n",
    "    state = env.reset()\n",
    "    i = 0\n",
    "    while i < (j := max_steps if max_steps is not None else np.inf):\n",
    "        if render: \n",
    "            env.render()\n",
    "        state = tf.convert_to_tensor(state)\n",
    "        state = tf.expand_dims(state, 0)\n",
    "        states.append(state)\n",
    "\n",
    "        a_p, e_w = model(state)\n",
    "        action = np.random.choice(env.action_space.n, p=np.squeeze(a_p))\n",
    "        state, reward, done, info = env.step(action)\n",
    "\n",
    "        action_probs.append(a_p[0, action])\n",
    "        est_rewards.append(e_w[0,0])\n",
    "        rewards.append(reward)\n",
    "\n",
    "        i += 1\n",
    "        if done:\n",
    "            break\n",
    "    env.close()\n",
    "    return states, rewards, action_probs, est_rewards"
   ]
  },
  {
   "cell_type": "code",
   "execution_count": null,
   "id": "false-yesterday",
   "metadata": {},
   "outputs": [],
   "source": [
    "epochs = 1000\n",
    "gamma = 0.9\n",
    "train_max_steps = 200\n",
    "validation_every = 5\n",
    "validation_episodes = 5\n",
    "validation_max_steps = 200\n",
    "env = gym.make('CartPole-v0').unwrapped\n",
    "#env = gym.make('MountainCar-v0').unwrapped\n",
    "\n",
    "critic_loss_func = keras.losses.Huber()\n",
    "\n",
    "input_layer = Input(env.observation_space.shape)\n",
    "l = Dense(128, \"relu\")(input_layer)\n",
    "l = Dense(64, \"relu\")(l)\n",
    "actor = Dense(env.action_space.n, \"softmax\", name=\"actor\")(l)\n",
    "critic = Dense(1, name=\"critic\")(l)\n",
    "model = Model(input_layer, [actor, critic])\n",
    "\n",
    "model.summary()\n",
    "opt = keras.optimizers.Adam(lr=0.01)\n",
    "reward_history = []"
   ]
  },
  {
   "cell_type": "code",
   "execution_count": null,
   "id": "opened-founder",
   "metadata": {},
   "outputs": [],
   "source": [
    "for epoch in range(epochs):\n",
    "\n",
    "    with tf.GradientTape() as tape:\n",
    "        states, rewards, action_probs, est_rewards = episode(env, model, False, train_max_steps)\n",
    "        reward_history.append(sum(rewards))\n",
    "\n",
    "        returns = []\n",
    "        discounted_sum = 0\n",
    "        for r in rewards[::-1]:\n",
    "            discounted_sum = r + gamma * discounted_sum\n",
    "            returns.insert(0, discounted_sum)\n",
    "        returns = np.array(returns)\n",
    "        returns = (returns - returns.mean()) / returns.std()\n",
    "\n",
    "        critic_labels = tf.convert_to_tensor(returns, \"float32\")\n",
    "\n",
    "        # critic_loss = critic_loss_func(est_rewards, critic_labels)\n",
    "        cl = []\n",
    "        for f,g in zip(est_rewards, critic_labels):\n",
    "            cl.append(critic_loss_func(tf.expand_dims(f,0), tf.expand_dims(g,0)))\n",
    "        critic_loss = sum(cl)\n",
    "\n",
    "        al = -tf.math.log(action_probs) * (critic_labels - est_rewards)\n",
    "        actor_loss = sum(al)\n",
    "        loss = actor_loss + critic_loss\n",
    "\n",
    "        gradients = tape.gradient(loss, model.trainable_weights)\n",
    "        opt.apply_gradients(zip(gradients, model.trainable_weights))\n",
    "\n",
    "    if epoch % validation_every == 0:\n",
    "        val_rewards = []\n",
    "        for val_e in range(validation_episodes):\n",
    "            states, rewards, action_probs, est_rewards = episode(env, model, False, validation_max_steps)\n",
    "            val_rewards.append(sum(rewards))\n",
    "        val_rewards = np.array(val_rewards)\n",
    "        print(f\"Epoch {epoch}/{epochs}\",np.mean(reward_history),  val_rewards.min(), val_rewards.max(), val_rewards.mean())\n",
    "        reward_history.clear()\n",
    "        #episode(env, model, True, validation_max_steps)\n",
    "        pass"
   ]
  },
  {
   "cell_type": "code",
   "execution_count": null,
   "id": "gentle-management",
   "metadata": {},
   "outputs": [],
   "source": []
  }
 ],
 "metadata": {
  "celltoolbar": "Slideshow",
  "kernelspec": {
   "display_name": "Python 3",
   "language": "python",
   "name": "python3"
  },
  "language_info": {
   "codemirror_mode": {
    "name": "ipython",
    "version": 3
   },
   "file_extension": ".py",
   "mimetype": "text/x-python",
   "name": "python",
   "nbconvert_exporter": "python",
   "pygments_lexer": "ipython3",
   "version": "3.8.3"
  },
  "rise": {
   "auto_select": "none",
   "enable_chalkboard": true,
   "overlay": "<div class='myheader'><img src='img/ai_camp.png' class='ifis_small'></div><div class='ifis_large'><img src='img/ifis_large.png'></div>",
   "scroll": true,
   "start_slideshow_at": "selected"
  }
 },
 "nbformat": 4,
 "nbformat_minor": 5
}
