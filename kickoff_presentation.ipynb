{
 "cells": [
  {
   "cell_type": "markdown",
   "id": "cleared-friday",
   "metadata": {
    "slideshow": {
     "slide_type": "notes"
    }
   },
   "source": [
    "# TODO\n",
    "* Leitfaden zur Reproduzierung der Slides und Code für\n",
    "    * Just Code\n",
    "        Remote: CPU/GPU: Colab\n",
    "        Remote: CPU only: Blender\n",
    "        Local: Clone Repo and follow instructions\n",
    "    * Code with slides:\n",
    "        Remote: CPU only: Blender\n",
    "        Local CPU/GPU: Clone repo and follow instructions\n",
    "* Better CSS for IFIS style slides\n",
    "    * Have H1 headings on top of screen\n",
    "    * Have horizontal lines above and below H1 headings\n",
    "    * Have Content starting at fixed height\n",
    "    * Add a footer with author name and Institute\n",
    "    * Swap in our logo\n",
    "* Add docker container for repo\n",
    "    * with nvidia docker\n",
    "* We need a  leaderboard solution for our challenges\n",
    "    * check out kaggle. We need custom scoring functions and private challenges\n",
    "* We need a doodle for weekly date finding\n"
   ]
  },
  {
   "cell_type": "markdown",
   "id": "legal-macro",
   "metadata": {
    "slideshow": {
     "slide_type": "slide"
    }
   },
   "source": [
    "\n",
    "# AI Camp 2020 Kickoff"
   ]
  },
  {
   "cell_type": "markdown",
   "id": "expensive-assembly",
   "metadata": {
    "slideshow": {
     "slide_type": "subslide"
    }
   },
   "source": [
    "# Agenda\n",
    "1. What to expect\n",
    "2. Timeline\n",
    "3. How we code\n",
    "    * Jupyter Notebooks\n",
    "    * Google Colab\n",
    "4. Lecture 1: Python + Keras\n",
    "5. Challenge 1: Minimal MNIST"
   ]
  },
  {
   "cell_type": "markdown",
   "id": "thrown-slide",
   "metadata": {
    "slideshow": {
     "slide_type": "slide"
    }
   },
   "source": [
    "# What to expect"
   ]
  },
  {
   "cell_type": "markdown",
   "id": "responsible-filter",
   "metadata": {
    "slideshow": {
     "slide_type": "slide"
    }
   },
   "source": [
    "# Timeline\n",
    "- **KW 16**: (20.04) Kickoff, Intro lecture, Minimal MNIST Competition\n",
    "    - KW 17: Q&A, optional\n",
    "- **KW 18**: Reinforcement Learning, Pole Cart Competition\n",
    "    - KW 19: Q&A, optional\n",
    "- **KW 20**: Guest lecture: Proc. Kacprowski (Data Science for Biomedicine), **TBD COMP**\n",
    "    - KW 21: Q&A, optional\n",
    "- **KW 22**: Comp Recap, NLP Lecture, Sentiment Analysis Competition\n",
    "    - KW 23: Q&A, optional\n",
    "- **KW 24: Presentation & selection of our grand competition**\n",
    "    - KW 25 to 28: Working on our competition\n",
    "- **KW 29: AI Camp wrap up, presenting the results**"
   ]
  },
  {
   "cell_type": "markdown",
   "id": "prospective-buffalo",
   "metadata": {
    "slideshow": {
     "slide_type": "subslide"
    }
   },
   "source": [
    "# Regular date\n",
    "We need day + time for our meetings"
   ]
  },
  {
   "cell_type": "markdown",
   "id": "improved-albert",
   "metadata": {
    "slideshow": {
     "slide_type": "slide"
    }
   },
   "source": [
    "# Organizational\n",
    " - Lectures & Examples in Python\n",
    "     - Frameworks: Tensorflow, Pytorch, sklearn, etc.\n",
    " - Slides & Code in <a href=\"https://jupyter.org/\">Jupyter Notebooks</a>\n",
    " - Everything is located in Niklas' <a href=\"https://github.com/nikrruun/jupyter-notebooks/tree/aicamp2020\">GitHub Repo</a>\n",
    "     - Branch \"aicamp2020\""
   ]
  },
  {
   "cell_type": "markdown",
   "id": "wound-hammer",
   "metadata": {
    "slideshow": {
     "slide_type": "subslide"
    }
   },
   "source": [
    "# Why Jupyter Notebooks?\n",
    "We want to present math and code for AI models\n",
    "> We have PowerPoint for this!\n",
    "\n",
    "But wouldn't it be nice, if we also could\n",
    "- Actually run the code during presentation\n",
    "- Interact with it and observe changes\n",
    "- Easily share it and ship to remote hardware\n",
    "   \n"
   ]
  },
  {
   "cell_type": "markdown",
   "id": "freelance-sunrise",
   "metadata": {
    "slideshow": {
     "slide_type": "subslide"
    }
   },
   "source": [
    "# You're in a simulation\n",
    "This presentation is just code + markdown: "
   ]
  },
  {
   "cell_type": "code",
   "execution_count": 22,
   "id": "abandoned-oasis",
   "metadata": {
    "slideshow": {
     "slide_type": "fragment"
    }
   },
   "outputs": [
    {
     "name": "stdout",
     "output_type": "stream",
     "text": [
      "2^0 = 1\n",
      "2^1 = 2\n"
     ]
    }
   ],
   "source": [
    "import time\n",
    "for i in range(2):\n",
    "    print(f\"2^{i} =\", 2**i)\n",
    "    time.sleep(1)"
   ]
  },
  {
   "cell_type": "markdown",
   "id": "defensive-citizen",
   "metadata": {
    "slideshow": {
     "slide_type": "fragment"
    }
   },
   "source": [
    "And it's also interactive!"
   ]
  },
  {
   "cell_type": "markdown",
   "id": "therapeutic-possibility",
   "metadata": {
    "slideshow": {
     "slide_type": "slide"
    }
   },
   "source": [
    "# Features \n",
    "* Inline Latex support: $e^yx_k\\sum_{i=1}{2^{-i}}$\n",
    "* Text narratives via markdown (essentially a readme.md)\n",
    "* Usually, a notebook is a list of sequential code or text cells\n",
    "    - But, with some effort it automatically translates into a slideshow\n",
    "* Run a copy on <a href=\"https://colab.research.google.com\">Google Colab</a> in < 1 minute\n",
    "    "
   ]
  },
  {
   "cell_type": "markdown",
   "id": "incident-detective",
   "metadata": {
    "slideshow": {
     "slide_type": "subslide"
    }
   },
   "source": [
    "# Google Colab walkthrough\n",
    "1. Open the link <a href=\"https://colab.research.google.com\">Google Colab</a>\n",
    "2. Sign up & in, and open a new notebook\n",
    "3. Go to tab \"GitHub\" and search for user \"nikrruun\". Choose as shown below:\n",
    "<img src=\"img/slides/colab_github_menu.png\">"
   ]
  },
  {
   "cell_type": "markdown",
   "id": "elegant-yemen",
   "metadata": {
    "slideshow": {
     "slide_type": "subslide"
    }
   },
   "source": [
    "# Google Colab (2)\n",
    "4. Click on \"<i>kickoff_presentation.ipynb</i>\"\n",
    "    - Generally, Google Colab filters out all available notebooks from a given repository\n",
    "5. Use the \"Content\" Navigation (on the left) or scroll down until you see this cell\n",
    "6. Check if you can run this code cell:"
   ]
  },
  {
   "cell_type": "code",
   "execution_count": 20,
   "id": "loving-acquisition",
   "metadata": {
    "slideshow": {
     "slide_type": "fragment"
    }
   },
   "outputs": [
    {
     "name": "stdout",
     "output_type": "stream",
     "text": [
      "Hello World\n"
     ]
    }
   ],
   "source": [
    "data = [72, 101, 108, 108, 111, 32, 87, 111, 114, 108, 100]\n",
    "print(\"\".join([chr(x) for x in data]))"
   ]
  },
  {
   "cell_type": "markdown",
   "id": "liked-conditions",
   "metadata": {
    "slideshow": {
     "slide_type": "slide"
    }
   },
   "source": [
    "# Lecture 1: Python & Keras\n",
    "Python is the current standard for ML and Data Science frameworks:\n",
    "* Forced indentation\n",
    "* Interpreted, not compiled\n",
    "* Extremely slow"
   ]
  },
  {
   "cell_type": "markdown",
   "id": "prime-psychology",
   "metadata": {
    "slideshow": {
     "slide_type": "slide"
    }
   },
   "source": [
    "# So, why *python*?\n",
    "It is possible to expose C/C++/CUDA code to python\n",
    "* Tons of highly optimized frameworks and libraries exist\n",
    "    * numpy, tensorflow, pytorch, pycuda ...\n",
    "* Performance still not perfect, but close\n",
    "* Interpreted code allows for interactive and explorative programming!"
   ]
  },
  {
   "cell_type": "markdown",
   "id": "corresponding-longer",
   "metadata": {
    "slideshow": {
     "slide_type": "slide"
    }
   },
   "source": [
    "# Important libraries\n",
    "There are a couple of standard tools often used for Data Science in python:\n",
    "* **numpy**: for fast math and array operations on CPU\n",
    "* **sklearn**: framework for machine learning pipelines\n",
    "* **pandas**: data analysis and manipulation framework\n",
    "* **tensorflow, keras**: Deep learning with gpu support\n",
    "* **matplotlib**: Data visualization\n",
    "\n",
    "On your own machine, you will have to manually install them (pip)\n",
    "* Google Colab comes with all of those pre-installed!"
   ]
  },
  {
   "cell_type": "markdown",
   "id": "ranking-material",
   "metadata": {
    "slideshow": {
     "slide_type": "slide"
    }
   },
   "source": [
    "# POV: You are a post office\n",
    "We are going to classify handwritten digits using Deep Neural Networks.\n",
    "\n",
    "Steps:\n",
    "1. Take a look at the dataset\n",
    "2. Learn something about neural networks\n",
    "3. Implement it in Keras"
   ]
  },
  {
   "cell_type": "markdown",
   "id": "prompt-offer",
   "metadata": {
    "slideshow": {
     "slide_type": "slide"
    }
   },
   "source": [
    "# The MNIST dataset\n",
    "Let us start by importing some libraries that we will use:"
   ]
  },
  {
   "cell_type": "code",
   "execution_count": 23,
   "id": "healthy-librarian",
   "metadata": {
    "slideshow": {
     "slide_type": "fragment"
    }
   },
   "outputs": [],
   "source": [
    "import numpy as np\n",
    "from tensorflow import keras\n",
    "import matplotlib.pyplot as plt\n"
   ]
  },
  {
   "cell_type": "markdown",
   "id": "smart-viewer",
   "metadata": {
    "slideshow": {
     "slide_type": "slide"
    }
   },
   "source": [
    "Next, we need to load the dataset. Keras has some built-in functions for that!"
   ]
  },
  {
   "cell_type": "code",
   "execution_count": 28,
   "id": "disturbed-italian",
   "metadata": {
    "slideshow": {
     "slide_type": "fragment"
    }
   },
   "outputs": [
    {
     "name": "stdout",
     "output_type": "stream",
     "text": [
      "(60000, 28, 28) (60000,) (10000, 28, 28) (10000,)\n"
     ]
    }
   ],
   "source": [
    "(x_train, y_train), (x_test, y_test) = keras.datasets.mnist.load_data()\n",
    "print(x_train.shape, y_train.shape, x_test.shape, y_test.shape)"
   ]
  },
  {
   "cell_type": "markdown",
   "id": "interior-conjunction",
   "metadata": {
    "slideshow": {
     "slide_type": "fragment"
    }
   },
   "source": [
    "* `x_train`: 60k 28x28 images used for training\n",
    "* `y_train`: 60k integer labels\n",
    "* `x_test`: 10k 28x28 images used for testing\n",
    "* `y_test`: 10k integer labels"
   ]
  },
  {
   "cell_type": "markdown",
   "id": "polished-neutral",
   "metadata": {
    "slideshow": {
     "slide_type": "slide"
    }
   },
   "source": [
    "What do these images look like? matplotlib shows us how:"
   ]
  },
  {
   "cell_type": "code",
   "execution_count": 30,
   "id": "saved-cover",
   "metadata": {
    "slideshow": {
     "slide_type": "fragment"
    }
   },
   "outputs": [
    {
     "data": {
      "image/png": "[encoded data removed]",
      "text/plain": [
       "<Figure size 432x288 with 1 Axes>"
      ]
     },
     "metadata": {
      "needs_background": "light"
     },
     "output_type": "display_data"
    },
    {
     "data": {
      "image/png": "[encoded data removed]",
      "text/plain": [
       "<Figure size 432x288 with 1 Axes>"
      ]
     },
     "metadata": {
      "needs_background": "light"
     },
     "output_type": "display_data"
    },
    {
     "data": {
      "image/png": "[encoded data removed]",
      "text/plain": [
       "<Figure size 432x288 with 1 Axes>"
      ]
     },
     "metadata": {
      "needs_background": "light"
     },
     "output_type": "display_data"
    }
   ],
   "source": [
    "for i in range(3):\n",
    "    img = x_train[i]\n",
    "    plt.imshow(img)\n",
    "    plt.title(f\"x_train[{i}], label {y_train[i]}\")\n",
    "    plt.show()"
   ]
  },
  {
   "cell_type": "markdown",
   "id": "exact-enhancement",
   "metadata": {
    "slideshow": {
     "slide_type": "slide"
    }
   },
   "source": [
    "# Step 2: Neural Networks\n",
    "***\n",
    "What we want is a function $C$, that assigns each image a number between 0 and 9:\n",
    "\n",
    "$C: \\mathbb{N}_{28\\times28}\\rightarrow \\{0,1,\\dots,9\\}$\n",
    "\n",
    "We could also write the images as 1D arrays, row-by-row, so let's also allow\n",
    "\n",
    "$C: \\mathbb{N}_{784\\times1}\\rightarrow \\{0,1,\\dots,9\\}$\n"
   ]
  },
  {
   "cell_type": "code",
   "execution_count": null,
   "id": "lasting-salmon",
   "metadata": {
    "scrolled": true,
    "slideshow": {
     "slide_type": "slide"
    }
   },
   "outputs": [],
   "source": [
    "import numpy as np\n",
    "import matplotlib.pyplot as plt\n",
    "plt.figure(figsize=(10,5))\n",
    "a = plt.plot(np.random.rand(10), \"*\")"
   ]
  },
  {
   "cell_type": "code",
   "execution_count": null,
   "id": "inner-calibration",
   "metadata": {},
   "outputs": [],
   "source": [
    "import numpy as np\n",
    "from tensorflow.keras.layers import (\n",
    "    Dense, Input, Dropout    \n",
    ")\n",
    "import tensorflow as tf\n",
    "from tensorflow.keras.models import Model\n",
    "from tensorflow.keras.losses import Huber\n",
    "from tensorflow import keras\n",
    "\n",
    "import gym"
   ]
  },
  {
   "cell_type": "code",
   "execution_count": null,
   "id": "complex-player",
   "metadata": {},
   "outputs": [],
   "source": [
    "def episode(env, model, render=False, max_steps=None):\n",
    "    states = []\n",
    "    action_probs = []\n",
    "    est_rewards = []\n",
    "    rewards = []\n",
    "\n",
    "    state = env.reset()\n",
    "    i = 0\n",
    "    while i < (j := max_steps if max_steps is not None else np.inf):\n",
    "        if render: \n",
    "            env.render()\n",
    "        state = tf.convert_to_tensor(state)\n",
    "        state = tf.expand_dims(state, 0)\n",
    "        states.append(state)\n",
    "\n",
    "        a_p, e_w = model(state)\n",
    "        action = np.random.choice(env.action_space.n, p=np.squeeze(a_p))\n",
    "        state, reward, done, info = env.step(action)\n",
    "\n",
    "        action_probs.append(a_p[0, action])\n",
    "        est_rewards.append(e_w[0,0])\n",
    "        rewards.append(reward)\n",
    "\n",
    "        i += 1\n",
    "        if done:\n",
    "            break\n",
    "    env.close()\n",
    "    return states, rewards, action_probs, est_rewards"
   ]
  },
  {
   "cell_type": "code",
   "execution_count": null,
   "id": "false-yesterday",
   "metadata": {},
   "outputs": [],
   "source": [
    "epochs = 1000\n",
    "gamma = 0.9\n",
    "train_max_steps = 200\n",
    "validation_every = 5\n",
    "validation_episodes = 5\n",
    "validation_max_steps = 200\n",
    "env = gym.make('CartPole-v0').unwrapped\n",
    "#env = gym.make('MountainCar-v0').unwrapped\n",
    "\n",
    "critic_loss_func = keras.losses.Huber()\n",
    "\n",
    "input_layer = Input(env.observation_space.shape)\n",
    "l = Dense(128, \"relu\")(input_layer)\n",
    "l = Dense(64, \"relu\")(l)\n",
    "actor = Dense(env.action_space.n, \"softmax\", name=\"actor\")(l)\n",
    "critic = Dense(1, name=\"critic\")(l)\n",
    "model = Model(input_layer, [actor, critic])\n",
    "\n",
    "model.summary()\n",
    "opt = keras.optimizers.Adam(lr=0.01)\n",
    "reward_history = []"
   ]
  },
  {
   "cell_type": "code",
   "execution_count": null,
   "id": "opened-founder",
   "metadata": {},
   "outputs": [],
   "source": [
    "for epoch in range(epochs):\n",
    "\n",
    "    with tf.GradientTape() as tape:\n",
    "        states, rewards, action_probs, est_rewards = episode(env, model, False, train_max_steps)\n",
    "        reward_history.append(sum(rewards))\n",
    "\n",
    "        returns = []\n",
    "        discounted_sum = 0\n",
    "        for r in rewards[::-1]:\n",
    "            discounted_sum = r + gamma * discounted_sum\n",
    "            returns.insert(0, discounted_sum)\n",
    "        returns = np.array(returns)\n",
    "        returns = (returns - returns.mean()) / returns.std()\n",
    "\n",
    "        critic_labels = tf.convert_to_tensor(returns, \"float32\")\n",
    "\n",
    "        # critic_loss = critic_loss_func(est_rewards, critic_labels)\n",
    "        cl = []\n",
    "        for f,g in zip(est_rewards, critic_labels):\n",
    "            cl.append(critic_loss_func(tf.expand_dims(f,0), tf.expand_dims(g,0)))\n",
    "        critic_loss = sum(cl)\n",
    "\n",
    "        al = -tf.math.log(action_probs) * (critic_labels - est_rewards)\n",
    "        actor_loss = sum(al)\n",
    "        loss = actor_loss + critic_loss\n",
    "\n",
    "        gradients = tape.gradient(loss, model.trainable_weights)\n",
    "        opt.apply_gradients(zip(gradients, model.trainable_weights))\n",
    "\n",
    "    if epoch % validation_every == 0:\n",
    "        val_rewards = []\n",
    "        for val_e in range(validation_episodes):\n",
    "            states, rewards, action_probs, est_rewards = episode(env, model, False, validation_max_steps)\n",
    "            val_rewards.append(sum(rewards))\n",
    "        val_rewards = np.array(val_rewards)\n",
    "        print(f\"Epoch {epoch}/{epochs}\",np.mean(reward_history),  val_rewards.min(), val_rewards.max(), val_rewards.mean())\n",
    "        reward_history.clear()\n",
    "        #episode(env, model, True, validation_max_steps)\n",
    "        pass"
   ]
  },
  {
   "cell_type": "code",
   "execution_count": null,
   "id": "gentle-management",
   "metadata": {},
   "outputs": [],
   "source": []
  }
 ],
 "metadata": {
  "celltoolbar": "Slideshow",
  "kernelspec": {
   "display_name": "Python 3",
   "language": "python",
   "name": "python3"
  },
  "language_info": {
   "codemirror_mode": {
    "name": "ipython",
    "version": 3
   },
   "file_extension": ".py",
   "mimetype": "text/x-python",
   "name": "python",
   "nbconvert_exporter": "python",
   "pygments_lexer": "ipython3",
   "version": "3.8.3"
  },
  "rise": {
   "auto_select": "none",
   "enable_chalkboard": true,
   "overlay": "<div class='myheader'><img src='img/ifis_small.png' class='ifis_small'></div><div class='ifis_large'><img src='img/ifis_large.png'></div>",
   "scroll": true,
   "start_slideshow_at": "selected"
  }
 },
 "nbformat": 4,
 "nbformat_minor": 5
}
