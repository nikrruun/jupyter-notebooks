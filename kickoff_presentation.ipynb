{
 "cells": [
  {
   "cell_type": "markdown",
   "id": "pressing-rebate",
   "metadata": {
    "slideshow": {
     "slide_type": "slide"
    }
   },
   "source": [
    "# AI Camp 2020"
   ]
  },
  {
   "cell_type": "code",
   "execution_count": 1,
   "id": "proprietary-witch",
   "metadata": {
    "slideshow": {
     "slide_type": "subslide"
    }
   },
   "outputs": [
    {
     "name": "stdout",
     "output_type": "stream",
     "text": [
      "Herzlich willkommen!\n"
     ]
    }
   ],
   "source": [
    "print(\"Herzlich willkommen!\")"
   ]
  },
  {
   "cell_type": "markdown",
   "id": "increased-christianity",
   "metadata": {},
   "source": [
    "# Check this out!"
   ]
  },
  {
   "cell_type": "code",
   "execution_count": null,
   "id": "literary-brake",
   "metadata": {},
   "outputs": [],
   "source": []
  }
 ],
 "metadata": {
  "celltoolbar": "Slideshow",
  "kernelspec": {
   "display_name": "Python 3",
   "language": "python",
   "name": "python3"
  },
  "language_info": {
   "codemirror_mode": {
    "name": "ipython",
    "version": 3
   },
   "file_extension": ".py",
   "mimetype": "text/x-python",
   "name": "python",
   "nbconvert_exporter": "python",
   "pygments_lexer": "ipython3",
   "version": "3.8.3"
  }
 },
 "nbformat": 4,
 "nbformat_minor": 5
}
