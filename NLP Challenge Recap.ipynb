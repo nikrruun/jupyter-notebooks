{
 "cells": [
  {
   "cell_type": "markdown",
   "id": "d3d8babc",
   "metadata": {
    "slideshow": {
     "slide_type": "slide"
    }
   },
   "source": [
    "# Guest Lecture by Prof. Kacprowski\n",
    "Director Division Data Science in Biomedicine\n",
    "***\n",
    "Agenda:\n",
    "1. Short NLP challenge recap\n",
    "2. **Lecture**\n",
    "3. No challenge today"
   ]
  },
  {
   "cell_type": "markdown",
   "id": "d13943f8",
   "metadata": {
    "slideshow": {
     "slide_type": "slide"
    }
   },
   "source": [
    "# Challenge recap\n",
    "***\n",
    "The task was to predict, whether a given movie review was positive of negative\n",
    "* Also called a sentiment analysis task\n",
    "* We used the `imdb` dataset of 25k reviews in natural language\n",
    "\n",
    "Heavily resource restricted competition:\n",
    "* Models ran for several hours\n",
    "* Fast prototyping impossible\n",
    "* Many runs failed due to colab restrictions\n",
    "    * Overall not a very pleasant experience\n",
    "        * *But that's what current research looks like right now*\n"
   ]
  },
  {
   "cell_type": "markdown",
   "id": "26ce5290",
   "metadata": {
    "slideshow": {
     "slide_type": "slide"
    }
   },
   "source": [
    "Simple idea:\n",
    "* Try out different pretrained models from the model zoo\n",
    "    * `distilbert`, `gpt2`, `roberta`, ...\n",
    "\n",
    "Best model so far:\n",
    "* `bert-base-uncased`: 110M parameters\n",
    "    * Finetuned for 3 epochs on the full training data (25k samples)\n",
    "    * Learning rate was slowly increased in the first steps (warmup)\n",
    "    * `batch_size=12` which barely fits on the GPU\n",
    "    * `weight_decay=0.01` basically `l2` normalisation on weights\n",
    "        * Idea: Penalize the emergence of large weights\n",
    "\n",
    "Result: 94.1% accuracy\n",
    "* Still much room for improvement!"
   ]
  },
  {
   "cell_type": "markdown",
   "id": "0405154e",
   "metadata": {
    "slideshow": {
     "slide_type": "slide"
    }
   },
   "source": [
    "# Time for the lecture!"
   ]
  }
 ],
 "metadata": {
  "celltoolbar": "Slideshow",
  "kernelspec": {
   "display_name": "Python 3",
   "language": "python",
   "name": "python3"
  },
  "language_info": {
   "codemirror_mode": {
    "name": "ipython",
    "version": 3
   },
   "file_extension": ".py",
   "mimetype": "text/x-python",
   "name": "python",
   "nbconvert_exporter": "python",
   "pygments_lexer": "ipython3",
   "version": "3.9.5"
  },
  "rise": {
   "auto_select": "none",
   "enable_chalkboard": true,
   "overlay": "<div class='myheader'><img src='img/ai_camp.png' class='ifis_small'></div><div class='ifis_large'><img src='img/ifis_large.png'></div>",
   "scroll": true,
   "start_slideshow_at": "selected"
  }
 },
 "nbformat": 4,
 "nbformat_minor": 5
}
